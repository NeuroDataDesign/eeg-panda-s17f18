{
 "cells": [
  {
   "cell_type": "markdown",
   "metadata": {},
   "source": [
    "# Task\n",
    "\n",
    "1. download k = O(10) samples from HBN fMRI dataset √\n",
    "        - data was downloaded using cyberduck from\n",
    "        - http://fcon_1000.projects.nitrc.org/indi/cmi_healthy_brain_network/sharing_neuro.html#aws-and-cyberduck\n",
    "\n",
    "2. run CPAC to get connectivity information √\n",
    "\n",
    "**C-PAC** requires lots of dependencies: installing them is time-consuming and frustrating\n",
    "https://fcp-indi.github.io/docs/developer/workflows/cwas.html\n",
    "- cannot import nipype to notebook using python 2.7, but shown as installed in anaconda\n",
    "- FSL is not recommended\n",
    "- Docker might be a better choice since it can avoid these problems\n",
    "\n",
    "**Docker** can pull an image from a repo and enable you to use it as a virtual environment\n",
    "- docker pull *repo name*\n",
    "- docker run *....*\n",
    "- however, docker version of cpac does not support whole-brain connectome information, or CWAS\n",
    "\n",
    "\n",
    "**BIDS** format\n",
    "http://bids.neuroimaging.io/\n",
    "* The whole folder structure is BIDS format"
   ]
  },
  {
   "cell_type": "markdown",
   "metadata": {},
   "source": [
    "**First tried and gives error message of \"no file to run\"**\n",
    "- since I do not have participant labeled as 01 in the folder\n",
    "\n",
    "> docker run -i --rm \\\n",
    "\n",
    "> -v /tmp:/scratch \\\n",
    "\n",
    "> -v /Users/YujiaLiu/Desktop/participants:/bids_dataset \\  \n",
    "\n",
    "> -v /Users/YujiaLiu/Desktop/outputs:/outputs \\\n",
    "\n",
    "> bids/cpac \\\n",
    "\n",
    "> /bids_dataset /outputs participant --participant_label 01\n",
    "\n",
    "![CPAC Error Message](CPAC Error message.png)"
   ]
  },
  {
   "cell_type": "markdown",
   "metadata": {},
   "source": [
    "**Correct command:**\n",
    "> docker run -i --rm \\\n",
    "\n",
    "> -v /tmp:/scratch \\\n",
    "\n",
    "> -v /Users/YujiaLiu/Desktop/participants:/bids_dataset \\  \n",
    "\n",
    "> -v /Users/YujiaLiu/Desktop/outputs:/outputs \\\n",
    "\n",
    "> bids/cpac \\\n",
    "\n",
    "> /bids_dataset /outputs participant\n",
    "\n",
    "It looks like the \"docker run\" command is running the whole pipeline.\n",
    "For 1 participant, it took > 2 hr to do the registration/preprocessing on fMRI data -- and ends with several crushes"
   ]
  },
  {
   "cell_type": "markdown",
   "metadata": {},
   "source": [
    "**Crashes** (RuntimeError: Workflow did not execute cleanly. Check log for details)\n",
    "- can we fix these? Since it is in docker\n",
    "    - it might because the process is memory intensive\n",
    "    - or the missing \"SliceTiming\" info\n",
    "- I also tried to install C-PAC locally, but nipype does not work"
   ]
  },
  {
   "cell_type": "markdown",
   "metadata": {},
   "source": [
    "171023-17:40:43,287 workflow ERROR:\n",
    "\t ['Node apply_ants_warp.c0 failed to run on host 9b458202298e.']\n",
    "171023-17:40:43,674 workflow INFO:\n",
    "\t Saving crash info to /outputs/crash/crash-20171023-174043-root-apply_ants_warp.c0-ddcf71dd-b035-4038-aca0-e2131ded5dcc.pklz\n",
    "171023-17:40:43,687 workflow INFO:\n",
    "\t Traceback (most recent call last):\n",
    "  File \"/usr/local/bin/miniconda/lib/python2.7/site-packages/nipype/pipeline/plugins/multiproc.py\", line 49, in run_node\n",
    "    result['result'] = node.run(updatehash=updatehash)\n",
    "  File \"/usr/local/bin/miniconda/lib/python2.7/site-packages/nipype/pipeline/engine/nodes.py\", line 394, in run\n",
    "    self._run_interface()\n",
    "  File \"/usr/local/bin/miniconda/lib/python2.7/site-packages/nipype/pipeline/engine/nodes.py\", line 504, in _run_interface\n",
    "    self._result = self._run_command(execute)\n",
    "  File \"/usr/local/bin/miniconda/lib/python2.7/site-packages/nipype/pipeline/engine/nodes.py\", line 630, in _run_command\n",
    "    result = self._interface.run()\n",
    "  File \"/usr/local/bin/miniconda/lib/python2.7/site-packages/nipype/interfaces/base.py\", line 1043, in run\n",
    "    runtime = self._run_wrapper(runtime)\n",
    "  File \"/usr/local/bin/miniconda/lib/python2.7/site-packages/nipype/interfaces/base.py\", line 1660, in _run_wrapper\n",
    "    runtime = self._run_interface(runtime)\n",
    "  File \"/usr/local/bin/miniconda/lib/python2.7/site-packages/nipype/interfaces/base.py\", line 1694, in _run_interface\n",
    "    self.raise_exception(runtime)\n",
    "  File \"/usr/local/bin/miniconda/lib/python2.7/site-packages/nipype/interfaces/base.py\", line 1618, in raise_exception\n",
    "    raise RuntimeError(message)\n",
    "RuntimeError: Command:\n",
    "antsApplyTransforms --default-value 0 --dimensionality 3 --input /outputs/working/resting_preproc_sub-NDARAA075AMK_ses-1/func_preproc_automask_0/_scan_task-resting/func_motion_correct_A/sub-NDARAA075AMK_task-resting_bold_calc_tshift_resample_volreg.nii.gz --input-image-type 3 --interpolation Linear --output sub-NDARAA075AMK_task-resting_bold_calc_tshift_resample_volreg_antswarp.nii.gz --reference-image /usr/share/fsl/5.0/data/standard/MNI152_T1_3mm_brain.nii.gz --transform /outputs/working/resting_preproc_sub-NDARAA075AMK_ses-1/anat_mni_ants_register_0/calc_ants_warp/transform3Warp.nii.gz --transform /outputs/working/resting_preproc_sub-NDARAA075AMK_ses-1/anat_mni_ants_register_0/calc_ants_warp/transform2Affine.mat --transform /outputs/working/resting_preproc_sub-NDARAA075AMK_ses-1/anat_mni_ants_register_0/calc_ants_warp/transform1Rigid.mat --transform /outputs/working/resting_preproc_sub-NDARAA075AMK_ses-1/anat_mni_ants_register_0/calc_ants_warp/transform0DerivedInitialMovingTranslation.mat --transform /outputs/working/resting_preproc_sub-NDARAA075AMK_ses-1/fsl_to_itk_motion_correct_to_standard_1/_scan_task-resting/change_transform_type/updated_affine.txtz"
   ]
  },
  {
   "cell_type": "markdown",
   "metadata": {},
   "source": [
    "Standard error:\n",
    "Killed\n",
    "\n",
    "Return code: 137\n",
    "Interface FLIRT failed to run. \n",
    "\n",
    "171023-17:42:12,140 callback DEBUG:\n",
    "\t {\"num_threads\": 1, \"finish\": \"2017-10-23 17:42:12.139512\", \"name\": \"func_to_2mm_flirt_applyxfm\", \"estimated_memory_gb\": 2.0, \"error\": true, \"id\": \"func_to_2mm_flirt_applyxfm.c0\"}\n",
    "171023-17:42:12,194 workflow INFO:\n",
    "\t ***********************************\n",
    "171023-17:42:12,195 workflow ERROR:\n",
    "\t could not run node: resting_preproc_sub-NDARAA075AMK_ses-1.apply_ants_warp_motion_correct_to_standard_1.apply_ants_warp.c0\n",
    "171023-17:42:12,196 workflow INFO:\n",
    "\t crashfile: /outputs/crash/crash-20171023-174043-root-apply_ants_warp.c0-ddcf71dd-b035-4038-aca0-e2131ded5dcc.pklz\n",
    "171023-17:42:12,200 workflow ERROR:\n",
    "\t could not run node: resting_preproc_sub-NDARAA075AMK_ses-1.apply_ants_warp_motion_correct_to_standard_0.apply_ants_warp.c0\n",
    "171023-17:42:12,202 workflow INFO:\n",
    "\t crashfile: /outputs/crash/crash-20171023-174120-root-apply_ants_warp.c0-e05c5e3e-9888-4bc7-af3a-5cebe02f1421.pklz\n",
    "171023-17:42:12,203 workflow ERROR:\n",
    "\t could not run node: resting_preproc_sub-NDARAA075AMK_ses-1.nuisance_0.func_to_2mm_flirt_applyxfm.c0\n",
    "171023-17:42:12,204 workflow INFO:\n",
    "\t crashfile: /outputs/crash/crash-20171023-174212-root-func_to_2mm_flirt_applyxfm.c0-3b94a41e-91d1-4803-af73-8a58b651a43a.pklz\n",
    "171023-17:42:12,207 workflow INFO:\n",
    "\t ***********************************\n"
   ]
  },
  {
   "cell_type": "markdown",
   "metadata": {},
   "source": [
    "171023-17:42:12,82 workflow ERROR:\n",
    "\t ['Node func_to_2mm_flirt_applyxfm.c0 failed to run on host 9b458202298e.']\n",
    "171023-17:42:12,98 workflow INFO:\n",
    "\t Saving crash info to /outputs/crash/crash-20171023-174212-root-func_to_2mm_flirt_applyxfm.c0-3b94a41e-91d1-4803-af73-8a58b651a43a.pklz\n",
    "171023-17:42:12,101 workflow INFO:\n",
    "\t Traceback (most recent call last):\n",
    "  File \"/usr/local/bin/miniconda/lib/python2.7/site-packages/nipype/pipeline/plugins/multiproc.py\", line 49, in run_node\n",
    "    result['result'] = node.run(updatehash=updatehash)\n",
    "  File \"/usr/local/bin/miniconda/lib/python2.7/site-packages/nipype/pipeline/engine/nodes.py\", line 394, in run\n",
    "    self._run_interface()\n",
    "  File \"/usr/local/bin/miniconda/lib/python2.7/site-packages/nipype/pipeline/engine/nodes.py\", line 504, in _run_interface\n",
    "    self._result = self._run_command(execute)\n",
    "  File \"/usr/local/bin/miniconda/lib/python2.7/site-packages/nipype/pipeline/engine/nodes.py\", line 630, in _run_command\n",
    "    result = self._interface.run()\n",
    "  File \"/usr/local/bin/miniconda/lib/python2.7/site-packages/nipype/interfaces/base.py\", line 1043, in run\n",
    "    runtime = self._run_wrapper(runtime)\n",
    "  File \"/usr/local/bin/miniconda/lib/python2.7/site-packages/nipype/interfaces/base.py\", line 1660, in _run_wrapper\n",
    "    runtime = self._run_interface(runtime)\n",
    "  File \"/usr/local/bin/miniconda/lib/python2.7/site-packages/nipype/interfaces/base.py\", line 1694, in _run_interface\n",
    "    self.raise_exception(runtime)\n",
    "  File \"/usr/local/bin/miniconda/lib/python2.7/site-packages/nipype/interfaces/base.py\", line 1618, in raise_exception\n",
    "    raise RuntimeError(message)\n",
    "RuntimeError: Command:\n",
    "flirt -in /outputs/working/resting_preproc_sub-NDARAA075AMK_ses-1/func_preproc_automask_0/_scan_task-resting/func_normalize/sub-NDARAA075AMK_task-resting_bold_calc_tshift_resample_volreg_calc_maths.nii.gz -ref /outputs/working/resting_preproc_sub-NDARAA075AMK_ses-1/seg_preproc_0/CSF/CSF_mask/segment_seg_0_maths.nii.gz -out sub-NDARAA075AMK_task-resting_bold_calc_tshift_resample_volreg_calc_maths_flirt.nii.gz -omat sub-NDARAA075AMK_task-resting_bold_calc_tshift_resample_volreg_calc_maths_flirt.mat -applyisoxfm 2 -init /outputs/working/resting_preproc_sub-NDARAA075AMK_ses-1/func_to_anat_bbreg_0/_scan_task-resting/bbreg_func_to_anat/sub-NDARAA075AMK_task-resting_bold_calc_tshift_resample_volreg_calc_tstat_flirt.mat\n",
    "Standard output:\n",
    "\n",
    "Standard error:\n",
    "Killed\n",
    "\n",
    "Return code: 137\n",
    "Interface FLIRT failed to run. "
   ]
  },
  {
   "cell_type": "code",
   "execution_count": null,
   "metadata": {},
   "outputs": [],
   "source": []
  }
 ],
 "metadata": {
  "kernelspec": {
   "display_name": "Python 2",
   "language": "python",
   "name": "python2"
  },
  "language_info": {
   "codemirror_mode": {
    "name": "ipython",
    "version": 2
   },
   "file_extension": ".py",
   "mimetype": "text/x-python",
   "name": "python",
   "nbconvert_exporter": "python",
   "pygments_lexer": "ipython2",
   "version": "2.7.14"
  }
 },
 "nbformat": 4,
 "nbformat_minor": 2
}
