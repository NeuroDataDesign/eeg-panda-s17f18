{
 "cells": [
  {
   "cell_type": "markdown",
   "metadata": {},
   "source": [
    "# p-factor paper\n",
    "\n",
    "- Goal: Write pseudocode for data analysis method used in p-factor paper\n",
    "    - seed-based connectivity analysis\n",
    "    - computation of the average distance between each pair of participant’s functional connectivity maps\n",
    "    - multi-dimensional matrix regression (MDMR)\n",
    "    https://www.biorxiv.org/content/biorxiv/early/2017/09/29/196220.full.pdf\n",
    "    - Find more related papers about a generalized biomarker in pyschological diseases\n",
    "- Basic Simulation\n",
    "    - search for open-source implementation in python\n",
    "- Application in real data\n",
    "    - Propose possible implementation (parameters etc.) of the algorithm in our data (since we do not have the data yet)"
   ]
  },
  {
   "cell_type": "code",
   "execution_count": null,
   "metadata": {},
   "outputs": [],
   "source": []
  }
 ],
 "metadata": {
  "kernelspec": {
   "display_name": "Python 2",
   "language": "python",
   "name": "python2"
  },
  "language_info": {
   "codemirror_mode": {
    "name": "ipython",
    "version": 2
   },
   "file_extension": ".py",
   "mimetype": "text/x-python",
   "name": "python",
   "nbconvert_exporter": "python",
   "pygments_lexer": "ipython2",
   "version": "2.7.14"
  }
 },
 "nbformat": 4,
 "nbformat_minor": 2
}
