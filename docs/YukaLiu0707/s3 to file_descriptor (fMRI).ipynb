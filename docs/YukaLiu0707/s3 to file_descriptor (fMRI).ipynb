{
 "cells": [
  {
   "cell_type": "code",
   "execution_count": 50,
   "metadata": {},
   "outputs": [],
   "source": [
    "import os\n",
    "BASE = \"/Users/YujiaLiu/Desktop/download_test/data\"\n",
    "DATASET = \"fmri\"\n",
    "root = os.path.join(BASE, DATASET)\n",
    "\n",
    "# Load the lemur library\n",
    "import sys\n",
    "sys.path.append(\".\")\n",
    "import lemur.datasets as lds\n",
    "import lemur.metrics as lms\n",
    "import lemur.plotters as lpl\n",
    "import lemur.embedders as leb\n",
    "import boto3\n",
    "import io\n",
    "import glob\n",
    "import pandas as pd\n",
    "import colorlover as cl\n",
    "import plotly.graph_objs as go\n",
    "import numpy as np\n",
    "from plotly.offline import iplot, plot\n",
    "import nibabel as nib"
   ]
  },
  {
   "cell_type": "code",
   "execution_count": 45,
   "metadata": {},
   "outputs": [],
   "source": [
    "class BIDSParser:\n",
    "    def __init__(self, base_path):\n",
    "        dataset_name = os.path.basename(os.path.normpath(base_path))\n",
    "        dataset = {}\n",
    "        subjects = [os.path.basename(x) for x in glob.glob(base_path + \"/*\")]\n",
    "        if \"chanlocs.csv\" in subjects:\n",
    "            subjects.remove(\"chanlocs.csv\")\n",
    "        if \"metadata.json\" in subjects:\n",
    "            subjects.remove(\"metadata.json\")\n",
    "        for s in subjects:\n",
    "            dataset.update({s:{}})\n",
    "        for s in subjects:\n",
    "            modalities = [os.path.basename(x) for x in glob.glob(os.path.join(base_path, s) + \"/*\")]\n",
    "#             print('modalities')\n",
    "#             print(modalities)\n",
    "            for m in modalities:\n",
    "                print (m)\n",
    "                dataset[s].update({m:{}})\n",
    "                files = [os.path.basename(x) for x in glob.glob(os.path.join(base_path, s, m) + \"/*\")]\n",
    "                print(files)\n",
    "                for f in files:\n",
    "                    t = \"\".join(f.split(\"_\")[1:]).split(\".\")[0]\n",
    "                    dataset[s][m].update({t:f})\n",
    "        self.dataset = dataset\n",
    "        self.base_path = base_path\n",
    "        print(self.dataset)\n",
    "\n",
    "    def getModalityFrame(self, modality, extension):\n",
    "        files = []\n",
    "        subjects = []\n",
    "        tasks = []\n",
    "        for s in self.dataset.keys():\n",
    "            print (s)\n",
    "            for t in self.dataset[s][modality].keys():\n",
    "                print (t)\n",
    "                f = self.dataset[s][modality][t]\n",
    "                print (f)\n",
    "                if f.endswith(extension):\n",
    "                    files.append(os.path.join(self.base_path, s, modality, f))\n",
    "                    subjects.append(s)\n",
    "                    tasks.append(t)\n",
    "        print (files)\n",
    "        print (subjects)\n",
    "        print (tasks)\n",
    "        d = {\n",
    "            \"resource_path\": files,\n",
    "            \"subjects\": subjects,\n",
    "            \"tasks\": tasks        \n",
    "        }\n",
    "        return pd.DataFrame(d)"
   ]
  },
  {
   "cell_type": "code",
   "execution_count": 46,
   "metadata": {},
   "outputs": [
    {
     "name": "stdout",
     "output_type": "stream",
     "text": [
      "dwi\n",
      "['sub-NDARAA536PTU_acq-64dir_dwi.json', 'sub-NDARAA536PTU_acq-64dirTRACEW_dwi.json', 'sub-NDARAA536PTU_acq-64dir_dwi.bvec', 'sub-NDARAA536PTU_acq-64dirTRACEW_dwi.nii.gz', 'sub-NDARAA536PTU_acq-64dir_dwi.bval']\n",
      "fmap\n",
      "['sub-NDARAA536PTU_dir-PA_acq-dwi_epi.nii.gz', 'sub-NDARAA536PTU_magnitude2.nii.gz', 'sub-NDARAA536PTU_phasediff.nii.gz', 'sub-NDARAA536PTU_magnitude1.json', 'sub-NDARAA536PTU_dir-AP_acq-dwi_epi.json', 'sub-NDARAA536PTU_dir-AP_acq-dwi_epi.nii.gz', 'sub-NDARAA536PTU_magnitude1.nii.gz', 'sub-NDARAA536PTU_dir-PA_acq-dwi_epi.json', 'sub-NDARAA536PTU_phasediff.json', 'sub-NDARAA536PTU_magnitude2.json']\n",
      "anat\n",
      "['sub-NDARAA536PTU_FLAIR.json', 'sub-NDARAA536PTU_MT-on_PD.json', 'sub-NDARAA536PTU_MT-off_PD.nii.gz', 'sub-NDARAA536PTU_MT-off_PD.json', 'sub-NDARAA536PTU_T1w.json']\n",
      "func\n",
      "['sub-NDARAA536PTU_task-rest1_bold.json', 'sub-NDARAA536PTU_task-rest_bold.nii.gz']\n",
      "fmap\n",
      "['sub-NDARAA075AMK_magnitude2.json', 'sub-NDARAA075AMK_magnitude1.nii.gz', 'sub-NDARAA075AMK_phasediff.json', 'sub-NDARAA075AMK_magnitude1.json', 'sub-NDARAA075AMK_magnitude2.nii.gz', 'sub-NDARAA075AMK_phasediff.nii.gz']\n",
      "anat\n",
      "['sub-NDARAA075AMK_FLAIR.json', 'sub-NDARAA075AMK_T1w.nii.gz', 'sub-NDARAA075AMK_T1w.json']\n",
      "func\n",
      "['sub-NDARAA075AMK_task-rest_bold.nii.gz', 'sub-NDARAA075AMK_task-rest1_bold.json']\n",
      "{'sub-NDARAA536PTU': {'dwi': {'acq-64dirdwi': 'sub-NDARAA536PTU_acq-64dir_dwi.bval', 'acq-64dirTRACEWdwi': 'sub-NDARAA536PTU_acq-64dirTRACEW_dwi.nii.gz'}, 'fmap': {'dir-PAacq-dwiepi': 'sub-NDARAA536PTU_dir-PA_acq-dwi_epi.json', 'magnitude2': 'sub-NDARAA536PTU_magnitude2.json', 'phasediff': 'sub-NDARAA536PTU_phasediff.json', 'magnitude1': 'sub-NDARAA536PTU_magnitude1.nii.gz', 'dir-APacq-dwiepi': 'sub-NDARAA536PTU_dir-AP_acq-dwi_epi.nii.gz'}, 'anat': {'FLAIR': 'sub-NDARAA536PTU_FLAIR.json', 'MT-onPD': 'sub-NDARAA536PTU_MT-on_PD.json', 'MT-offPD': 'sub-NDARAA536PTU_MT-off_PD.json', 'T1w': 'sub-NDARAA536PTU_T1w.json'}, 'func': {'task-rest1bold': 'sub-NDARAA536PTU_task-rest1_bold.json', 'task-restbold': 'sub-NDARAA536PTU_task-rest_bold.nii.gz'}}, 'sub-NDARAA075AMK': {'fmap': {'magnitude2': 'sub-NDARAA075AMK_magnitude2.nii.gz', 'magnitude1': 'sub-NDARAA075AMK_magnitude1.json', 'phasediff': 'sub-NDARAA075AMK_phasediff.nii.gz'}, 'anat': {'FLAIR': 'sub-NDARAA075AMK_FLAIR.json', 'T1w': 'sub-NDARAA075AMK_T1w.json'}, 'func': {'task-restbold': 'sub-NDARAA075AMK_task-rest_bold.nii.gz', 'task-rest1bold': 'sub-NDARAA075AMK_task-rest1_bold.json'}}}\n",
      "sub-NDARAA536PTU\n",
      "task-rest1bold\n",
      "sub-NDARAA536PTU_task-rest1_bold.json\n",
      "task-restbold\n",
      "sub-NDARAA536PTU_task-rest_bold.nii.gz\n",
      "sub-NDARAA075AMK\n",
      "task-restbold\n",
      "sub-NDARAA075AMK_task-rest_bold.nii.gz\n",
      "task-rest1bold\n",
      "sub-NDARAA075AMK_task-rest1_bold.json\n",
      "['/Users/YujiaLiu/Desktop/download_test/data/fmri/sub-NDARAA536PTU/func/sub-NDARAA536PTU_task-rest_bold.nii.gz', '/Users/YujiaLiu/Desktop/download_test/data/fmri/sub-NDARAA075AMK/func/sub-NDARAA075AMK_task-rest_bold.nii.gz']\n",
      "['sub-NDARAA536PTU', 'sub-NDARAA075AMK']\n",
      "['task-restbold', 'task-restbold']\n",
      "                                       resource_path          subjects  \\\n",
      "0  /Users/YujiaLiu/Desktop/download_test/data/fmr...  sub-NDARAA536PTU   \n",
      "1  /Users/YujiaLiu/Desktop/download_test/data/fmr...  sub-NDARAA075AMK   \n",
      "\n",
      "           tasks  \n",
      "0  task-restbold  \n",
      "1  task-restbold  \n"
     ]
    }
   ],
   "source": [
    "bp = BIDSParser(root)\n",
    "dataset_descriptor = bp.getModalityFrame(\"func\", \"nii.gz\").iloc[:3]\n",
    "print(dataset_descriptor)"
   ]
  },
  {
   "cell_type": "code",
   "execution_count": 47,
   "metadata": {},
   "outputs": [],
   "source": [
    "out_base = os.path.join(BASE, \"fmri_derivatives\")\n",
    "out_emb_base = os.path.join(BASE, \"fmri_embedded_deriatives\")\n",
    "os.makedirs(out_base + \"/agg\", exist_ok=True)\n",
    "os.makedirs(out_emb_base + \"/agg\", exist_ok=True)"
   ]
  },
  {
   "cell_type": "code",
   "execution_count": 48,
   "metadata": {},
   "outputs": [
    {
     "name": "stdout",
     "output_type": "stream",
     "text": [
      "<lemur.datasets.fMRIDataSet object at 0x115fc5cf8>\n"
     ]
    }
   ],
   "source": [
    "fds = lds.fMRIDataSet(dataset_descriptor)\n",
    "# Create a lemur distance matrix based on the EEG data\n",
    "DM = lds.DistanceMatrix(fds, lms.DiffAve)\n",
    "DM.name = \"fmri-DistanceMatrix\""
   ]
  },
  {
   "cell_type": "code",
   "execution_count": 19,
   "metadata": {},
   "outputs": [],
   "source": [
    "# Create an embedded distance matrix object under MDS\n",
    "MDSEmbedder = leb.MDSEmbedder(num_components=10)\n",
    "fMRI_Embedded = MDSEmbedder.embed(DM)"
   ]
  },
  {
   "cell_type": "code",
   "execution_count": 21,
   "metadata": {},
   "outputs": [],
   "source": [
    "class MatrixPlotter:\n",
    "    def __init__(self, DS, mode=\"notebook\", base_path = None):\n",
    "        self.DS = DS\n",
    "        self.plot_mode = mode\n",
    "        self.base_path = base_path\n",
    "\n",
    "        Reds = cl.scales['8']['seq']['Reds']\n",
    "        self.Reds = list(zip(np.linspace(0, 1, len(Reds)), Reds))\n",
    "\n",
    "        BuRd = cl.scales['11']['div']['RdBu'][::-1]\n",
    "        self.BuRd = list(zip(np.linspace(0, 1, len(BuRd)), BuRd))\n",
    "\n",
    "    def makeplot(self, fig, local_path=None):\n",
    "        \"\"\"Make the plotly figure visable to the user in the way they want.\n",
    "\n",
    "        Parameters\n",
    "        ----------\n",
    "        gid : :obj:`figure`\n",
    "            An plotly figure.\n",
    "\n",
    "        \"\"\"\n",
    "\n",
    "        if self.plot_mode == \"notebook\":\n",
    "            iplot(fig)\n",
    "        if self.plot_mode == \"savediv\":\n",
    "            fig[\"layout\"][\"autosize\"] = True\n",
    "            div = plot(fig, output_type='div', include_plotlyjs=True)\n",
    "            path = os.path.join(self.base_path, local_path + \".html\")\n",
    "            os.makedirs(\"/\".join(path.split(\"/\")[:-1]), exist_ok=True)\n",
    "            with open(path, \"w\") as f:\n",
    "                f.write(div)\n",
    "                f.close()\n",
    "\n",
    "        if self.plot_mode == \"div\":\n",
    "            fig[\"layout\"][\"autosize\"] = True\n",
    "            return plot(fig, output_type='div', include_plotlyjs=True)"
   ]
  },
  {
   "cell_type": "code",
   "execution_count": 22,
   "metadata": {},
   "outputs": [],
   "source": [
    "class SquareHeatmap(MatrixPlotter):\n",
    "    titlestring = \"%s Heatmap\"\n",
    "    shortname = \"squareheat\"\n",
    "\n",
    "    def plot(self):\n",
    "        \"\"\"Constructs a distance matrix heatmap using the :obj:`DistanceMatrix` object, in plotly.\n",
    "\n",
    "        \"\"\"\n",
    "        title = self.titlestring % (self.DS.name)\n",
    "        xaxis = go.XAxis(\n",
    "                title=self.DS.D.index.name,\n",
    "                ticktext = self.DS.D.index,\n",
    "                ticks = \"\",\n",
    "                showticklabels=False,\n",
    "                showgrid=False,\n",
    "                mirror=True,\n",
    "                tickvals = [i for i in range(len(self.DS.D.index))])\n",
    "        yaxis = go.YAxis(\n",
    "                scaleanchor=\"x\",\n",
    "                title=self.DS.D.index.name,\n",
    "                ticktext = self.DS.D.index,\n",
    "                showgrid=False,\n",
    "                ticks = \"\",\n",
    "                showticklabels=False,\n",
    "                mirror=True,\n",
    "                tickvals = [i for i in range(len(self.DS.D.index))])\n",
    "        layout = dict(title=title, xaxis=xaxis, yaxis=yaxis)\n",
    "        trace = go.Heatmap(z = self.DS.D.as_matrix().T)\n",
    "        data = [trace]\n",
    "        fig = dict(data=data, layout=layout)\n",
    "        return self.makeplot(fig, \"agg/\" + self.shortname)"
   ]
  },
  {
   "cell_type": "code",
   "execution_count": 27,
   "metadata": {},
   "outputs": [],
   "source": [
    "SquareHeatmap(DM, mode=\"savediv\", base_path=out_base).plot()\n",
    "SquareHeatmap(fMRI_Embedded, mode=\"savediv\",\n",
    "                  base_path=out_emb_base).plot()"
   ]
  },
  {
   "cell_type": "markdown",
   "metadata": {},
   "source": [
    "# fMRI"
   ]
  },
  {
   "cell_type": "code",
   "execution_count": null,
   "metadata": {},
   "outputs": [],
   "source": [
    "import os\n",
    "BASE = '/Users/YujiaLiu/Desktop/test'\n",
    "DATASET = 'fmri'\n",
    "root = os.path.join(BASE, DATASET)\n",
    "out_base = os.path.join(BASE, \"fmri_derivatives\")\n",
    "out_emb_base = os.path.join(BASE, \"fmri_embedded_deriatives\")\n",
    "os.makedirs(out_base + \"/agg\", exist_ok=True)\n",
    "os.makedirs(out_emb_base + \"/agg\", exist_ok=True)"
   ]
  },
  {
   "cell_type": "code",
   "execution_count": null,
   "metadata": {},
   "outputs": [],
   "source": [
    "class fMRIDataSet:\n",
    "\n",
    "    def __init__(self, dataframe_descriptor, name=\"fmri\"):\n",
    "        self.D = dataframe_descriptor\n",
    "        self.D.index = self.D[\"subjects\"] + \"-\" + self.D[\"tasks\"]\n",
    "        self.D.index.name = \"index\"\n",
    "        self.name = name\n",
    "        self.n = self.D.shape[0]\n",
    "\n",
    "    def getResource(self, index):\n",
    "        resource = self.D.ix[index]\n",
    "        return resource\n",
    "\n",
    "    def getMatrix(self, index):\n",
    "        resource_path = self.D.ix[index][0]\n",
    "        return nib.load(resource_path).get_data()"
   ]
  },
  {
   "cell_type": "code",
   "execution_count": 53,
   "metadata": {},
   "outputs": [
    {
     "name": "stdout",
     "output_type": "stream",
     "text": [
      "['fmri', 'sub-NDARAA075AMK', 'func', 'sub-NDARAA075AMK_task-rest_bold.nii.gz']\n"
     ]
    },
    {
     "ename": "ValueError",
     "evalue": "embedded null byte",
     "output_type": "error",
     "traceback": [
      "\u001b[0;31m---------------------------------------------------------------------------\u001b[0m",
      "\u001b[0;31mValueError\u001b[0m                                Traceback (most recent call last)",
      "\u001b[0;32m<ipython-input-53-52bd47b46aae>\u001b[0m in \u001b[0;36m<module>\u001b[0;34m()\u001b[0m\n\u001b[1;32m     19\u001b[0m                 \u001b[0mt\u001b[0m\u001b[0;34m.\u001b[0m\u001b[0mappend\u001b[0m\u001b[0;34m(\u001b[0m\u001b[0mtask\u001b[0m\u001b[0;34m)\u001b[0m\u001b[0;34m\u001b[0m\u001b[0m\n\u001b[1;32m     20\u001b[0m                 \u001b[0mbody\u001b[0m \u001b[0;34m=\u001b[0m \u001b[0mobj\u001b[0m\u001b[0;34m.\u001b[0m\u001b[0mget\u001b[0m\u001b[0;34m(\u001b[0m\u001b[0;34m)\u001b[0m\u001b[0;34m[\u001b[0m\u001b[0;34m'Body'\u001b[0m\u001b[0;34m]\u001b[0m\u001b[0;34m.\u001b[0m\u001b[0mread\u001b[0m\u001b[0;34m(\u001b[0m\u001b[0;34m)\u001b[0m\u001b[0;34m\u001b[0m\u001b[0m\n\u001b[0;32m---> 21\u001b[0;31m                 \u001b[0mfile\u001b[0m \u001b[0;34m=\u001b[0m \u001b[0mnib\u001b[0m\u001b[0;34m.\u001b[0m\u001b[0mstreamlines\u001b[0m\u001b[0;34m.\u001b[0m\u001b[0mload\u001b[0m\u001b[0;34m(\u001b[0m\u001b[0mbody\u001b[0m\u001b[0;34m)\u001b[0m\u001b[0;34m.\u001b[0m\u001b[0mget_data\u001b[0m\u001b[0;34m(\u001b[0m\u001b[0;34m)\u001b[0m\u001b[0;34m\u001b[0m\u001b[0m\n\u001b[0m\u001b[1;32m     22\u001b[0m                 \u001b[0mf\u001b[0m\u001b[0;34m.\u001b[0m\u001b[0mappend\u001b[0m\u001b[0;34m(\u001b[0m\u001b[0mfile\u001b[0m\u001b[0;34m)\u001b[0m\u001b[0;34m\u001b[0m\u001b[0m\n\u001b[1;32m     23\u001b[0m \u001b[0;34m\u001b[0m\u001b[0m\n",
      "\u001b[0;32m/Library/Frameworks/Python.framework/Versions/3.6/lib/python3.6/site-packages/nibabel/streamlines/__init__.py\u001b[0m in \u001b[0;36mload\u001b[0;34m(fileobj, lazy_load)\u001b[0m\n\u001b[1;32m     89\u001b[0m     \u001b[0mThe\u001b[0m \u001b[0mstreamline\u001b[0m \u001b[0mcoordinate\u001b[0m \u001b[0;34m(\u001b[0m\u001b[0;36m0\u001b[0m\u001b[0;34m,\u001b[0m\u001b[0;36m0\u001b[0m\u001b[0;34m,\u001b[0m\u001b[0;36m0\u001b[0m\u001b[0;34m)\u001b[0m \u001b[0mrefers\u001b[0m \u001b[0mto\u001b[0m \u001b[0mthe\u001b[0m \u001b[0mcenter\u001b[0m \u001b[0mof\u001b[0m \u001b[0mthe\u001b[0m \u001b[0mvoxel\u001b[0m\u001b[0;34m.\u001b[0m\u001b[0;34m\u001b[0m\u001b[0m\n\u001b[1;32m     90\u001b[0m     \"\"\"\n\u001b[0;32m---> 91\u001b[0;31m     \u001b[0mtractogram_file\u001b[0m \u001b[0;34m=\u001b[0m \u001b[0mdetect_format\u001b[0m\u001b[0;34m(\u001b[0m\u001b[0mfileobj\u001b[0m\u001b[0;34m)\u001b[0m\u001b[0;34m\u001b[0m\u001b[0m\n\u001b[0m\u001b[1;32m     92\u001b[0m \u001b[0;34m\u001b[0m\u001b[0m\n\u001b[1;32m     93\u001b[0m     \u001b[0;32mif\u001b[0m \u001b[0mtractogram_file\u001b[0m \u001b[0;32mis\u001b[0m \u001b[0;32mNone\u001b[0m\u001b[0;34m:\u001b[0m\u001b[0;34m\u001b[0m\u001b[0m\n",
      "\u001b[0;32m/Library/Frameworks/Python.framework/Versions/3.6/lib/python3.6/site-packages/nibabel/streamlines/__init__.py\u001b[0m in \u001b[0;36mdetect_format\u001b[0;34m(fileobj)\u001b[0m\n\u001b[1;32m     53\u001b[0m     \u001b[0;32mfor\u001b[0m \u001b[0mformat\u001b[0m \u001b[0;32min\u001b[0m \u001b[0mFORMATS\u001b[0m\u001b[0;34m.\u001b[0m\u001b[0mvalues\u001b[0m\u001b[0;34m(\u001b[0m\u001b[0;34m)\u001b[0m\u001b[0;34m:\u001b[0m\u001b[0;34m\u001b[0m\u001b[0m\n\u001b[1;32m     54\u001b[0m         \u001b[0;32mtry\u001b[0m\u001b[0;34m:\u001b[0m\u001b[0;34m\u001b[0m\u001b[0m\n\u001b[0;32m---> 55\u001b[0;31m             \u001b[0;32mif\u001b[0m \u001b[0mformat\u001b[0m\u001b[0;34m.\u001b[0m\u001b[0mis_correct_format\u001b[0m\u001b[0;34m(\u001b[0m\u001b[0mfileobj\u001b[0m\u001b[0;34m)\u001b[0m\u001b[0;34m:\u001b[0m\u001b[0;34m\u001b[0m\u001b[0m\n\u001b[0m\u001b[1;32m     56\u001b[0m                 \u001b[0;32mreturn\u001b[0m \u001b[0mformat\u001b[0m\u001b[0;34m\u001b[0m\u001b[0m\n\u001b[1;32m     57\u001b[0m         \u001b[0;32mexcept\u001b[0m \u001b[0mIOError\u001b[0m\u001b[0;34m:\u001b[0m\u001b[0;34m\u001b[0m\u001b[0m\n",
      "\u001b[0;32m/Library/Frameworks/Python.framework/Versions/3.6/lib/python3.6/site-packages/nibabel/streamlines/trk.py\u001b[0m in \u001b[0;36mis_correct_format\u001b[0;34m(cls, fileobj)\u001b[0m\n\u001b[1;32m    259\u001b[0m             \u001b[0motherwise\u001b[0m \u001b[0mreturns\u001b[0m \u001b[0;32mFalse\u001b[0m\u001b[0;34m.\u001b[0m\u001b[0;34m\u001b[0m\u001b[0m\n\u001b[1;32m    260\u001b[0m         \"\"\"\n\u001b[0;32m--> 261\u001b[0;31m         \u001b[0;32mwith\u001b[0m \u001b[0mOpener\u001b[0m\u001b[0;34m(\u001b[0m\u001b[0mfileobj\u001b[0m\u001b[0;34m)\u001b[0m \u001b[0;32mas\u001b[0m \u001b[0mf\u001b[0m\u001b[0;34m:\u001b[0m\u001b[0;34m\u001b[0m\u001b[0m\n\u001b[0m\u001b[1;32m    262\u001b[0m             \u001b[0mmagic_len\u001b[0m \u001b[0;34m=\u001b[0m \u001b[0mlen\u001b[0m\u001b[0;34m(\u001b[0m\u001b[0mcls\u001b[0m\u001b[0;34m.\u001b[0m\u001b[0mMAGIC_NUMBER\u001b[0m\u001b[0;34m)\u001b[0m\u001b[0;34m\u001b[0m\u001b[0m\n\u001b[1;32m    263\u001b[0m             \u001b[0mmagic_number\u001b[0m \u001b[0;34m=\u001b[0m \u001b[0mf\u001b[0m\u001b[0;34m.\u001b[0m\u001b[0mread\u001b[0m\u001b[0;34m(\u001b[0m\u001b[0mmagic_len\u001b[0m\u001b[0;34m)\u001b[0m\u001b[0;34m\u001b[0m\u001b[0m\n",
      "\u001b[0;32m/Library/Frameworks/Python.framework/Versions/3.6/lib/python3.6/site-packages/nibabel/openers.py\u001b[0m in \u001b[0;36m__init__\u001b[0;34m(self, fileish, *args, **kwargs)\u001b[0m\n\u001b[1;32m    154\u001b[0m         \u001b[0;32melse\u001b[0m\u001b[0;34m:\u001b[0m\u001b[0;34m\u001b[0m\u001b[0m\n\u001b[1;32m    155\u001b[0m             \u001b[0mkwargs\u001b[0m\u001b[0;34m.\u001b[0m\u001b[0mpop\u001b[0m\u001b[0;34m(\u001b[0m\u001b[0;34m'keep_open'\u001b[0m\u001b[0;34m,\u001b[0m \u001b[0;32mNone\u001b[0m\u001b[0;34m)\u001b[0m\u001b[0;34m\u001b[0m\u001b[0m\n\u001b[0;32m--> 156\u001b[0;31m         \u001b[0mself\u001b[0m\u001b[0;34m.\u001b[0m\u001b[0mfobj\u001b[0m \u001b[0;34m=\u001b[0m \u001b[0mopener\u001b[0m\u001b[0;34m(\u001b[0m\u001b[0mfileish\u001b[0m\u001b[0;34m,\u001b[0m \u001b[0;34m*\u001b[0m\u001b[0margs\u001b[0m\u001b[0;34m,\u001b[0m \u001b[0;34m**\u001b[0m\u001b[0mkwargs\u001b[0m\u001b[0;34m)\u001b[0m\u001b[0;34m\u001b[0m\u001b[0m\n\u001b[0m\u001b[1;32m    157\u001b[0m         \u001b[0mself\u001b[0m\u001b[0;34m.\u001b[0m\u001b[0m_name\u001b[0m \u001b[0;34m=\u001b[0m \u001b[0mfileish\u001b[0m\u001b[0;34m\u001b[0m\u001b[0m\n\u001b[1;32m    158\u001b[0m         \u001b[0mself\u001b[0m\u001b[0;34m.\u001b[0m\u001b[0mme_opened\u001b[0m \u001b[0;34m=\u001b[0m \u001b[0;32mTrue\u001b[0m\u001b[0;34m\u001b[0m\u001b[0m\n",
      "\u001b[0;31mValueError\u001b[0m: embedded null byte"
     ]
    }
   ],
   "source": [
    "f = []\n",
    "# s = ['sub-NDARAA117NEJ','sub-NDARAC904DMU']\n",
    "s = []\n",
    "# t = ['task-RestingStateeeg', 'task-RestingStateeeg']\n",
    "t = []\n",
    "\n",
    "s3 = boto3.resource('s3')\n",
    "bucket = s3.Bucket('redlemurtest')\n",
    "# Directly read through S3 bucket and pass into pandas dataframe\n",
    "for obj in bucket.objects.all():\n",
    "    key = obj.key\n",
    "    if key.startswith('fmri/s'):\n",
    "        keys = key.split('/')\n",
    "        if keys[2] == 'func':\n",
    "            if key.endswith('.gz'):\n",
    "                print (keys)\n",
    "                s.append(keys[1])\n",
    "                task = keys[3].split('_')[1] + keys[0]\n",
    "                t.append(task)\n",
    "                body = obj.get()['Body'].read()\n",
    "                file = nib.streamlines.load(body).get_data()\n",
    "                f.append(file)\n",
    "\n",
    "#     if key.endswith('.pkl'):\n",
    "#         keys = key.split(\"/\")\n",
    "#         subject = keys[1]\n",
    "#         task = keys[3].split('_')[1] + keys[0]\n",
    "#         s.append(subject)\n",
    "#         t.append(task)\n",
    "#         body = obj.get()['Body'].read()\n",
    "#         pkl = pd.read_pickle(io.BytesIO(body))\n",
    "#         f.append(pkl)\n",
    "#     if key.endswith('chanlocs.csv'):\n",
    "#         body = obj.get()['Body'].read()\n",
    "#         chanlocs = pd.read_csv(io.BytesIO(body))\n",
    "# spatial = lds.DataSet(chanlocs[[\"X\", \"Y\", \"Z\"]], \"Spatial\")\n",
    "# spatialDM = lds.DistanceMatrix(spatial, lms.VectorDifferenceNorm)\n",
    "\n",
    "print (s)\n",
    "print (t)"
   ]
  },
  {
   "cell_type": "code",
   "execution_count": 43,
   "metadata": {},
   "outputs": [
    {
     "name": "stdout",
     "output_type": "stream",
     "text": [
      "                         resource_path          subjects          tasks\n",
      "0  <_io.BytesIO object at 0x11643a410>  sub-NDARAA075AMK  task-restfmri\n",
      "1  <_io.BytesIO object at 0x11643a048>  sub-NDARAA536PTU  task-restfmri\n"
     ]
    }
   ],
   "source": [
    "d = {\n",
    "            \"resource_path\": f,\n",
    "            \"subjects\": s,\n",
    "            \"tasks\": t        \n",
    "    }\n",
    "descriptor = pd.DataFrame(d)\n",
    "print (descriptor)"
   ]
  },
  {
   "cell_type": "code",
   "execution_count": null,
   "metadata": {},
   "outputs": [],
   "source": []
  }
 ],
 "metadata": {
  "kernelspec": {
   "display_name": "Python 3",
   "language": "python",
   "name": "python3"
  },
  "language_info": {
   "codemirror_mode": {
    "name": "ipython",
    "version": 3
   },
   "file_extension": ".py",
   "mimetype": "text/x-python",
   "name": "python",
   "nbconvert_exporter": "python",
   "pygments_lexer": "ipython3",
   "version": "3.6.0"
  }
 },
 "nbformat": 4,
 "nbformat_minor": 2
}
