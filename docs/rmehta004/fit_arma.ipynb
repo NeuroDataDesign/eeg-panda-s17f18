{
 "cells": [
  {
   "cell_type": "markdown",
   "metadata": {},
   "source": [
    "# Characterization of Multidimensional Time Series\n",
    "\n",
    "The following takes a multidimensional time series (MTS) as input, and returns the transition matrix from fitting a Vector AR(1) Process to that MTS. These transition matrices (also called phi-matrices) can be used with matrix distance functions to provide some measure of difference between various types of MTS. In the case of EEG signals collected from multiple channels, we can use this function to potentially differentiate subjects, tasks, or mental state."
   ]
  },
  {
   "cell_type": "markdown",
   "metadata": {},
   "source": [
    "## Dependencies\n",
    "\n",
    "We will use the ```NumPy``` and ```pandas``` packages to handle the matrices. For fitting the Vector AR model, we use the ```statsmodels``` package."
   ]
  },
  {
   "cell_type": "code",
   "execution_count": 1,
   "metadata": {
<<<<<<< HEAD
    "scrolled": false
=======
    "scrolled": true
>>>>>>> 00caf8609c7d30af4715a3e6000f88feccf868e2
   },
   "outputs": [
    {
     "name": "stderr",
     "output_type": "stream",
     "text": [
      "C:\\ProgramData\\Anaconda2\\lib\\site-packages\\statsmodels\\compat\\pandas.py:56: FutureWarning: The pandas.core.datetools module is deprecated and will be removed in a future version. Please use the pandas.tseries module instead.\n",
      "  from pandas.core import datetools\n"
     ]
    }
   ],
   "source": [
    "import numpy as np\n",
    "import pandas as pd\n",
    "import statsmodels.api as sm\n",
    "from statsmodels.tsa.api import VAR"
   ]
  },
  {
   "cell_type": "markdown",
   "metadata": {},
   "source": [
    "## Function Definition\n",
    "See below."
   ]
  },
  {
   "cell_type": "code",
   "execution_count": 2,
   "metadata": {
    "collapsed": true
   },
   "outputs": [],
   "source": [
    "# Function that inputs ndarray and outputs phi-matrix.\n",
    "# Note that the channels/dimensions should be the rows, and time setps should be the columns of the matrix.\n",
    "def phimatrix(mts):\n",
    "    return VAR(mts.transpose()).fit(maxlags = 1, method = 'ols', ic = None, trend = 'nc', verbose = False).coefs"
   ]
  },
  {
   "cell_type": "markdown",
   "metadata": {},
   "source": [
    "## Examples with Data\n",
    "The following examples come from manufactured and real data."
   ]
  },
  {
   "cell_type": "code",
   "execution_count": 3,
   "metadata": {},
   "outputs": [
    {
     "name": "stdout",
     "output_type": "stream",
     "text": [
      "Original time series:\n",
      "[[1 2 3]\n",
      " [4 5 6]]\n",
      "Phi-Matrix (perfect fit):\n",
      "[[[ 0.66666667  0.33333333]\n",
      "  [-0.33333333  1.33333333]]]\n"
     ]
    },
    {
     "name": "stderr",
     "output_type": "stream",
     "text": [
      "C:\\ProgramData\\Anaconda2\\lib\\site-packages\\statsmodels\\tsa\\vector_ar\\var_model.py:477: RuntimeWarning: divide by zero encountered in true_divide\n",
      "  omega = sse / df_resid\n",
      "C:\\ProgramData\\Anaconda2\\lib\\site-packages\\statsmodels\\tsa\\vector_ar\\var_model.py:477: RuntimeWarning: invalid value encountered in true_divide\n",
      "  omega = sse / df_resid\n"
     ]
    }
   ],
   "source": [
    "# Small NP array.\n",
    "x = np.array([[1, 2, 3], [4, 5, 6]], np.int32)\n",
    "print(\"Original time series:\")\n",
    "print(x)\n",
    "A = phimatrix(x)\n",
    "print(\"Phi-Matrix (perfect fit):\")\n",
    "print(A)"
   ]
  },
  {
   "cell_type": "code",
   "execution_count": null,
   "metadata": {
    "collapsed": true
   },
   "outputs": [],
   "source": []
  }
 ],
 "metadata": {
  "kernelspec": {
   "display_name": "Python 2",
   "language": "python",
   "name": "python2"
  },
  "language_info": {
   "codemirror_mode": {
    "name": "ipython",
    "version": 2
   },
   "file_extension": ".py",
   "mimetype": "text/x-python",
   "name": "python",
   "nbconvert_exporter": "python",
   "pygments_lexer": "ipython2",
   "version": "2.7.13"
  }
 },
 "nbformat": 4,
 "nbformat_minor": 2
}
