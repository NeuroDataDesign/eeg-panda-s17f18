{
 "cells": [
  {
   "cell_type": "markdown",
   "metadata": {},
   "source": [
    "# Periodogram of EEG Time Series\n",
    "The following notebook produces a periodogram (estimate of spectral density) of an array representing a time series. The second function produces a cross spectral density estimate, useful for examining cross-correlations between time series in the frequency domain. This is relevant to our data due to its multivriate nature."
   ]
  },
  {
   "cell_type": "code",
   "execution_count": 1,
   "metadata": {},
   "outputs": [
    {
     "name": "stdout",
     "output_type": "stream",
     "text": [
      "2.2.3\n"
     ]
    },
    {
     "name": "stderr",
     "output_type": "stream",
     "text": [
      "IOPub data rate exceeded.\n",
      "The notebook server will temporarily stop sending output\n",
      "to the client in order to avoid crashing it.\n",
      "To change this limit, set the config variable\n",
      "`--NotebookApp.iopub_data_rate_limit`.\n"
     ]
    },
    {
     "name": "stdout",
     "output_type": "stream",
     "text": [
      "Loaded packages successfully.\n"
     ]
    }
   ],
   "source": [
    "# Required package: SciPy\n",
    "from scipy import signal\n",
    "import numpy as np\n",
    "import matplotlib.pyplot as plt\n",
    "import random\n",
    "import warnings\n",
    "\n",
    "# Added plotly version of same functions\n",
    "from plotly import __version__\n",
    "from plotly.offline import download_plotlyjs, init_notebook_mode, plot, iplot\n",
    "from plotly import tools\n",
    "import plotly.graph_objs as go\n",
    "\n",
    "print __version__ # requires version >= 1.9.0\n",
    "init_notebook_mode()\n",
    "\n",
    "print(\"Loaded packages successfully.\")"
   ]
  },
  {
   "cell_type": "markdown",
   "metadata": {},
   "source": [
    "## Function 1: Power Spectral Density\n",
    "The input is a NumPy array ```x```."
   ]
  },
  {
   "cell_type": "code",
   "execution_count": 2,
   "metadata": {
    "collapsed": true
   },
   "outputs": [],
   "source": [
    "def pgram(x):\n",
    "    # Get Power Spectral Density\n",
    "    freq, density = signal.periodogram(x)\n",
    "    \n",
    "    # Create trace\n",
    "    trace = go.Scatter(\n",
    "        x = freq,\n",
    "        y = density,\n",
    "        mode = 'lines'\n",
    "    )\n",
    "    \n",
    "    # Create layout\n",
    "    layout = dict(\n",
    "        title = 'Periodogram',\n",
    "        width = 900,\n",
    "        height = 400,\n",
    "        yaxis = dict(\n",
    "          zeroline = False,\n",
    "          title = 'Power Spectral Density'\n",
    "        ),\n",
    "        xaxis = dict(\n",
    "          zeroline = False,\n",
    "          title = 'Frequency (Hz)'\n",
    "        )\n",
    "    )\n",
    "    \n",
    "    # Plot and embed in ipython notebook!\n",
    "    fig = dict(data=[trace], layout=layout)\n",
    "    iplot(fig)\n",
    "\n",
    "def pgram2(x):\n",
    "    freq, density = signal.periodogram(x)\n",
    "    plt.plot(freq, density)\n",
    "    plt.ylabel(\"Power Spectral Density\")\n",
    "    plt.xlabel(\"Frequency\")\n",
    "    plt.show()"
   ]
  },
  {
   "cell_type": "code",
   "execution_count": 3,
   "metadata": {},
   "outputs": [
    {
     "data": {
      "application/vnd.plotly.v1+json": {
       "data": [
        {
         "mode": "lines",
         "type": "scatter",
         "x": [
          0,
          0.1,
          0.2,
          0.30000000000000004,
          0.4,
          0.5
         ],
         "y": [
          0,
          52.360679774997905,
          14.47213595499957,
          7.639320225002108,
          5.527864045000428,
          2.5
         ]
        }
       ],
       "layout": {
        "height": 400,
        "title": "Periodogram",
        "width": 900,
        "xaxis": {
         "title": "Frequency (Hz)",
         "zeroline": false
        },
        "yaxis": {
         "title": "Power Spectral Density",
         "zeroline": false
        }
       }
      },
      "text/html": [
       "<div id=\"daaca652-8409-44d8-9d65-92774d97e2a3\" style=\"height: 400px; width: 900px;\" class=\"plotly-graph-div\"></div><script type=\"text/javascript\">require([\"plotly\"], function(Plotly) { window.PLOTLYENV=window.PLOTLYENV || {};window.PLOTLYENV.BASE_URL=\"https://plot.ly\";Plotly.newPlot(\"daaca652-8409-44d8-9d65-92774d97e2a3\", [{\"y\": [0.0, 52.360679774997905, 14.47213595499957, 7.639320225002108, 5.527864045000428, 2.5], \"x\": [0.0, 0.1, 0.2, 0.30000000000000004, 0.4, 0.5], \"type\": \"scatter\", \"mode\": \"lines\"}], {\"height\": 400, \"width\": 900, \"yaxis\": {\"zeroline\": false, \"title\": \"Power Spectral Density\"}, \"xaxis\": {\"zeroline\": false, \"title\": \"Frequency (Hz)\"}, \"title\": \"Periodogram\"}, {\"linkText\": \"Export to plot.ly\", \"showLink\": true})});</script>"
      ],
      "text/vnd.plotly.v1+html": [
       "<div id=\"daaca652-8409-44d8-9d65-92774d97e2a3\" style=\"height: 400px; width: 900px;\" class=\"plotly-graph-div\"></div><script type=\"text/javascript\">require([\"plotly\"], function(Plotly) { window.PLOTLYENV=window.PLOTLYENV || {};window.PLOTLYENV.BASE_URL=\"https://plot.ly\";Plotly.newPlot(\"daaca652-8409-44d8-9d65-92774d97e2a3\", [{\"y\": [0.0, 52.360679774997905, 14.47213595499957, 7.639320225002108, 5.527864045000428, 2.5], \"x\": [0.0, 0.1, 0.2, 0.30000000000000004, 0.4, 0.5], \"type\": \"scatter\", \"mode\": \"lines\"}], {\"height\": 400, \"width\": 900, \"yaxis\": {\"zeroline\": false, \"title\": \"Power Spectral Density\"}, \"xaxis\": {\"zeroline\": false, \"title\": \"Frequency (Hz)\"}, \"title\": \"Periodogram\"}, {\"linkText\": \"Export to plot.ly\", \"showLink\": true})});</script>"
      ]
     },
     "metadata": {},
     "output_type": "display_data"
    },
    {
     "data": {
      "application/vnd.plotly.v1+json": {
       "data": [
        {
         "mode": "lines",
         "type": "scatter",
         "x": [
          0,
          0.01,
          0.02,
          0.03,
          0.04,
          0.05,
          0.06,
          0.07,
          0.08,
          0.09,
          0.1,
          0.11,
          0.12,
          0.13,
          0.14,
          0.15,
          0.16,
          0.17,
          0.18,
          0.19,
          0.2,
          0.21,
          0.22,
          0.23,
          0.24,
          0.25,
          0.26,
          0.27,
          0.28,
          0.29,
          0.3,
          0.31,
          0.32,
          0.33,
          0.34,
          0.35000000000000003,
          0.36,
          0.37,
          0.38,
          0.39,
          0.4,
          0.41000000000000003,
          0.42,
          0.43,
          0.44,
          0.45,
          0.46,
          0.47000000000000003,
          0.48,
          0.49,
          0.5
         ],
         "y": [
          2.8398992587956424e-31,
          3.1388272957425523,
          0.6118640305497474,
          12.116407560613512,
          22.758455494401844,
          15.827406803858917,
          1.6059552161027841,
          6.9455151983754435,
          8.304787493802802,
          2.8847004159184246,
          6.694100275497984,
          8.569754829862923,
          3.578397611212742,
          0.6794720445972017,
          5.05041677415613,
          1.6515069670823272,
          0.4366328404023221,
          0.7246222551555193,
          0.5182861396474564,
          0.14460247566589238,
          0.7453741985691841,
          0.21096999854769913,
          1.1586683259782755,
          1.0097273734148267,
          2.1014557943154695,
          0.7639870161219718,
          0.5912885675549867,
          2.026985915169909,
          2.1707294070358567,
          3.4415989760581525,
          3.59865518627185,
          0.7515442949166535,
          0.47087730151096696,
          1.5687839398887429,
          0.07123989642634793,
          0.13523346455870225,
          1.6607829055414562,
          0.0674645095645036,
          1.119741792498731,
          0.07662231166316724,
          1.593410922257875,
          0.33699668020576595,
          1.1704613249536497,
          1.0088530518582073,
          0.2168878827711111,
          1.398864016869233,
          1.9384286820522567,
          1.0494639481157217,
          1.7963513339327315,
          0.04487708296424584,
          1.1056494696539927
         ]
        }
       ],
       "layout": {
        "height": 400,
        "title": "Periodogram",
        "width": 900,
        "xaxis": {
         "title": "Frequency (Hz)",
         "zeroline": false
        },
        "yaxis": {
         "title": "Power Spectral Density",
         "zeroline": false
        }
       }
      },
      "text/html": [
       "<div id=\"1804db57-cc7e-4539-ab47-c8ed0db068c9\" style=\"height: 400px; width: 900px;\" class=\"plotly-graph-div\"></div><script type=\"text/javascript\">require([\"plotly\"], function(Plotly) { window.PLOTLYENV=window.PLOTLYENV || {};window.PLOTLYENV.BASE_URL=\"https://plot.ly\";Plotly.newPlot(\"1804db57-cc7e-4539-ab47-c8ed0db068c9\", [{\"y\": [2.8398992587956424e-31, 3.1388272957425523, 0.6118640305497474, 12.116407560613512, 22.758455494401844, 15.827406803858917, 1.6059552161027841, 6.9455151983754435, 8.304787493802802, 2.8847004159184246, 6.694100275497984, 8.569754829862923, 3.578397611212742, 0.6794720445972017, 5.05041677415613, 1.6515069670823272, 0.4366328404023221, 0.7246222551555193, 0.5182861396474564, 0.14460247566589238, 0.7453741985691841, 0.21096999854769913, 1.1586683259782755, 1.0097273734148267, 2.1014557943154695, 0.7639870161219718, 0.5912885675549867, 2.026985915169909, 2.1707294070358567, 3.4415989760581525, 3.59865518627185, 0.7515442949166535, 0.47087730151096696, 1.5687839398887429, 0.07123989642634793, 0.13523346455870225, 1.6607829055414562, 0.0674645095645036, 1.119741792498731, 0.07662231166316724, 1.593410922257875, 0.33699668020576595, 1.1704613249536497, 1.0088530518582073, 0.2168878827711111, 1.398864016869233, 1.9384286820522567, 1.0494639481157217, 1.7963513339327315, 0.04487708296424584, 1.1056494696539927], \"x\": [0.0, 0.01, 0.02, 0.03, 0.04, 0.05, 0.06, 0.07, 0.08, 0.09, 0.1, 0.11, 0.12, 0.13, 0.14, 0.15, 0.16, 0.17, 0.18, 0.19, 0.2, 0.21, 0.22, 0.23, 0.24, 0.25, 0.26, 0.27, 0.28, 0.29, 0.3, 0.31, 0.32, 0.33, 0.34, 0.35000000000000003, 0.36, 0.37, 0.38, 0.39, 0.4, 0.41000000000000003, 0.42, 0.43, 0.44, 0.45, 0.46, 0.47000000000000003, 0.48, 0.49, 0.5], \"type\": \"scatter\", \"mode\": \"lines\"}], {\"height\": 400, \"width\": 900, \"yaxis\": {\"zeroline\": false, \"title\": \"Power Spectral Density\"}, \"xaxis\": {\"zeroline\": false, \"title\": \"Frequency (Hz)\"}, \"title\": \"Periodogram\"}, {\"linkText\": \"Export to plot.ly\", \"showLink\": true})});</script>"
      ],
      "text/vnd.plotly.v1+html": [
       "<div id=\"1804db57-cc7e-4539-ab47-c8ed0db068c9\" style=\"height: 400px; width: 900px;\" class=\"plotly-graph-div\"></div><script type=\"text/javascript\">require([\"plotly\"], function(Plotly) { window.PLOTLYENV=window.PLOTLYENV || {};window.PLOTLYENV.BASE_URL=\"https://plot.ly\";Plotly.newPlot(\"1804db57-cc7e-4539-ab47-c8ed0db068c9\", [{\"y\": [2.8398992587956424e-31, 3.1388272957425523, 0.6118640305497474, 12.116407560613512, 22.758455494401844, 15.827406803858917, 1.6059552161027841, 6.9455151983754435, 8.304787493802802, 2.8847004159184246, 6.694100275497984, 8.569754829862923, 3.578397611212742, 0.6794720445972017, 5.05041677415613, 1.6515069670823272, 0.4366328404023221, 0.7246222551555193, 0.5182861396474564, 0.14460247566589238, 0.7453741985691841, 0.21096999854769913, 1.1586683259782755, 1.0097273734148267, 2.1014557943154695, 0.7639870161219718, 0.5912885675549867, 2.026985915169909, 2.1707294070358567, 3.4415989760581525, 3.59865518627185, 0.7515442949166535, 0.47087730151096696, 1.5687839398887429, 0.07123989642634793, 0.13523346455870225, 1.6607829055414562, 0.0674645095645036, 1.119741792498731, 0.07662231166316724, 1.593410922257875, 0.33699668020576595, 1.1704613249536497, 1.0088530518582073, 0.2168878827711111, 1.398864016869233, 1.9384286820522567, 1.0494639481157217, 1.7963513339327315, 0.04487708296424584, 1.1056494696539927], \"x\": [0.0, 0.01, 0.02, 0.03, 0.04, 0.05, 0.06, 0.07, 0.08, 0.09, 0.1, 0.11, 0.12, 0.13, 0.14, 0.15, 0.16, 0.17, 0.18, 0.19, 0.2, 0.21, 0.22, 0.23, 0.24, 0.25, 0.26, 0.27, 0.28, 0.29, 0.3, 0.31, 0.32, 0.33, 0.34, 0.35000000000000003, 0.36, 0.37, 0.38, 0.39, 0.4, 0.41000000000000003, 0.42, 0.43, 0.44, 0.45, 0.46, 0.47000000000000003, 0.48, 0.49, 0.5], \"type\": \"scatter\", \"mode\": \"lines\"}], {\"height\": 400, \"width\": 900, \"yaxis\": {\"zeroline\": false, \"title\": \"Power Spectral Density\"}, \"xaxis\": {\"zeroline\": false, \"title\": \"Frequency (Hz)\"}, \"title\": \"Periodogram\"}, {\"linkText\": \"Export to plot.ly\", \"showLink\": true})});</script>"
      ]
     },
     "metadata": {},
     "output_type": "display_data"
    }
   ],
   "source": [
    "# Test on different inputs.\n",
    "\n",
    "# Regular Array\n",
    "z1 = np.array([1, 2, 3, 4, 5, 6, 7, 8, 9, 10])\n",
    "pgram(z1)\n",
    "\n",
    "# AR(1) Process with phi = 0.5\n",
    "n = 100\n",
    "a = np.zeros(n)\n",
    "a[1] = random.normalvariate(0, 1)\n",
    "for i in range(1, n):\n",
    "    a[i] = 0.5*a[i-1] + random.normalvariate(0, 1)\n",
    "pgram(a)"
   ]
  },
  {
   "cell_type": "markdown",
   "metadata": {},
   "source": [
    "## Function 2: Cross Spectral Density\n",
    "The input is two different time series - ```x``` and ```y```."
   ]
  },
  {
   "cell_type": "code",
   "execution_count": 4,
   "metadata": {},
   "outputs": [],
   "source": [
    "def cgram(x, y):\n",
    "    # Get Cross Spectral Density\n",
    "    freq, density = signal.csd(x, y)\n",
    "    \n",
    "    # Create trace\n",
    "    trace = go.Scatter(\n",
    "        x = np.real(freq),\n",
    "        y = np.real(density),\n",
    "        mode = 'lines'\n",
    "    )\n",
    "    \n",
    "    # Create layout\n",
    "    layout = dict(\n",
    "        title = 'Cross Spectral Density Plot',\n",
    "        width = 900,\n",
    "        height = 400,\n",
    "        yaxis = dict(\n",
    "          zeroline = False,\n",
    "          title = 'CSD'\n",
    "        ),\n",
    "        xaxis = dict(\n",
    "          zeroline = False,\n",
    "          title = 'Frequency (Hz)'\n",
    "        )\n",
    "    )\n",
    "    \n",
    "    # Plot and embed in ipython notebook!\n",
    "    fig = dict(data=[trace], layout=layout)\n",
    "    iplot(fig)\n",
    "\n",
    "def cgram2(x, y):\n",
    "    freq, density = signal.csd(x, y)\n",
    "    plt.plot(freq, density)\n",
    "    plt.ylabel(\"Cross Spectral Density\")\n",
    "    plt.xlabel(\"Frequency\")\n",
    "    plt.show()"
   ]
  },
  {
   "cell_type": "code",
   "execution_count": 5,
   "metadata": {},
   "outputs": [
    {
     "data": {
      "application/vnd.plotly.v1+json": {
       "data": [
        {
         "mode": "lines",
         "type": "scatter",
         "x": [
          0,
          0.1,
          0.2,
          0.30000000000000004,
          0.4,
          0.5
         ],
         "y": [
          -1.6666666666666667,
          -19.8655825841659,
          -0.921310674166736,
          -0.05134288416869897,
          -0.0049028091679987115,
          -1.314768175368353e-32
         ]
        }
       ],
       "layout": {
        "height": 400,
        "title": "Cross Spectral Density Plot",
        "width": 900,
        "xaxis": {
         "title": "Frequency (Hz)",
         "zeroline": false
        },
        "yaxis": {
         "title": "CSD",
         "zeroline": false
        }
       }
      },
      "text/html": [
       "<div id=\"70081327-1280-47e9-b13f-353e81765fba\" style=\"height: 400px; width: 900px;\" class=\"plotly-graph-div\"></div><script type=\"text/javascript\">require([\"plotly\"], function(Plotly) { window.PLOTLYENV=window.PLOTLYENV || {};window.PLOTLYENV.BASE_URL=\"https://plot.ly\";Plotly.newPlot(\"70081327-1280-47e9-b13f-353e81765fba\", [{\"y\": [-1.6666666666666667, -19.8655825841659, -0.921310674166736, -0.05134288416869897, -0.0049028091679987115, -1.314768175368353e-32], \"x\": [0.0, 0.1, 0.2, 0.30000000000000004, 0.4, 0.5], \"type\": \"scatter\", \"mode\": \"lines\"}], {\"height\": 400, \"width\": 900, \"yaxis\": {\"zeroline\": false, \"title\": \"CSD\"}, \"xaxis\": {\"zeroline\": false, \"title\": \"Frequency (Hz)\"}, \"title\": \"Cross Spectral Density Plot\"}, {\"linkText\": \"Export to plot.ly\", \"showLink\": true})});</script>"
      ],
      "text/vnd.plotly.v1+html": [
       "<div id=\"70081327-1280-47e9-b13f-353e81765fba\" style=\"height: 400px; width: 900px;\" class=\"plotly-graph-div\"></div><script type=\"text/javascript\">require([\"plotly\"], function(Plotly) { window.PLOTLYENV=window.PLOTLYENV || {};window.PLOTLYENV.BASE_URL=\"https://plot.ly\";Plotly.newPlot(\"70081327-1280-47e9-b13f-353e81765fba\", [{\"y\": [-1.6666666666666667, -19.8655825841659, -0.921310674166736, -0.05134288416869897, -0.0049028091679987115, -1.314768175368353e-32], \"x\": [0.0, 0.1, 0.2, 0.30000000000000004, 0.4, 0.5], \"type\": \"scatter\", \"mode\": \"lines\"}], {\"height\": 400, \"width\": 900, \"yaxis\": {\"zeroline\": false, \"title\": \"CSD\"}, \"xaxis\": {\"zeroline\": false, \"title\": \"Frequency (Hz)\"}, \"title\": \"Cross Spectral Density Plot\"}, {\"linkText\": \"Export to plot.ly\", \"showLink\": true})});</script>"
      ]
     },
     "metadata": {},
     "output_type": "display_data"
    },
    {
     "data": {
      "application/vnd.plotly.v1+json": {
       "data": [
        {
         "mode": "lines",
         "type": "scatter",
         "x": [
          0,
          0.01,
          0.02,
          0.03,
          0.04,
          0.05,
          0.06,
          0.07,
          0.08,
          0.09,
          0.1,
          0.11,
          0.12,
          0.13,
          0.14,
          0.15,
          0.16,
          0.17,
          0.18,
          0.19,
          0.2,
          0.21,
          0.22,
          0.23,
          0.24,
          0.25,
          0.26,
          0.27,
          0.28,
          0.29,
          0.3,
          0.31,
          0.32,
          0.33,
          0.34,
          0.35000000000000003,
          0.36,
          0.37,
          0.38,
          0.39,
          0.4,
          0.41000000000000003,
          0.42,
          0.43,
          0.44,
          0.45,
          0.46,
          0.47000000000000003,
          0.48,
          0.49,
          0.5
         ],
         "y": [
          0.6791385036662243,
          3.357125885212875,
          1.0258322543144691,
          0.11865028306085901,
          0.18000811483404922,
          0.921865981821004,
          -1.7125906659793615,
          3.2189298095880754,
          2.552592111818916,
          -1.3198629247522773,
          3.0632801693590936,
          3.6735750296077017,
          -0.33886746838025517,
          1.012030255215293,
          -0.4024718153970339,
          -1.0548772483122288,
          0.32674425365218274,
          -0.3191887318507624,
          0.5926059275384186,
          -1.120006643608858,
          1.5945410623598748,
          -1.271699462384324,
          -0.6525129215206945,
          -0.9447173594237267,
          -1.1420550871560906,
          -1.5079542062584619,
          0.9997319964420872,
          0.8351119340607239,
          -2.373517887081325,
          1.0968566523332024,
          6.882020379303191,
          4.607639091059375,
          -0.15462237760127762,
          1.2475329141623057,
          3.112762595411115,
          1.3432510050033226,
          -0.2546888242093868,
          -0.7644999375572549,
          -0.11866806701325702,
          1.6595683594827482,
          2.4530529441061657,
          -1.0108747450034576,
          -0.7112743071653966,
          -0.5642868683020812,
          -0.041273624400552655,
          0.7369405030151023,
          -0.3200543179261765,
          0.2425259504003073,
          1.1680798184282162,
          -0.641161506010801,
          -0.5789138654266403
         ]
        }
       ],
       "layout": {
        "height": 400,
        "title": "Cross Spectral Density Plot",
        "width": 900,
        "xaxis": {
         "title": "Frequency (Hz)",
         "zeroline": false
        },
        "yaxis": {
         "title": "CSD",
         "zeroline": false
        }
       }
      },
      "text/html": [
       "<div id=\"ee1cb42a-34ee-44a6-bbf9-c405eb4ba87e\" style=\"height: 400px; width: 900px;\" class=\"plotly-graph-div\"></div><script type=\"text/javascript\">require([\"plotly\"], function(Plotly) { window.PLOTLYENV=window.PLOTLYENV || {};window.PLOTLYENV.BASE_URL=\"https://plot.ly\";Plotly.newPlot(\"ee1cb42a-34ee-44a6-bbf9-c405eb4ba87e\", [{\"y\": [0.6791385036662243, 3.357125885212875, 1.0258322543144691, 0.11865028306085901, 0.18000811483404922, 0.921865981821004, -1.7125906659793615, 3.2189298095880754, 2.552592111818916, -1.3198629247522773, 3.0632801693590936, 3.6735750296077017, -0.33886746838025517, 1.012030255215293, -0.4024718153970339, -1.0548772483122288, 0.32674425365218274, -0.3191887318507624, 0.5926059275384186, -1.120006643608858, 1.5945410623598748, -1.271699462384324, -0.6525129215206945, -0.9447173594237267, -1.1420550871560906, -1.5079542062584619, 0.9997319964420872, 0.8351119340607239, -2.373517887081325, 1.0968566523332024, 6.882020379303191, 4.607639091059375, -0.15462237760127762, 1.2475329141623057, 3.112762595411115, 1.3432510050033226, -0.2546888242093868, -0.7644999375572549, -0.11866806701325702, 1.6595683594827482, 2.4530529441061657, -1.0108747450034576, -0.7112743071653966, -0.5642868683020812, -0.041273624400552655, 0.7369405030151023, -0.3200543179261765, 0.2425259504003073, 1.1680798184282162, -0.641161506010801, -0.5789138654266403], \"x\": [0.0, 0.01, 0.02, 0.03, 0.04, 0.05, 0.06, 0.07, 0.08, 0.09, 0.1, 0.11, 0.12, 0.13, 0.14, 0.15, 0.16, 0.17, 0.18, 0.19, 0.2, 0.21, 0.22, 0.23, 0.24, 0.25, 0.26, 0.27, 0.28, 0.29, 0.3, 0.31, 0.32, 0.33, 0.34, 0.35000000000000003, 0.36, 0.37, 0.38, 0.39, 0.4, 0.41000000000000003, 0.42, 0.43, 0.44, 0.45, 0.46, 0.47000000000000003, 0.48, 0.49, 0.5], \"type\": \"scatter\", \"mode\": \"lines\"}], {\"height\": 400, \"width\": 900, \"yaxis\": {\"zeroline\": false, \"title\": \"CSD\"}, \"xaxis\": {\"zeroline\": false, \"title\": \"Frequency (Hz)\"}, \"title\": \"Cross Spectral Density Plot\"}, {\"linkText\": \"Export to plot.ly\", \"showLink\": true})});</script>"
      ],
      "text/vnd.plotly.v1+html": [
       "<div id=\"ee1cb42a-34ee-44a6-bbf9-c405eb4ba87e\" style=\"height: 400px; width: 900px;\" class=\"plotly-graph-div\"></div><script type=\"text/javascript\">require([\"plotly\"], function(Plotly) { window.PLOTLYENV=window.PLOTLYENV || {};window.PLOTLYENV.BASE_URL=\"https://plot.ly\";Plotly.newPlot(\"ee1cb42a-34ee-44a6-bbf9-c405eb4ba87e\", [{\"y\": [0.6791385036662243, 3.357125885212875, 1.0258322543144691, 0.11865028306085901, 0.18000811483404922, 0.921865981821004, -1.7125906659793615, 3.2189298095880754, 2.552592111818916, -1.3198629247522773, 3.0632801693590936, 3.6735750296077017, -0.33886746838025517, 1.012030255215293, -0.4024718153970339, -1.0548772483122288, 0.32674425365218274, -0.3191887318507624, 0.5926059275384186, -1.120006643608858, 1.5945410623598748, -1.271699462384324, -0.6525129215206945, -0.9447173594237267, -1.1420550871560906, -1.5079542062584619, 0.9997319964420872, 0.8351119340607239, -2.373517887081325, 1.0968566523332024, 6.882020379303191, 4.607639091059375, -0.15462237760127762, 1.2475329141623057, 3.112762595411115, 1.3432510050033226, -0.2546888242093868, -0.7644999375572549, -0.11866806701325702, 1.6595683594827482, 2.4530529441061657, -1.0108747450034576, -0.7112743071653966, -0.5642868683020812, -0.041273624400552655, 0.7369405030151023, -0.3200543179261765, 0.2425259504003073, 1.1680798184282162, -0.641161506010801, -0.5789138654266403], \"x\": [0.0, 0.01, 0.02, 0.03, 0.04, 0.05, 0.06, 0.07, 0.08, 0.09, 0.1, 0.11, 0.12, 0.13, 0.14, 0.15, 0.16, 0.17, 0.18, 0.19, 0.2, 0.21, 0.22, 0.23, 0.24, 0.25, 0.26, 0.27, 0.28, 0.29, 0.3, 0.31, 0.32, 0.33, 0.34, 0.35000000000000003, 0.36, 0.37, 0.38, 0.39, 0.4, 0.41000000000000003, 0.42, 0.43, 0.44, 0.45, 0.46, 0.47000000000000003, 0.48, 0.49, 0.5], \"type\": \"scatter\", \"mode\": \"lines\"}], {\"height\": 400, \"width\": 900, \"yaxis\": {\"zeroline\": false, \"title\": \"CSD\"}, \"xaxis\": {\"zeroline\": false, \"title\": \"Frequency (Hz)\"}, \"title\": \"Cross Spectral Density Plot\"}, {\"linkText\": \"Export to plot.ly\", \"showLink\": true})});</script>"
      ]
     },
     "metadata": {},
     "output_type": "display_data"
    }
   ],
   "source": [
    "# Test on different inputs\n",
    "\n",
    "# Regular Arrays\n",
    "z2 = np.array([1, 2, 3, 4, 5, 6, 7, 8, 9, 10])\n",
    "z3 = np.array([10, 9, 8, 7, 6, 5, 4, 3, 2, 1])\n",
    "warnings.simplefilter(\"ignore\")\n",
    "cgram(z2, z3)\n",
    "\n",
    "# Two AR(1) Processes, with phi = 0.75 and 0.25 respectively.\n",
    "n = 100\n",
    "b = np.zeros(n)\n",
    "c = np.zeros(n)\n",
    "b[1] = random.normalvariate(0, 1)\n",
    "c[1] = random.normalvariate(0, 1)\n",
    "for i in range(1, n):\n",
    "    b[i] = 0.75*a[i-1] + random.normalvariate(0, 1)\n",
    "    c[i] = 0.25*a[i-1] + random.normalvariate(0, 1)\n",
    "cgram(b, c)"
   ]
  }
 ],
 "metadata": {
  "kernelspec": {
   "display_name": "Python 2",
   "language": "python",
   "name": "python2"
  },
  "language_info": {
   "codemirror_mode": {
    "name": "ipython",
    "version": 2
   },
   "file_extension": ".py",
   "mimetype": "text/x-python",
   "name": "python",
   "nbconvert_exporter": "python",
   "pygments_lexer": "ipython2",
   "version": "2.7.13"
  }
 },
 "nbformat": 4,
 "nbformat_minor": 2
}
