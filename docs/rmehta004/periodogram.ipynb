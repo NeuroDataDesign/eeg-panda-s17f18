{
 "cells": [
  {
   "cell_type": "markdown",
   "metadata": {},
   "source": [
    "# Periodogram of EEG Time Series\n",
    "The following notebook produces a periodogram (estimate of spectral density) of an array representing a time series. The second function produces a cross spectral density estimate, useful for examining cross-correlations between time series in the frequency domain. This is relevant to our data due to its multivriate nature."
   ]
  },
  {
   "cell_type": "code",
   "execution_count": 4,
   "metadata": {},
   "outputs": [
    {
     "name": "stdout",
     "output_type": "stream",
     "text": [
      "2.2.3\n"
     ]
    },
    {
     "name": "stderr",
     "output_type": "stream",
     "text": [
      "IOPub data rate exceeded.\n",
      "The notebook server will temporarily stop sending output\n",
      "to the client in order to avoid crashing it.\n",
      "To change this limit, set the config variable\n",
      "`--NotebookApp.iopub_data_rate_limit`.\n"
     ]
    },
    {
     "name": "stdout",
     "output_type": "stream",
     "text": [
      "Loaded packages successfully.\n"
     ]
    }
   ],
   "source": [
    "# Required package: SciPy\n",
    "from scipy import signal\n",
    "import numpy as np\n",
    "import matplotlib.pyplot as plt\n",
    "import random\n",
    "import warnings\n",
    "\n",
    "# Added plotly version of same functions\n",
    "from plotly import __version__\n",
    "from plotly.offline import download_plotlyjs, init_notebook_mode, plot, iplot\n",
    "from plotly import tools\n",
    "import plotly.graph_objs as go\n",
    "\n",
    "print __version__ # requires version >= 1.9.0\n",
    "init_notebook_mode()\n",
    "\n",
    "print(\"Loaded packages successfully.\")"
   ]
  },
  {
   "cell_type": "markdown",
   "metadata": {},
   "source": [
    "## Function 1: Power Spectral Density\n",
    "The input is a NumPy array ```x```."
   ]
  },
  {
   "cell_type": "code",
   "execution_count": 5,
   "metadata": {
    "collapsed": true
   },
   "outputs": [],
   "source": [
    "def pgram2(x):\n",
    "    freq, density = signal.periodogram(x)\n",
    "    plt.plot(freq, density)\n",
    "    plt.ylabel(\"Power Spectral Density\")\n",
    "    plt.xlabel(\"Frequency\")\n",
    "    plt.show()\n",
    "    \n",
    "def pgram(x):\n",
    "    freq, density = signal.periodogram(x)\n",
    "    print(freq[1:10])\n",
    "    print(density[1:10])\n",
    "    \n",
    "    # Create trace\n",
    "    trace = go.Scatter(\n",
    "        x = freq,\n",
    "        y = density,\n",
    "        mode = 'lines'\n",
    "    )\n",
    "    \n",
    "    layout = dict(\n",
    "        title = 'Periodogram',\n",
    "        width = 900,\n",
    "        height = 400,\n",
    "        yaxis = dict(\n",
    "          zeroline = False,\n",
    "          title = 'Frequency (Hz)'\n",
    "        ),\n",
    "        xaxis = dict(\n",
    "          zeroline = False,\n",
    "          title = 'Probability Density'\n",
    "        )\n",
    "    )\n",
    "    \n",
    "    # Plot and embed in ipython notebook!\n",
    "    fig = dict(data=[trace], layout=layout)\n",
    "    iplot(fig)\n",
    "    "
   ]
  },
  {
   "cell_type": "code",
   "execution_count": 7,
   "metadata": {},
   "outputs": [
    {
     "name": "stdout",
     "output_type": "stream",
     "text": [
      "[ 0.1  0.2  0.3  0.4  0.5]\n",
      "[ 52.36067977  14.47213595   7.63932023   5.52786405   2.5       ]\n"
     ]
    },
    {
     "data": {
      "application/vnd.plotly.v1+json": {
       "data": [
        {
         "mode": "lines",
         "type": "scatter",
         "x": [
          0,
          0.1,
          0.2,
          0.30000000000000004,
          0.4,
          0.5
         ],
         "y": [
          0,
          52.360679774997905,
          14.47213595499957,
          7.639320225002108,
          5.527864045000428,
          2.5
         ]
        }
       ],
       "layout": {
        "height": 400,
        "title": "Periodogram",
        "width": 900,
        "xaxis": {
         "title": "Probability Density",
         "zeroline": false
        },
        "yaxis": {
         "title": "Frequency (Hz)",
         "zeroline": false
        }
       }
      },
      "text/html": [
       "<div id=\"584c1851-bb1c-4efc-84d4-b0ebf697d369\" style=\"height: 400px; width: 900px;\" class=\"plotly-graph-div\"></div><script type=\"text/javascript\">require([\"plotly\"], function(Plotly) { window.PLOTLYENV=window.PLOTLYENV || {};window.PLOTLYENV.BASE_URL=\"https://plot.ly\";Plotly.newPlot(\"584c1851-bb1c-4efc-84d4-b0ebf697d369\", [{\"y\": [0.0, 52.360679774997905, 14.47213595499957, 7.639320225002108, 5.527864045000428, 2.5], \"x\": [0.0, 0.1, 0.2, 0.30000000000000004, 0.4, 0.5], \"type\": \"scatter\", \"mode\": \"lines\"}], {\"height\": 400, \"width\": 900, \"yaxis\": {\"zeroline\": false, \"title\": \"Frequency (Hz)\"}, \"xaxis\": {\"zeroline\": false, \"title\": \"Probability Density\"}, \"title\": \"Periodogram\"}, {\"linkText\": \"Export to plot.ly\", \"showLink\": true})});</script>"
      ],
      "text/vnd.plotly.v1+html": [
       "<div id=\"584c1851-bb1c-4efc-84d4-b0ebf697d369\" style=\"height: 400px; width: 900px;\" class=\"plotly-graph-div\"></div><script type=\"text/javascript\">require([\"plotly\"], function(Plotly) { window.PLOTLYENV=window.PLOTLYENV || {};window.PLOTLYENV.BASE_URL=\"https://plot.ly\";Plotly.newPlot(\"584c1851-bb1c-4efc-84d4-b0ebf697d369\", [{\"y\": [0.0, 52.360679774997905, 14.47213595499957, 7.639320225002108, 5.527864045000428, 2.5], \"x\": [0.0, 0.1, 0.2, 0.30000000000000004, 0.4, 0.5], \"type\": \"scatter\", \"mode\": \"lines\"}], {\"height\": 400, \"width\": 900, \"yaxis\": {\"zeroline\": false, \"title\": \"Frequency (Hz)\"}, \"xaxis\": {\"zeroline\": false, \"title\": \"Probability Density\"}, \"title\": \"Periodogram\"}, {\"linkText\": \"Export to plot.ly\", \"showLink\": true})});</script>"
      ]
     },
     "metadata": {},
     "output_type": "display_data"
    },
    {
     "name": "stdout",
     "output_type": "stream",
     "text": [
      "[ 0.01  0.02  0.03  0.04  0.05  0.06  0.07  0.08  0.09]\n",
      "[  0.38679162   1.09821037   3.95588061  26.49407842   5.08385726\n",
      "   7.47250392   0.27696681  20.40346025  10.11599713]\n"
     ]
    },
    {
     "data": {
      "application/vnd.plotly.v1+json": {
       "data": [
        {
         "mode": "lines",
         "type": "scatter",
         "x": [
          0,
          0.01,
          0.02,
          0.03,
          0.04,
          0.05,
          0.06,
          0.07,
          0.08,
          0.09,
          0.1,
          0.11,
          0.12,
          0.13,
          0.14,
          0.15,
          0.16,
          0.17,
          0.18,
          0.19,
          0.2,
          0.21,
          0.22,
          0.23,
          0.24,
          0.25,
          0.26,
          0.27,
          0.28,
          0.29,
          0.3,
          0.31,
          0.32,
          0.33,
          0.34,
          0.35000000000000003,
          0.36,
          0.37,
          0.38,
          0.39,
          0.4,
          0.41000000000000003,
          0.42,
          0.43,
          0.44,
          0.45,
          0.46,
          0.47000000000000003,
          0.48,
          0.49,
          0.5
         ],
         "y": [
          4.930380657631324e-32,
          0.3867916188215108,
          1.0982103657232114,
          3.955880605573024,
          26.494078417398992,
          5.0838572578924595,
          7.472503918042835,
          0.2769668050688456,
          20.40346025123051,
          10.11599713186443,
          3.8186636661531197,
          0.11488612872963147,
          2.278851375087097,
          2.068405627900939,
          5.351329728546079,
          0.3790327029001444,
          0.8407774257797557,
          3.110084545509946,
          0.353326638853041,
          2.823890022144774,
          0.07266487971972957,
          0.24452488207731715,
          0.1537615060122495,
          1.9881166869525857,
          2.0100577862123354,
          0.7069735854494323,
          0.13282281490655928,
          5.639548151473427,
          1.1129085029651742,
          0.5239465756766613,
          1.9191721737576917,
          0.321303173594104,
          0.0810396656836727,
          3.221443484375918,
          0.26420727591284,
          1.515188395017324,
          0.43914103970592605,
          0.7288015634130255,
          2.480127379241558,
          2.295259159686222,
          1.6727368790085422,
          1.2046957742650544,
          1.0796258977635977,
          0.2159649213817219,
          0.10577089628017224,
          0.9553210695965286,
          0.016132136145425673,
          1.788131739191296,
          0.5285424939761851,
          0.5914584217339253,
          0.007947510985453172
         ]
        }
       ],
       "layout": {
        "height": 400,
        "title": "Periodogram",
        "width": 900,
        "xaxis": {
         "title": "Probability Density",
         "zeroline": false
        },
        "yaxis": {
         "title": "Frequency (Hz)",
         "zeroline": false
        }
       }
      },
      "text/html": [
       "<div id=\"70f13839-deb5-4f13-8a80-e67cd76a1c8f\" style=\"height: 400px; width: 900px;\" class=\"plotly-graph-div\"></div><script type=\"text/javascript\">require([\"plotly\"], function(Plotly) { window.PLOTLYENV=window.PLOTLYENV || {};window.PLOTLYENV.BASE_URL=\"https://plot.ly\";Plotly.newPlot(\"70f13839-deb5-4f13-8a80-e67cd76a1c8f\", [{\"y\": [4.930380657631324e-32, 0.3867916188215108, 1.0982103657232114, 3.955880605573024, 26.494078417398992, 5.0838572578924595, 7.472503918042835, 0.2769668050688456, 20.40346025123051, 10.11599713186443, 3.8186636661531197, 0.11488612872963147, 2.278851375087097, 2.068405627900939, 5.351329728546079, 0.3790327029001444, 0.8407774257797557, 3.110084545509946, 0.353326638853041, 2.823890022144774, 0.07266487971972957, 0.24452488207731715, 0.1537615060122495, 1.9881166869525857, 2.0100577862123354, 0.7069735854494323, 0.13282281490655928, 5.639548151473427, 1.1129085029651742, 0.5239465756766613, 1.9191721737576917, 0.321303173594104, 0.0810396656836727, 3.221443484375918, 0.26420727591284, 1.515188395017324, 0.43914103970592605, 0.7288015634130255, 2.480127379241558, 2.295259159686222, 1.6727368790085422, 1.2046957742650544, 1.0796258977635977, 0.2159649213817219, 0.10577089628017224, 0.9553210695965286, 0.016132136145425673, 1.788131739191296, 0.5285424939761851, 0.5914584217339253, 0.007947510985453172], \"x\": [0.0, 0.01, 0.02, 0.03, 0.04, 0.05, 0.06, 0.07, 0.08, 0.09, 0.1, 0.11, 0.12, 0.13, 0.14, 0.15, 0.16, 0.17, 0.18, 0.19, 0.2, 0.21, 0.22, 0.23, 0.24, 0.25, 0.26, 0.27, 0.28, 0.29, 0.3, 0.31, 0.32, 0.33, 0.34, 0.35000000000000003, 0.36, 0.37, 0.38, 0.39, 0.4, 0.41000000000000003, 0.42, 0.43, 0.44, 0.45, 0.46, 0.47000000000000003, 0.48, 0.49, 0.5], \"type\": \"scatter\", \"mode\": \"lines\"}], {\"height\": 400, \"width\": 900, \"yaxis\": {\"zeroline\": false, \"title\": \"Frequency (Hz)\"}, \"xaxis\": {\"zeroline\": false, \"title\": \"Probability Density\"}, \"title\": \"Periodogram\"}, {\"linkText\": \"Export to plot.ly\", \"showLink\": true})});</script>"
      ],
      "text/vnd.plotly.v1+html": [
       "<div id=\"70f13839-deb5-4f13-8a80-e67cd76a1c8f\" style=\"height: 400px; width: 900px;\" class=\"plotly-graph-div\"></div><script type=\"text/javascript\">require([\"plotly\"], function(Plotly) { window.PLOTLYENV=window.PLOTLYENV || {};window.PLOTLYENV.BASE_URL=\"https://plot.ly\";Plotly.newPlot(\"70f13839-deb5-4f13-8a80-e67cd76a1c8f\", [{\"y\": [4.930380657631324e-32, 0.3867916188215108, 1.0982103657232114, 3.955880605573024, 26.494078417398992, 5.0838572578924595, 7.472503918042835, 0.2769668050688456, 20.40346025123051, 10.11599713186443, 3.8186636661531197, 0.11488612872963147, 2.278851375087097, 2.068405627900939, 5.351329728546079, 0.3790327029001444, 0.8407774257797557, 3.110084545509946, 0.353326638853041, 2.823890022144774, 0.07266487971972957, 0.24452488207731715, 0.1537615060122495, 1.9881166869525857, 2.0100577862123354, 0.7069735854494323, 0.13282281490655928, 5.639548151473427, 1.1129085029651742, 0.5239465756766613, 1.9191721737576917, 0.321303173594104, 0.0810396656836727, 3.221443484375918, 0.26420727591284, 1.515188395017324, 0.43914103970592605, 0.7288015634130255, 2.480127379241558, 2.295259159686222, 1.6727368790085422, 1.2046957742650544, 1.0796258977635977, 0.2159649213817219, 0.10577089628017224, 0.9553210695965286, 0.016132136145425673, 1.788131739191296, 0.5285424939761851, 0.5914584217339253, 0.007947510985453172], \"x\": [0.0, 0.01, 0.02, 0.03, 0.04, 0.05, 0.06, 0.07, 0.08, 0.09, 0.1, 0.11, 0.12, 0.13, 0.14, 0.15, 0.16, 0.17, 0.18, 0.19, 0.2, 0.21, 0.22, 0.23, 0.24, 0.25, 0.26, 0.27, 0.28, 0.29, 0.3, 0.31, 0.32, 0.33, 0.34, 0.35000000000000003, 0.36, 0.37, 0.38, 0.39, 0.4, 0.41000000000000003, 0.42, 0.43, 0.44, 0.45, 0.46, 0.47000000000000003, 0.48, 0.49, 0.5], \"type\": \"scatter\", \"mode\": \"lines\"}], {\"height\": 400, \"width\": 900, \"yaxis\": {\"zeroline\": false, \"title\": \"Frequency (Hz)\"}, \"xaxis\": {\"zeroline\": false, \"title\": \"Probability Density\"}, \"title\": \"Periodogram\"}, {\"linkText\": \"Export to plot.ly\", \"showLink\": true})});</script>"
      ]
     },
     "metadata": {},
     "output_type": "display_data"
    }
   ],
   "source": [
    "# Test on different inputs.\n",
    "\n",
    "# Regular Array\n",
    "z1 = np.array([1, 2, 3, 4, 5, 6, 7, 8, 9, 10])\n",
    "pgram(z1)\n",
    "\n",
    "# AR(1) Process with phi = 0.5\n",
    "n = 100\n",
    "a = np.zeros(n)\n",
    "a[1] = random.normalvariate(0, 1)\n",
    "for i in range(1, n):\n",
    "    a[i] = 0.5*a[i-1] + random.normalvariate(0, 1)\n",
    "pgram(a)"
   ]
  },
  {
   "cell_type": "markdown",
   "metadata": {},
   "source": [
    "## Function 2: Cross Spectral Density\n",
    "The input is two different time series - ```x``` and ```y```."
   ]
  },
  {
   "cell_type": "code",
   "execution_count": null,
   "metadata": {
    "collapsed": true
   },
   "outputs": [],
   "source": [
    "def cgram(x, y):\n",
    "    freq, density = signal.csd(x, y)\n",
    "    plt.plot(freq, density)\n",
    "    plt.ylabel(\"Cross Spectral Density\")\n",
    "    plt.xlabel(\"Frequency\")\n",
    "    plt.show()"
   ]
  },
  {
   "cell_type": "code",
   "execution_count": null,
   "metadata": {},
   "outputs": [],
   "source": [
    "# Test on different inputs\n",
    "\n",
    "# Regular Arrays\n",
    "z2 = np.array([1, 2, 3, 4, 5, 6, 7, 8, 9, 10])\n",
    "z3 = np.array([10, 9, 8, 7, 6, 5, 4, 3, 2, 1])\n",
    "warnings.simplefilter(\"ignore\")\n",
    "cgram(z2, z3)\n",
    "\n",
    "# Two AR(1) Processes, with phi = 0.75 and 0.25 respectively.\n",
    "n = 100\n",
    "b = np.zeros(n)\n",
    "c = np.zeros(n)\n",
    "b[1] = random.normalvariate(0, 1)\n",
    "c[1] = random.normalvariate(0, 1)\n",
    "for i in range(1, n):\n",
    "    b[i] = 0.75*a[i-1] + random.normalvariate(0, 1)\n",
    "    c[i] = 0.25*a[i-1] + random.normalvariate(0, 1)\n",
    "cgram(b, c)"
   ]
  }
 ],
 "metadata": {
  "kernelspec": {
   "display_name": "Python 2",
   "language": "python",
   "name": "python2"
  },
  "language_info": {
   "codemirror_mode": {
    "name": "ipython",
    "version": 2
   },
   "file_extension": ".py",
   "mimetype": "text/x-python",
   "name": "python",
   "nbconvert_exporter": "python",
   "pygments_lexer": "ipython2",
   "version": "2.7.13"
  }
 },
 "nbformat": 4,
 "nbformat_minor": 2
}
