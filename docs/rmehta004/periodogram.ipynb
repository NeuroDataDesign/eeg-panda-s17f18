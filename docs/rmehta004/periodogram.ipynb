{
 "cells": [
  {
   "cell_type": "markdown",
   "metadata": {},
   "source": [
    "# Periodogram of EEG Time Series\n",
    "The following notebook produces a periodogram (estimate of spectral density) of an array representing a time series. The second function produces a cross spectral density estimate, useful for examining cross-correlations between time series in the frequency domain. This is relevant to our data due to its multivriate nature."
   ]
  },
  {
   "cell_type": "code",
   "execution_count": 1,
   "metadata": {},
   "outputs": [
    {
     "name": "stdout",
     "output_type": "stream",
     "text": [
      "2.2.3\n"
     ]
    },
    {
     "name": "stderr",
     "output_type": "stream",
     "text": [
      "IOPub data rate exceeded.\n",
      "The notebook server will temporarily stop sending output\n",
      "to the client in order to avoid crashing it.\n",
      "To change this limit, set the config variable\n",
      "`--NotebookApp.iopub_data_rate_limit`.\n"
     ]
    },
    {
     "name": "stdout",
     "output_type": "stream",
     "text": [
      "Loaded packages successfully.\n"
     ]
    }
   ],
   "source": [
    "# Required package: SciPy\n",
    "from scipy import signal\n",
    "import numpy as np\n",
    "import matplotlib.pyplot as plt\n",
    "import random\n",
    "import warnings\n",
    "\n",
    "# Added plotly version of same functions\n",
    "from plotly import __version__\n",
    "from plotly.offline import download_plotlyjs, init_notebook_mode, plot, iplot\n",
    "from plotly import tools\n",
    "import plotly.graph_objs as go\n",
    "\n",
    "print __version__ # requires version >= 1.9.0\n",
    "init_notebook_mode()\n",
    "\n",
    "print(\"Loaded packages successfully.\")"
   ]
  },
  {
   "cell_type": "markdown",
   "metadata": {},
   "source": [
    "## Function 1: Power Spectral Density\n",
    "The input is a NumPy array ```x```."
   ]
  },
  {
   "cell_type": "code",
   "execution_count": 2,
   "metadata": {
    "collapsed": true
   },
   "outputs": [],
   "source": [
    "def pgram2(x):\n",
    "    freq, density = signal.periodogram(x)\n",
    "    plt.plot(freq, density)\n",
    "    plt.ylabel(\"Power Spectral Density\")\n",
    "    plt.xlabel(\"Frequency\")\n",
    "    plt.show()\n",
    "    \n",
    "def pgram(x):\n",
    "    freq, density = signal.periodogram(x)\n",
    "    # Create trace\n",
    "    trace0 = go.Scatter(\n",
    "        x = freq,\n",
    "        y = density,\n",
    "        mode = 'lines'\n",
    "    )\n",
    "    data = [trace0]\n",
    "    iplot(data)\n",
    "    "
   ]
  },
  {
   "cell_type": "code",
   "execution_count": 3,
   "metadata": {},
   "outputs": [
    {
     "data": {
      "application/vnd.plotly.v1+json": {
       "data": [
        {
         "mode": "lines",
         "type": "scatter",
         "x": [
          0,
          0.1,
          0.2,
          0.30000000000000004,
          0.4,
          0.5
         ],
         "y": [
          0,
          52.360679774997905,
          14.47213595499957,
          7.639320225002108,
          5.527864045000428,
          2.5
         ]
        }
       ],
       "layout": {}
      },
      "text/html": [
       "<div id=\"93f7c1e1-2ed7-48d8-a77b-37c77299bd46\" style=\"height: 525px; width: 100%;\" class=\"plotly-graph-div\"></div><script type=\"text/javascript\">require([\"plotly\"], function(Plotly) { window.PLOTLYENV=window.PLOTLYENV || {};window.PLOTLYENV.BASE_URL=\"https://plot.ly\";Plotly.newPlot(\"93f7c1e1-2ed7-48d8-a77b-37c77299bd46\", [{\"y\": [0.0, 52.360679774997905, 14.47213595499957, 7.639320225002108, 5.527864045000428, 2.5], \"x\": [0.0, 0.1, 0.2, 0.30000000000000004, 0.4, 0.5], \"type\": \"scatter\", \"mode\": \"lines\"}], {}, {\"linkText\": \"Export to plot.ly\", \"showLink\": true})});</script>"
      ],
      "text/vnd.plotly.v1+html": [
       "<div id=\"93f7c1e1-2ed7-48d8-a77b-37c77299bd46\" style=\"height: 525px; width: 100%;\" class=\"plotly-graph-div\"></div><script type=\"text/javascript\">require([\"plotly\"], function(Plotly) { window.PLOTLYENV=window.PLOTLYENV || {};window.PLOTLYENV.BASE_URL=\"https://plot.ly\";Plotly.newPlot(\"93f7c1e1-2ed7-48d8-a77b-37c77299bd46\", [{\"y\": [0.0, 52.360679774997905, 14.47213595499957, 7.639320225002108, 5.527864045000428, 2.5], \"x\": [0.0, 0.1, 0.2, 0.30000000000000004, 0.4, 0.5], \"type\": \"scatter\", \"mode\": \"lines\"}], {}, {\"linkText\": \"Export to plot.ly\", \"showLink\": true})});</script>"
      ]
     },
     "metadata": {},
     "output_type": "display_data"
    }
   ],
   "source": [
    "# Test on different inputs.\n",
    "\n",
    "# Regular Array\n",
    "z1 = np.array([1, 2, 3, 4, 5, 6, 7, 8, 9, 10])\n",
    "pgram(z1)\n",
    "\n",
    "# AR(1) Process with phi = 0.5\n",
    "n = 100\n",
    "a = np.zeros(n)\n",
    "a[1] = random.normalvariate(0, 1)\n",
    "for i in range(1, n):\n",
    "    a[i] = 0.5*a[i-1] + random.normalvariate(0, 1)\n",
    "pgram(a)"
   ]
  },
  {
   "cell_type": "markdown",
   "metadata": {},
   "source": [
    "## Function 2: Cross Spectral Density\n",
    "The input is two different time series - ```x``` and ```y```."
   ]
  },
  {
   "cell_type": "code",
   "execution_count": null,
   "metadata": {
    "collapsed": true
   },
   "outputs": [],
   "source": [
    "def cgram(x, y):\n",
    "    freq, density = signal.csd(x, y)\n",
    "    plt.plot(freq, density)\n",
    "    plt.ylabel(\"Cross Spectral Density\")\n",
    "    plt.xlabel(\"Frequency\")\n",
    "    plt.show()"
   ]
  },
  {
   "cell_type": "code",
   "execution_count": null,
   "metadata": {},
   "outputs": [],
   "source": [
    "# Test on different inputs\n",
    "\n",
    "# Regular Arrays\n",
    "z2 = np.array([1, 2, 3, 4, 5, 6, 7, 8, 9, 10])\n",
    "z3 = np.array([10, 9, 8, 7, 6, 5, 4, 3, 2, 1])\n",
    "warnings.simplefilter(\"ignore\")\n",
    "cgram(z2, z3)\n",
    "\n",
    "# Two AR(1) Processes, with phi = 0.75 and 0.25 respectively.\n",
    "n = 100\n",
    "b = np.zeros(n)\n",
    "c = np.zeros(n)\n",
    "b[1] = random.normalvariate(0, 1)\n",
    "c[1] = random.normalvariate(0, 1)\n",
    "for i in range(1, n):\n",
    "    b[i] = 0.75*a[i-1] + random.normalvariate(0, 1)\n",
    "    c[i] = 0.25*a[i-1] + random.normalvariate(0, 1)\n",
    "cgram(b, c)"
   ]
  }
 ],
 "metadata": {
  "kernelspec": {
   "display_name": "Python 2",
   "language": "python",
   "name": "python2"
  },
  "language_info": {
   "codemirror_mode": {
    "name": "ipython",
    "version": 2
   },
   "file_extension": ".py",
   "mimetype": "text/x-python",
   "name": "python",
   "nbconvert_exporter": "python",
   "pygments_lexer": "ipython2",
   "version": "2.7.13"
  }
 },
 "nbformat": 4,
 "nbformat_minor": 2
}
