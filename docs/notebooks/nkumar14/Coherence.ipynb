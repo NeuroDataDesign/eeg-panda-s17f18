{
 "cells": [
  {
   "cell_type": "code",
   "execution_count": 1,
   "metadata": {},
   "outputs": [],
   "source": [
    "%matplotlib inline\n",
    "\n",
    "import matplotlib\n",
    "import numpy as np\n",
    "import scipy.signal as signal\n",
    "import matplotlib.pyplot as plt\n",
    "import time\n",
    "\n",
    "import pickle"
   ]
  },
  {
   "cell_type": "code",
   "execution_count": null,
   "metadata": {
    "collapsed": true
   },
   "outputs": [],
   "source": [
    "NDARAA075AMK = {}\n",
    "NDARAA075AMK['video1'] = pickle.load( open( \"../../../data/NDARAA075AMK/EEG/raw/PANDA/NDARAA075AMK_Video1_data.pkl\", \"rb\" ) )"
   ]
  },
  {
   "cell_type": "code",
   "execution_count": null,
   "metadata": {
    "collapsed": true
   },
   "outputs": [],
   "source": [
    "def get_fft(signal, ):\n",
    "    \n",
    "\n",
    "    sample_points = np.arange(signal.shape[0]) * dt\n",
    "    ft = np.fft.fft(signal) * dt\n",
    "    ft = ft[:len(sample_points)/2]\n",
    "    freq = np.fft.fftfreq(len(sample_points), dt)\n",
    "    freq = freq[:len(sample_points)/2]\n",
    "    \n",
    "    return ft, freq\n",
    "\n",
    "def coherence(D, F_s=500, ft=None):\n",
    "    dt = 1./F_s\n",
    "    \n",
    "    # First get samp freqs and all ffts\n",
    "    #     sample_points = np.arange(D.shape[1]) * dt\n",
    "    freq = np.fft.fftfreq(D.shape[1], dt)\n",
    "    freq = freq[: D.shape[1]/2]\n",
    "    if ft is None:\n",
    "        ft = np.zeros((D.shape[0], D.shape[1]/2))\n",
    "        for i in range(D.shape[0]):\n",
    "            ft[i, :] = (np.fft.fft(signal) * dt)[: len(sample_points)/2]\n",
    "    \n",
    "    # Now run coherence on all combinations\n",
    "    coherence = np.zeros((D.shape[0], D.shape[0]))\n",
    "    for i in range(D.shape[0]):\n",
    "        for j in range(j, D.shape[0]):\n",
    "            coherence[i, j] = "
   ]
  },
  {
   "cell_type": "code",
   "execution_count": null,
   "metadata": {
    "collapsed": true
   },
   "outputs": [],
   "source": [
    "def orig_coherence(D, F_s=500):\n",
    "    times = []\n",
    "    coherence = np.zeros((D.shape[0], D.shape[0]))\n",
    "    for i in range(D.shape[0]):\n",
    "        for j in range(i, D.shape[0]):\n",
    "            start = time.time()\n",
    "            coherence[i, j] = np.mean(signal.coherence(D[i, :], D[j, :], fs=500)[1])\n",
    "            coherence[j, i] = coherence[i, j]\n",
    "            end = time.time()\n",
    "            times.append(end - start)\n",
    "    return coherence, times"
   ]
  },
  {
   "cell_type": "code",
   "execution_count": null,
   "metadata": {
    "collapsed": true
   },
   "outputs": [],
   "source": [
    "pname = []\n",
    "\n",
    "def par_coherence(D, F_s=500):\n",
    "    NUM_WORKERS = multiprocessing.cpu_count() - 1\n",
    "    \n",
    "    coherence = np.zeros((D.shape[0], D.shape[0]))\n",
    "    coherence_pars = [(i, j, D) for i in range(D.shape[0]) for j in range(i, D.shape[0])]\n",
    "    \n",
    "    pool = multiprocessing.Pool(processes=NUM_WORKERS)\n",
    "    results = pool.map_async(get_coh, coherence_pars)\n",
    "    coherence_vals = results.get()\n",
    "    \n",
    "    for ((i, j, D), val) in zip(coherence_pars, coherence_vals):\n",
    "        coherence[i, j] = val\n",
    "        coherence[j, i] = val\n",
    "    \n",
    "    return coherence\n",
    "\n",
    "def get_coh(tup):\n",
    "    i, j, D = tup[0], tup[1], tup[2]\n",
    "    return np.mean(signal.coherence(D[i, :], D[j, :], fs=500)[1])"
   ]
  },
  {
   "cell_type": "code",
   "execution_count": 8,
   "metadata": {},
   "outputs": [
    {
     "name": "stderr",
     "output_type": "stream",
     "text": [
      "/home/nitin/anaconda/lib/python2.7/site-packages/scipy/signal/spectral.py:627: RuntimeWarning: invalid value encountered in true_divide\n",
      "  Cxy = np.abs(Pxy)**2 / Pxx / Pyy\n",
      "/home/nitin/anaconda/lib/python2.7/site-packages/scipy/signal/spectral.py:627: RuntimeWarning: invalid value encountered in true_divide\n",
      "  Cxy = np.abs(Pxy)**2 / Pxx / Pyy\n",
      "/home/nitin/anaconda/lib/python2.7/site-packages/scipy/signal/spectral.py:627: RuntimeWarning: invalid value encountered in true_divide\n",
      "  Cxy = np.abs(Pxy)**2 / Pxx / Pyy\n",
      "/home/nitin/anaconda/lib/python2.7/site-packages/scipy/signal/spectral.py:627: RuntimeWarning: invalid value encountered in true_divide\n",
      "  Cxy = np.abs(Pxy)**2 / Pxx / Pyy\n",
      "/home/nitin/anaconda/lib/python2.7/site-packages/scipy/signal/spectral.py:627: RuntimeWarning: invalid value encountered in true_divide\n",
      "  Cxy = np.abs(Pxy)**2 / Pxx / Pyy\n",
      "/home/nitin/anaconda/lib/python2.7/site-packages/scipy/signal/spectral.py:627: RuntimeWarning: invalid value encountered in true_divide\n",
      "  Cxy = np.abs(Pxy)**2 / Pxx / Pyy\n",
      "/home/nitin/anaconda/lib/python2.7/site-packages/scipy/signal/spectral.py:627: RuntimeWarning: invalid value encountered in true_divide\n",
      "  Cxy = np.abs(Pxy)**2 / Pxx / Pyy\n"
     ]
    },
    {
     "name": "stdout",
     "output_type": "stream",
     "text": [
      "78.2269060612\n"
     ]
    }
   ],
   "source": [
    "start_time = time.time()\n",
    "coh = par_coherence(NDARAA075AMK['video1'])\n",
    "end_time = time.time()\n",
    "print end_time - start_time"
   ]
  },
  {
   "cell_type": "code",
   "execution_count": 11,
   "metadata": {
    "collapsed": true
   },
   "outputs": [],
   "source": [
    "coh_no_nan = np.nan_to_num(coh)"
   ]
  },
  {
   "cell_type": "code",
   "execution_count": 12,
   "metadata": {},
   "outputs": [
    {
     "name": "stdout",
     "output_type": "stream",
     "text": [
      "[[ 1.          0.6552614   0.54535574 ...,  0.12402628  0.18929842  0.        ]\n",
      " [ 0.6552614   1.          0.56877714 ...,  0.12442437  0.19056506  0.        ]\n",
      " [ 0.54535574  0.56877714  1.         ...,  0.18289486  0.28784531  0.        ]\n",
      " ..., \n",
      " [ 0.12402628  0.12442437  0.18289486 ...,  1.          0.24360545  0.        ]\n",
      " [ 0.18929842  0.19056506  0.28784531 ...,  0.24360545  1.          0.        ]\n",
      " [ 0.          0.          0.         ...,  0.          0.          0.        ]]\n"
     ]
    }
   ],
   "source": [
    "print coh_no_nan"
   ]
  },
  {
   "cell_type": "code",
   "execution_count": 13,
   "metadata": {},
   "outputs": [
    {
     "data": {
      "image/png": "[encoded data removed]",
      "text/plain": [
       "<matplotlib.figure.Figure at 0x7f1ccf793650>"
      ]
     },
     "metadata": {},
     "output_type": "display_data"
    }
   ],
   "source": [
    "plt.imshow(coh_no_nan)\n",
    "plt.show()"
   ]
  },
  {
   "cell_type": "code",
   "execution_count": 102,
   "metadata": {
    "collapsed": true
   },
   "outputs": [],
   "source": [
    "D = NDARAA075AMK['video1']\n",
    "dat = [(i, j, D) for i in range(D.shape[0]) for j in range(i, D.shape[0])]"
   ]
  },
  {
   "cell_type": "code",
   "execution_count": 103,
   "metadata": {},
   "outputs": [
    {
     "name": "stdout",
     "output_type": "stream",
     "text": [
      "16384\n"
     ]
    }
   ],
   "source": [
    "print dat"
   ]
  },
  {
   "cell_type": "code",
   "execution_count": 26,
   "metadata": {
    "collapsed": true
   },
   "outputs": [],
   "source": [
    "coh_mat, coh_times = orig_coherence(NDARAA075AMK['video1'])"
   ]
  },
  {
   "cell_type": "code",
   "execution_count": 27,
   "metadata": {},
   "outputs": [
    {
     "name": "stdout",
     "output_type": "stream",
     "text": [
      "143.863338709\n"
     ]
    }
   ],
   "source": [
    "print sum(coh_times)"
   ]
  },
  {
   "cell_type": "code",
   "execution_count": 28,
   "metadata": {},
   "outputs": [
    {
     "name": "stdout",
     "output_type": "stream",
     "text": [
      "0.0174253074987\n"
     ]
    }
   ],
   "source": [
    "print np.mean(coh_times)"
   ]
  },
  {
   "cell_type": "code",
   "execution_count": 3,
   "metadata": {
    "collapsed": true
   },
   "outputs": [],
   "source": [
    "import os\n",
    "import time\n",
    "import threading\n",
    "import multiprocessing\n",
    " \n",
    "NUM_WORKERS = 4\n",
    " \n",
    "def only_sleep():\n",
    "    \"\"\" Do nothing, wait for a timer to expire \"\"\"\n",
    "    print \"PID: %s, Process Name: %s, Thread Name: %s\" % (\n",
    "        os.getpid(),\n",
    "        multiprocessing.current_process().name,\n",
    "        threading.current_thread().name)\n",
    "    \n",
    "    time.sleep(1)\n",
    " \n",
    " \n",
    "def crunch_numbers():\n",
    "    \"\"\" Do some computations \"\"\"\n",
    "    print \"PID: %s, Process Name: %s, Thread Name: %s\" % (\n",
    "        os.getpid(),\n",
    "        multiprocessing.current_process().name,\n",
    "        threading.current_thread().name)\n",
    "    \n",
    "    x = 0\n",
    "    while x < 10000000:\n",
    "        x += 1"
   ]
  },
  {
   "cell_type": "code",
   "execution_count": 42,
   "metadata": {},
   "outputs": [
    {
     "name": "stdout",
     "output_type": "stream",
     "text": [
      "PID: 10686, Process Name: MainProcess, Thread Name: MainThread\n",
      "PID: 10686, Process Name: MainProcess, Thread Name: MainThread\n",
      "PID: 10686, Process Name: MainProcess, Thread Name: MainThread\n",
      "PID: 10686, Process Name: MainProcess, Thread Name: MainThread\n",
      "Serial time= 4.00488901138\n",
      "PID: 10686, Process Name: MainProcess, Thread Name: Thread-29 PID: 10686, Process Name: MainProcess, Thread Name: Thread-31PID: 10686, Process Name: MainProcess, Thread Name: Thread-30\n",
      "\n",
      "\n",
      "PID: 10686, Process Name: MainProcess, Thread Name: Thread-32\n",
      "Threads time= 1.00310111046\n",
      "PID: 16070, Process Name: Process-41, Thread Name: MainThread\n",
      "PID: 16073, Process Name: Process-42, Thread Name: MainThread\n",
      "PID: 16074, Process Name: Process-43, Thread Name: MainThread\n",
      "PID: 16077, Process Name: Process-44, Thread Name: MainThread\n",
      "Parallel time= 1.04032897949\n"
     ]
    }
   ],
   "source": [
    "## Run tasks serially\n",
    "start_time = time.time()\n",
    "for _ in range(NUM_WORKERS):\n",
    "    only_sleep()\n",
    "end_time = time.time()\n",
    " \n",
    "print \"Serial time=\", end_time - start_time\n",
    " \n",
    "# Run tasks using threads\n",
    "start_time = time.time()\n",
    "threads = [threading.Thread(target=only_sleep) for _ in range(NUM_WORKERS)]\n",
    "[thread.start() for thread in threads]\n",
    "[thread.join() for thread in threads]\n",
    "end_time = time.time()\n",
    " \n",
    "print \"Threads time=\", end_time - start_time\n",
    " \n",
    "# Run tasks using processes\n",
    "start_time = time.time()\n",
    "processes = [multiprocessing.Process(target=only_sleep) for _ in range(NUM_WORKERS)]\n",
    "[process.start() for process in processes]\n",
    "[process.join() for process in processes]\n",
    "end_time = time.time()\n",
    " \n",
    "print \"Parallel time=\", end_time - start_time"
   ]
  },
  {
   "cell_type": "code",
   "execution_count": 44,
   "metadata": {},
   "outputs": [
    {
     "name": "stdout",
     "output_type": "stream",
     "text": [
      "PID: 16103, Process Name: Process-49, Thread Name: MainThread\n",
      "PID: 16104, Process Name: Process-50, Thread Name: MainThread\n",
      "PID: 16107, Process Name: Process-51, Thread Name: MainThread\n",
      "PID: 16110, Process Name: Process-52, Thread Name: MainThread\n",
      "('Parallel time=', 0.600754976272583)\n"
     ]
    }
   ],
   "source": [
    "start_time = time.time()\n",
    "processes = [multiprocessing.Process(target=crunch_numbers) for _ in range(NUM_WORKERS)]\n",
    "[process.start() for process in processes]\n",
    "[process.join() for process in processes]\n",
    "end_time = time.time()\n",
    " \n",
    "print(\"Parallel time=\", end_time - start_time)"
   ]
  },
  {
   "cell_type": "code",
   "execution_count": 58,
   "metadata": {},
   "outputs": [
    {
     "data": {
      "text/plain": [
       "array([ 0.88099307,  0.88661027,  0.87754989,  0.87293094,  0.88655531,\n",
       "        0.91478252,  0.85699731,  0.83221704,  0.84481382,  0.81531298,\n",
       "        0.7997148 ,  0.79111218,  0.78772378,  0.79416299,  0.8088156 ,\n",
       "        0.80719769,  0.80769145,  0.79982954,  0.77941388,  0.77725345,\n",
       "        0.79187441,  0.79550624,  0.80178249,  0.81308669,  0.82937646,\n",
       "        0.82692564,  0.79759377,  0.81774467,  0.82952273,  0.85848618,\n",
       "        0.9932813 ,  0.99608874,  0.96761286,  0.80781323,  0.80357027,\n",
       "        0.81086195,  0.80086762,  0.79009479,  0.78391838,  0.79108071,\n",
       "        0.77760273,  0.77023882,  0.77409387,  0.766904  ,  0.76217246,\n",
       "        0.7572847 ,  0.72281188,  0.72935492,  0.7623899 ,  0.75574112,\n",
       "        0.72305399,  0.7435919 ,  0.71804816,  0.71595347,  0.7354216 ,\n",
       "        0.73685211,  0.7216894 ,  0.67309755,  0.64615357,  0.65383989,\n",
       "        0.70868784,  0.91222948,  0.89444232,  0.66755593,  0.63657176,\n",
       "        0.62778831,  0.62068254,  0.62638474,  0.60046184,  0.59809244,\n",
       "        0.5876416 ,  0.57256001,  0.56718177,  0.56634951,  0.57656324,\n",
       "        0.59465402,  0.5654164 ,  0.56574583,  0.5615657 ,  0.55708557,\n",
       "        0.55445248,  0.55268121,  0.56205547,  0.58057052,  0.58947682,\n",
       "        0.56500798,  0.5518021 ,  0.56346536,  0.57120878,  0.52478981,\n",
       "        0.5258233 ,  0.55799735,  0.67820293,  0.58590609,  0.55936676,\n",
       "        0.53449333,  0.51635551,  0.52059114,  0.50887144,  0.50135231,\n",
       "        0.53357965,  0.52963012,  0.61845404,  0.5541966 ,  0.47533074,\n",
       "        0.52264321,  0.54155463,  0.51371717,  0.47218955,  0.48219422,\n",
       "        0.48934069,  0.50804847,  0.5253098 ,  0.45567939,  0.44954187,\n",
       "        0.428206  ,  0.44662634,  0.44468227,  0.43487704,  0.37982613,\n",
       "        0.33229607,  0.30719388,  0.72710323,  0.8757838 ,  0.56446719,\n",
       "        0.10098571,  0.04898279,  0.04103664,  0.03804969], dtype=float32)"
      ]
     },
     "execution_count": 58,
     "metadata": {},
     "output_type": "execute_result"
    }
   ],
   "source": [
    "signal.coherence(NDARAA075AMK['video1'][0, :], NDARAA075AMK['video1'][1, :], fs=500)[1]"
   ]
  },
  {
   "cell_type": "code",
   "execution_count": 14,
   "metadata": {},
   "outputs": [
    {
     "ename": "TypeError",
     "evalue": "iglob() got an unexpected keyword argument 'recursive'",
     "output_type": "error",
     "traceback": [
      "\u001b[0;31m---------------------------------------------------------------------------\u001b[0m",
      "\u001b[0;31mTypeError\u001b[0m                                 Traceback (most recent call last)",
      "\u001b[0;32m<ipython-input-14-8b01168c114b>\u001b[0m in \u001b[0;36m<module>\u001b[0;34m()\u001b[0m\n\u001b[1;32m      9\u001b[0m \u001b[0mfilenames\u001b[0m \u001b[0;34m=\u001b[0m \u001b[0;34m[\u001b[0m\u001b[0;34m]\u001b[0m\u001b[0;34m\u001b[0m\u001b[0m\n\u001b[1;32m     10\u001b[0m \u001b[0mdimcolumns\u001b[0m \u001b[0;34m=\u001b[0m \u001b[0;34m[\u001b[0m\u001b[0;34m]\u001b[0m\u001b[0;34m\u001b[0m\u001b[0m\n\u001b[0;32m---> 11\u001b[0;31m \u001b[0;32mfor\u001b[0m \u001b[0mfilename\u001b[0m \u001b[0;32min\u001b[0m \u001b[0mglob\u001b[0m\u001b[0;34m.\u001b[0m\u001b[0miglob\u001b[0m\u001b[0;34m(\u001b[0m\u001b[0mroot\u001b[0m \u001b[0;34m+\u001b[0m \u001b[0;34m\"/**/*.pkl\"\u001b[0m\u001b[0;34m,\u001b[0m \u001b[0mrecursive\u001b[0m\u001b[0;34m=\u001b[0m\u001b[0mTrue\u001b[0m\u001b[0;34m)\u001b[0m\u001b[0;34m:\u001b[0m\u001b[0;34m\u001b[0m\u001b[0m\n\u001b[0m\u001b[1;32m     12\u001b[0m     \u001b[0mfilenames\u001b[0m\u001b[0;34m.\u001b[0m\u001b[0mappend\u001b[0m\u001b[0;34m(\u001b[0m\u001b[0mfilename\u001b[0m\u001b[0;34m)\u001b[0m\u001b[0;34m\u001b[0m\u001b[0m\n\u001b[1;32m     13\u001b[0m     \u001b[0msubjects\u001b[0m\u001b[0;34m.\u001b[0m\u001b[0mappend\u001b[0m\u001b[0;34m(\u001b[0m\u001b[0mre\u001b[0m\u001b[0;34m.\u001b[0m\u001b[0msearch\u001b[0m\u001b[0;34m(\u001b[0m\u001b[0mregex\u001b[0m\u001b[0;34m,\u001b[0m \u001b[0mfilename\u001b[0m\u001b[0;34m)\u001b[0m\u001b[0;34m.\u001b[0m\u001b[0mgroup\u001b[0m\u001b[0;34m(\u001b[0m\u001b[0;34m'subject'\u001b[0m\u001b[0;34m)\u001b[0m\u001b[0;34m)\u001b[0m\u001b[0;34m\u001b[0m\u001b[0m\n",
      "\u001b[0;31mTypeError\u001b[0m: iglob() got an unexpected keyword argument 'recursive'"
     ]
    }
   ],
   "source": [
    "import os, glob, re\n",
    "import pandas as pd\n",
    "BASE = \"../../../data\"\n",
    "DATASET = \"bids\"\n",
    "root = os.path.join(BASE, DATASET)\n",
    "regex = \"^%s/(?P<subject>[a-zA-Z0-9.]*)/(?P=subject)_(?P<task>[a-zA-Z0-9_]*).pkl$\"%(root)\n",
    "subjects = []\n",
    "tasks = []\n",
    "filenames = []\n",
    "dimcolumns = []\n",
    "for filename in glob.iglob(root + \"/**/*.pkl\", recursive=True):\n",
    "    filenames.append(filename)\n",
    "    subjects.append(re.search(regex, filename).group('subject'))\n",
    "    tasks.append(re.search(regex, filename).group('task'))\n",
    "    dimcolumns.append(True)\n",
    "d = {\n",
    "    'resource_path': filenames,\n",
    "    'dim_column': dimcolumns,\n",
    "    'subject': subjects,\n",
    "    'task': tasks,\n",
    "}\n",
    "D = pd.DataFrame(d).iloc[:4]\n",
    "df_path = \"%s/%s_meta.csv\" % (root, DATASET)\n",
    "D.to_csv(df_path)"
   ]
  },
  {
   "cell_type": "code",
   "execution_count": null,
   "metadata": {
    "collapsed": true
   },
   "outputs": [],
   "source": []
  }
 ],
 "metadata": {
  "kernelspec": {
   "display_name": "Python 2",
   "language": "python",
   "name": "python2"
  },
  "language_info": {
   "codemirror_mode": {
    "name": "ipython",
    "version": 2
   },
   "file_extension": ".py",
   "mimetype": "text/x-python",
   "name": "python",
   "nbconvert_exporter": "python",
   "pygments_lexer": "ipython2",
   "version": "2.7.14"
  }
 },
 "nbformat": 4,
 "nbformat_minor": 2
}
