{
 "cells": [
  {
   "cell_type": "markdown",
   "metadata": {},
   "source": [
    "# Description\n",
    "\n",
    "The **statistical power** of a binary hypothesis test is the probability that the test correctly rejects the null hypothesis when the alternative hypothesis is true.\n",
    "\n",
    "$$\\text{power} = Pr\\ [\\text{reject } H_0\\ |\\ H_1 \\text{ is true}]$$\n",
    "\n",
    "### t-tests and t-values\n",
    "\n",
    "t-tests are hypothesis tests that allow you to compare means.\n",
    "\n",
    "$$t = \\frac{\\bar{x} - \\mu_0}{\\sigma / n}$$\n",
    "\n",
    "**Numerator:** Distance between sample mean and null hypothesis\n",
    "**Denominator:** Standard error of mean\n",
    "\n",
    "Given degrees of freedom we can generate an associated t-distribution with which our t-value can give us a probability.\n",
    "\n",
    "The 2 sample test is used to see if the means of 2 independent groups differ. With it you can calculate a range of values likely to include the difference of the population means.\n",
    "\n",
    "- 2 populations must be independent\n",
    "- Works best with less skewed distributions (can work on nonnormal)\n",
    "\n",
    "$$t = \\frac{\\bar{x_1} - \\bar{x_0}}{\\sigma / n}$$\n",
    "\n",
    "In the above equation, $\\sigma$ can either be calculated or assumed to be equal and you can choose 1.\n",
    "\n",
    "[Pretty helpful link](http://blog.minitab.com/blog/adventures-in-statistics-2/understanding-t-tests%3A-1-sample%2C-2-sample%2C-and-paired-t-tests)\n",
    "\n",
    "# Just Look At It"
   ]
  },
  {
   "cell_type": "code",
   "execution_count": 3,
   "metadata": {
    "collapsed": true
   },
   "outputs": [],
   "source": [
    "import numpy as np\n",
    "from scipy.stats import t, ttest_ind\n",
    "import matplotlib.pyplot as plt\n",
    "%matplotlib inline"
   ]
  },
  {
   "cell_type": "code",
   "execution_count": 4,
   "metadata": {
    "collapsed": true
   },
   "outputs": [],
   "source": [
    "def gen_samples(params, dists):\n",
    "    points = list()\n",
    "    for dist in dists:\n",
    "        points.append(_make_dist(params, dist))\n",
    "    return points\n",
    "\n",
    "def _rotate_points(X, theta):\n",
    "    kernel = np.asarray([[np.cos(theta), -np.sin(theta)], [np.sin(theta), np.cos(theta)]])\n",
    "    return np.dot(kernel, X)\n",
    "\n",
    "def _make_dist(p_global, p_local):\n",
    "    N = p_local.get('num_samples', p_global['num_samples'])\n",
    "    if p_local['type'] == 'gaussian':\n",
    "        X = np.random.multivariate_normal(p_local['mean'], p_local['cov'], N).T\n",
    "    if 'transforms' in p_local.keys():\n",
    "        if type(p_local['transforms']) != 'list':\n",
    "            p_local['transforms'] = [p_local['transforms']]\n",
    "        for transform in p_local['transforms']:\n",
    "            if transform == 'rotate':\n",
    "                X = _rotate_points(X, p_local['theta'])\n",
    "    return X"
   ]
  },
  {
   "cell_type": "code",
   "execution_count": 5,
   "metadata": {
    "collapsed": true
   },
   "outputs": [],
   "source": [
    "def make_rotated_gaussians(n, n_rotations):\n",
    "    core_params = {\n",
    "        'num_samples': 5000\n",
    "    }\n",
    "    rotation_set = [\n",
    "        {\n",
    "            'type': 'gaussian',\n",
    "            'mean': [0, 0],\n",
    "            'transforms': 'rotate',\n",
    "            'cov': [[.2, 0], [0, 1]],\n",
    "            'theta': (i * np.pi / n_rotations)\n",
    "        }\n",
    "        for i in range(n_rotations)\n",
    "    ]\n",
    "    return gen_samples(core_params, rotation_set)"
   ]
  },
  {
   "cell_type": "code",
   "execution_count": 6,
   "metadata": {
    "collapsed": true
   },
   "outputs": [],
   "source": [
    "test_data = make_rotated_gaussians(5000, 6)"
   ]
  },
  {
   "cell_type": "code",
   "execution_count": 14,
   "metadata": {},
   "outputs": [
    {
     "name": "stdout",
     "output_type": "stream",
     "text": [
      "2\n"
     ]
    }
   ],
   "source": [
    "print len(test_data[1])"
   ]
  },
  {
   "cell_type": "code",
   "execution_count": 26,
   "metadata": {
    "collapsed": true
   },
   "outputs": [],
   "source": [
    "t_val, p = ttest_ind(test_data[0][0], test_data[1][0], equal_var=False)"
   ]
  },
  {
   "cell_type": "code",
   "execution_count": null,
   "metadata": {
    "collapsed": true
   },
   "outputs": [],
   "source": [
    "t_vals = []"
   ]
  },
  {
   "cell_type": "code",
   "execution_count": 27,
   "metadata": {},
   "outputs": [
    {
     "name": "stdout",
     "output_type": "stream",
     "text": [
      "0.0380928208175 0.96961452996\n"
     ]
    }
   ],
   "source": [
    "print t_val, p"
   ]
  },
  {
   "cell_type": "code",
   "execution_count": 35,
   "metadata": {},
   "outputs": [
    {
     "data": {
      "image/png": "[encoded data removed]",
      "text/plain": [
       "<matplotlib.figure.Figure at 0x7f21b0c28910>"
      ]
     },
     "metadata": {},
     "output_type": "display_data"
    }
   ],
   "source": [
    "df = 3\n",
    "fig, ax = plt.subplots(1, 1)\n",
    "x = np.linspace(t.ppf(0.01, df),\n",
    "t.ppf(0.99, df), 100)\n",
    "ax.plot(t_val, t.pdf(t_val, df), 'bx', label='Dynamic Prediction')\n",
    "ax.plot(x, t.pdf(x, df), 'r-', lw=5, alpha=0.6, label='t pdf')\n",
    "ax.legend(loc='best', frameon=False)\n",
    "plt.show()"
   ]
  },
  {
   "cell_type": "code",
   "execution_count": 33,
   "metadata": {},
   "outputs": [
    {
     "data": {
      "text/plain": [
       "0.3671972934370672"
      ]
     },
     "execution_count": 33,
     "metadata": {},
     "output_type": "execute_result"
    }
   ],
   "source": [
    "t.pdf(t_val, 3)"
   ]
  },
  {
   "cell_type": "code",
   "execution_count": null,
   "metadata": {
    "collapsed": true
   },
   "outputs": [],
   "source": []
  }
 ],
 "metadata": {
  "kernelspec": {
   "display_name": "Python 2",
   "language": "python",
   "name": "python2"
  },
  "language_info": {
   "codemirror_mode": {
    "name": "ipython",
    "version": 2
   },
   "file_extension": ".py",
   "mimetype": "text/x-python",
   "name": "python",
   "nbconvert_exporter": "python",
   "pygments_lexer": "ipython2",
   "version": "2.7.14"
  }
 },
 "nbformat": 4,
 "nbformat_minor": 2
}
