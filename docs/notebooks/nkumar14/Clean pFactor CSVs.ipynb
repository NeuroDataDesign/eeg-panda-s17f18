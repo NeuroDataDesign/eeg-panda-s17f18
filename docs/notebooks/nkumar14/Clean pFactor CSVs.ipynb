{
 "cells": [
  {
   "cell_type": "code",
   "execution_count": 1,
   "metadata": {},
   "outputs": [],
   "source": [
    "import os\n",
    "import pandas as pd"
   ]
  },
  {
   "cell_type": "code",
   "execution_count": 2,
   "metadata": {},
   "outputs": [],
   "source": [
    "untransformed = pd.read_csv('../../../data/pfactor_combined_3.csv', dtype='unicode')\n",
    "transformed = untransformed[['Patient', 'cbcl_dist', 'cbcl_fear', 'cbcl_ext', 'cbcl_p',\n",
    "                             'wisc_vc', 'wisc_vs', 'wisc_fr', 'wisc_wm', \n",
    "                             'wisc_ps', \n",
    "                             'wisc_g',\n",
    "                             'wisc_vc.1', 'wisc_vs.1', 'wisc_fr.1', 'wisc_wm.1', 'wisc_ps.1', 'wisc_g.1']]"
   ]
  },
  {
   "cell_type": "code",
   "execution_count": 3,
   "metadata": {},
   "outputs": [],
   "source": [
    "def clean(x):\n",
    "    if x is None:\n",
    "        return x\n",
    "    return x.split(',')[0]"
   ]
  },
  {
   "cell_type": "code",
   "execution_count": 4,
   "metadata": {},
   "outputs": [
    {
     "name": "stderr",
     "output_type": "stream",
     "text": [
      "/usr/local/lib/python3.5/dist-packages/ipykernel_launcher.py:1: SettingWithCopyWarning: \n",
      "A value is trying to be set on a copy of a slice from a DataFrame.\n",
      "Try using .loc[row_indexer,col_indexer] = value instead\n",
      "\n",
      "See the caveats in the documentation: http://pandas.pydata.org/pandas-docs/stable/indexing.html#indexing-view-versus-copy\n",
      "  \"\"\"Entry point for launching an IPython kernel.\n"
     ]
    }
   ],
   "source": [
    "transformed['Patient'] = transformed['Patient'].apply(clean)"
   ]
  },
  {
   "cell_type": "code",
   "execution_count": 5,
   "metadata": {},
   "outputs": [],
   "source": [
    "transformed.to_csv('../../../data/pfactor_combined_clean.csv', index=False)"
   ]
  },
  {
   "cell_type": "code",
   "execution_count": 7,
   "metadata": {},
   "outputs": [],
   "source": [
    "cbcl = ['Patient', 'cbcl_dist', 'cbcl_fear', 'cbcl_ext', 'cbcl_p']\n",
    "wisc = ['Patient', 'wisc_vc', 'wisc_vs', 'wisc_fr', 'wisc_wm', 'wisc_ps', 'wisc_g']\n",
    "wisc_1 = ['Patient', 'wisc_vc.1', 'wisc_vs.1', 'wisc_fr.1', 'wisc_wm.1', 'wisc_ps.1', 'wisc_g.1']"
   ]
  },
  {
   "cell_type": "code",
   "execution_count": 8,
   "metadata": {},
   "outputs": [],
   "source": [
    "cbcl_dat = transformed[cbcl]\n",
    "wisc_dat = transformed[wisc]\n",
    "wisc_1_dat = transformed[wisc_1]"
   ]
  },
  {
   "cell_type": "code",
   "execution_count": 9,
   "metadata": {},
   "outputs": [],
   "source": [
    "cbcl_dat.to_csv('../../../data/cbcl_clean.csv', index=False)\n",
    "wisc_dat.to_csv('../../../data/wisc_clean.csv', index=False)\n",
    "wisc_1_dat.to_csv('../../../data/wisc_1_clean.csv', index=False)"
   ]
  },
  {
   "cell_type": "code",
   "execution_count": null,
   "metadata": {},
   "outputs": [],
   "source": []
  }
 ],
 "metadata": {
  "kernelspec": {
   "display_name": "Python 3",
   "language": "python",
   "name": "python3"
  },
  "language_info": {
   "codemirror_mode": {
    "name": "ipython",
    "version": 3
   },
   "file_extension": ".py",
   "mimetype": "text/x-python",
   "name": "python",
   "nbconvert_exporter": "python",
   "pygments_lexer": "ipython3",
   "version": "3.5.2"
  }
 },
 "nbformat": 4,
 "nbformat_minor": 2
}
