{
 "cells": [
  {
   "cell_type": "code",
   "execution_count": 17,
   "metadata": {},
   "outputs": [],
   "source": [
    "import os, sys"
   ]
  },
  {
   "cell_type": "code",
   "execution_count": 18,
   "metadata": {},
   "outputs": [],
   "source": [
    "DATASET = '../../../data/gr_real_pre_bids'\n",
    "OUT = '../../../data/gr_real_bids'"
   ]
  },
  {
   "cell_type": "code",
   "execution_count": 19,
   "metadata": {},
   "outputs": [],
   "source": [
    "tasks = [di for di in os.listdir(DATASET)]\n",
    "subs = dict()"
   ]
  },
  {
   "cell_type": "code",
   "execution_count": 20,
   "metadata": {},
   "outputs": [
    {
     "ename": "NotADirectoryError",
     "evalue": "[Errno 20] Not a directory: '../../../data/gr_real_pre_bids/sub-NDARAJ366ZFA_task-rest_bold_desikan_res-2x2x2_measure-correlation.edgelist'",
     "output_type": "error",
     "traceback": [
      "\u001b[0;31m---------------------------------------------------------------------------\u001b[0m",
      "\u001b[0;31mNotADirectoryError\u001b[0m                        Traceback (most recent call last)",
      "\u001b[0;32m<ipython-input-20-53799b81af81>\u001b[0m in \u001b[0;36m<module>\u001b[0;34m()\u001b[0m\n\u001b[1;32m      1\u001b[0m \u001b[0;31m## This is for real NDMG output format\u001b[0m\u001b[0;34m\u001b[0m\u001b[0;34m\u001b[0m\u001b[0m\n\u001b[1;32m      2\u001b[0m \u001b[0;32mfor\u001b[0m \u001b[0mt\u001b[0m \u001b[0;32min\u001b[0m \u001b[0mtasks\u001b[0m\u001b[0;34m:\u001b[0m\u001b[0;34m\u001b[0m\u001b[0m\n\u001b[0;32m----> 3\u001b[0;31m     \u001b[0;32mfor\u001b[0m \u001b[0mf\u001b[0m \u001b[0;32min\u001b[0m \u001b[0mos\u001b[0m\u001b[0;34m.\u001b[0m\u001b[0mlistdir\u001b[0m\u001b[0;34m(\u001b[0m\u001b[0mos\u001b[0m\u001b[0;34m.\u001b[0m\u001b[0mpath\u001b[0m\u001b[0;34m.\u001b[0m\u001b[0mjoin\u001b[0m\u001b[0;34m(\u001b[0m\u001b[0mDATASET\u001b[0m\u001b[0;34m,\u001b[0m \u001b[0mt\u001b[0m\u001b[0;34m)\u001b[0m\u001b[0;34m)\u001b[0m\u001b[0;34m:\u001b[0m\u001b[0;34m\u001b[0m\u001b[0m\n\u001b[0m\u001b[1;32m      4\u001b[0m         \u001b[0;32mif\u001b[0m \u001b[0mf\u001b[0m\u001b[0;34m.\u001b[0m\u001b[0msplit\u001b[0m\u001b[0;34m(\u001b[0m\u001b[0;34m'_'\u001b[0m\u001b[0;34m)\u001b[0m\u001b[0;34m[\u001b[0m\u001b[0;36m0\u001b[0m\u001b[0;34m]\u001b[0m \u001b[0;32mnot\u001b[0m \u001b[0;32min\u001b[0m \u001b[0msubs\u001b[0m\u001b[0;34m:\u001b[0m\u001b[0;34m\u001b[0m\u001b[0m\n\u001b[1;32m      5\u001b[0m             \u001b[0msubs\u001b[0m\u001b[0;34m[\u001b[0m\u001b[0mf\u001b[0m\u001b[0;34m.\u001b[0m\u001b[0msplit\u001b[0m\u001b[0;34m(\u001b[0m\u001b[0;34m'_'\u001b[0m\u001b[0;34m)\u001b[0m\u001b[0;34m[\u001b[0m\u001b[0;36m0\u001b[0m\u001b[0;34m]\u001b[0m\u001b[0;34m]\u001b[0m \u001b[0;34m=\u001b[0m \u001b[0;34m[\u001b[0m\u001b[0;34m]\u001b[0m\u001b[0;34m\u001b[0m\u001b[0m\n",
      "\u001b[0;31mNotADirectoryError\u001b[0m: [Errno 20] Not a directory: '../../../data/gr_real_pre_bids/sub-NDARAJ366ZFA_task-rest_bold_desikan_res-2x2x2_measure-correlation.edgelist'"
     ]
    }
   ],
   "source": [
    "## This is for real NDMG output format\n",
    "for t in tasks:\n",
    "    for f in os.listdir(os.path.join(DATASET, t)):\n",
    "        if f.split('_')[0] not in subs:\n",
    "            subs[f.split('_')[0]] = []\n",
    "        subs[f.split('_')[0]].append(os.path.join(DATASET, t, f))"
   ]
  },
  {
   "cell_type": "code",
   "execution_count": 21,
   "metadata": {},
   "outputs": [],
   "source": [
    "## This is for the preformatted Vidur sent\n",
    "for t in tasks:\n",
    "#     f = os.path.join(DATASET, t)\n",
    "    if t.split('_')[0] not in subs:\n",
    "        subs[t.split('_')[0]] = []\n",
    "    subs[t.split('_')[0]].append(os.path.join(DATASET, t))"
   ]
  },
  {
   "cell_type": "code",
   "execution_count": 22,
   "metadata": {},
   "outputs": [
    {
     "name": "stdout",
     "output_type": "stream",
     "text": [
      "{'sub-NDAREM018TJQ': ['../../../data/gr_real_pre_bids/sub-NDAREM018TJQ_task-rest_bold_desikan_res-2x2x2_measure-correlation.edgelist'], 'sub-NDARAA536PTU': ['../../../data/gr_real_pre_bids/sub-NDARAA536PTU_task-rest_bold_desikan_res-2x2x2_measure-correlation.edgelist'], 'sub-NDARAJ366ZFA': ['../../../data/gr_real_pre_bids/sub-NDARAJ366ZFA_task-rest_bold_desikan_res-2x2x2_measure-correlation.edgelist'], '.DS': ['../../../data/gr_real_pre_bids/.DS_Store'], 'sub-NDARAV945MCQ': ['../../../data/gr_real_pre_bids/sub-NDARAV945MCQ_task-rest_bold_desikan_res-2x2x2_measure-correlation.edgelist'], 'sub-NDARAR025WX4': ['../../../data/gr_real_pre_bids/sub-NDARAR025WX4_task-rest_bold_desikan_res-2x2x2_measure-correlation.edgelist'], '.Rhistory': ['../../../data/gr_real_pre_bids/.Rhistory'], 'sub-NDARHP176DPE': ['../../../data/gr_real_pre_bids/sub-NDARHP176DPE_task-rest_bold_desikan_res-2x2x2_measure-correlation.edgelist'], 'sub-NDARAT299YRR': ['../../../data/gr_real_pre_bids/sub-NDARAT299YRR_task-rest_bold_desikan_res-2x2x2_measure-correlation.edgelist'], '.RData': ['../../../data/gr_real_pre_bids/.RData'], 'sub-NDAREL063PMX': ['../../../data/gr_real_pre_bids/sub-NDAREL063PMX_task-rest_bold_desikan_res-2x2x2_measure-correlation.edgelist']}\n"
     ]
    }
   ],
   "source": [
    "print(subs)"
   ]
  },
  {
   "cell_type": "code",
   "execution_count": 23,
   "metadata": {},
   "outputs": [],
   "source": [
    "from shutil import copy, copyfile"
   ]
  },
  {
   "cell_type": "code",
   "execution_count": 24,
   "metadata": {},
   "outputs": [],
   "source": [
    "for sub in subs:\n",
    "    directory = os.path.join(OUT, sub)\n",
    "    if not os.path.exists(directory):\n",
    "        os.makedirs(directory)\n",
    "    directory = os.path.join(OUT, sub, 'func')\n",
    "    if not os.path.exists(directory):\n",
    "        os.makedirs(directory)\n",
    "    copy(subs[sub][0], directory)"
   ]
  },
  {
   "cell_type": "code",
   "execution_count": null,
   "metadata": {},
   "outputs": [],
   "source": []
  }
 ],
 "metadata": {
  "kernelspec": {
   "display_name": "Python 3",
   "language": "python",
   "name": "python3"
  },
  "language_info": {
   "codemirror_mode": {
    "name": "ipython",
    "version": 3
   },
   "file_extension": ".py",
   "mimetype": "text/x-python",
   "name": "python",
   "nbconvert_exporter": "python",
   "pygments_lexer": "ipython3",
   "version": "3.5.2"
  }
 },
 "nbformat": 4,
 "nbformat_minor": 2
}
