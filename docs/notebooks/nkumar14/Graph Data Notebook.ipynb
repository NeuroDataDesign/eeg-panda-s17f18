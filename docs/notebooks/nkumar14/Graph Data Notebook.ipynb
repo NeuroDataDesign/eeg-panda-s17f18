{
 "cells": [
  {
   "cell_type": "code",
   "execution_count": 1,
   "metadata": {},
   "outputs": [],
   "source": [
    "%load_ext autoreload\n",
    "%autoreload 2"
   ]
  },
  {
   "cell_type": "code",
   "execution_count": 2,
   "metadata": {},
   "outputs": [
    {
     "data": {
      "text/html": [
       "<script>requirejs.config({paths: { 'plotly': ['https://cdn.plot.ly/plotly-latest.min']},});if(!window.Plotly) {{require(['plotly'],function(plotly) {window.Plotly=plotly;});}}</script>"
      ],
      "text/vnd.plotly.v1+html": [
       "<script>requirejs.config({paths: { 'plotly': ['https://cdn.plot.ly/plotly-latest.min']},});if(!window.Plotly) {{require(['plotly'],function(plotly) {window.Plotly=plotly;});}}</script>"
      ]
     },
     "metadata": {},
     "output_type": "display_data"
    }
   ],
   "source": [
    "from plotly.offline import init_notebook_mode, plot\n",
    "init_notebook_mode(connected=True)"
   ]
  },
  {
   "cell_type": "code",
   "execution_count": 3,
   "metadata": {},
   "outputs": [],
   "source": [
    "import networkx as nx\n",
    "import pickle as pkl"
   ]
  },
  {
   "cell_type": "code",
   "execution_count": 19,
   "metadata": {},
   "outputs": [],
   "source": [
    "import os, sys\n",
    "sys.path.append('../../..')\n",
    "import lemur.datasets as lds\n",
    "import lemur.metrics as lms\n",
    "import lemur.plotters as lpl\n",
    "import lemur.embedders as leb\n",
    "import lemur.clustering as lcl"
   ]
  },
  {
   "cell_type": "code",
   "execution_count": 5,
   "metadata": {},
   "outputs": [
    {
     "name": "stdout",
     "output_type": "stream",
     "text": [
      "../../../data/gr_real_bids\n",
      "['sub-NDAREM018TJQ', 'sub-NDARHP176DPE', 'sub-NDARAT299YRR', 'sub-NDARAA536PTU', 'sub-NDARAV945MCQ', 'sub-NDAREL063PMX', 'sub-NDARAJ366ZFA', 'sub-NDARAR025WX4']\n",
      "['func']\n",
      "['sub-NDAREM018TJQ_task-rest_bold_desikan_res-2x2x2_measure-correlation.edgelist']\n",
      "['func']\n",
      "['sub-NDARHP176DPE_task-rest_bold_desikan_res-2x2x2_measure-correlation.edgelist']\n",
      "['func']\n",
      "['sub-NDARAT299YRR_task-rest_bold_desikan_res-2x2x2_measure-correlation.edgelist']\n",
      "['func']\n",
      "['sub-NDARAA536PTU_task-rest_bold_desikan_res-2x2x2_measure-correlation.edgelist']\n",
      "['func']\n",
      "['sub-NDARAV945MCQ_task-rest_bold_desikan_res-2x2x2_measure-correlation.edgelist']\n",
      "['func']\n",
      "['sub-NDAREL063PMX_task-rest_bold_desikan_res-2x2x2_measure-correlation.edgelist']\n",
      "['func']\n",
      "['sub-NDARAJ366ZFA_task-rest_bold_DS00583_res-2x2x2_measure-correlation.gpickle', 'sub-NDARAJ366ZFA_task-rest_bold_desikan_res-2x2x2_measure-correlation.edgelist', 'sub-NDARAJ366ZFA_task-rest_bold_DS00071_res-2x2x2_measure-correlation.gpickle', 'sub-NDARAJ366ZFA_task-rest_bold_DK_res-2x2x2_measure-correlation.gpickle', 'sub-NDARAJ366ZFA_task-rest_bold_DS00096_res-2x2x2_measure-correlation.gpickle', 'sub-NDARAJ366ZFA_task-rest_bold_DS00140_res-2x2x2_measure-correlation.gpickle', 'sub-NDARAJ366ZFA_task-rest_bold_desikan_res-2x2x2_measure-correlation.gpickle', 'sub-NDARAJ366ZFA_task-rest_bold_CPAC200_res-2x2x2_measure-correlation.gpickle', 'sub-NDARAJ366ZFA_task-rest_bold_JHU_res-2x2x2_measure-correlation.gpickle', 'sub-NDARAJ366ZFA_task-rest_bold_DS00833_res-2x2x2_measure-correlation.gpickle']\n",
      "['func']\n",
      "['sub-NDARAR025WX4_task-rest_bold_desikan_res-2x2x2_measure-correlation.edgelist']\n",
      "{'sub-NDAREL063PMX': {'func': {'task-restbolddesikanres-2x2x2measure-correlation': 'sub-NDAREL063PMX_task-rest_bold_desikan_res-2x2x2_measure-correlation.edgelist'}}, 'sub-NDARAV945MCQ': {'func': {'task-restbolddesikanres-2x2x2measure-correlation': 'sub-NDARAV945MCQ_task-rest_bold_desikan_res-2x2x2_measure-correlation.edgelist'}}, 'sub-NDARAJ366ZFA': {'func': {'task-restboldDS00833res-2x2x2measure-correlation': 'sub-NDARAJ366ZFA_task-rest_bold_DS00833_res-2x2x2_measure-correlation.gpickle', 'task-restboldJHUres-2x2x2measure-correlation': 'sub-NDARAJ366ZFA_task-rest_bold_JHU_res-2x2x2_measure-correlation.gpickle', 'task-restboldDS00140res-2x2x2measure-correlation': 'sub-NDARAJ366ZFA_task-rest_bold_DS00140_res-2x2x2_measure-correlation.gpickle', 'task-restbolddesikanres-2x2x2measure-correlation': 'sub-NDARAJ366ZFA_task-rest_bold_desikan_res-2x2x2_measure-correlation.gpickle', 'task-restboldDKres-2x2x2measure-correlation': 'sub-NDARAJ366ZFA_task-rest_bold_DK_res-2x2x2_measure-correlation.gpickle', 'task-restboldDS00583res-2x2x2measure-correlation': 'sub-NDARAJ366ZFA_task-rest_bold_DS00583_res-2x2x2_measure-correlation.gpickle', 'task-restboldDS00071res-2x2x2measure-correlation': 'sub-NDARAJ366ZFA_task-rest_bold_DS00071_res-2x2x2_measure-correlation.gpickle', 'task-restboldDS00096res-2x2x2measure-correlation': 'sub-NDARAJ366ZFA_task-rest_bold_DS00096_res-2x2x2_measure-correlation.gpickle', 'task-restboldCPAC200res-2x2x2measure-correlation': 'sub-NDARAJ366ZFA_task-rest_bold_CPAC200_res-2x2x2_measure-correlation.gpickle'}}, 'sub-NDARAR025WX4': {'func': {'task-restbolddesikanres-2x2x2measure-correlation': 'sub-NDARAR025WX4_task-rest_bold_desikan_res-2x2x2_measure-correlation.edgelist'}}, 'sub-NDARHP176DPE': {'func': {'task-restbolddesikanres-2x2x2measure-correlation': 'sub-NDARHP176DPE_task-rest_bold_desikan_res-2x2x2_measure-correlation.edgelist'}}, 'sub-NDARAT299YRR': {'func': {'task-restbolddesikanres-2x2x2measure-correlation': 'sub-NDARAT299YRR_task-rest_bold_desikan_res-2x2x2_measure-correlation.edgelist'}}, 'sub-NDARAA536PTU': {'func': {'task-restbolddesikanres-2x2x2measure-correlation': 'sub-NDARAA536PTU_task-rest_bold_desikan_res-2x2x2_measure-correlation.edgelist'}}, 'sub-NDAREM018TJQ': {'func': {'task-restbolddesikanres-2x2x2measure-correlation': 'sub-NDAREM018TJQ_task-rest_bold_desikan_res-2x2x2_measure-correlation.edgelist'}}}\n"
     ]
    }
   ],
   "source": [
    "bp = lds.BIDSParser('../../../data/gr_real_bids')"
   ]
  },
  {
   "cell_type": "code",
   "execution_count": 6,
   "metadata": {},
   "outputs": [],
   "source": [
    "dataset_descriptor = bp.getModalityFrame('func', '.edgelist').iloc[:6]"
   ]
  },
  {
   "cell_type": "code",
   "execution_count": 7,
   "metadata": {},
   "outputs": [
    {
     "name": "stdout",
     "output_type": "stream",
     "text": [
      "../../../data/gr_real_bids/sub-NDAREL063PMX/func/sub-NDAREL063PMX_task-rest_bold_desikan_res-2x2x2_measure-correlation.edgelist\n"
     ]
    }
   ],
   "source": [
    "print(dataset_descriptor.iloc[0]['resource_path'])"
   ]
  },
  {
   "cell_type": "code",
   "execution_count": 8,
   "metadata": {},
   "outputs": [],
   "source": [
    "gds = lds.GraphDataSet(dataset_descriptor)\n",
    "DM = lds.DistanceMatrix(gds, lms.FroCorr)"
   ]
  },
  {
   "cell_type": "code",
   "execution_count": 9,
   "metadata": {},
   "outputs": [
    {
     "name": "stdout",
     "output_type": "stream",
     "text": [
      "                                                            0          1  \\\n",
      "index                                                                      \n",
      "sub-NDAREL063PMX-task-restbolddesikanres-2x2x2m...   0.000000  21.943470   \n",
      "sub-NDARAV945MCQ-task-restbolddesikanres-2x2x2m...  21.943470   0.000000   \n",
      "sub-NDARAR025WX4-task-restbolddesikanres-2x2x2m...  22.131288  25.563333   \n",
      "sub-NDARHP176DPE-task-restbolddesikanres-2x2x2m...  33.037611  29.570701   \n",
      "sub-NDARAT299YRR-task-restbolddesikanres-2x2x2m...  26.521697  29.082418   \n",
      "sub-NDARAA536PTU-task-restbolddesikanres-2x2x2m...  19.600927  23.401066   \n",
      "\n",
      "                                                            2          3  \\\n",
      "index                                                                      \n",
      "sub-NDAREL063PMX-task-restbolddesikanres-2x2x2m...  22.131288  33.037611   \n",
      "sub-NDARAV945MCQ-task-restbolddesikanres-2x2x2m...  25.563333  29.570701   \n",
      "sub-NDARAR025WX4-task-restbolddesikanres-2x2x2m...   0.000000  35.346358   \n",
      "sub-NDARHP176DPE-task-restbolddesikanres-2x2x2m...  35.346358   0.000000   \n",
      "sub-NDARAT299YRR-task-restbolddesikanres-2x2x2m...  29.046495  40.858387   \n",
      "sub-NDARAA536PTU-task-restbolddesikanres-2x2x2m...  21.331442  36.987637   \n",
      "\n",
      "                                                            4          5  \n",
      "index                                                                     \n",
      "sub-NDAREL063PMX-task-restbolddesikanres-2x2x2m...  26.521697  19.600927  \n",
      "sub-NDARAV945MCQ-task-restbolddesikanres-2x2x2m...  29.082418  23.401066  \n",
      "sub-NDARAR025WX4-task-restbolddesikanres-2x2x2m...  29.046495  21.331442  \n",
      "sub-NDARHP176DPE-task-restbolddesikanres-2x2x2m...  40.858387  36.987637  \n",
      "sub-NDARAT299YRR-task-restbolddesikanres-2x2x2m...   0.000000  26.539168  \n",
      "sub-NDARAA536PTU-task-restbolddesikanres-2x2x2m...  26.539168   0.000000  \n"
     ]
    }
   ],
   "source": [
    "print(DM.D)"
   ]
  },
  {
   "cell_type": "code",
   "execution_count": 10,
   "metadata": {},
   "outputs": [
    {
     "data": {
      "application/vnd.plotly.v1+json": {
       "data": [
        {
         "type": "heatmap",
         "z": [
          [
           0,
           21.943469893073345,
           22.13128821881692,
           33.037610652439554,
           26.52169662213621,
           19.60092739359757
          ],
          [
           21.943469893073345,
           0,
           25.563333217724796,
           29.570700549689096,
           29.082418464954745,
           23.401066252018992
          ],
          [
           22.13128821881692,
           25.563333217724796,
           0,
           35.346358421875564,
           29.046494997230276,
           21.331441938751652
          ],
          [
           33.037610652439554,
           29.570700549689096,
           35.346358421875564,
           0,
           40.85838676980728,
           36.98763746164757
          ],
          [
           26.52169662213621,
           29.082418464954745,
           29.046494997230276,
           40.85838676980728,
           0,
           26.53916826829232
          ],
          [
           19.60092739359757,
           23.401066252018992,
           21.331441938751652,
           36.98763746164757,
           26.53916826829232,
           0
          ]
         ]
        }
       ],
       "layout": {
        "title": "fmri Heatmap",
        "xaxis": {
         "showticklabels": false,
         "ticktext": [
          "sub-NDAREL063PMX-task-restbolddesikanres-2x2x2measure-correlation",
          "sub-NDARAV945MCQ-task-restbolddesikanres-2x2x2measure-correlation",
          "sub-NDARAR025WX4-task-restbolddesikanres-2x2x2measure-correlation",
          "sub-NDARHP176DPE-task-restbolddesikanres-2x2x2measure-correlation",
          "sub-NDARAT299YRR-task-restbolddesikanres-2x2x2measure-correlation",
          "sub-NDARAA536PTU-task-restbolddesikanres-2x2x2measure-correlation"
         ],
         "tickvals": [
          0,
          1,
          2,
          3,
          4,
          5
         ],
         "title": "observaions"
        },
        "yaxis": {
         "showticklabels": false,
         "ticktext": [
          0,
          1,
          2,
          3,
          4,
          5
         ],
         "tickvals": [
          0,
          1,
          2,
          3,
          4,
          5
         ],
         "title": "dimensions"
        }
       }
      },
      "text/html": [
       "<div id=\"b7dd9a09-328e-4c3e-a120-748150507691\" style=\"height: 525px; width: 100%;\" class=\"plotly-graph-div\"></div><script type=\"text/javascript\">require([\"plotly\"], function(Plotly) { window.PLOTLYENV=window.PLOTLYENV || {};window.PLOTLYENV.BASE_URL=\"https://plot.ly\";Plotly.newPlot(\"b7dd9a09-328e-4c3e-a120-748150507691\", [{\"z\": [[0.0, 21.943469893073345, 22.13128821881692, 33.037610652439554, 26.52169662213621, 19.60092739359757], [21.943469893073345, 0.0, 25.563333217724796, 29.570700549689096, 29.082418464954745, 23.401066252018992], [22.13128821881692, 25.563333217724796, 0.0, 35.346358421875564, 29.046494997230276, 21.331441938751652], [33.037610652439554, 29.570700549689096, 35.346358421875564, 0.0, 40.85838676980728, 36.98763746164757], [26.52169662213621, 29.082418464954745, 29.046494997230276, 40.85838676980728, 0.0, 26.53916826829232], [19.60092739359757, 23.401066252018992, 21.331441938751652, 36.98763746164757, 26.53916826829232, 0.0]], \"type\": \"heatmap\"}], {\"title\": \"fmri Heatmap\", \"xaxis\": {\"tickvals\": [0, 1, 2, 3, 4, 5], \"ticktext\": [\"sub-NDAREL063PMX-task-restbolddesikanres-2x2x2measure-correlation\", \"sub-NDARAV945MCQ-task-restbolddesikanres-2x2x2measure-correlation\", \"sub-NDARAR025WX4-task-restbolddesikanres-2x2x2measure-correlation\", \"sub-NDARHP176DPE-task-restbolddesikanres-2x2x2measure-correlation\", \"sub-NDARAT299YRR-task-restbolddesikanres-2x2x2measure-correlation\", \"sub-NDARAA536PTU-task-restbolddesikanres-2x2x2measure-correlation\"], \"showticklabels\": false, \"title\": \"observaions\"}, \"yaxis\": {\"tickvals\": [0, 1, 2, 3, 4, 5], \"ticktext\": [0, 1, 2, 3, 4, 5], \"showticklabels\": false, \"title\": \"dimensions\"}}, {\"showLink\": true, \"linkText\": \"Export to plot.ly\"})});</script>"
      ],
      "text/vnd.plotly.v1+html": [
       "<div id=\"b7dd9a09-328e-4c3e-a120-748150507691\" style=\"height: 525px; width: 100%;\" class=\"plotly-graph-div\"></div><script type=\"text/javascript\">require([\"plotly\"], function(Plotly) { window.PLOTLYENV=window.PLOTLYENV || {};window.PLOTLYENV.BASE_URL=\"https://plot.ly\";Plotly.newPlot(\"b7dd9a09-328e-4c3e-a120-748150507691\", [{\"z\": [[0.0, 21.943469893073345, 22.13128821881692, 33.037610652439554, 26.52169662213621, 19.60092739359757], [21.943469893073345, 0.0, 25.563333217724796, 29.570700549689096, 29.082418464954745, 23.401066252018992], [22.13128821881692, 25.563333217724796, 0.0, 35.346358421875564, 29.046494997230276, 21.331441938751652], [33.037610652439554, 29.570700549689096, 35.346358421875564, 0.0, 40.85838676980728, 36.98763746164757], [26.52169662213621, 29.082418464954745, 29.046494997230276, 40.85838676980728, 0.0, 26.53916826829232], [19.60092739359757, 23.401066252018992, 21.331441938751652, 36.98763746164757, 26.53916826829232, 0.0]], \"type\": \"heatmap\"}], {\"title\": \"fmri Heatmap\", \"xaxis\": {\"tickvals\": [0, 1, 2, 3, 4, 5], \"ticktext\": [\"sub-NDAREL063PMX-task-restbolddesikanres-2x2x2measure-correlation\", \"sub-NDARAV945MCQ-task-restbolddesikanres-2x2x2measure-correlation\", \"sub-NDARAR025WX4-task-restbolddesikanres-2x2x2measure-correlation\", \"sub-NDARHP176DPE-task-restbolddesikanres-2x2x2measure-correlation\", \"sub-NDARAT299YRR-task-restbolddesikanres-2x2x2measure-correlation\", \"sub-NDARAA536PTU-task-restbolddesikanres-2x2x2measure-correlation\"], \"showticklabels\": false, \"title\": \"observaions\"}, \"yaxis\": {\"tickvals\": [0, 1, 2, 3, 4, 5], \"ticktext\": [0, 1, 2, 3, 4, 5], \"showticklabels\": false, \"title\": \"dimensions\"}}, {\"showLink\": true, \"linkText\": \"Export to plot.ly\"})});</script>"
      ]
     },
     "metadata": {},
     "output_type": "display_data"
    }
   ],
   "source": [
    "lpl.Heatmap(DM).plot()"
   ]
  },
  {
   "cell_type": "code",
   "execution_count": 11,
   "metadata": {},
   "outputs": [
    {
     "data": {
      "application/vnd.plotly.v1+json": {
       "data": [
        {
         "name": "means",
         "type": "scatter",
         "x": [
          0,
          1,
          2,
          3,
          4,
          5
         ],
         "y": [
          20.539165463343934,
          21.59349806291016,
          22.236486132399865,
          29.300115642576515,
          25.341360853736806,
          21.31004021905135
         ]
        },
        {
         "name": "medians",
         "type": "scatter",
         "x": [
          0,
          1,
          2,
          3,
          4,
          5
         ],
         "y": [
          22.03737905594513,
          24.482199734871894,
          23.847310718270858,
          34.19198453715756,
          27.7928316327613,
          22.366254095385322
         ]
        }
       ],
       "layout": {
        "title": "fmri Embedding Location Lines",
        "xaxis": {
         "showticklabels": false,
         "title": "Dimensions"
        },
        "yaxis": {
         "title": "Mean or Median Value"
        }
       }
      },
      "text/html": [
       "<div id=\"fcb9c00d-7804-4f9a-98f6-3aaceb966c5e\" style=\"height: 525px; width: 100%;\" class=\"plotly-graph-div\"></div><script type=\"text/javascript\">require([\"plotly\"], function(Plotly) { window.PLOTLYENV=window.PLOTLYENV || {};window.PLOTLYENV.BASE_URL=\"https://plot.ly\";Plotly.newPlot(\"fcb9c00d-7804-4f9a-98f6-3aaceb966c5e\", [{\"x\": [0, 1, 2, 3, 4, 5], \"name\": \"means\", \"y\": [20.539165463343934, 21.59349806291016, 22.236486132399865, 29.300115642576515, 25.341360853736806, 21.31004021905135], \"type\": \"scatter\"}, {\"x\": [0, 1, 2, 3, 4, 5], \"name\": \"medians\", \"y\": [22.03737905594513, 24.482199734871894, 23.847310718270858, 34.19198453715756, 27.7928316327613, 22.366254095385322], \"type\": \"scatter\"}], {\"title\": \"fmri Embedding Location Lines\", \"xaxis\": {\"title\": \"Dimensions\", \"showticklabels\": false}, \"yaxis\": {\"title\": \"Mean or Median Value\"}}, {\"showLink\": true, \"linkText\": \"Export to plot.ly\"})});</script>"
      ],
      "text/vnd.plotly.v1+html": [
       "<div id=\"fcb9c00d-7804-4f9a-98f6-3aaceb966c5e\" style=\"height: 525px; width: 100%;\" class=\"plotly-graph-div\"></div><script type=\"text/javascript\">require([\"plotly\"], function(Plotly) { window.PLOTLYENV=window.PLOTLYENV || {};window.PLOTLYENV.BASE_URL=\"https://plot.ly\";Plotly.newPlot(\"fcb9c00d-7804-4f9a-98f6-3aaceb966c5e\", [{\"x\": [0, 1, 2, 3, 4, 5], \"name\": \"means\", \"y\": [20.539165463343934, 21.59349806291016, 22.236486132399865, 29.300115642576515, 25.341360853736806, 21.31004021905135], \"type\": \"scatter\"}, {\"x\": [0, 1, 2, 3, 4, 5], \"name\": \"medians\", \"y\": [22.03737905594513, 24.482199734871894, 23.847310718270858, 34.19198453715756, 27.7928316327613, 22.366254095385322], \"type\": \"scatter\"}], {\"title\": \"fmri Embedding Location Lines\", \"xaxis\": {\"title\": \"Dimensions\", \"showticklabels\": false}, \"yaxis\": {\"title\": \"Mean or Median Value\"}}, {\"showLink\": true, \"linkText\": \"Export to plot.ly\"})});</script>"
      ]
     },
     "metadata": {},
     "output_type": "display_data"
    }
   ],
   "source": [
    "lpl.LocationLines(DM).plot()"
   ]
  },
  {
   "cell_type": "code",
   "execution_count": 12,
   "metadata": {},
   "outputs": [
    {
     "data": {
      "application/vnd.plotly.v1+json": {
       "data": [
        {
         "type": "heatmap",
         "x": [
          0,
          1,
          2,
          3,
          4,
          5
         ],
         "z": [
          [
           20.539165463343934,
           21.59349806291016,
           22.236486132399865,
           29.300115642576515,
           25.341360853736806,
           21.31004021905135
          ],
          [
           22.03737905594513,
           24.482199734871894,
           23.847310718270858,
           34.19198453715756,
           27.7928316327613,
           22.366254095385322
          ]
         ]
        }
       ],
       "layout": {
        "title": "fmri Location Heatmap",
        "xaxis": {
         "showticklabels": false,
         "title": "dimensions"
        },
        "yaxis": {
         "showticklabels": true,
         "ticktext": [
          "mean",
          "median"
         ],
         "tickvals": [
          0,
          1
         ]
        }
       }
      },
      "text/html": [
       "<div id=\"8f5e3cce-ad38-49e9-8f8b-ce488733cf7a\" style=\"height: 525px; width: 100%;\" class=\"plotly-graph-div\"></div><script type=\"text/javascript\">require([\"plotly\"], function(Plotly) { window.PLOTLYENV=window.PLOTLYENV || {};window.PLOTLYENV.BASE_URL=\"https://plot.ly\";Plotly.newPlot(\"8f5e3cce-ad38-49e9-8f8b-ce488733cf7a\", [{\"x\": [0, 1, 2, 3, 4, 5], \"z\": [[20.539165463343934, 21.59349806291016, 22.236486132399865, 29.300115642576515, 25.341360853736806, 21.31004021905135], [22.03737905594513, 24.482199734871894, 23.847310718270858, 34.19198453715756, 27.7928316327613, 22.366254095385322]], \"type\": \"heatmap\"}], {\"title\": \"fmri Location Heatmap\", \"xaxis\": {\"title\": \"dimensions\", \"showticklabels\": false}, \"yaxis\": {\"tickvals\": [0, 1], \"ticktext\": [\"mean\", \"median\"], \"showticklabels\": true}}, {\"showLink\": true, \"linkText\": \"Export to plot.ly\"})});</script>"
      ],
      "text/vnd.plotly.v1+html": [
       "<div id=\"8f5e3cce-ad38-49e9-8f8b-ce488733cf7a\" style=\"height: 525px; width: 100%;\" class=\"plotly-graph-div\"></div><script type=\"text/javascript\">require([\"plotly\"], function(Plotly) { window.PLOTLYENV=window.PLOTLYENV || {};window.PLOTLYENV.BASE_URL=\"https://plot.ly\";Plotly.newPlot(\"8f5e3cce-ad38-49e9-8f8b-ce488733cf7a\", [{\"x\": [0, 1, 2, 3, 4, 5], \"z\": [[20.539165463343934, 21.59349806291016, 22.236486132399865, 29.300115642576515, 25.341360853736806, 21.31004021905135], [22.03737905594513, 24.482199734871894, 23.847310718270858, 34.19198453715756, 27.7928316327613, 22.366254095385322]], \"type\": \"heatmap\"}], {\"title\": \"fmri Location Heatmap\", \"xaxis\": {\"title\": \"dimensions\", \"showticklabels\": false}, \"yaxis\": {\"tickvals\": [0, 1], \"ticktext\": [\"mean\", \"median\"], \"showticklabels\": true}}, {\"showLink\": true, \"linkText\": \"Export to plot.ly\"})});</script>"
      ]
     },
     "metadata": {},
     "output_type": "display_data"
    }
   ],
   "source": [
    "lpl.LocationHeatmap(DM).plot()"
   ]
  },
  {
   "cell_type": "code",
   "execution_count": 13,
   "metadata": {},
   "outputs": [
    {
     "data": {
      "application/vnd.plotly.v1+json": {
       "data": [
        {
         "type": "heatmap",
         "y": [
          0,
          1,
          2,
          3,
          4,
          5
         ],
         "z": [
          [
           2,
           4
          ],
          [
           1,
           5
          ],
          [
           3,
           3
          ],
          [
           1,
           5
          ],
          [
           1,
           5
          ],
          [
           2,
           4
          ]
         ]
        }
       ],
       "layout": {
        "title": "fmri Histogram Heatmap",
        "xaxis": {
         "mirror": true,
         "showticklabels": true,
         "ticks": "",
         "ticktext": [
          "-2.5000",
          "2.5000"
         ],
         "tickvals": [
          0,
          1
         ],
         "title": "Normalized Value"
        },
        "yaxis": {
         "mirror": true,
         "showticklabels": false,
         "ticks": "",
         "title": "Dimensions"
        }
       }
      },
      "text/html": [
       "<div id=\"8b6a5419-e1b9-4f31-87e4-6b1c45f97bc7\" style=\"height: 525px; width: 100%;\" class=\"plotly-graph-div\"></div><script type=\"text/javascript\">require([\"plotly\"], function(Plotly) { window.PLOTLYENV=window.PLOTLYENV || {};window.PLOTLYENV.BASE_URL=\"https://plot.ly\";Plotly.newPlot(\"8b6a5419-e1b9-4f31-87e4-6b1c45f97bc7\", [{\"z\": [[2, 4], [1, 5], [3, 3], [1, 5], [1, 5], [2, 4]], \"y\": [0, 1, 2, 3, 4, 5], \"type\": \"heatmap\"}], {\"title\": \"fmri Histogram Heatmap\", \"xaxis\": {\"tickvals\": [0, 1], \"ticks\": \"\", \"mirror\": true, \"showticklabels\": true, \"ticktext\": [\"-2.5000\", \"2.5000\"], \"title\": \"Normalized Value\"}, \"yaxis\": {\"ticks\": \"\", \"title\": \"Dimensions\", \"mirror\": true, \"showticklabels\": false}}, {\"showLink\": true, \"linkText\": \"Export to plot.ly\"})});</script>"
      ],
      "text/vnd.plotly.v1+html": [
       "<div id=\"8b6a5419-e1b9-4f31-87e4-6b1c45f97bc7\" style=\"height: 525px; width: 100%;\" class=\"plotly-graph-div\"></div><script type=\"text/javascript\">require([\"plotly\"], function(Plotly) { window.PLOTLYENV=window.PLOTLYENV || {};window.PLOTLYENV.BASE_URL=\"https://plot.ly\";Plotly.newPlot(\"8b6a5419-e1b9-4f31-87e4-6b1c45f97bc7\", [{\"z\": [[2, 4], [1, 5], [3, 3], [1, 5], [1, 5], [2, 4]], \"y\": [0, 1, 2, 3, 4, 5], \"type\": \"heatmap\"}], {\"title\": \"fmri Histogram Heatmap\", \"xaxis\": {\"tickvals\": [0, 1], \"ticks\": \"\", \"mirror\": true, \"showticklabels\": true, \"ticktext\": [\"-2.5000\", \"2.5000\"], \"title\": \"Normalized Value\"}, \"yaxis\": {\"ticks\": \"\", \"title\": \"Dimensions\", \"mirror\": true, \"showticklabels\": false}}, {\"showLink\": true, \"linkText\": \"Export to plot.ly\"})});</script>"
      ]
     },
     "metadata": {},
     "output_type": "display_data"
    }
   ],
   "source": [
    "lpl.HistogramHeatmap(DM).plot()"
   ]
  },
  {
   "cell_type": "code",
   "execution_count": 14,
   "metadata": {},
   "outputs": [
    {
     "data": {
      "application/vnd.plotly.v1+json": {
       "data": [
        {
         "mode": "lines+markers",
         "name": "Variance",
         "type": "scatter",
         "x": [
          1,
          2,
          3,
          4,
          5,
          6
         ],
         "y": [
          0.4999999999999998,
          0.1610497074152291,
          0.10975233413028082,
          0.08718925621308576,
          0.07425158943066006,
          0.06775711281074435
         ]
        },
        {
         "mode": "lines+markers",
         "name": "Cumulative Variance",
         "type": "scatter",
         "x": [
          1,
          2,
          3,
          4,
          5,
          6
         ],
         "y": [
          0.4999999999999998,
          0.6610497074152288,
          0.7708020415455098,
          0.8579912977585955,
          0.9322428871892556,
          1
         ]
        }
       ],
       "layout": {
        "title": "fmri Scree Plot",
        "xaxis": {
         "title": "Factors"
        },
        "yaxis": {
         "title": "Proportion of Total Variance"
        }
       }
      },
      "text/html": [
       "<div id=\"1151d987-4cc1-4ca3-916f-2be40927bb72\" style=\"height: 525px; width: 100%;\" class=\"plotly-graph-div\"></div><script type=\"text/javascript\">require([\"plotly\"], function(Plotly) { window.PLOTLYENV=window.PLOTLYENV || {};window.PLOTLYENV.BASE_URL=\"https://plot.ly\";Plotly.newPlot(\"1151d987-4cc1-4ca3-916f-2be40927bb72\", [{\"x\": [1, 2, 3, 4, 5, 6], \"name\": \"Variance\", \"mode\": \"lines+markers\", \"y\": [0.4999999999999998, 0.1610497074152291, 0.10975233413028082, 0.08718925621308576, 0.07425158943066006, 0.06775711281074435], \"type\": \"scatter\"}, {\"x\": [1, 2, 3, 4, 5, 6], \"name\": \"Cumulative Variance\", \"mode\": \"lines+markers\", \"y\": [0.4999999999999998, 0.6610497074152288, 0.7708020415455098, 0.8579912977585955, 0.9322428871892556, 1.0], \"type\": \"scatter\"}], {\"title\": \"fmri Scree Plot\", \"xaxis\": {\"title\": \"Factors\"}, \"yaxis\": {\"title\": \"Proportion of Total Variance\"}}, {\"showLink\": true, \"linkText\": \"Export to plot.ly\"})});</script>"
      ],
      "text/vnd.plotly.v1+html": [
       "<div id=\"1151d987-4cc1-4ca3-916f-2be40927bb72\" style=\"height: 525px; width: 100%;\" class=\"plotly-graph-div\"></div><script type=\"text/javascript\">require([\"plotly\"], function(Plotly) { window.PLOTLYENV=window.PLOTLYENV || {};window.PLOTLYENV.BASE_URL=\"https://plot.ly\";Plotly.newPlot(\"1151d987-4cc1-4ca3-916f-2be40927bb72\", [{\"x\": [1, 2, 3, 4, 5, 6], \"name\": \"Variance\", \"mode\": \"lines+markers\", \"y\": [0.4999999999999998, 0.1610497074152291, 0.10975233413028082, 0.08718925621308576, 0.07425158943066006, 0.06775711281074435], \"type\": \"scatter\"}, {\"x\": [1, 2, 3, 4, 5, 6], \"name\": \"Cumulative Variance\", \"mode\": \"lines+markers\", \"y\": [0.4999999999999998, 0.6610497074152288, 0.7708020415455098, 0.8579912977585955, 0.9322428871892556, 1.0], \"type\": \"scatter\"}], {\"title\": \"fmri Scree Plot\", \"xaxis\": {\"title\": \"Factors\"}, \"yaxis\": {\"title\": \"Proportion of Total Variance\"}}, {\"showLink\": true, \"linkText\": \"Export to plot.ly\"})});</script>"
      ]
     },
     "metadata": {},
     "output_type": "display_data"
    }
   ],
   "source": [
    "lpl.ScreePlotter(DM).plot()"
   ]
  },
  {
   "cell_type": "code",
   "execution_count": 15,
   "metadata": {},
   "outputs": [
    {
     "data": {
      "application/vnd.plotly.v1+json": {
       "data": [
        {
         "type": "heatmap",
         "z": [
          [
           -0.36574305798279827,
           -0.18417050393821577,
           0.2425103924942438,
           -0.18330735498954887,
           0.5413823080831045,
           -0.6684351581493666
          ],
          [
           -0.3792638159077034,
           0.05591902818537619,
           0.17815153081955654,
           -0.7332479701812099,
           -0.5318934663164143,
           0.027033442467138458
          ],
          [
           -0.3916029006546632,
           -0.21310427658667536,
           0.37314886611297127,
           0.6276702136423371,
           -0.49170806165578773,
           -0.16200908686496227
          ],
          [
           -0.4850644293103873,
           0.8321276946964595,
           -0.10267901373743532,
           0.18054027199906247,
           0.1538384795145724,
           0.0739726414426356
          ],
          [
           -0.4359172333940697,
           -0.3511944545817094,
           -0.8247008268143025,
           0.0429483544415185,
           -0.06287755090642047,
           -0.026627418119256674
          ],
          [
           -0.3791131845863738,
           -0.3190091062283769,
           0.2820216865903283,
           -0.018346110632058696,
           0.3931893372153976,
           0.7211350199745464
          ]
         ]
        }
       ],
       "layout": {
        "title": "fmri Eigenvector Heatmap",
        "xaxis": {
         "mirror": true,
         "showgrid": false,
         "showticklabels": false,
         "ticks": "",
         "ticktext": [
          "Eigenvector 1",
          "Eigenvector 2",
          "Eigenvector 3",
          "Eigenvector 4",
          "Eigenvector 5",
          "Eigenvector 6"
         ],
         "tickvals": [
          0,
          1,
          2,
          3,
          4,
          5
         ],
         "title": "Eigenvectors"
        },
        "yaxis": {
         "mirror": true,
         "scaleanchor": "x",
         "showgrid": false,
         "showticklabels": false,
         "ticks": "",
         "ticktext": [
          "Component 1",
          "Component 2",
          "Component 3",
          "Component 4",
          "Component 5",
          "Component 6"
         ],
         "tickvals": [
          0,
          1,
          2,
          3,
          4,
          5
         ],
         "title": "Eigenvector Components"
        }
       }
      },
      "text/html": [
       "<div id=\"288810e7-d99f-4d3c-b07d-2b6c51bc2789\" style=\"height: 525px; width: 100%;\" class=\"plotly-graph-div\"></div><script type=\"text/javascript\">require([\"plotly\"], function(Plotly) { window.PLOTLYENV=window.PLOTLYENV || {};window.PLOTLYENV.BASE_URL=\"https://plot.ly\";Plotly.newPlot(\"288810e7-d99f-4d3c-b07d-2b6c51bc2789\", [{\"z\": [[-0.36574305798279827, -0.18417050393821577, 0.2425103924942438, -0.18330735498954887, 0.5413823080831045, -0.6684351581493666], [-0.3792638159077034, 0.05591902818537619, 0.17815153081955654, -0.7332479701812099, -0.5318934663164143, 0.027033442467138458], [-0.3916029006546632, -0.21310427658667536, 0.37314886611297127, 0.6276702136423371, -0.49170806165578773, -0.16200908686496227], [-0.4850644293103873, 0.8321276946964595, -0.10267901373743532, 0.18054027199906247, 0.1538384795145724, 0.0739726414426356], [-0.4359172333940697, -0.3511944545817094, -0.8247008268143025, 0.0429483544415185, -0.06287755090642047, -0.026627418119256674], [-0.3791131845863738, -0.3190091062283769, 0.2820216865903283, -0.018346110632058696, 0.3931893372153976, 0.7211350199745464]], \"type\": \"heatmap\"}], {\"title\": \"fmri Eigenvector Heatmap\", \"xaxis\": {\"tickvals\": [0, 1, 2, 3, 4, 5], \"ticks\": \"\", \"mirror\": true, \"showticklabels\": false, \"ticktext\": [\"Eigenvector 1\", \"Eigenvector 2\", \"Eigenvector 3\", \"Eigenvector 4\", \"Eigenvector 5\", \"Eigenvector 6\"], \"showgrid\": false, \"title\": \"Eigenvectors\"}, \"yaxis\": {\"tickvals\": [0, 1, 2, 3, 4, 5], \"ticks\": \"\", \"mirror\": true, \"showticklabels\": false, \"scaleanchor\": \"x\", \"title\": \"Eigenvector Components\", \"ticktext\": [\"Component 1\", \"Component 2\", \"Component 3\", \"Component 4\", \"Component 5\", \"Component 6\"], \"showgrid\": false}}, {\"showLink\": true, \"linkText\": \"Export to plot.ly\"})});</script>"
      ],
      "text/vnd.plotly.v1+html": [
       "<div id=\"288810e7-d99f-4d3c-b07d-2b6c51bc2789\" style=\"height: 525px; width: 100%;\" class=\"plotly-graph-div\"></div><script type=\"text/javascript\">require([\"plotly\"], function(Plotly) { window.PLOTLYENV=window.PLOTLYENV || {};window.PLOTLYENV.BASE_URL=\"https://plot.ly\";Plotly.newPlot(\"288810e7-d99f-4d3c-b07d-2b6c51bc2789\", [{\"z\": [[-0.36574305798279827, -0.18417050393821577, 0.2425103924942438, -0.18330735498954887, 0.5413823080831045, -0.6684351581493666], [-0.3792638159077034, 0.05591902818537619, 0.17815153081955654, -0.7332479701812099, -0.5318934663164143, 0.027033442467138458], [-0.3916029006546632, -0.21310427658667536, 0.37314886611297127, 0.6276702136423371, -0.49170806165578773, -0.16200908686496227], [-0.4850644293103873, 0.8321276946964595, -0.10267901373743532, 0.18054027199906247, 0.1538384795145724, 0.0739726414426356], [-0.4359172333940697, -0.3511944545817094, -0.8247008268143025, 0.0429483544415185, -0.06287755090642047, -0.026627418119256674], [-0.3791131845863738, -0.3190091062283769, 0.2820216865903283, -0.018346110632058696, 0.3931893372153976, 0.7211350199745464]], \"type\": \"heatmap\"}], {\"title\": \"fmri Eigenvector Heatmap\", \"xaxis\": {\"tickvals\": [0, 1, 2, 3, 4, 5], \"ticks\": \"\", \"mirror\": true, \"showticklabels\": false, \"ticktext\": [\"Eigenvector 1\", \"Eigenvector 2\", \"Eigenvector 3\", \"Eigenvector 4\", \"Eigenvector 5\", \"Eigenvector 6\"], \"showgrid\": false, \"title\": \"Eigenvectors\"}, \"yaxis\": {\"tickvals\": [0, 1, 2, 3, 4, 5], \"ticks\": \"\", \"mirror\": true, \"showticklabels\": false, \"scaleanchor\": \"x\", \"title\": \"Eigenvector Components\", \"ticktext\": [\"Component 1\", \"Component 2\", \"Component 3\", \"Component 4\", \"Component 5\", \"Component 6\"], \"showgrid\": false}}, {\"showLink\": true, \"linkText\": \"Export to plot.ly\"})});</script>"
      ]
     },
     "metadata": {},
     "output_type": "display_data"
    }
   ],
   "source": [
    "lpl.EigenvectorHeatmap(DM).plot()"
   ]
  },
  {
   "cell_type": "code",
   "execution_count": 16,
   "metadata": {},
   "outputs": [
    {
     "name": "stdout",
     "output_type": "stream",
     "text": [
      "['../../../data/gr_real_bids/sub-NDAREL063PMX/func/sub-NDAREL063PMX_task-rest_bold_desikan_res-2x2x2_measure-correlation.edgelist', '../../../data/gr_real_bids/sub-NDARAV945MCQ/func/sub-NDARAV945MCQ_task-rest_bold_desikan_res-2x2x2_measure-correlation.edgelist', '../../../data/gr_real_bids/sub-NDARAR025WX4/func/sub-NDARAR025WX4_task-rest_bold_desikan_res-2x2x2_measure-correlation.edgelist', '../../../data/gr_real_bids/sub-NDARHP176DPE/func/sub-NDARHP176DPE_task-rest_bold_desikan_res-2x2x2_measure-correlation.edgelist', '../../../data/gr_real_bids/sub-NDARAT299YRR/func/sub-NDARAT299YRR_task-rest_bold_desikan_res-2x2x2_measure-correlation.edgelist', '../../../data/gr_real_bids/sub-NDARAA536PTU/func/sub-NDARAA536PTU_task-rest_bold_desikan_res-2x2x2_measure-correlation.edgelist']\n"
     ]
    }
   ],
   "source": [
    "print(list(dataset_descriptor['resource_path']))"
   ]
  },
  {
   "cell_type": "code",
   "execution_count": 17,
   "metadata": {},
   "outputs": [],
   "source": [
    "DERIV_OUT = '../../../data/gr_xdev'\n",
    "gp = lpl.GraphPlotter(list(dataset_descriptor['resource_path']), DERIV_OUT)"
   ]
  },
  {
   "cell_type": "code",
   "execution_count": 20,
   "metadata": {
    "scrolled": false
   },
   "outputs": [
    {
     "name": "stdout",
     "output_type": "stream",
     "text": [
      "Loading: ../../../data/gr_real_bids/sub-NDAREL063PMX/func/sub-NDAREL063PMX_task-rest_bold_desikan_res-2x2x2_measure-correlation.edgelist\n",
      "Loading: ../../../data/gr_real_bids/sub-NDARAV945MCQ/func/sub-NDARAV945MCQ_task-rest_bold_desikan_res-2x2x2_measure-correlation.edgelist\n",
      "Loading: ../../../data/gr_real_bids/sub-NDARAR025WX4/func/sub-NDARAR025WX4_task-rest_bold_desikan_res-2x2x2_measure-correlation.edgelist\n",
      "Loading: ../../../data/gr_real_bids/sub-NDARHP176DPE/func/sub-NDARHP176DPE_task-rest_bold_desikan_res-2x2x2_measure-correlation.edgelist\n",
      "Loading: ../../../data/gr_real_bids/sub-NDARAT299YRR/func/sub-NDARAT299YRR_task-rest_bold_desikan_res-2x2x2_measure-correlation.edgelist\n",
      "Loading: ../../../data/gr_real_bids/sub-NDARAA536PTU/func/sub-NDARAA536PTU_task-rest_bold_desikan_res-2x2x2_measure-correlation.edgelist\n",
      "Computing: NNZ\n",
      "Sample Mean: 2485.00\n",
      "Computing: Max Local Statistic Sequence\n",
      "Subject Means: 707.26, 778.07, 725.78, 1349.63, 644.61, 487.63\n",
      "Computing: Clustering Coefficient Sequence\n",
      "Subject Means: 1.00, 1.00, 1.00, 1.00, 1.00, 1.00\n",
      "Computing: Degree Sequence\n",
      "OrderedDict([('sub-NDAREL063PMX_task-rest_bold_desikan_res-2x2x2_measure-correlation.edgelist', [71, 71, 71, 71, 71, 71, 71, 71, 71, 71, 71, 71, 71, 71, 71, 71, 71, 71, 71, 71, 71, 71, 71, 71, 71, 71, 71, 71, 71, 71, 71, 71, 71, 71, 71, 71, 71, 71, 71, 71, 71, 71, 71, 71, 71, 71, 71, 71, 71, 71, 71, 71, 71, 71, 71, 71, 71, 71, 71, 71, 71, 71, 71, 71, 71, 71, 71, 71, 71, 71]), ('sub-NDARAV945MCQ_task-rest_bold_desikan_res-2x2x2_measure-correlation.edgelist', [71, 71, 71, 71, 71, 71, 71, 71, 71, 71, 71, 71, 71, 71, 71, 71, 71, 71, 71, 71, 71, 71, 71, 71, 71, 71, 71, 71, 71, 71, 71, 71, 71, 71, 71, 71, 71, 71, 71, 71, 71, 71, 71, 71, 71, 71, 71, 71, 71, 71, 71, 71, 71, 71, 71, 71, 71, 71, 71, 71, 71, 71, 71, 71, 71, 71, 71, 71, 71, 71]), ('sub-NDARAR025WX4_task-rest_bold_desikan_res-2x2x2_measure-correlation.edgelist', [71, 71, 71, 71, 71, 71, 71, 71, 71, 71, 71, 71, 71, 71, 71, 71, 71, 71, 71, 71, 71, 71, 71, 71, 71, 71, 71, 71, 71, 71, 71, 71, 71, 71, 71, 71, 71, 71, 71, 71, 71, 71, 71, 71, 71, 71, 71, 71, 71, 71, 71, 71, 71, 71, 71, 71, 71, 71, 71, 71, 71, 71, 71, 71, 71, 71, 71, 71, 71, 71]), ('sub-NDARHP176DPE_task-rest_bold_desikan_res-2x2x2_measure-correlation.edgelist', [71, 71, 71, 71, 71, 71, 71, 71, 71, 71, 71, 71, 71, 71, 71, 71, 71, 71, 71, 71, 71, 71, 71, 71, 71, 71, 71, 71, 71, 71, 71, 71, 71, 71, 71, 71, 71, 71, 71, 71, 71, 71, 71, 71, 71, 71, 71, 71, 71, 71, 71, 71, 71, 71, 71, 71, 71, 71, 71, 71, 71, 71, 71, 71, 71, 71, 71, 71, 71, 71]), ('sub-NDARAT299YRR_task-rest_bold_desikan_res-2x2x2_measure-correlation.edgelist', [71, 71, 71, 71, 71, 71, 71, 71, 71, 71, 71, 71, 71, 71, 71, 71, 71, 71, 71, 71, 71, 71, 71, 71, 71, 71, 71, 71, 71, 71, 71, 71, 71, 71, 71, 71, 71, 71, 71, 71, 71, 71, 71, 71, 71, 71, 71, 71, 71, 71, 71, 71, 71, 71, 71, 71, 71, 71, 71, 71, 71, 71, 71, 71, 71, 71, 71, 71, 71, 71]), ('sub-NDARAA536PTU_task-rest_bold_desikan_res-2x2x2_measure-correlation.edgelist', [71, 71, 71, 71, 71, 71, 71, 71, 71, 71, 71, 71, 71, 71, 71, 71, 71, 71, 71, 71, 71, 71, 71, 71, 71, 71, 71, 71, 71, 71, 71, 71, 71, 71, 71, 71, 71, 71, 71, 71, 71, 71, 71, 71, 71, 71, 71, 71, 71, 71, 71, 71, 71, 71, 71, 71, 71, 71, 71, 71, 71, 71, 71, 71, 71, 71, 71, 71, 71, 71])])\n",
      "Subject Means: 71.00, 71.00, 71.00, 71.00, 71.00, 71.00\n",
      "Computing: Edge Weight Sequence\n",
      "Subject Means: 0.28, 0.31, 0.29, 0.54, 0.26, 0.20\n",
      "Computing: Eigen Value Sequence\n",
      "Subject Maxes: 1.01, 1.00, 1.02, 1.00, 1.01, 1.01\n",
      "Computing: Betweenness Centrality Sequence\n",
      "Subject Means: 0.00, 0.00, 0.00, 0.00, 0.00, 0.00\n",
      "Computing: Mean Connectome\n"
     ]
    },
    {
     "ename": "TypeError",
     "evalue": "object of type 'int' has no len()",
     "output_type": "error",
     "traceback": [
      "\u001b[0;31m---------------------------------------------------------------------------\u001b[0m",
      "\u001b[0;31mTypeError\u001b[0m                                 Traceback (most recent call last)",
      "\u001b[0;32m<ipython-input-20-c82b70ec6485>\u001b[0m in \u001b[0;36m<module>\u001b[0;34m()\u001b[0m\n\u001b[0;32m----> 1\u001b[0;31m \u001b[0mgp\u001b[0m\u001b[0;34m.\u001b[0m\u001b[0mmakeplot\u001b[0m\u001b[0;34m(\u001b[0m\u001b[0;34m)\u001b[0m\u001b[0;34m\u001b[0m\u001b[0m\n\u001b[0m",
      "\u001b[0;32m~/hopkins/fall2017/ndd/lemur/lemur/plotters.py\u001b[0m in \u001b[0;36mmakeplot\u001b[0;34m(self, modality, atlas, log)\u001b[0m\n\u001b[1;32m    151\u001b[0m \u001b[0;34m\u001b[0m\u001b[0m\n\u001b[1;32m    152\u001b[0m         \u001b[0mstatsDict\u001b[0m \u001b[0;34m=\u001b[0m \u001b[0mqg\u001b[0m\u001b[0;34m.\u001b[0m\u001b[0mcompute_metrics\u001b[0m\u001b[0;34m(\u001b[0m\u001b[0mself\u001b[0m\u001b[0;34m.\u001b[0m\u001b[0mfile_list\u001b[0m\u001b[0;34m,\u001b[0m \u001b[0mmodality\u001b[0m\u001b[0;34m)\u001b[0m\u001b[0;34m\u001b[0m\u001b[0m\n\u001b[0;32m--> 153\u001b[0;31m         \u001b[0mqgp\u001b[0m\u001b[0;34m.\u001b[0m\u001b[0mmake_panel_plot\u001b[0m\u001b[0;34m(\u001b[0m\u001b[0mstatsDict\u001b[0m\u001b[0;34m,\u001b[0m \u001b[0mself\u001b[0m\u001b[0;34m.\u001b[0m\u001b[0moutf\u001b[0m\u001b[0;34m,\u001b[0m \u001b[0matlas\u001b[0m\u001b[0;34m,\u001b[0m \u001b[0mlog\u001b[0m\u001b[0;34m,\u001b[0m \u001b[0mmodality\u001b[0m\u001b[0;34m)\u001b[0m\u001b[0;34m\u001b[0m\u001b[0m\n\u001b[0m\u001b[1;32m    154\u001b[0m \u001b[0;34m\u001b[0m\u001b[0m\n\u001b[1;32m    155\u001b[0m \u001b[0;34m\u001b[0m\u001b[0m\n",
      "\u001b[0;32m~/hopkins/fall2017/ndd/lemur/lemur/utils/qa_graphs_plotting.py\u001b[0m in \u001b[0;36mmake_panel_plot\u001b[0;34m(statsDict, outf, dataset, atlas, minimal, log, hemispheres, modality)\u001b[0m\n\u001b[1;32m     88\u001b[0m             \u001b[0mfig\u001b[0m \u001b[0;34m=\u001b[0m \u001b[0mpp\u001b[0m\u001b[0;34m.\u001b[0m\u001b[0mplot_heatmap\u001b[0m\u001b[0;34m(\u001b[0m\u001b[0mdat\u001b[0m\u001b[0;34m,\u001b[0m \u001b[0mname\u001b[0m\u001b[0;34m=\u001b[0m\u001b[0mlabs\u001b[0m\u001b[0;34m[\u001b[0m\u001b[0midx\u001b[0m\u001b[0;34m]\u001b[0m\u001b[0;34m)\u001b[0m\u001b[0;34m\u001b[0m\u001b[0m\n\u001b[1;32m     89\u001b[0m         \u001b[0;32melse\u001b[0m\u001b[0;34m:\u001b[0m\u001b[0;34m\u001b[0m\u001b[0m\n\u001b[0;32m---> 90\u001b[0;31m             \u001b[0mdims\u001b[0m \u001b[0;34m=\u001b[0m \u001b[0mlen\u001b[0m\u001b[0;34m(\u001b[0m\u001b[0mlist\u001b[0m\u001b[0;34m(\u001b[0m\u001b[0mdat\u001b[0m\u001b[0;34m.\u001b[0m\u001b[0mvalues\u001b[0m\u001b[0;34m(\u001b[0m\u001b[0;34m)\u001b[0m\u001b[0;34m)\u001b[0m\u001b[0;34m[\u001b[0m\u001b[0;36m0\u001b[0m\u001b[0;34m]\u001b[0m\u001b[0;34m)\u001b[0m\u001b[0;34m\u001b[0m\u001b[0m\n\u001b[0m\u001b[1;32m     91\u001b[0m             \u001b[0mfig\u001b[0m \u001b[0;34m=\u001b[0m \u001b[0mpp\u001b[0m\u001b[0;34m.\u001b[0m\u001b[0mplot_series\u001b[0m\u001b[0;34m(\u001b[0m\u001b[0mdat\u001b[0m\u001b[0;34m.\u001b[0m\u001b[0mvalues\u001b[0m\u001b[0;34m(\u001b[0m\u001b[0;34m)\u001b[0m\u001b[0;34m)\u001b[0m\u001b[0;34m\u001b[0m\u001b[0m\n\u001b[1;32m     92\u001b[0m         \u001b[0mtraces\u001b[0m \u001b[0;34m+=\u001b[0m \u001b[0;34m[\u001b[0m\u001b[0mpp\u001b[0m\u001b[0;34m.\u001b[0m\u001b[0mfig_to_trace\u001b[0m\u001b[0;34m(\u001b[0m\u001b[0mfig\u001b[0m\u001b[0;34m)\u001b[0m\u001b[0;34m]\u001b[0m\u001b[0;34m\u001b[0m\u001b[0m\n",
      "\u001b[0;31mTypeError\u001b[0m: object of type 'int' has no len()"
     ]
    }
   ],
   "source": [
    "gp.makeplot()"
   ]
  },
  {
   "cell_type": "code",
   "execution_count": null,
   "metadata": {},
   "outputs": [],
   "source": [
    "from matplotlib import pyplot as plt\n",
    "%matplotlib inline"
   ]
  },
  {
   "cell_type": "code",
   "execution_count": null,
   "metadata": {},
   "outputs": [],
   "source": [
    "G = nx.read_weighted_edgelist('../../../data/gr_real_bids/sub-NDARAV945MCQ/func/sub-NDARAV945MCQ_task-rest_bold_desikan_res-2x2x2_measure-correlation.edgelist')\n",
    "d = nx.degree(G)"
   ]
  },
  {
   "cell_type": "code",
   "execution_count": null,
   "metadata": {},
   "outputs": [],
   "source": [
    "plt.imshow(nx.to_numpy_matrix(G))"
   ]
  },
  {
   "cell_type": "code",
   "execution_count": null,
   "metadata": {},
   "outputs": [],
   "source": []
  }
 ],
 "metadata": {
  "kernelspec": {
   "display_name": "Python 3",
   "language": "python",
   "name": "python3"
  },
  "language_info": {
   "codemirror_mode": {
    "name": "ipython",
    "version": 3
   },
   "file_extension": ".py",
   "mimetype": "text/x-python",
   "name": "python",
   "nbconvert_exporter": "python",
   "pygments_lexer": "ipython3",
   "version": "3.5.2"
  }
 },
 "nbformat": 4,
 "nbformat_minor": 2
}
