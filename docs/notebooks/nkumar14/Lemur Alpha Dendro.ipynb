{
 "cells": [
  {
   "cell_type": "code",
   "execution_count": 1,
   "metadata": {},
   "outputs": [
    {
     "name": "stdout",
     "output_type": "stream",
     "text": [
      "2.7.14 |Anaconda custom (64-bit)| (default, Oct  5 2017, 07:26:46) \n",
      "[GCC 7.2.0]\n"
     ]
    }
   ],
   "source": [
    "import sys\n",
    "print(sys.version)"
   ]
  },
  {
   "cell_type": "code",
   "execution_count": 2,
   "metadata": {},
   "outputs": [
    {
     "data": {
      "text/html": [
       "<script>requirejs.config({paths: { 'plotly': ['https://cdn.plot.ly/plotly-latest.min']},});if(!window.Plotly) {{require(['plotly'],function(plotly) {window.Plotly=plotly;});}}</script>"
      ],
      "text/vnd.plotly.v1+html": [
       "<script>requirejs.config({paths: { 'plotly': ['https://cdn.plot.ly/plotly-latest.min']},});if(!window.Plotly) {{require(['plotly'],function(plotly) {window.Plotly=plotly;});}}</script>"
      ]
     },
     "metadata": {},
     "output_type": "display_data"
    },
    {
     "name": "stderr",
     "output_type": "stream",
     "text": [
      "/home/nitin/anaconda/lib/python2.7/site-packages/IPython/html.py:14: ShimWarning:\n",
      "\n",
      "The `IPython.html` package has been deprecated since IPython 4.0. You should import from `notebook` instead. `IPython.html.widgets` has moved to `ipywidgets`.\n",
      "\n"
     ]
    }
   ],
   "source": [
    "# Add lemur to path\n",
    "import sys\n",
    "sys.path.append(\"../../..\")\n",
    "# System stuff\n",
    "import pickle as pkl\n",
    "import os\n",
    "import numpy as np\n",
    "from IPython.display import display\n",
    "# Make plotly work in notebook mode\n",
    "from plotly import __version__\n",
    "from plotly.offline import (download_plotlyjs,\n",
    "                            init_notebook_mode,\n",
    "                            plot,\n",
    "                            iplot)\n",
    "init_notebook_mode(connected=True)\n",
    "\n",
    "import lemur.utils.io as lio\n",
    "import lemur.eda.plotters as lpl"
   ]
  },
  {
   "cell_type": "code",
   "execution_count": 3,
   "metadata": {},
   "outputs": [
    {
     "data": {
      "text/html": [
       "<div>\n",
       "<table border=\"1\" class=\"dataframe\">\n",
       "  <thead>\n",
       "    <tr style=\"text-align: right;\">\n",
       "      <th></th>\n",
       "      <th>mine</th>\n",
       "      <th>raw</th>\n",
       "    </tr>\n",
       "    <tr>\n",
       "      <th>index</th>\n",
       "      <th></th>\n",
       "      <th></th>\n",
       "    </tr>\n",
       "  </thead>\n",
       "  <tbody>\n",
       "    <tr>\n",
       "      <th>0</th>\n",
       "      <td>sub_000</td>\n",
       "      <td>NDARAA075AMK</td>\n",
       "    </tr>\n",
       "    <tr>\n",
       "      <th>1</th>\n",
       "      <td>sub_001</td>\n",
       "      <td>NDARAD481FXF</td>\n",
       "    </tr>\n",
       "    <tr>\n",
       "      <th>2</th>\n",
       "      <td>sub_002</td>\n",
       "      <td>NDARAE199TDD</td>\n",
       "    </tr>\n",
       "    <tr>\n",
       "      <th>3</th>\n",
       "      <td>sub_003</td>\n",
       "      <td>NDARAJ366ZFA</td>\n",
       "    </tr>\n",
       "  </tbody>\n",
       "</table>\n",
       "</div>"
      ],
      "text/plain": [
       "          mine           raw\n",
       "index                       \n",
       "0      sub_000  NDARAA075AMK\n",
       "1      sub_001  NDARAD481FXF\n",
       "2      sub_002  NDARAE199TDD\n",
       "3      sub_003  NDARAJ366ZFA"
      ]
     },
     "metadata": {},
     "output_type": "display_data"
    },
    {
     "data": {
      "text/html": [
       "<div>\n",
       "<table border=\"1\" class=\"dataframe\">\n",
       "  <thead>\n",
       "    <tr style=\"text-align: right;\">\n",
       "      <th></th>\n",
       "      <th>mine</th>\n",
       "      <th>raw</th>\n",
       "    </tr>\n",
       "    <tr>\n",
       "      <th>index</th>\n",
       "      <th></th>\n",
       "      <th></th>\n",
       "    </tr>\n",
       "  </thead>\n",
       "  <tbody>\n",
       "    <tr>\n",
       "      <th>0</th>\n",
       "      <td>task_000</td>\n",
       "      <td>RestingState</td>\n",
       "    </tr>\n",
       "    <tr>\n",
       "      <th>1</th>\n",
       "      <td>task_001</td>\n",
       "      <td>Video1</td>\n",
       "    </tr>\n",
       "  </tbody>\n",
       "</table>\n",
       "</div>"
      ],
      "text/plain": [
       "           mine           raw\n",
       "index                        \n",
       "0      task_000  RestingState\n",
       "1      task_001        Video1"
      ]
     },
     "metadata": {},
     "output_type": "display_data"
    }
   ],
   "source": [
    "BASE_PATH = \"../../../data\"\n",
    "DATASET = \"pseudo_bids\"\n",
    "SUBJECT = \"NDARAA075AMK\"\n",
    "dataset = lio.BIDSDataset(BASE_PATH, DATASET)\n",
    "display(dataset.getSubjectMap())\n",
    "display(dataset.getTaskMap())"
   ]
  },
  {
   "cell_type": "code",
   "execution_count": 4,
   "metadata": {},
   "outputs": [
    {
     "data": {
      "application/vnd.plotly.v1+json": {
       "data": [
        {
         "type": "heatmap",
         "z": [
          [
           0,
           9239328.599550597,
           4100954.200784638,
           4274145.819190815,
           3641685.371310553,
           14342949.018151723,
           4366539.518249391,
           4351029.48299901
          ],
          [
           9239328.599550597,
           0,
           10960376.085529005,
           11071094,
           9177173.180763127,
           11026281,
           11139925.917610545,
           11123638
          ],
          [
           4100954.200784638,
           10960376.085529005,
           0,
           407189.21789942036,
           2607894.272546457,
           15156533.822202146,
           643102.610597627,
           627960.2294115663
          ],
          [
           4274145.819190815,
           11071094,
           407189.21789942036,
           0,
           2788067.9498310667,
           15225352,
           349256.67146387795,
           340298.1875
          ],
          [
           3641685.371310553,
           9177173.180763127,
           2607894.272546457,
           2788067.9498310667,
           0,
           13652584.712382112,
           2897725.7929313257,
           2868523.285557591
          ],
          [
           14342949.018151723,
           11026281,
           15156533.822202146,
           15225352,
           13652584.712382112,
           0,
           15264665.236553496,
           15259252
          ],
          [
           4366539.518249391,
           11139925.917610545,
           643102.610597627,
           349256.67146387795,
           2897725.7929313257,
           15264665.236553496,
           0,
           205806.14919582935
          ],
          [
           4351029.48299901,
           11123638,
           627960.2294115663,
           340298.1875,
           2868523.285557591,
           15259252,
           205806.14919582935,
           0
          ]
         ]
        }
       ],
       "layout": {
        "height": 600,
        "title": "HBNB EEG - Distance Matrix",
        "width": 600,
        "xaxis": {
         "mirror": true,
         "showticklabels": false,
         "ticks": "",
         "ticktext": [
          "sub_000/task_000",
          "sub_000/task_001",
          "sub_001/task_000",
          "sub_001/task_001",
          "sub_002/task_000",
          "sub_002/task_001",
          "sub_003/task_000",
          "sub_003/task_001"
         ],
         "tickvals": [
          0,
          1,
          2,
          3,
          4,
          5,
          6,
          7
         ],
         "title": "observations"
        },
        "yaxis": {
         "mirror": true,
         "showticklabels": false,
         "ticks": "",
         "ticktext": [
          "sub_000/task_000",
          "sub_000/task_001",
          "sub_001/task_000",
          "sub_001/task_001",
          "sub_002/task_000",
          "sub_002/task_001",
          "sub_003/task_000",
          "sub_003/task_001"
         ],
         "tickvals": [
          0,
          1,
          2,
          3,
          4,
          5,
          6,
          7
         ],
         "title": "observations"
        }
       }
      },
      "text/html": [
       "<div id=\"649b7265-6932-40e6-b176-f3d659bb0c88\" style=\"height: 600px; width: 600px;\" class=\"plotly-graph-div\"></div><script type=\"text/javascript\">require([\"plotly\"], function(Plotly) { window.PLOTLYENV=window.PLOTLYENV || {};window.PLOTLYENV.BASE_URL=\"https://plot.ly\";Plotly.newPlot(\"649b7265-6932-40e6-b176-f3d659bb0c88\", [{\"z\": [[0.0, 9239328.599550597, 4100954.200784638, 4274145.819190815, 3641685.371310553, 14342949.018151723, 4366539.518249391, 4351029.48299901], [9239328.599550597, 0.0, 10960376.085529005, 11071094.0, 9177173.180763127, 11026281.0, 11139925.917610545, 11123638.0], [4100954.200784638, 10960376.085529005, 0.0, 407189.21789942036, 2607894.272546457, 15156533.822202146, 643102.610597627, 627960.2294115663], [4274145.819190815, 11071094.0, 407189.21789942036, 0.0, 2788067.9498310667, 15225352.0, 349256.67146387795, 340298.1875], [3641685.371310553, 9177173.180763127, 2607894.272546457, 2788067.9498310667, 0.0, 13652584.712382112, 2897725.7929313257, 2868523.285557591], [14342949.018151723, 11026281.0, 15156533.822202146, 15225352.0, 13652584.712382112, 0.0, 15264665.236553496, 15259252.0], [4366539.518249391, 11139925.917610545, 643102.610597627, 349256.67146387795, 2897725.7929313257, 15264665.236553496, 0.0, 205806.14919582935], [4351029.48299901, 11123638.0, 627960.2294115663, 340298.1875, 2868523.285557591, 15259252.0, 205806.14919582935, 0.0]], \"type\": \"heatmap\"}], {\"width\": 600, \"title\": \"HBNB EEG - Distance Matrix\", \"yaxis\": {\"showticklabels\": false, \"title\": \"observations\", \"ticks\": \"\", \"mirror\": true, \"ticktext\": [\"sub_000/task_000\", \"sub_000/task_001\", \"sub_001/task_000\", \"sub_001/task_001\", \"sub_002/task_000\", \"sub_002/task_001\", \"sub_003/task_000\", \"sub_003/task_001\"], \"tickvals\": [0, 1, 2, 3, 4, 5, 6, 7]}, \"xaxis\": {\"showticklabels\": false, \"title\": \"observations\", \"ticks\": \"\", \"mirror\": true, \"ticktext\": [\"sub_000/task_000\", \"sub_000/task_001\", \"sub_001/task_000\", \"sub_001/task_001\", \"sub_002/task_000\", \"sub_002/task_001\", \"sub_003/task_000\", \"sub_003/task_001\"], \"tickvals\": [0, 1, 2, 3, 4, 5, 6, 7]}, \"height\": 600}, {\"linkText\": \"Export to plot.ly\", \"showLink\": true})});</script>"
      ],
      "text/vnd.plotly.v1+html": [
       "<div id=\"649b7265-6932-40e6-b176-f3d659bb0c88\" style=\"height: 600px; width: 600px;\" class=\"plotly-graph-div\"></div><script type=\"text/javascript\">require([\"plotly\"], function(Plotly) { window.PLOTLYENV=window.PLOTLYENV || {};window.PLOTLYENV.BASE_URL=\"https://plot.ly\";Plotly.newPlot(\"649b7265-6932-40e6-b176-f3d659bb0c88\", [{\"z\": [[0.0, 9239328.599550597, 4100954.200784638, 4274145.819190815, 3641685.371310553, 14342949.018151723, 4366539.518249391, 4351029.48299901], [9239328.599550597, 0.0, 10960376.085529005, 11071094.0, 9177173.180763127, 11026281.0, 11139925.917610545, 11123638.0], [4100954.200784638, 10960376.085529005, 0.0, 407189.21789942036, 2607894.272546457, 15156533.822202146, 643102.610597627, 627960.2294115663], [4274145.819190815, 11071094.0, 407189.21789942036, 0.0, 2788067.9498310667, 15225352.0, 349256.67146387795, 340298.1875], [3641685.371310553, 9177173.180763127, 2607894.272546457, 2788067.9498310667, 0.0, 13652584.712382112, 2897725.7929313257, 2868523.285557591], [14342949.018151723, 11026281.0, 15156533.822202146, 15225352.0, 13652584.712382112, 0.0, 15264665.236553496, 15259252.0], [4366539.518249391, 11139925.917610545, 643102.610597627, 349256.67146387795, 2897725.7929313257, 15264665.236553496, 0.0, 205806.14919582935], [4351029.48299901, 11123638.0, 627960.2294115663, 340298.1875, 2868523.285557591, 15259252.0, 205806.14919582935, 0.0]], \"type\": \"heatmap\"}], {\"width\": 600, \"title\": \"HBNB EEG - Distance Matrix\", \"yaxis\": {\"showticklabels\": false, \"title\": \"observations\", \"ticks\": \"\", \"mirror\": true, \"ticktext\": [\"sub_000/task_000\", \"sub_000/task_001\", \"sub_001/task_000\", \"sub_001/task_001\", \"sub_002/task_000\", \"sub_002/task_001\", \"sub_003/task_000\", \"sub_003/task_001\"], \"tickvals\": [0, 1, 2, 3, 4, 5, 6, 7]}, \"xaxis\": {\"showticklabels\": false, \"title\": \"observations\", \"ticks\": \"\", \"mirror\": true, \"ticktext\": [\"sub_000/task_000\", \"sub_000/task_001\", \"sub_001/task_000\", \"sub_001/task_001\", \"sub_002/task_000\", \"sub_002/task_001\", \"sub_003/task_000\", \"sub_003/task_001\"], \"tickvals\": [0, 1, 2, 3, 4, 5, 6, 7]}, \"height\": 600}, {\"linkText\": \"Export to plot.ly\", \"showLink\": true})});</script>"
      ]
     },
     "metadata": {},
     "output_type": "display_data"
    }
   ],
   "source": [
    "from lemur.distance.functions import FroMetric, ErosMetric\n",
    "dataset.setDistanceMetric(FroMetric)\n",
    "dmp = lpl.DistanceMatrixPlotter(dataset)\n",
    "dmp.plot()"
   ]
  },
  {
   "cell_type": "code",
   "execution_count": 5,
   "metadata": {},
   "outputs": [
    {
     "data": {
      "text/plain": [
       "array([[        0.        ,   9239328.5995506 ,   4100954.20078464,\n",
       "          4274145.81919082,   3641685.37131055,  14342949.01815172,\n",
       "          4366539.51824939,   4351029.48299901],\n",
       "       [  9239328.5995506 ,         0.        ,  10960376.08552901,\n",
       "         11071094.        ,   9177173.18076313,  11026281.        ,\n",
       "         11139925.91761054,  11123638.        ],\n",
       "       [  4100954.20078464,  10960376.08552901,         0.        ,\n",
       "           407189.21789942,   2607894.27254646,  15156533.82220215,\n",
       "           643102.61059763,    627960.22941157],\n",
       "       [  4274145.81919082,  11071094.        ,    407189.21789942,\n",
       "                0.        ,   2788067.94983107,  15225352.        ,\n",
       "           349256.67146388,    340298.1875    ],\n",
       "       [  3641685.37131055,   9177173.18076313,   2607894.27254646,\n",
       "          2788067.94983107,         0.        ,  13652584.71238211,\n",
       "          2897725.79293133,   2868523.28555759],\n",
       "       [ 14342949.01815172,  11026281.        ,  15156533.82220215,\n",
       "         15225352.        ,  13652584.71238211,         0.        ,\n",
       "         15264665.2365535 ,  15259252.        ],\n",
       "       [  4366539.51824939,  11139925.91761054,    643102.61059763,\n",
       "           349256.67146388,   2897725.79293133,  15264665.2365535 ,\n",
       "                0.        ,    205806.14919583],\n",
       "       [  4351029.48299901,  11123638.        ,    627960.22941157,\n",
       "           340298.1875    ,   2868523.28555759,  15259252.        ,\n",
       "           205806.14919583,         0.        ]])"
      ]
     },
     "execution_count": 5,
     "metadata": {},
     "output_type": "execute_result"
    }
   ],
   "source": [
    "dataset.distanceMatrix"
   ]
  },
  {
   "cell_type": "code",
   "execution_count": 6,
   "metadata": {},
   "outputs": [
    {
     "data": {
      "application/vnd.plotly.v1+json": {
       "data": [
        {
         "marker": {
          "color": "rgb(61,153,112)"
         },
         "mode": "lines",
         "type": "scatter",
         "x": [
          25,
          25,
          35,
          35
         ],
         "xaxis": "x",
         "y": [
          0,
          293955.4987697969,
          293955.4987697969,
          0
         ],
         "yaxis": "y"
        },
        {
         "marker": {
          "color": "rgb(61,153,112)"
         },
         "mode": "lines",
         "type": "scatter",
         "x": [
          15,
          15,
          30,
          30
         ],
         "xaxis": "x",
         "y": [
          0,
          586982.5244204692,
          586982.5244204692,
          293955.4987697969
         ],
         "yaxis": "y"
        },
        {
         "marker": {
          "color": "rgb(61,153,112)"
         },
         "mode": "lines",
         "type": "scatter",
         "x": [
          5,
          5,
          22.5,
          22.5
         ],
         "xaxis": "x",
         "y": [
          0,
          1098726.808140157,
          1098726.808140157,
          586982.5244204692
         ],
         "yaxis": "y"
        },
        {
         "marker": {
          "color": "rgb(61,153,112)"
         },
         "mode": "lines",
         "type": "scatter",
         "x": [
          45,
          45,
          55,
          55
         ],
         "xaxis": "x",
         "y": [
          0,
          5983068.161591202,
          5983068.161591202,
          0
         ],
         "yaxis": "y"
        },
        {
         "marker": {
          "color": "rgb(61,153,112)"
         },
         "mode": "lines",
         "type": "scatter",
         "x": [
          13.75,
          13.75,
          50,
          50
         ],
         "xaxis": "x",
         "y": [
          1098726.808140157,
          9364799.746325284,
          9364799.746325284,
          5983068.161591202
         ],
         "yaxis": "y"
        },
        {
         "marker": {
          "color": "rgb(255,65,54)"
         },
         "mode": "lines",
         "type": "scatter",
         "x": [
          65,
          65,
          75,
          75
         ],
         "xaxis": "x",
         "y": [
          0,
          18926604.873147964,
          18926604.873147964,
          0
         ],
         "yaxis": "y"
        },
        {
         "marker": {
          "color": "rgb(0,116,217)"
         },
         "mode": "lines",
         "type": "scatter",
         "x": [
          31.875,
          31.875,
          70,
          70
         ],
         "xaxis": "x",
         "y": [
          9364799.746325284,
          36682843.120121785,
          36682843.120121785,
          18926604.873147964
         ],
         "yaxis": "y"
        }
       ],
       "layout": {
        "autosize": false,
        "height": 500,
        "hovermode": "closest",
        "showlegend": false,
        "width": 800,
        "xaxis": {
         "mirror": "allticks",
         "rangemode": "tozero",
         "showgrid": false,
         "showline": true,
         "showticklabels": true,
         "tickmode": "array",
         "ticks": "outside",
         "ticktext": [
          "sub_001/task_000",
          "sub_001/task_001",
          "sub_003/task_000",
          "sub_003/task_001",
          "sub_000/task_000",
          "sub_002/task_000",
          "sub_000/task_001",
          "sub_002/task_001"
         ],
         "tickvals": [
          5,
          15,
          25,
          35,
          45,
          55,
          65,
          75
         ],
         "type": "linear",
         "zeroline": false
        },
        "yaxis": {
         "showticklabels": false
        }
       }
      },
      "text/html": [
       "<div id=\"3bc20d20-d983-4e97-986b-f9bde7abd4df\" style=\"height: 500px; width: 800px;\" class=\"plotly-graph-div\"></div><script type=\"text/javascript\">require([\"plotly\"], function(Plotly) { window.PLOTLYENV=window.PLOTLYENV || {};window.PLOTLYENV.BASE_URL=\"https://plot.ly\";Plotly.newPlot(\"3bc20d20-d983-4e97-986b-f9bde7abd4df\", [{\"yaxis\": \"y\", \"marker\": {\"color\": \"rgb(61,153,112)\"}, \"mode\": \"lines\", \"xaxis\": \"x\", \"y\": [0.0, 293955.4987697969, 293955.4987697969, 0.0], \"x\": [25.0, 25.0, 35.0, 35.0], \"type\": \"scatter\"}, {\"yaxis\": \"y\", \"marker\": {\"color\": \"rgb(61,153,112)\"}, \"mode\": \"lines\", \"xaxis\": \"x\", \"y\": [0.0, 586982.5244204692, 586982.5244204692, 293955.4987697969], \"x\": [15.0, 15.0, 30.0, 30.0], \"type\": \"scatter\"}, {\"yaxis\": \"y\", \"marker\": {\"color\": \"rgb(61,153,112)\"}, \"mode\": \"lines\", \"xaxis\": \"x\", \"y\": [0.0, 1098726.808140157, 1098726.808140157, 586982.5244204692], \"x\": [5.0, 5.0, 22.5, 22.5], \"type\": \"scatter\"}, {\"yaxis\": \"y\", \"marker\": {\"color\": \"rgb(61,153,112)\"}, \"mode\": \"lines\", \"xaxis\": \"x\", \"y\": [0.0, 5983068.161591202, 5983068.161591202, 0.0], \"x\": [45.0, 45.0, 55.0, 55.0], \"type\": \"scatter\"}, {\"yaxis\": \"y\", \"marker\": {\"color\": \"rgb(61,153,112)\"}, \"mode\": \"lines\", \"xaxis\": \"x\", \"y\": [1098726.808140157, 9364799.746325284, 9364799.746325284, 5983068.161591202], \"x\": [13.75, 13.75, 50.0, 50.0], \"type\": \"scatter\"}, {\"yaxis\": \"y\", \"marker\": {\"color\": \"rgb(255,65,54)\"}, \"mode\": \"lines\", \"xaxis\": \"x\", \"y\": [0.0, 18926604.873147964, 18926604.873147964, 0.0], \"x\": [65.0, 65.0, 75.0, 75.0], \"type\": \"scatter\"}, {\"yaxis\": \"y\", \"marker\": {\"color\": \"rgb(0,116,217)\"}, \"mode\": \"lines\", \"xaxis\": \"x\", \"y\": [9364799.746325284, 36682843.120121785, 36682843.120121785, 18926604.873147964], \"x\": [31.875, 31.875, 70.0, 70.0], \"type\": \"scatter\"}], {\"autosize\": false, \"yaxis\": {\"showticklabels\": false}, \"showlegend\": false, \"height\": 500, \"width\": 800, \"xaxis\": {\"showticklabels\": true, \"tickmode\": \"array\", \"ticks\": \"outside\", \"showgrid\": false, \"mirror\": \"allticks\", \"zeroline\": false, \"showline\": true, \"ticktext\": [\"sub_001/task_000\", \"sub_001/task_001\", \"sub_003/task_000\", \"sub_003/task_001\", \"sub_000/task_000\", \"sub_002/task_000\", \"sub_000/task_001\", \"sub_002/task_001\"], \"rangemode\": \"tozero\", \"type\": \"linear\", \"tickvals\": [5.0, 15.0, 25.0, 35.0, 45.0, 55.0, 65.0, 75.0]}, \"hovermode\": \"closest\"}, {\"linkText\": \"Export to plot.ly\", \"showLink\": true})});</script>"
      ],
      "text/vnd.plotly.v1+html": [
       "<div id=\"3bc20d20-d983-4e97-986b-f9bde7abd4df\" style=\"height: 500px; width: 800px;\" class=\"plotly-graph-div\"></div><script type=\"text/javascript\">require([\"plotly\"], function(Plotly) { window.PLOTLYENV=window.PLOTLYENV || {};window.PLOTLYENV.BASE_URL=\"https://plot.ly\";Plotly.newPlot(\"3bc20d20-d983-4e97-986b-f9bde7abd4df\", [{\"yaxis\": \"y\", \"marker\": {\"color\": \"rgb(61,153,112)\"}, \"mode\": \"lines\", \"xaxis\": \"x\", \"y\": [0.0, 293955.4987697969, 293955.4987697969, 0.0], \"x\": [25.0, 25.0, 35.0, 35.0], \"type\": \"scatter\"}, {\"yaxis\": \"y\", \"marker\": {\"color\": \"rgb(61,153,112)\"}, \"mode\": \"lines\", \"xaxis\": \"x\", \"y\": [0.0, 586982.5244204692, 586982.5244204692, 293955.4987697969], \"x\": [15.0, 15.0, 30.0, 30.0], \"type\": \"scatter\"}, {\"yaxis\": \"y\", \"marker\": {\"color\": \"rgb(61,153,112)\"}, \"mode\": \"lines\", \"xaxis\": \"x\", \"y\": [0.0, 1098726.808140157, 1098726.808140157, 586982.5244204692], \"x\": [5.0, 5.0, 22.5, 22.5], \"type\": \"scatter\"}, {\"yaxis\": \"y\", \"marker\": {\"color\": \"rgb(61,153,112)\"}, \"mode\": \"lines\", \"xaxis\": \"x\", \"y\": [0.0, 5983068.161591202, 5983068.161591202, 0.0], \"x\": [45.0, 45.0, 55.0, 55.0], \"type\": \"scatter\"}, {\"yaxis\": \"y\", \"marker\": {\"color\": \"rgb(61,153,112)\"}, \"mode\": \"lines\", \"xaxis\": \"x\", \"y\": [1098726.808140157, 9364799.746325284, 9364799.746325284, 5983068.161591202], \"x\": [13.75, 13.75, 50.0, 50.0], \"type\": \"scatter\"}, {\"yaxis\": \"y\", \"marker\": {\"color\": \"rgb(255,65,54)\"}, \"mode\": \"lines\", \"xaxis\": \"x\", \"y\": [0.0, 18926604.873147964, 18926604.873147964, 0.0], \"x\": [65.0, 65.0, 75.0, 75.0], \"type\": \"scatter\"}, {\"yaxis\": \"y\", \"marker\": {\"color\": \"rgb(0,116,217)\"}, \"mode\": \"lines\", \"xaxis\": \"x\", \"y\": [9364799.746325284, 36682843.120121785, 36682843.120121785, 18926604.873147964], \"x\": [31.875, 31.875, 70.0, 70.0], \"type\": \"scatter\"}], {\"autosize\": false, \"yaxis\": {\"showticklabels\": false}, \"showlegend\": false, \"height\": 500, \"width\": 800, \"xaxis\": {\"showticklabels\": true, \"tickmode\": \"array\", \"ticks\": \"outside\", \"showgrid\": false, \"mirror\": \"allticks\", \"zeroline\": false, \"showline\": true, \"ticktext\": [\"sub_001/task_000\", \"sub_001/task_001\", \"sub_003/task_000\", \"sub_003/task_001\", \"sub_000/task_000\", \"sub_002/task_000\", \"sub_000/task_001\", \"sub_002/task_001\"], \"rangemode\": \"tozero\", \"type\": \"linear\", \"tickvals\": [5.0, 15.0, 25.0, 35.0, 45.0, 55.0, 65.0, 75.0]}, \"hovermode\": \"closest\"}, {\"linkText\": \"Export to plot.ly\", \"showLink\": true})});</script>"
      ]
     },
     "metadata": {},
     "output_type": "display_data"
    }
   ],
   "source": [
    "lpl.DendrogramBIDS(dataset).plot()"
   ]
  },
  {
   "cell_type": "code",
   "execution_count": 7,
   "metadata": {},
   "outputs": [
    {
     "name": "stdout",
     "output_type": "stream",
     "text": [
      "Loading subject NDARAA075AMK paradigm RestingState\n",
      "Loading subject NDARAA075AMK paradigm Video1\n",
      "Subject NDARAA075AMK did not have paradigm Video2\n",
      "Subject NDARAA075AMK did not have paradigm Video3\n",
      "Subject NDARAA075AMK did not have paradigm Video4\n",
      "Subject NDARAA075AMK did not have paradigm vis_learn\n",
      "Subject NDARAA075AMK did not have paradigm WISC_ProcSpeed\n",
      "Loading subject NDARAA075AMK paradigm RestingState\n",
      "Loading subject NDARAA075AMK paradigm Video1\n",
      "Loading subject NDARAD481FXF paradigm RestingState\n",
      "Loading subject NDARAD481FXF paradigm Video1\n",
      "Loading subject NDARAE199TDD paradigm RestingState\n",
      "Loading subject NDARAE199TDD paradigm Video1\n",
      "Loading subject NDARAJ366ZFA paradigm RestingState\n",
      "Loading subject NDARAJ366ZFA paradigm Video1\n"
     ]
    }
   ],
   "source": [
    "\n",
    "paradigms = [\"RestingState\",\n",
    "             #\"SAIIT_2AFC_Block1\",\n",
    "             #\"SAIIT_2AFC_Block2\",\n",
    "             #\"SAIIT_2AFC_Block3\",\n",
    "             #\"SurroundSupp_Block1\",\n",
    "             #\"SurroundSupp_Block2\",\n",
    "             \"Video1\",\n",
    "             \"Video2\",\n",
    "             \"Video3\",\n",
    "             \"Video4\",\n",
    "             \"vis_learn\",\n",
    "             \"WISC_ProcSpeed\"\n",
    "            ]\n",
    "\n",
    "D = {}\n",
    "used_paradigms = []\n",
    "for p in paradigms:\n",
    "    file_name = \"%s_%s_data.pkl\" % (SUBJECT, p)\n",
    "    file_path = os.path.join(BASE_PATH, DATASET, SUBJECT, file_name)\n",
    "    if os.path.exists(file_path):\n",
    "        used_paradigms.append(p)\n",
    "        with open(file_path, 'rb') as f:\n",
    "            print(\"Loading subject %s paradigm %s\" % (SUBJECT, p))\n",
    "            D[p] = pkl.load(f)\n",
    "            D[p] = D[p].T\n",
    "    else:\n",
    "        print(\"Subject %s did not have paradigm %s\" % (SUBJECT, p))\n",
    "\n",
    "paradigms = ['RestingState', 'Video1']\n",
    "subjects = ['NDARAA075AMK', 'NDARAD481FXF', 'NDARAE199TDD', 'NDARAJ366ZFA']\n",
    "P = {}\n",
    "used_subjects = []\n",
    "for s in subjects:\n",
    "    for p in paradigms:\n",
    "        file_name = \"%s_%s_data.pkl\" % (s, p)\n",
    "        file_path = os.path.join(BASE_PATH, DATASET, s, file_name) \n",
    "        if os.path.exists(file_path):\n",
    "            with open(file_path, 'rb') as f:\n",
    "                print(\"Loading subject %s paradigm %s\" % (s, p))\n",
    "                P[s] = dict()\n",
    "                P[s][p] = pkl.load(f)\n",
    "                P[s][p] = P[s][p].T\n",
    "                used_subjects.append(s)\n",
    "        else:\n",
    "            print(\"Subject %s did not have paradigm %s\" % (s, p))"
   ]
  },
  {
   "cell_type": "code",
   "execution_count": 8,
   "metadata": {},
   "outputs": [
    {
     "data": {
      "text/plain": [
       "(183, 128)"
      ]
     },
     "execution_count": 8,
     "metadata": {},
     "output_type": "execute_result"
    }
   ],
   "source": [
    "D['RestingState'][::1000, :500].shape"
   ]
  },
  {
   "cell_type": "code",
   "execution_count": 9,
   "metadata": {},
   "outputs": [],
   "source": [
    "D['RestingState'][:,44] = np.zeros(D['RestingState'][:,44].shape)\n",
    "D['RestingState'][:,45] = np.zeros(D['RestingState'][:,45].shape)"
   ]
  },
  {
   "cell_type": "code",
   "execution_count": 10,
   "metadata": {},
   "outputs": [],
   "source": [
    "dp = lpl.DendrogramBase(lio.GenericDataObject(D['RestingState'][::1000], 128, 'Time', 'Electrode'))"
   ]
  },
  {
   "cell_type": "code",
   "execution_count": 11,
   "metadata": {},
   "outputs": [
    {
     "data": {
      "text/plain": [
       "(183, 128)"
      ]
     },
     "execution_count": 11,
     "metadata": {},
     "output_type": "execute_result"
    }
   ],
   "source": [
    "dp.getInfo()[0].shape"
   ]
  },
  {
   "cell_type": "code",
   "execution_count": 12,
   "metadata": {},
   "outputs": [
    {
     "data": {
      "application/vnd.plotly.v1+json": {
       "data": [
        {
         "marker": {
          "color": "rgb(61,153,112)"
         },
         "mode": "lines",
         "type": "scatter",
         "x": [
          15,
          15,
          25,
          25
         ],
         "xaxis": "x",
         "y": [
          0,
          34598.8606748835,
          34598.8606748835,
          0
         ],
         "yaxis": "y"
        },
        {
         "marker": {
          "color": "rgb(61,153,112)"
         },
         "mode": "lines",
         "type": "scatter",
         "x": [
          5,
          5,
          20,
          20
         ],
         "xaxis": "x",
         "y": [
          0,
          70690.46722861577,
          70690.46722861577,
          34598.8606748835
         ],
         "yaxis": "y"
        },
        {
         "marker": {
          "color": "rgb(61,153,112)"
         },
         "mode": "lines",
         "type": "scatter",
         "x": [
          45,
          45,
          55,
          55
         ],
         "xaxis": "x",
         "y": [
          0,
          20865.286865988688,
          20865.286865988688,
          0
         ],
         "yaxis": "y"
        },
        {
         "marker": {
          "color": "rgb(61,153,112)"
         },
         "mode": "lines",
         "type": "scatter",
         "x": [
          35,
          35,
          50,
          50
         ],
         "xaxis": "x",
         "y": [
          0,
          48313.12504899678,
          48313.12504899678,
          20865.286865988688
         ],
         "yaxis": "y"
        },
        {
         "marker": {
          "color": "rgb(61,153,112)"
         },
         "mode": "lines",
         "type": "scatter",
         "x": [
          65,
          65,
          75,
          75
         ],
         "xaxis": "x",
         "y": [
          0,
          13314.620122256587,
          13314.620122256587,
          0
         ],
         "yaxis": "y"
        },
        {
         "marker": {
          "color": "rgb(61,153,112)"
         },
         "mode": "lines",
         "type": "scatter",
         "x": [
          105,
          105,
          115,
          115
         ],
         "xaxis": "x",
         "y": [
          0,
          9163.827257210822,
          9163.827257210822,
          0
         ],
         "yaxis": "y"
        },
        {
         "marker": {
          "color": "rgb(61,153,112)"
         },
         "mode": "lines",
         "type": "scatter",
         "x": [
          95,
          95,
          110,
          110
         ],
         "xaxis": "x",
         "y": [
          0,
          21899.01486368736,
          21899.01486368736,
          9163.827257210822
         ],
         "yaxis": "y"
        },
        {
         "marker": {
          "color": "rgb(61,153,112)"
         },
         "mode": "lines",
         "type": "scatter",
         "x": [
          85,
          85,
          102.5,
          102.5
         ],
         "xaxis": "x",
         "y": [
          0,
          25502.182573262235,
          25502.182573262235,
          21899.01486368736
         ],
         "yaxis": "y"
        },
        {
         "marker": {
          "color": "rgb(61,153,112)"
         },
         "mode": "lines",
         "type": "scatter",
         "x": [
          70,
          70,
          93.75,
          93.75
         ],
         "xaxis": "x",
         "y": [
          13314.620122256587,
          50153.201931681295,
          50153.201931681295,
          25502.182573262235
         ],
         "yaxis": "y"
        },
        {
         "marker": {
          "color": "rgb(61,153,112)"
         },
         "mode": "lines",
         "type": "scatter",
         "x": [
          42.5,
          42.5,
          81.875,
          81.875
         ],
         "xaxis": "x",
         "y": [
          48313.12504899678,
          82470.7887860908,
          82470.7887860908,
          50153.201931681295
         ],
         "yaxis": "y"
        },
        {
         "marker": {
          "color": "rgb(61,153,112)"
         },
         "mode": "lines",
         "type": "scatter",
         "x": [
          12.5,
          12.5,
          62.1875,
          62.1875
         ],
         "xaxis": "x",
         "y": [
          70690.46722861577,
          140346.89222779393,
          140346.89222779393,
          82470.7887860908
         ],
         "yaxis": "y"
        },
        {
         "marker": {
          "color": "rgb(61,153,112)"
         },
         "mode": "lines",
         "type": "scatter",
         "x": [
          135,
          135,
          145,
          145
         ],
         "xaxis": "x",
         "y": [
          0,
          20144.73573914535,
          20144.73573914535,
          0
         ],
         "yaxis": "y"
        },
        {
         "marker": {
          "color": "rgb(61,153,112)"
         },
         "mode": "lines",
         "type": "scatter",
         "x": [
          165,
          165,
          175,
          175
         ],
         "xaxis": "x",
         "y": [
          0,
          9780.003425357274,
          9780.003425357274,
          0
         ],
         "yaxis": "y"
        },
        {
         "marker": {
          "color": "rgb(61,153,112)"
         },
         "mode": "lines",
         "type": "scatter",
         "x": [
          155,
          155,
          170,
          170
         ],
         "xaxis": "x",
         "y": [
          0,
          46323.00919629466,
          46323.00919629466,
          9780.003425357274
         ],
         "yaxis": "y"
        },
        {
         "marker": {
          "color": "rgb(61,153,112)"
         },
         "mode": "lines",
         "type": "scatter",
         "x": [
          140,
          140,
          162.5,
          162.5
         ],
         "xaxis": "x",
         "y": [
          20144.73573914535,
          77662.45965072185,
          77662.45965072185,
          46323.00919629466
         ],
         "yaxis": "y"
        },
        {
         "marker": {
          "color": "rgb(61,153,112)"
         },
         "mode": "lines",
         "type": "scatter",
         "x": [
          125,
          125,
          151.25,
          151.25
         ],
         "xaxis": "x",
         "y": [
          0,
          165691.1855048421,
          165691.1855048421,
          77662.45965072185
         ],
         "yaxis": "y"
        },
        {
         "marker": {
          "color": "rgb(61,153,112)"
         },
         "mode": "lines",
         "type": "scatter",
         "x": [
          37.34375,
          37.34375,
          138.125,
          138.125
         ],
         "xaxis": "x",
         "y": [
          140346.89222779393,
          299805.48210297956,
          299805.48210297956,
          165691.1855048421
         ],
         "yaxis": "y"
        },
        {
         "marker": {
          "color": "rgb(255,65,54)"
         },
         "mode": "lines",
         "type": "scatter",
         "x": [
          185,
          185,
          195,
          195
         ],
         "xaxis": "x",
         "y": [
          0,
          5050.993763607316,
          5050.993763607316,
          0
         ],
         "yaxis": "y"
        },
        {
         "marker": {
          "color": "rgb(255,65,54)"
         },
         "mode": "lines",
         "type": "scatter",
         "x": [
          205,
          205,
          215,
          215
         ],
         "xaxis": "x",
         "y": [
          0,
          6001.56312971879,
          6001.56312971879,
          0
         ],
         "yaxis": "y"
        },
        {
         "marker": {
          "color": "rgb(255,65,54)"
         },
         "mode": "lines",
         "type": "scatter",
         "x": [
          190,
          190,
          210,
          210
         ],
         "xaxis": "x",
         "y": [
          5050.993763607316,
          29073.30029425624,
          29073.30029425624,
          6001.56312971879
         ],
         "yaxis": "y"
        },
        {
         "marker": {
          "color": "rgb(255,65,54)"
         },
         "mode": "lines",
         "type": "scatter",
         "x": [
          225,
          225,
          235,
          235
         ],
         "xaxis": "x",
         "y": [
          0,
          2003.2892951343797,
          2003.2892951343797,
          0
         ],
         "yaxis": "y"
        },
        {
         "marker": {
          "color": "rgb(255,65,54)"
         },
         "mode": "lines",
         "type": "scatter",
         "x": [
          255,
          255,
          265,
          265
         ],
         "xaxis": "x",
         "y": [
          0,
          1668.4768503038931,
          1668.4768503038931,
          0
         ],
         "yaxis": "y"
        },
        {
         "marker": {
          "color": "rgb(255,65,54)"
         },
         "mode": "lines",
         "type": "scatter",
         "x": [
          245,
          245,
          260,
          260
         ],
         "xaxis": "x",
         "y": [
          0,
          11962.050702116256,
          11962.050702116256,
          1668.4768503038931
         ],
         "yaxis": "y"
        },
        {
         "marker": {
          "color": "rgb(255,65,54)"
         },
         "mode": "lines",
         "type": "scatter",
         "x": [
          230,
          230,
          252.5,
          252.5
         ],
         "xaxis": "x",
         "y": [
          2003.2892951343797,
          14115.421566499528,
          14115.421566499528,
          11962.050702116256
         ],
         "yaxis": "y"
        },
        {
         "marker": {
          "color": "rgb(255,65,54)"
         },
         "mode": "lines",
         "type": "scatter",
         "x": [
          275,
          275,
          285,
          285
         ],
         "xaxis": "x",
         "y": [
          0,
          13140.093264509198,
          13140.093264509198,
          0
         ],
         "yaxis": "y"
        },
        {
         "marker": {
          "color": "rgb(255,65,54)"
         },
         "mode": "lines",
         "type": "scatter",
         "x": [
          295,
          295,
          305,
          305
         ],
         "xaxis": "x",
         "y": [
          0,
          4510.07815896798,
          4510.07815896798,
          0
         ],
         "yaxis": "y"
        },
        {
         "marker": {
          "color": "rgb(255,65,54)"
         },
         "mode": "lines",
         "type": "scatter",
         "x": [
          315,
          315,
          325,
          325
         ],
         "xaxis": "x",
         "y": [
          0,
          7668.3303919432165,
          7668.3303919432165,
          0
         ],
         "yaxis": "y"
        },
        {
         "marker": {
          "color": "rgb(255,65,54)"
         },
         "mode": "lines",
         "type": "scatter",
         "x": [
          300,
          300,
          320,
          320
         ],
         "xaxis": "x",
         "y": [
          4510.07815896798,
          20536.353644208604,
          20536.353644208604,
          7668.3303919432165
         ],
         "yaxis": "y"
        },
        {
         "marker": {
          "color": "rgb(255,65,54)"
         },
         "mode": "lines",
         "type": "scatter",
         "x": [
          280,
          280,
          310,
          310
         ],
         "xaxis": "x",
         "y": [
          13140.093264509198,
          25993.608021973403,
          25993.608021973403,
          20536.353644208604
         ],
         "yaxis": "y"
        },
        {
         "marker": {
          "color": "rgb(255,65,54)"
         },
         "mode": "lines",
         "type": "scatter",
         "x": [
          241.25,
          241.25,
          295,
          295
         ],
         "xaxis": "x",
         "y": [
          14115.421566499528,
          44787.99735420194,
          44787.99735420194,
          25993.608021973403
         ],
         "yaxis": "y"
        },
        {
         "marker": {
          "color": "rgb(255,65,54)"
         },
         "mode": "lines",
         "type": "scatter",
         "x": [
          200,
          200,
          268.125,
          268.125
         ],
         "xaxis": "x",
         "y": [
          29073.30029425624,
          70840.41956397491,
          70840.41956397491,
          44787.99735420194
         ],
         "yaxis": "y"
        },
        {
         "marker": {
          "color": "rgb(255,65,54)"
         },
         "mode": "lines",
         "type": "scatter",
         "x": [
          365,
          365,
          375,
          375
         ],
         "xaxis": "x",
         "y": [
          0,
          14669.883912287785,
          14669.883912287785,
          0
         ],
         "yaxis": "y"
        },
        {
         "marker": {
          "color": "rgb(255,65,54)"
         },
         "mode": "lines",
         "type": "scatter",
         "x": [
          355,
          355,
          370,
          370
         ],
         "xaxis": "x",
         "y": [
          0,
          27457.417850191232,
          27457.417850191232,
          14669.883912287785
         ],
         "yaxis": "y"
        },
        {
         "marker": {
          "color": "rgb(255,65,54)"
         },
         "mode": "lines",
         "type": "scatter",
         "x": [
          345,
          345,
          362.5,
          362.5
         ],
         "xaxis": "x",
         "y": [
          0,
          29154.169547424946,
          29154.169547424946,
          27457.417850191232
         ],
         "yaxis": "y"
        },
        {
         "marker": {
          "color": "rgb(255,65,54)"
         },
         "mode": "lines",
         "type": "scatter",
         "x": [
          335,
          335,
          353.75,
          353.75
         ],
         "xaxis": "x",
         "y": [
          0,
          59250.38385529667,
          59250.38385529667,
          29154.169547424946
         ],
         "yaxis": "y"
        },
        {
         "marker": {
          "color": "rgb(255,65,54)"
         },
         "mode": "lines",
         "type": "scatter",
         "x": [
          385,
          385,
          395,
          395
         ],
         "xaxis": "x",
         "y": [
          0,
          40853.82703003477,
          40853.82703003477,
          0
         ],
         "yaxis": "y"
        },
        {
         "marker": {
          "color": "rgb(255,65,54)"
         },
         "mode": "lines",
         "type": "scatter",
         "x": [
          405,
          405,
          415,
          415
         ],
         "xaxis": "x",
         "y": [
          0,
          7386.535453106551,
          7386.535453106551,
          0
         ],
         "yaxis": "y"
        },
        {
         "marker": {
          "color": "rgb(255,65,54)"
         },
         "mode": "lines",
         "type": "scatter",
         "x": [
          425,
          425,
          435,
          435
         ],
         "xaxis": "x",
         "y": [
          0,
          11467.78326443258,
          11467.78326443258,
          0
         ],
         "yaxis": "y"
        },
        {
         "marker": {
          "color": "rgb(255,65,54)"
         },
         "mode": "lines",
         "type": "scatter",
         "x": [
          410,
          410,
          430,
          430
         ],
         "xaxis": "x",
         "y": [
          7386.535453106551,
          26821.112709952955,
          26821.112709952955,
          11467.78326443258
         ],
         "yaxis": "y"
        },
        {
         "marker": {
          "color": "rgb(255,65,54)"
         },
         "mode": "lines",
         "type": "scatter",
         "x": [
          455,
          455,
          465,
          465
         ],
         "xaxis": "x",
         "y": [
          0,
          14074.289999854343,
          14074.289999854343,
          0
         ],
         "yaxis": "y"
        },
        {
         "marker": {
          "color": "rgb(255,65,54)"
         },
         "mode": "lines",
         "type": "scatter",
         "x": [
          445,
          445,
          460,
          460
         ],
         "xaxis": "x",
         "y": [
          0,
          28266.975925981187,
          28266.975925981187,
          14074.289999854343
         ],
         "yaxis": "y"
        },
        {
         "marker": {
          "color": "rgb(255,65,54)"
         },
         "mode": "lines",
         "type": "scatter",
         "x": [
          420,
          420,
          452.5,
          452.5
         ],
         "xaxis": "x",
         "y": [
          26821.112709952955,
          44590.01398295363,
          44590.01398295363,
          28266.975925981187
         ],
         "yaxis": "y"
        },
        {
         "marker": {
          "color": "rgb(255,65,54)"
         },
         "mode": "lines",
         "type": "scatter",
         "x": [
          390,
          390,
          436.25,
          436.25
         ],
         "xaxis": "x",
         "y": [
          40853.82703003477,
          65537.6655748433,
          65537.6655748433,
          44590.01398295363
         ],
         "yaxis": "y"
        },
        {
         "marker": {
          "color": "rgb(255,65,54)"
         },
         "mode": "lines",
         "type": "scatter",
         "x": [
          344.375,
          344.375,
          413.125,
          413.125
         ],
         "xaxis": "x",
         "y": [
          59250.38385529667,
          111577.30940473515,
          111577.30940473515,
          65537.6655748433
         ],
         "yaxis": "y"
        },
        {
         "marker": {
          "color": "rgb(255,65,54)"
         },
         "mode": "lines",
         "type": "scatter",
         "x": [
          234.0625,
          234.0625,
          378.75,
          378.75
         ],
         "xaxis": "x",
         "y": [
          70840.41956397491,
          168256.16799986857,
          168256.16799986857,
          111577.30940473515
         ],
         "yaxis": "y"
        },
        {
         "marker": {
          "color": "rgb(255,65,54)"
         },
         "mode": "lines",
         "type": "scatter",
         "x": [
          485,
          485,
          495,
          495
         ],
         "xaxis": "x",
         "y": [
          0,
          0,
          0,
          0
         ],
         "yaxis": "y"
        },
        {
         "marker": {
          "color": "rgb(255,65,54)"
         },
         "mode": "lines",
         "type": "scatter",
         "x": [
          475,
          475,
          490,
          490
         ],
         "xaxis": "x",
         "y": [
          0,
          0,
          0,
          0
         ],
         "yaxis": "y"
        },
        {
         "marker": {
          "color": "rgb(255,65,54)"
         },
         "mode": "lines",
         "type": "scatter",
         "x": [
          505,
          505,
          515,
          515
         ],
         "xaxis": "x",
         "y": [
          0,
          14044.33844827519,
          14044.33844827519,
          0
         ],
         "yaxis": "y"
        },
        {
         "marker": {
          "color": "rgb(255,65,54)"
         },
         "mode": "lines",
         "type": "scatter",
         "x": [
          535,
          535,
          545,
          545
         ],
         "xaxis": "x",
         "y": [
          0,
          12521.339196542778,
          12521.339196542778,
          0
         ],
         "yaxis": "y"
        },
        {
         "marker": {
          "color": "rgb(255,65,54)"
         },
         "mode": "lines",
         "type": "scatter",
         "x": [
          525,
          525,
          540,
          540
         ],
         "xaxis": "x",
         "y": [
          0,
          25783.29856069269,
          25783.29856069269,
          12521.339196542778
         ],
         "yaxis": "y"
        },
        {
         "marker": {
          "color": "rgb(255,65,54)"
         },
         "mode": "lines",
         "type": "scatter",
         "x": [
          510,
          510,
          532.5,
          532.5
         ],
         "xaxis": "x",
         "y": [
          14044.33844827519,
          34926.195956113865,
          34926.195956113865,
          25783.29856069269
         ],
         "yaxis": "y"
        },
        {
         "marker": {
          "color": "rgb(255,65,54)"
         },
         "mode": "lines",
         "type": "scatter",
         "x": [
          565,
          565,
          575,
          575
         ],
         "xaxis": "x",
         "y": [
          0,
          2153.2709191771164,
          2153.2709191771164,
          0
         ],
         "yaxis": "y"
        },
        {
         "marker": {
          "color": "rgb(255,65,54)"
         },
         "mode": "lines",
         "type": "scatter",
         "x": [
          555,
          555,
          570,
          570
         ],
         "xaxis": "x",
         "y": [
          0,
          9396.717201597894,
          9396.717201597894,
          2153.2709191771164
         ],
         "yaxis": "y"
        },
        {
         "marker": {
          "color": "rgb(255,65,54)"
         },
         "mode": "lines",
         "type": "scatter",
         "x": [
          585,
          585,
          595,
          595
         ],
         "xaxis": "x",
         "y": [
          0,
          12401.218778224966,
          12401.218778224966,
          0
         ],
         "yaxis": "y"
        },
        {
         "marker": {
          "color": "rgb(255,65,54)"
         },
         "mode": "lines",
         "type": "scatter",
         "x": [
          562.5,
          562.5,
          590,
          590
         ],
         "xaxis": "x",
         "y": [
          9396.717201597894,
          17166.029733111096,
          17166.029733111096,
          12401.218778224966
         ],
         "yaxis": "y"
        },
        {
         "marker": {
          "color": "rgb(255,65,54)"
         },
         "mode": "lines",
         "type": "scatter",
         "x": [
          625,
          625,
          635,
          635
         ],
         "xaxis": "x",
         "y": [
          0,
          9489.428632215146,
          9489.428632215146,
          0
         ],
         "yaxis": "y"
        },
        {
         "marker": {
          "color": "rgb(255,65,54)"
         },
         "mode": "lines",
         "type": "scatter",
         "x": [
          615,
          615,
          630,
          630
         ],
         "xaxis": "x",
         "y": [
          0,
          11490.684149408207,
          11490.684149408207,
          9489.428632215146
         ],
         "yaxis": "y"
        },
        {
         "marker": {
          "color": "rgb(255,65,54)"
         },
         "mode": "lines",
         "type": "scatter",
         "x": [
          605,
          605,
          622.5,
          622.5
         ],
         "xaxis": "x",
         "y": [
          0,
          19045.219100004724,
          19045.219100004724,
          11490.684149408207
         ],
         "yaxis": "y"
        },
        {
         "marker": {
          "color": "rgb(255,65,54)"
         },
         "mode": "lines",
         "type": "scatter",
         "x": [
          576.25,
          576.25,
          613.75,
          613.75
         ],
         "xaxis": "x",
         "y": [
          17166.029733111096,
          29523.785126998726,
          29523.785126998726,
          19045.219100004724
         ],
         "yaxis": "y"
        },
        {
         "marker": {
          "color": "rgb(255,65,54)"
         },
         "mode": "lines",
         "type": "scatter",
         "x": [
          645,
          645,
          655,
          655
         ],
         "xaxis": "x",
         "y": [
          0,
          13063.370388972715,
          13063.370388972715,
          0
         ],
         "yaxis": "y"
        },
        {
         "marker": {
          "color": "rgb(255,65,54)"
         },
         "mode": "lines",
         "type": "scatter",
         "x": [
          665,
          665,
          675,
          675
         ],
         "xaxis": "x",
         "y": [
          0,
          4770.522577071339,
          4770.522577071339,
          0
         ],
         "yaxis": "y"
        },
        {
         "marker": {
          "color": "rgb(255,65,54)"
         },
         "mode": "lines",
         "type": "scatter",
         "x": [
          695,
          695,
          705,
          705
         ],
         "xaxis": "x",
         "y": [
          0,
          1478.6749407219852,
          1478.6749407219852,
          0
         ],
         "yaxis": "y"
        },
        {
         "marker": {
          "color": "rgb(255,65,54)"
         },
         "mode": "lines",
         "type": "scatter",
         "x": [
          685,
          685,
          700,
          700
         ],
         "xaxis": "x",
         "y": [
          0,
          5266.48356222241,
          5266.48356222241,
          1478.6749407219852
         ],
         "yaxis": "y"
        },
        {
         "marker": {
          "color": "rgb(255,65,54)"
         },
         "mode": "lines",
         "type": "scatter",
         "x": [
          670,
          670,
          692.5,
          692.5
         ],
         "xaxis": "x",
         "y": [
          4770.522577071339,
          11001.407729872297,
          11001.407729872297,
          5266.48356222241
         ],
         "yaxis": "y"
        },
        {
         "marker": {
          "color": "rgb(255,65,54)"
         },
         "mode": "lines",
         "type": "scatter",
         "x": [
          735,
          735,
          745,
          745
         ],
         "xaxis": "x",
         "y": [
          0,
          3718.165132998744,
          3718.165132998744,
          0
         ],
         "yaxis": "y"
        },
        {
         "marker": {
          "color": "rgb(255,65,54)"
         },
         "mode": "lines",
         "type": "scatter",
         "x": [
          725,
          725,
          740,
          740
         ],
         "xaxis": "x",
         "y": [
          0,
          7073.084822483935,
          7073.084822483935,
          3718.165132998744
         ],
         "yaxis": "y"
        },
        {
         "marker": {
          "color": "rgb(255,65,54)"
         },
         "mode": "lines",
         "type": "scatter",
         "x": [
          715,
          715,
          732.5,
          732.5
         ],
         "xaxis": "x",
         "y": [
          0,
          15252.545276943545,
          15252.545276943545,
          7073.084822483935
         ],
         "yaxis": "y"
        },
        {
         "marker": {
          "color": "rgb(255,65,54)"
         },
         "mode": "lines",
         "type": "scatter",
         "x": [
          681.25,
          681.25,
          723.75,
          723.75
         ],
         "xaxis": "x",
         "y": [
          11001.407729872297,
          19129.281138506172,
          19129.281138506172,
          15252.545276943545
         ],
         "yaxis": "y"
        },
        {
         "marker": {
          "color": "rgb(255,65,54)"
         },
         "mode": "lines",
         "type": "scatter",
         "x": [
          650,
          650,
          702.5,
          702.5
         ],
         "xaxis": "x",
         "y": [
          13063.370388972715,
          32733.84127257279,
          32733.84127257279,
          19129.281138506172
         ],
         "yaxis": "y"
        },
        {
         "marker": {
          "color": "rgb(255,65,54)"
         },
         "mode": "lines",
         "type": "scatter",
         "x": [
          595,
          595,
          676.25,
          676.25
         ],
         "xaxis": "x",
         "y": [
          29523.785126998726,
          42506.62939282625,
          42506.62939282625,
          32733.84127257279
         ],
         "yaxis": "y"
        },
        {
         "marker": {
          "color": "rgb(255,65,54)"
         },
         "mode": "lines",
         "type": "scatter",
         "x": [
          521.25,
          521.25,
          635.625,
          635.625
         ],
         "xaxis": "x",
         "y": [
          34926.195956113865,
          67498.3644649989,
          67498.3644649989,
          42506.62939282625
         ],
         "yaxis": "y"
        },
        {
         "marker": {
          "color": "rgb(255,65,54)"
         },
         "mode": "lines",
         "type": "scatter",
         "x": [
          482.5,
          482.5,
          578.4375,
          578.4375
         ],
         "xaxis": "x",
         "y": [
          0,
          107924.8091977348,
          107924.8091977348,
          67498.3644649989
         ],
         "yaxis": "y"
        },
        {
         "marker": {
          "color": "rgb(255,65,54)"
         },
         "mode": "lines",
         "type": "scatter",
         "x": [
          755,
          755,
          765,
          765
         ],
         "xaxis": "x",
         "y": [
          0,
          14769.379386833776,
          14769.379386833776,
          0
         ],
         "yaxis": "y"
        },
        {
         "marker": {
          "color": "rgb(255,65,54)"
         },
         "mode": "lines",
         "type": "scatter",
         "x": [
          805,
          805,
          815,
          815
         ],
         "xaxis": "x",
         "y": [
          0,
          4367.491680212536,
          4367.491680212536,
          0
         ],
         "yaxis": "y"
        },
        {
         "marker": {
          "color": "rgb(255,65,54)"
         },
         "mode": "lines",
         "type": "scatter",
         "x": [
          795,
          795,
          810,
          810
         ],
         "xaxis": "x",
         "y": [
          0,
          7402.674376044773,
          7402.674376044773,
          4367.491680212536
         ],
         "yaxis": "y"
        },
        {
         "marker": {
          "color": "rgb(255,65,54)"
         },
         "mode": "lines",
         "type": "scatter",
         "x": [
          785,
          785,
          802.5,
          802.5
         ],
         "xaxis": "x",
         "y": [
          0,
          12240.557498597764,
          12240.557498597764,
          7402.674376044773
         ],
         "yaxis": "y"
        },
        {
         "marker": {
          "color": "rgb(255,65,54)"
         },
         "mode": "lines",
         "type": "scatter",
         "x": [
          835,
          835,
          845,
          845
         ],
         "xaxis": "x",
         "y": [
          0,
          6648.333572869467,
          6648.333572869467,
          0
         ],
         "yaxis": "y"
        },
        {
         "marker": {
          "color": "rgb(255,65,54)"
         },
         "mode": "lines",
         "type": "scatter",
         "x": [
          825,
          825,
          840,
          840
         ],
         "xaxis": "x",
         "y": [
          0,
          13085.05587720802,
          13085.05587720802,
          6648.333572869467
         ],
         "yaxis": "y"
        },
        {
         "marker": {
          "color": "rgb(255,65,54)"
         },
         "mode": "lines",
         "type": "scatter",
         "x": [
          793.75,
          793.75,
          832.5,
          832.5
         ],
         "xaxis": "x",
         "y": [
          12240.557498597764,
          19697.614853403964,
          19697.614853403964,
          13085.05587720802
         ],
         "yaxis": "y"
        },
        {
         "marker": {
          "color": "rgb(255,65,54)"
         },
         "mode": "lines",
         "type": "scatter",
         "x": [
          775,
          775,
          813.125,
          813.125
         ],
         "xaxis": "x",
         "y": [
          0,
          31535.436566671717,
          31535.436566671717,
          19697.614853403964
         ],
         "yaxis": "y"
        },
        {
         "marker": {
          "color": "rgb(255,65,54)"
         },
         "mode": "lines",
         "type": "scatter",
         "x": [
          760,
          760,
          794.0625,
          794.0625
         ],
         "xaxis": "x",
         "y": [
          14769.379386833776,
          36352.370265527396,
          36352.370265527396,
          31535.436566671717
         ],
         "yaxis": "y"
        },
        {
         "marker": {
          "color": "rgb(255,65,54)"
         },
         "mode": "lines",
         "type": "scatter",
         "x": [
          865,
          865,
          875,
          875
         ],
         "xaxis": "x",
         "y": [
          0,
          4511.761125398773,
          4511.761125398773,
          0
         ],
         "yaxis": "y"
        },
        {
         "marker": {
          "color": "rgb(255,65,54)"
         },
         "mode": "lines",
         "type": "scatter",
         "x": [
          855,
          855,
          870,
          870
         ],
         "xaxis": "x",
         "y": [
          0,
          5928.267033054242,
          5928.267033054242,
          4511.761125398773
         ],
         "yaxis": "y"
        },
        {
         "marker": {
          "color": "rgb(255,65,54)"
         },
         "mode": "lines",
         "type": "scatter",
         "x": [
          885,
          885,
          895,
          895
         ],
         "xaxis": "x",
         "y": [
          0,
          5981.858036218643,
          5981.858036218643,
          0
         ],
         "yaxis": "y"
        },
        {
         "marker": {
          "color": "rgb(255,65,54)"
         },
         "mode": "lines",
         "type": "scatter",
         "x": [
          862.5,
          862.5,
          890,
          890
         ],
         "xaxis": "x",
         "y": [
          5928.267033054242,
          11815.30237514142,
          11815.30237514142,
          5981.858036218643
         ],
         "yaxis": "y"
        },
        {
         "marker": {
          "color": "rgb(255,65,54)"
         },
         "mode": "lines",
         "type": "scatter",
         "x": [
          915,
          915,
          925,
          925
         ],
         "xaxis": "x",
         "y": [
          0,
          1184.4412184654839,
          1184.4412184654839,
          0
         ],
         "yaxis": "y"
        },
        {
         "marker": {
          "color": "rgb(255,65,54)"
         },
         "mode": "lines",
         "type": "scatter",
         "x": [
          945,
          945,
          955,
          955
         ],
         "xaxis": "x",
         "y": [
          0,
          1973.7829288439227,
          1973.7829288439227,
          0
         ],
         "yaxis": "y"
        },
        {
         "marker": {
          "color": "rgb(255,65,54)"
         },
         "mode": "lines",
         "type": "scatter",
         "x": [
          935,
          935,
          950,
          950
         ],
         "xaxis": "x",
         "y": [
          0,
          4181.445557417776,
          4181.445557417776,
          1973.7829288439227
         ],
         "yaxis": "y"
        },
        {
         "marker": {
          "color": "rgb(255,65,54)"
         },
         "mode": "lines",
         "type": "scatter",
         "x": [
          920,
          920,
          942.5,
          942.5
         ],
         "xaxis": "x",
         "y": [
          1184.4412184654839,
          5680.240422051256,
          5680.240422051256,
          4181.445557417776
         ],
         "yaxis": "y"
        },
        {
         "marker": {
          "color": "rgb(255,65,54)"
         },
         "mode": "lines",
         "type": "scatter",
         "x": [
          905,
          905,
          931.25,
          931.25
         ],
         "xaxis": "x",
         "y": [
          0,
          13458.137205928448,
          13458.137205928448,
          5680.240422051256
         ],
         "yaxis": "y"
        },
        {
         "marker": {
          "color": "rgb(255,65,54)"
         },
         "mode": "lines",
         "type": "scatter",
         "x": [
          876.25,
          876.25,
          918.125,
          918.125
         ],
         "xaxis": "x",
         "y": [
          11815.30237514142,
          16784.09315076625,
          16784.09315076625,
          13458.137205928448
         ],
         "yaxis": "y"
        },
        {
         "marker": {
          "color": "rgb(255,65,54)"
         },
         "mode": "lines",
         "type": "scatter",
         "x": [
          965,
          965,
          975,
          975
         ],
         "xaxis": "x",
         "y": [
          0,
          1571.5041098558372,
          1571.5041098558372,
          0
         ],
         "yaxis": "y"
        },
        {
         "marker": {
          "color": "rgb(255,65,54)"
         },
         "mode": "lines",
         "type": "scatter",
         "x": [
          985,
          985,
          995,
          995
         ],
         "xaxis": "x",
         "y": [
          0,
          4382.1328402589,
          4382.1328402589,
          0
         ],
         "yaxis": "y"
        },
        {
         "marker": {
          "color": "rgb(255,65,54)"
         },
         "mode": "lines",
         "type": "scatter",
         "x": [
          970,
          970,
          990,
          990
         ],
         "xaxis": "x",
         "y": [
          1571.5041098558372,
          7920.585040415161,
          7920.585040415161,
          4382.1328402589
         ],
         "yaxis": "y"
        },
        {
         "marker": {
          "color": "rgb(255,65,54)"
         },
         "mode": "lines",
         "type": "scatter",
         "x": [
          1005,
          1005,
          1015,
          1015
         ],
         "xaxis": "x",
         "y": [
          0,
          1152.5948643453141,
          1152.5948643453141,
          0
         ],
         "yaxis": "y"
        },
        {
         "marker": {
          "color": "rgb(255,65,54)"
         },
         "mode": "lines",
         "type": "scatter",
         "x": [
          1025,
          1025,
          1035,
          1035
         ],
         "xaxis": "x",
         "y": [
          0,
          2138.908431371696,
          2138.908431371696,
          0
         ],
         "yaxis": "y"
        },
        {
         "marker": {
          "color": "rgb(255,65,54)"
         },
         "mode": "lines",
         "type": "scatter",
         "x": [
          1010,
          1010,
          1030,
          1030
         ],
         "xaxis": "x",
         "y": [
          1152.5948643453141,
          5169.71761174804,
          5169.71761174804,
          2138.908431371696
         ],
         "yaxis": "y"
        },
        {
         "marker": {
          "color": "rgb(255,65,54)"
         },
         "mode": "lines",
         "type": "scatter",
         "x": [
          1045,
          1045,
          1055,
          1055
         ],
         "xaxis": "x",
         "y": [
          0,
          2010.9996286851397,
          2010.9996286851397,
          0
         ],
         "yaxis": "y"
        },
        {
         "marker": {
          "color": "rgb(255,65,54)"
         },
         "mode": "lines",
         "type": "scatter",
         "x": [
          1075,
          1075,
          1085,
          1085
         ],
         "xaxis": "x",
         "y": [
          0,
          2358.404336840771,
          2358.404336840771,
          0
         ],
         "yaxis": "y"
        },
        {
         "marker": {
          "color": "rgb(255,65,54)"
         },
         "mode": "lines",
         "type": "scatter",
         "x": [
          1065,
          1065,
          1080,
          1080
         ],
         "xaxis": "x",
         "y": [
          0,
          2545.34888995868,
          2545.34888995868,
          2358.404336840771
         ],
         "yaxis": "y"
        },
        {
         "marker": {
          "color": "rgb(255,65,54)"
         },
         "mode": "lines",
         "type": "scatter",
         "x": [
          1050,
          1050,
          1072.5,
          1072.5
         ],
         "xaxis": "x",
         "y": [
          2010.9996286851397,
          5282.843082635831,
          5282.843082635831,
          2545.34888995868
         ],
         "yaxis": "y"
        },
        {
         "marker": {
          "color": "rgb(255,65,54)"
         },
         "mode": "lines",
         "type": "scatter",
         "x": [
          1020,
          1020,
          1061.25,
          1061.25
         ],
         "xaxis": "x",
         "y": [
          5169.71761174804,
          11490.438579089367,
          11490.438579089367,
          5282.843082635831
         ],
         "yaxis": "y"
        },
        {
         "marker": {
          "color": "rgb(255,65,54)"
         },
         "mode": "lines",
         "type": "scatter",
         "x": [
          980,
          980,
          1040.625,
          1040.625
         ],
         "xaxis": "x",
         "y": [
          7920.585040415161,
          23036.52386436028,
          23036.52386436028,
          11490.438579089367
         ],
         "yaxis": "y"
        },
        {
         "marker": {
          "color": "rgb(255,65,54)"
         },
         "mode": "lines",
         "type": "scatter",
         "x": [
          897.1875,
          897.1875,
          1010.3125,
          1010.3125
         ],
         "xaxis": "x",
         "y": [
          16784.09315076625,
          39476.580234847,
          39476.580234847,
          23036.52386436028
         ],
         "yaxis": "y"
        },
        {
         "marker": {
          "color": "rgb(255,65,54)"
         },
         "mode": "lines",
         "type": "scatter",
         "x": [
          777.03125,
          777.03125,
          953.75,
          953.75
         ],
         "xaxis": "x",
         "y": [
          36352.370265527396,
          50161.46215925847,
          50161.46215925847,
          39476.580234847
         ],
         "yaxis": "y"
        },
        {
         "marker": {
          "color": "rgb(255,65,54)"
         },
         "mode": "lines",
         "type": "scatter",
         "x": [
          1115,
          1115,
          1125,
          1125
         ],
         "xaxis": "x",
         "y": [
          0,
          3833.6464364883727,
          3833.6464364883727,
          0
         ],
         "yaxis": "y"
        },
        {
         "marker": {
          "color": "rgb(255,65,54)"
         },
         "mode": "lines",
         "type": "scatter",
         "x": [
          1155,
          1155,
          1165,
          1165
         ],
         "xaxis": "x",
         "y": [
          0,
          2539.3369213241476,
          2539.3369213241476,
          0
         ],
         "yaxis": "y"
        },
        {
         "marker": {
          "color": "rgb(255,65,54)"
         },
         "mode": "lines",
         "type": "scatter",
         "x": [
          1145,
          1145,
          1160,
          1160
         ],
         "xaxis": "x",
         "y": [
          0,
          3223.3730780038477,
          3223.3730780038477,
          2539.3369213241476
         ],
         "yaxis": "y"
        },
        {
         "marker": {
          "color": "rgb(255,65,54)"
         },
         "mode": "lines",
         "type": "scatter",
         "x": [
          1135,
          1135,
          1152.5,
          1152.5
         ],
         "xaxis": "x",
         "y": [
          0,
          7703.92159877033,
          7703.92159877033,
          3223.3730780038477
         ],
         "yaxis": "y"
        },
        {
         "marker": {
          "color": "rgb(255,65,54)"
         },
         "mode": "lines",
         "type": "scatter",
         "x": [
          1120,
          1120,
          1143.75,
          1143.75
         ],
         "xaxis": "x",
         "y": [
          3833.6464364883727,
          13191.995148574002,
          13191.995148574002,
          7703.92159877033
         ],
         "yaxis": "y"
        },
        {
         "marker": {
          "color": "rgb(255,65,54)"
         },
         "mode": "lines",
         "type": "scatter",
         "x": [
          1105,
          1105,
          1131.875,
          1131.875
         ],
         "xaxis": "x",
         "y": [
          0,
          18613.04451184706,
          18613.04451184706,
          13191.995148574002
         ],
         "yaxis": "y"
        },
        {
         "marker": {
          "color": "rgb(255,65,54)"
         },
         "mode": "lines",
         "type": "scatter",
         "x": [
          1095,
          1095,
          1118.4375,
          1118.4375
         ],
         "xaxis": "x",
         "y": [
          0,
          28642.102314599742,
          28642.102314599742,
          18613.04451184706
         ],
         "yaxis": "y"
        },
        {
         "marker": {
          "color": "rgb(255,65,54)"
         },
         "mode": "lines",
         "type": "scatter",
         "x": [
          1175,
          1175,
          1185,
          1185
         ],
         "xaxis": "x",
         "y": [
          0,
          22577.62432143825,
          22577.62432143825,
          0
         ],
         "yaxis": "y"
        },
        {
         "marker": {
          "color": "rgb(255,65,54)"
         },
         "mode": "lines",
         "type": "scatter",
         "x": [
          1215,
          1215,
          1225,
          1225
         ],
         "xaxis": "x",
         "y": [
          0,
          7942.085242554376,
          7942.085242554376,
          0
         ],
         "yaxis": "y"
        },
        {
         "marker": {
          "color": "rgb(255,65,54)"
         },
         "mode": "lines",
         "type": "scatter",
         "x": [
          1205,
          1205,
          1220,
          1220
         ],
         "xaxis": "x",
         "y": [
          0,
          12630.737310228567,
          12630.737310228567,
          7942.085242554376
         ],
         "yaxis": "y"
        },
        {
         "marker": {
          "color": "rgb(255,65,54)"
         },
         "mode": "lines",
         "type": "scatter",
         "x": [
          1195,
          1195,
          1212.5,
          1212.5
         ],
         "xaxis": "x",
         "y": [
          0,
          21525.710717290913,
          21525.710717290913,
          12630.737310228567
         ],
         "yaxis": "y"
        },
        {
         "marker": {
          "color": "rgb(255,65,54)"
         },
         "mode": "lines",
         "type": "scatter",
         "x": [
          1265,
          1265,
          1275,
          1275
         ],
         "xaxis": "x",
         "y": [
          0,
          3304.6825868757805,
          3304.6825868757805,
          0
         ],
         "yaxis": "y"
        },
        {
         "marker": {
          "color": "rgb(255,65,54)"
         },
         "mode": "lines",
         "type": "scatter",
         "x": [
          1255,
          1255,
          1270,
          1270
         ],
         "xaxis": "x",
         "y": [
          0,
          5921.976697015955,
          5921.976697015955,
          3304.6825868757805
         ],
         "yaxis": "y"
        },
        {
         "marker": {
          "color": "rgb(255,65,54)"
         },
         "mode": "lines",
         "type": "scatter",
         "x": [
          1245,
          1245,
          1262.5,
          1262.5
         ],
         "xaxis": "x",
         "y": [
          0,
          17880.00321588338,
          17880.00321588338,
          5921.976697015955
         ],
         "yaxis": "y"
        },
        {
         "marker": {
          "color": "rgb(255,65,54)"
         },
         "mode": "lines",
         "type": "scatter",
         "x": [
          1235,
          1235,
          1253.75,
          1253.75
         ],
         "xaxis": "x",
         "y": [
          0,
          28859.978257095067,
          28859.978257095067,
          17880.00321588338
         ],
         "yaxis": "y"
        },
        {
         "marker": {
          "color": "rgb(255,65,54)"
         },
         "mode": "lines",
         "type": "scatter",
         "x": [
          1203.75,
          1203.75,
          1244.375,
          1244.375
         ],
         "xaxis": "x",
         "y": [
          21525.710717290913,
          36799.49029386683,
          36799.49029386683,
          28859.978257095067
         ],
         "yaxis": "y"
        },
        {
         "marker": {
          "color": "rgb(255,65,54)"
         },
         "mode": "lines",
         "type": "scatter",
         "x": [
          1180,
          1180,
          1224.0625,
          1224.0625
         ],
         "xaxis": "x",
         "y": [
          22577.62432143825,
          59574.119576197045,
          59574.119576197045,
          36799.49029386683
         ],
         "yaxis": "y"
        },
        {
         "marker": {
          "color": "rgb(255,65,54)"
         },
         "mode": "lines",
         "type": "scatter",
         "x": [
          1106.71875,
          1106.71875,
          1202.03125,
          1202.03125
         ],
         "xaxis": "x",
         "y": [
          28642.102314599742,
          63761.51648918021,
          63761.51648918021,
          59574.119576197045
         ],
         "yaxis": "y"
        },
        {
         "marker": {
          "color": "rgb(255,65,54)"
         },
         "mode": "lines",
         "type": "scatter",
         "x": [
          865.390625,
          865.390625,
          1154.375,
          1154.375
         ],
         "xaxis": "x",
         "y": [
          50161.46215925847,
          115149.37842404249,
          115149.37842404249,
          63761.51648918021
         ],
         "yaxis": "y"
        },
        {
         "marker": {
          "color": "rgb(255,65,54)"
         },
         "mode": "lines",
         "type": "scatter",
         "x": [
          530.46875,
          530.46875,
          1009.8828125,
          1009.8828125
         ],
         "xaxis": "x",
         "y": [
          107924.8091977348,
          220661.27140257304,
          220661.27140257304,
          115149.37842404249
         ],
         "yaxis": "y"
        },
        {
         "marker": {
          "color": "rgb(255,65,54)"
         },
         "mode": "lines",
         "type": "scatter",
         "x": [
          306.40625,
          306.40625,
          770.17578125,
          770.17578125
         ],
         "xaxis": "x",
         "y": [
          168256.16799986857,
          391043.24615571613,
          391043.24615571613,
          220661.27140257304
         ],
         "yaxis": "y"
        },
        {
         "marker": {
          "color": "rgb(0,116,217)"
         },
         "mode": "lines",
         "type": "scatter",
         "x": [
          87.734375,
          87.734375,
          538.291015625,
          538.291015625
         ],
         "xaxis": "x",
         "y": [
          299805.48210297956,
          753984.6000768185,
          753984.6000768185,
          391043.24615571613
         ],
         "yaxis": "y"
        }
       ],
       "layout": {
        "autosize": false,
        "height": 500,
        "hovermode": "closest",
        "showlegend": false,
        "width": 800,
        "xaxis": {
         "mirror": "allticks",
         "rangemode": "tozero",
         "showgrid": false,
         "showline": true,
         "showticklabels": true,
         "tickmode": "array",
         "ticks": "outside",
         "ticktext": [
          "95",
          "86",
          "92",
          "87",
          "36",
          "119",
          "25",
          "88",
          "98",
          "41",
          "7",
          "22",
          "117",
          "100",
          "113",
          "118",
          "71",
          "111",
          "20",
          "24",
          "1",
          "46",
          "3",
          "121",
          "30",
          "13",
          "21",
          "15",
          "123",
          "31",
          "37",
          "9",
          "48",
          "72",
          "126",
          "79",
          "0",
          "125",
          "10",
          "23",
          "78",
          "108",
          "19",
          "122",
          "28",
          "6",
          "12",
          "127",
          "44",
          "45",
          "29",
          "94",
          "70",
          "58",
          "85",
          "91",
          "34",
          "50",
          "17",
          "33",
          "42",
          "104",
          "77",
          "96",
          "53",
          "76",
          "68",
          "75",
          "90",
          "57",
          "83",
          "59",
          "60",
          "65",
          "80",
          "56",
          "116",
          "115",
          "105",
          "4",
          "47",
          "110",
          "107",
          "2",
          "109",
          "18",
          "38",
          "101",
          "39",
          "49",
          "114",
          "43",
          "99",
          "27",
          "26",
          "106",
          "5",
          "69",
          "84",
          "102",
          "81",
          "89",
          "74",
          "82",
          "40",
          "51",
          "35",
          "52",
          "63",
          "93",
          "55",
          "64",
          "73",
          "61",
          "32",
          "11",
          "103",
          "67",
          "124",
          "8",
          "112",
          "14",
          "120",
          "16",
          "66",
          "54",
          "62",
          "97"
         ],
         "tickvals": [
          5,
          15,
          25,
          35,
          45,
          55,
          65,
          75,
          85,
          95,
          105,
          115,
          125,
          135,
          145,
          155,
          165,
          175,
          185,
          195,
          205,
          215,
          225,
          235,
          245,
          255,
          265,
          275,
          285,
          295,
          305,
          315,
          325,
          335,
          345,
          355,
          365,
          375,
          385,
          395,
          405,
          415,
          425,
          435,
          445,
          455,
          465,
          475,
          482.5,
          485,
          490,
          495,
          505,
          515,
          525,
          535,
          545,
          555,
          565,
          575,
          585,
          595,
          605,
          615,
          625,
          635,
          645,
          655,
          665,
          675,
          685,
          695,
          705,
          715,
          725,
          735,
          745,
          755,
          765,
          775,
          785,
          795,
          805,
          815,
          825,
          835,
          845,
          855,
          865,
          875,
          885,
          895,
          905,
          915,
          925,
          935,
          945,
          955,
          965,
          975,
          985,
          995,
          1005,
          1015,
          1025,
          1035,
          1045,
          1055,
          1065,
          1075,
          1085,
          1095,
          1105,
          1115,
          1125,
          1135,
          1145,
          1155,
          1165,
          1175,
          1185,
          1195,
          1205,
          1215,
          1225,
          1235,
          1245,
          1255,
          1265,
          1275
         ],
         "type": "linear",
         "zeroline": false
        },
        "yaxis": {
         "showticklabels": false
        }
       }
      },
      "text/html": [
       "<div id=\"cbd8e4bc-d973-458d-bd28-3661db85214f\" style=\"height: 500px; width: 800px;\" class=\"plotly-graph-div\"></div><script type=\"text/javascript\">require([\"plotly\"], function(Plotly) { window.PLOTLYENV=window.PLOTLYENV || {};window.PLOTLYENV.BASE_URL=\"https://plot.ly\";Plotly.newPlot(\"cbd8e4bc-d973-458d-bd28-3661db85214f\", [{\"yaxis\": \"y\", \"marker\": {\"color\": \"rgb(61,153,112)\"}, \"mode\": \"lines\", \"xaxis\": \"x\", \"y\": [0.0, 34598.8606748835, 34598.8606748835, 0.0], \"x\": [15.0, 15.0, 25.0, 25.0], \"type\": \"scatter\"}, {\"yaxis\": \"y\", \"marker\": {\"color\": \"rgb(61,153,112)\"}, \"mode\": \"lines\", \"xaxis\": \"x\", \"y\": [0.0, 70690.46722861577, 70690.46722861577, 34598.8606748835], \"x\": [5.0, 5.0, 20.0, 20.0], \"type\": \"scatter\"}, {\"yaxis\": \"y\", \"marker\": {\"color\": \"rgb(61,153,112)\"}, \"mode\": \"lines\", \"xaxis\": \"x\", \"y\": [0.0, 20865.286865988688, 20865.286865988688, 0.0], \"x\": [45.0, 45.0, 55.0, 55.0], \"type\": \"scatter\"}, {\"yaxis\": \"y\", \"marker\": {\"color\": \"rgb(61,153,112)\"}, \"mode\": \"lines\", \"xaxis\": \"x\", \"y\": [0.0, 48313.12504899678, 48313.12504899678, 20865.286865988688], \"x\": [35.0, 35.0, 50.0, 50.0], \"type\": \"scatter\"}, {\"yaxis\": \"y\", \"marker\": {\"color\": \"rgb(61,153,112)\"}, \"mode\": \"lines\", \"xaxis\": \"x\", \"y\": [0.0, 13314.620122256587, 13314.620122256587, 0.0], \"x\": [65.0, 65.0, 75.0, 75.0], \"type\": \"scatter\"}, {\"yaxis\": \"y\", \"marker\": {\"color\": \"rgb(61,153,112)\"}, \"mode\": \"lines\", \"xaxis\": \"x\", \"y\": [0.0, 9163.827257210822, 9163.827257210822, 0.0], \"x\": [105.0, 105.0, 115.0, 115.0], \"type\": \"scatter\"}, {\"yaxis\": \"y\", \"marker\": {\"color\": \"rgb(61,153,112)\"}, \"mode\": \"lines\", \"xaxis\": \"x\", \"y\": [0.0, 21899.01486368736, 21899.01486368736, 9163.827257210822], \"x\": [95.0, 95.0, 110.0, 110.0], \"type\": \"scatter\"}, {\"yaxis\": \"y\", \"marker\": {\"color\": \"rgb(61,153,112)\"}, \"mode\": \"lines\", \"xaxis\": \"x\", \"y\": [0.0, 25502.182573262235, 25502.182573262235, 21899.01486368736], \"x\": [85.0, 85.0, 102.5, 102.5], \"type\": \"scatter\"}, {\"yaxis\": \"y\", \"marker\": {\"color\": \"rgb(61,153,112)\"}, \"mode\": \"lines\", \"xaxis\": \"x\", \"y\": [13314.620122256587, 50153.201931681295, 50153.201931681295, 25502.182573262235], \"x\": [70.0, 70.0, 93.75, 93.75], \"type\": \"scatter\"}, {\"yaxis\": \"y\", \"marker\": {\"color\": \"rgb(61,153,112)\"}, \"mode\": \"lines\", \"xaxis\": \"x\", \"y\": [48313.12504899678, 82470.7887860908, 82470.7887860908, 50153.201931681295], \"x\": [42.5, 42.5, 81.875, 81.875], \"type\": \"scatter\"}, {\"yaxis\": \"y\", \"marker\": {\"color\": \"rgb(61,153,112)\"}, \"mode\": \"lines\", \"xaxis\": \"x\", \"y\": [70690.46722861577, 140346.89222779393, 140346.89222779393, 82470.7887860908], \"x\": [12.5, 12.5, 62.1875, 62.1875], \"type\": \"scatter\"}, {\"yaxis\": \"y\", \"marker\": {\"color\": \"rgb(61,153,112)\"}, \"mode\": \"lines\", \"xaxis\": \"x\", \"y\": [0.0, 20144.73573914535, 20144.73573914535, 0.0], \"x\": [135.0, 135.0, 145.0, 145.0], \"type\": \"scatter\"}, {\"yaxis\": \"y\", \"marker\": {\"color\": \"rgb(61,153,112)\"}, \"mode\": \"lines\", \"xaxis\": \"x\", \"y\": [0.0, 9780.003425357274, 9780.003425357274, 0.0], \"x\": [165.0, 165.0, 175.0, 175.0], \"type\": \"scatter\"}, {\"yaxis\": \"y\", \"marker\": {\"color\": \"rgb(61,153,112)\"}, \"mode\": \"lines\", \"xaxis\": \"x\", \"y\": [0.0, 46323.00919629466, 46323.00919629466, 9780.003425357274], \"x\": [155.0, 155.0, 170.0, 170.0], \"type\": \"scatter\"}, {\"yaxis\": \"y\", \"marker\": {\"color\": \"rgb(61,153,112)\"}, \"mode\": \"lines\", \"xaxis\": \"x\", \"y\": [20144.73573914535, 77662.45965072185, 77662.45965072185, 46323.00919629466], \"x\": [140.0, 140.0, 162.5, 162.5], \"type\": \"scatter\"}, {\"yaxis\": \"y\", \"marker\": {\"color\": \"rgb(61,153,112)\"}, \"mode\": \"lines\", \"xaxis\": \"x\", \"y\": [0.0, 165691.1855048421, 165691.1855048421, 77662.45965072185], \"x\": [125.0, 125.0, 151.25, 151.25], \"type\": \"scatter\"}, {\"yaxis\": \"y\", \"marker\": {\"color\": \"rgb(61,153,112)\"}, \"mode\": \"lines\", \"xaxis\": \"x\", \"y\": [140346.89222779393, 299805.48210297956, 299805.48210297956, 165691.1855048421], \"x\": [37.34375, 37.34375, 138.125, 138.125], \"type\": \"scatter\"}, {\"yaxis\": \"y\", \"marker\": {\"color\": \"rgb(255,65,54)\"}, \"mode\": \"lines\", \"xaxis\": \"x\", \"y\": [0.0, 5050.993763607316, 5050.993763607316, 0.0], \"x\": [185.0, 185.0, 195.0, 195.0], \"type\": \"scatter\"}, {\"yaxis\": \"y\", \"marker\": {\"color\": \"rgb(255,65,54)\"}, \"mode\": \"lines\", \"xaxis\": \"x\", \"y\": [0.0, 6001.56312971879, 6001.56312971879, 0.0], \"x\": [205.0, 205.0, 215.0, 215.0], \"type\": \"scatter\"}, {\"yaxis\": \"y\", \"marker\": {\"color\": \"rgb(255,65,54)\"}, \"mode\": \"lines\", \"xaxis\": \"x\", \"y\": [5050.993763607316, 29073.30029425624, 29073.30029425624, 6001.56312971879], \"x\": [190.0, 190.0, 210.0, 210.0], \"type\": \"scatter\"}, {\"yaxis\": \"y\", \"marker\": {\"color\": \"rgb(255,65,54)\"}, \"mode\": \"lines\", \"xaxis\": \"x\", \"y\": [0.0, 2003.2892951343797, 2003.2892951343797, 0.0], \"x\": [225.0, 225.0, 235.0, 235.0], \"type\": \"scatter\"}, {\"yaxis\": \"y\", \"marker\": {\"color\": \"rgb(255,65,54)\"}, \"mode\": \"lines\", \"xaxis\": \"x\", \"y\": [0.0, 1668.4768503038931, 1668.4768503038931, 0.0], \"x\": [255.0, 255.0, 265.0, 265.0], \"type\": \"scatter\"}, {\"yaxis\": \"y\", \"marker\": {\"color\": \"rgb(255,65,54)\"}, \"mode\": \"lines\", \"xaxis\": \"x\", \"y\": [0.0, 11962.050702116256, 11962.050702116256, 1668.4768503038931], \"x\": [245.0, 245.0, 260.0, 260.0], \"type\": \"scatter\"}, {\"yaxis\": \"y\", \"marker\": {\"color\": \"rgb(255,65,54)\"}, \"mode\": \"lines\", \"xaxis\": \"x\", \"y\": [2003.2892951343797, 14115.421566499528, 14115.421566499528, 11962.050702116256], \"x\": [230.0, 230.0, 252.5, 252.5], \"type\": \"scatter\"}, {\"yaxis\": \"y\", \"marker\": {\"color\": \"rgb(255,65,54)\"}, \"mode\": \"lines\", \"xaxis\": \"x\", \"y\": [0.0, 13140.093264509198, 13140.093264509198, 0.0], \"x\": [275.0, 275.0, 285.0, 285.0], \"type\": \"scatter\"}, {\"yaxis\": \"y\", \"marker\": {\"color\": \"rgb(255,65,54)\"}, \"mode\": \"lines\", \"xaxis\": \"x\", \"y\": [0.0, 4510.07815896798, 4510.07815896798, 0.0], \"x\": [295.0, 295.0, 305.0, 305.0], \"type\": \"scatter\"}, {\"yaxis\": \"y\", \"marker\": {\"color\": \"rgb(255,65,54)\"}, \"mode\": \"lines\", \"xaxis\": \"x\", \"y\": [0.0, 7668.3303919432165, 7668.3303919432165, 0.0], \"x\": [315.0, 315.0, 325.0, 325.0], \"type\": \"scatter\"}, {\"yaxis\": \"y\", \"marker\": {\"color\": \"rgb(255,65,54)\"}, \"mode\": \"lines\", \"xaxis\": \"x\", \"y\": [4510.07815896798, 20536.353644208604, 20536.353644208604, 7668.3303919432165], \"x\": [300.0, 300.0, 320.0, 320.0], \"type\": \"scatter\"}, {\"yaxis\": \"y\", \"marker\": {\"color\": \"rgb(255,65,54)\"}, \"mode\": \"lines\", \"xaxis\": \"x\", \"y\": [13140.093264509198, 25993.608021973403, 25993.608021973403, 20536.353644208604], \"x\": [280.0, 280.0, 310.0, 310.0], \"type\": \"scatter\"}, {\"yaxis\": \"y\", \"marker\": {\"color\": \"rgb(255,65,54)\"}, \"mode\": \"lines\", \"xaxis\": \"x\", \"y\": [14115.421566499528, 44787.99735420194, 44787.99735420194, 25993.608021973403], \"x\": [241.25, 241.25, 295.0, 295.0], \"type\": \"scatter\"}, {\"yaxis\": \"y\", \"marker\": {\"color\": \"rgb(255,65,54)\"}, \"mode\": \"lines\", \"xaxis\": \"x\", \"y\": [29073.30029425624, 70840.41956397491, 70840.41956397491, 44787.99735420194], \"x\": [200.0, 200.0, 268.125, 268.125], \"type\": \"scatter\"}, {\"yaxis\": \"y\", \"marker\": {\"color\": \"rgb(255,65,54)\"}, \"mode\": \"lines\", \"xaxis\": \"x\", \"y\": [0.0, 14669.883912287785, 14669.883912287785, 0.0], \"x\": [365.0, 365.0, 375.0, 375.0], \"type\": \"scatter\"}, {\"yaxis\": \"y\", \"marker\": {\"color\": \"rgb(255,65,54)\"}, \"mode\": \"lines\", \"xaxis\": \"x\", \"y\": [0.0, 27457.417850191232, 27457.417850191232, 14669.883912287785], \"x\": [355.0, 355.0, 370.0, 370.0], \"type\": \"scatter\"}, {\"yaxis\": \"y\", \"marker\": {\"color\": \"rgb(255,65,54)\"}, \"mode\": \"lines\", \"xaxis\": \"x\", \"y\": [0.0, 29154.169547424946, 29154.169547424946, 27457.417850191232], \"x\": [345.0, 345.0, 362.5, 362.5], \"type\": \"scatter\"}, {\"yaxis\": \"y\", \"marker\": {\"color\": \"rgb(255,65,54)\"}, \"mode\": \"lines\", \"xaxis\": \"x\", \"y\": [0.0, 59250.38385529667, 59250.38385529667, 29154.169547424946], \"x\": [335.0, 335.0, 353.75, 353.75], \"type\": \"scatter\"}, {\"yaxis\": \"y\", \"marker\": {\"color\": \"rgb(255,65,54)\"}, \"mode\": \"lines\", \"xaxis\": \"x\", \"y\": [0.0, 40853.82703003477, 40853.82703003477, 0.0], \"x\": [385.0, 385.0, 395.0, 395.0], \"type\": \"scatter\"}, {\"yaxis\": \"y\", \"marker\": {\"color\": \"rgb(255,65,54)\"}, \"mode\": \"lines\", \"xaxis\": \"x\", \"y\": [0.0, 7386.535453106551, 7386.535453106551, 0.0], \"x\": [405.0, 405.0, 415.0, 415.0], \"type\": \"scatter\"}, {\"yaxis\": \"y\", \"marker\": {\"color\": \"rgb(255,65,54)\"}, \"mode\": \"lines\", \"xaxis\": \"x\", \"y\": [0.0, 11467.78326443258, 11467.78326443258, 0.0], \"x\": [425.0, 425.0, 435.0, 435.0], \"type\": \"scatter\"}, {\"yaxis\": \"y\", \"marker\": {\"color\": \"rgb(255,65,54)\"}, \"mode\": \"lines\", \"xaxis\": \"x\", \"y\": [7386.535453106551, 26821.112709952955, 26821.112709952955, 11467.78326443258], \"x\": [410.0, 410.0, 430.0, 430.0], \"type\": \"scatter\"}, {\"yaxis\": \"y\", \"marker\": {\"color\": \"rgb(255,65,54)\"}, \"mode\": \"lines\", \"xaxis\": \"x\", \"y\": [0.0, 14074.289999854343, 14074.289999854343, 0.0], \"x\": [455.0, 455.0, 465.0, 465.0], \"type\": \"scatter\"}, {\"yaxis\": \"y\", \"marker\": {\"color\": \"rgb(255,65,54)\"}, \"mode\": \"lines\", \"xaxis\": \"x\", \"y\": [0.0, 28266.975925981187, 28266.975925981187, 14074.289999854343], \"x\": [445.0, 445.0, 460.0, 460.0], \"type\": \"scatter\"}, {\"yaxis\": \"y\", \"marker\": {\"color\": \"rgb(255,65,54)\"}, \"mode\": \"lines\", \"xaxis\": \"x\", \"y\": [26821.112709952955, 44590.01398295363, 44590.01398295363, 28266.975925981187], \"x\": [420.0, 420.0, 452.5, 452.5], \"type\": \"scatter\"}, {\"yaxis\": \"y\", \"marker\": {\"color\": \"rgb(255,65,54)\"}, \"mode\": \"lines\", \"xaxis\": \"x\", \"y\": [40853.82703003477, 65537.6655748433, 65537.6655748433, 44590.01398295363], \"x\": [390.0, 390.0, 436.25, 436.25], \"type\": \"scatter\"}, {\"yaxis\": \"y\", \"marker\": {\"color\": \"rgb(255,65,54)\"}, \"mode\": \"lines\", \"xaxis\": \"x\", \"y\": [59250.38385529667, 111577.30940473515, 111577.30940473515, 65537.6655748433], \"x\": [344.375, 344.375, 413.125, 413.125], \"type\": \"scatter\"}, {\"yaxis\": \"y\", \"marker\": {\"color\": \"rgb(255,65,54)\"}, \"mode\": \"lines\", \"xaxis\": \"x\", \"y\": [70840.41956397491, 168256.16799986857, 168256.16799986857, 111577.30940473515], \"x\": [234.0625, 234.0625, 378.75, 378.75], \"type\": \"scatter\"}, {\"yaxis\": \"y\", \"marker\": {\"color\": \"rgb(255,65,54)\"}, \"mode\": \"lines\", \"xaxis\": \"x\", \"y\": [0.0, 0.0, 0.0, 0.0], \"x\": [485.0, 485.0, 495.0, 495.0], \"type\": \"scatter\"}, {\"yaxis\": \"y\", \"marker\": {\"color\": \"rgb(255,65,54)\"}, \"mode\": \"lines\", \"xaxis\": \"x\", \"y\": [0.0, 0.0, 0.0, 0.0], \"x\": [475.0, 475.0, 490.0, 490.0], \"type\": \"scatter\"}, {\"yaxis\": \"y\", \"marker\": {\"color\": \"rgb(255,65,54)\"}, \"mode\": \"lines\", \"xaxis\": \"x\", \"y\": [0.0, 14044.33844827519, 14044.33844827519, 0.0], \"x\": [505.0, 505.0, 515.0, 515.0], \"type\": \"scatter\"}, {\"yaxis\": \"y\", \"marker\": {\"color\": \"rgb(255,65,54)\"}, \"mode\": \"lines\", \"xaxis\": \"x\", \"y\": [0.0, 12521.339196542778, 12521.339196542778, 0.0], \"x\": [535.0, 535.0, 545.0, 545.0], \"type\": \"scatter\"}, {\"yaxis\": \"y\", \"marker\": {\"color\": \"rgb(255,65,54)\"}, \"mode\": \"lines\", \"xaxis\": \"x\", \"y\": [0.0, 25783.29856069269, 25783.29856069269, 12521.339196542778], \"x\": [525.0, 525.0, 540.0, 540.0], \"type\": \"scatter\"}, {\"yaxis\": \"y\", \"marker\": {\"color\": \"rgb(255,65,54)\"}, \"mode\": \"lines\", \"xaxis\": \"x\", \"y\": [14044.33844827519, 34926.195956113865, 34926.195956113865, 25783.29856069269], \"x\": [510.0, 510.0, 532.5, 532.5], \"type\": \"scatter\"}, {\"yaxis\": \"y\", \"marker\": {\"color\": \"rgb(255,65,54)\"}, \"mode\": \"lines\", \"xaxis\": \"x\", \"y\": [0.0, 2153.2709191771164, 2153.2709191771164, 0.0], \"x\": [565.0, 565.0, 575.0, 575.0], \"type\": \"scatter\"}, {\"yaxis\": \"y\", \"marker\": {\"color\": \"rgb(255,65,54)\"}, \"mode\": \"lines\", \"xaxis\": \"x\", \"y\": [0.0, 9396.717201597894, 9396.717201597894, 2153.2709191771164], \"x\": [555.0, 555.0, 570.0, 570.0], \"type\": \"scatter\"}, {\"yaxis\": \"y\", \"marker\": {\"color\": \"rgb(255,65,54)\"}, \"mode\": \"lines\", \"xaxis\": \"x\", \"y\": [0.0, 12401.218778224966, 12401.218778224966, 0.0], \"x\": [585.0, 585.0, 595.0, 595.0], \"type\": \"scatter\"}, {\"yaxis\": \"y\", \"marker\": {\"color\": \"rgb(255,65,54)\"}, \"mode\": \"lines\", \"xaxis\": \"x\", \"y\": [9396.717201597894, 17166.029733111096, 17166.029733111096, 12401.218778224966], \"x\": [562.5, 562.5, 590.0, 590.0], \"type\": \"scatter\"}, {\"yaxis\": \"y\", \"marker\": {\"color\": \"rgb(255,65,54)\"}, \"mode\": \"lines\", \"xaxis\": \"x\", \"y\": [0.0, 9489.428632215146, 9489.428632215146, 0.0], \"x\": [625.0, 625.0, 635.0, 635.0], \"type\": \"scatter\"}, {\"yaxis\": \"y\", \"marker\": {\"color\": \"rgb(255,65,54)\"}, \"mode\": \"lines\", \"xaxis\": \"x\", \"y\": [0.0, 11490.684149408207, 11490.684149408207, 9489.428632215146], \"x\": [615.0, 615.0, 630.0, 630.0], \"type\": \"scatter\"}, {\"yaxis\": \"y\", \"marker\": {\"color\": \"rgb(255,65,54)\"}, \"mode\": \"lines\", \"xaxis\": \"x\", \"y\": [0.0, 19045.219100004724, 19045.219100004724, 11490.684149408207], \"x\": [605.0, 605.0, 622.5, 622.5], \"type\": \"scatter\"}, {\"yaxis\": \"y\", \"marker\": {\"color\": \"rgb(255,65,54)\"}, \"mode\": \"lines\", \"xaxis\": \"x\", \"y\": [17166.029733111096, 29523.785126998726, 29523.785126998726, 19045.219100004724], \"x\": [576.25, 576.25, 613.75, 613.75], \"type\": \"scatter\"}, {\"yaxis\": \"y\", \"marker\": {\"color\": \"rgb(255,65,54)\"}, \"mode\": \"lines\", \"xaxis\": \"x\", \"y\": [0.0, 13063.370388972715, 13063.370388972715, 0.0], \"x\": [645.0, 645.0, 655.0, 655.0], \"type\": \"scatter\"}, {\"yaxis\": \"y\", \"marker\": {\"color\": \"rgb(255,65,54)\"}, \"mode\": \"lines\", \"xaxis\": \"x\", \"y\": [0.0, 4770.522577071339, 4770.522577071339, 0.0], \"x\": [665.0, 665.0, 675.0, 675.0], \"type\": \"scatter\"}, {\"yaxis\": \"y\", \"marker\": {\"color\": \"rgb(255,65,54)\"}, \"mode\": \"lines\", \"xaxis\": \"x\", \"y\": [0.0, 1478.6749407219852, 1478.6749407219852, 0.0], \"x\": [695.0, 695.0, 705.0, 705.0], \"type\": \"scatter\"}, {\"yaxis\": \"y\", \"marker\": {\"color\": \"rgb(255,65,54)\"}, \"mode\": \"lines\", \"xaxis\": \"x\", \"y\": [0.0, 5266.48356222241, 5266.48356222241, 1478.6749407219852], \"x\": [685.0, 685.0, 700.0, 700.0], \"type\": \"scatter\"}, {\"yaxis\": \"y\", \"marker\": {\"color\": \"rgb(255,65,54)\"}, \"mode\": \"lines\", \"xaxis\": \"x\", \"y\": [4770.522577071339, 11001.407729872297, 11001.407729872297, 5266.48356222241], \"x\": [670.0, 670.0, 692.5, 692.5], \"type\": \"scatter\"}, {\"yaxis\": \"y\", \"marker\": {\"color\": \"rgb(255,65,54)\"}, \"mode\": \"lines\", \"xaxis\": \"x\", \"y\": [0.0, 3718.165132998744, 3718.165132998744, 0.0], \"x\": [735.0, 735.0, 745.0, 745.0], \"type\": \"scatter\"}, {\"yaxis\": \"y\", \"marker\": {\"color\": \"rgb(255,65,54)\"}, \"mode\": \"lines\", \"xaxis\": \"x\", \"y\": [0.0, 7073.084822483935, 7073.084822483935, 3718.165132998744], \"x\": [725.0, 725.0, 740.0, 740.0], \"type\": \"scatter\"}, {\"yaxis\": \"y\", \"marker\": {\"color\": \"rgb(255,65,54)\"}, \"mode\": \"lines\", \"xaxis\": \"x\", \"y\": [0.0, 15252.545276943545, 15252.545276943545, 7073.084822483935], \"x\": [715.0, 715.0, 732.5, 732.5], \"type\": \"scatter\"}, {\"yaxis\": \"y\", \"marker\": {\"color\": \"rgb(255,65,54)\"}, \"mode\": \"lines\", \"xaxis\": \"x\", \"y\": [11001.407729872297, 19129.281138506172, 19129.281138506172, 15252.545276943545], \"x\": [681.25, 681.25, 723.75, 723.75], \"type\": \"scatter\"}, {\"yaxis\": \"y\", \"marker\": {\"color\": \"rgb(255,65,54)\"}, \"mode\": \"lines\", \"xaxis\": \"x\", \"y\": [13063.370388972715, 32733.84127257279, 32733.84127257279, 19129.281138506172], \"x\": [650.0, 650.0, 702.5, 702.5], \"type\": \"scatter\"}, {\"yaxis\": \"y\", \"marker\": {\"color\": \"rgb(255,65,54)\"}, \"mode\": \"lines\", \"xaxis\": \"x\", \"y\": [29523.785126998726, 42506.62939282625, 42506.62939282625, 32733.84127257279], \"x\": [595.0, 595.0, 676.25, 676.25], \"type\": \"scatter\"}, {\"yaxis\": \"y\", \"marker\": {\"color\": \"rgb(255,65,54)\"}, \"mode\": \"lines\", \"xaxis\": \"x\", \"y\": [34926.195956113865, 67498.3644649989, 67498.3644649989, 42506.62939282625], \"x\": [521.25, 521.25, 635.625, 635.625], \"type\": \"scatter\"}, {\"yaxis\": \"y\", \"marker\": {\"color\": \"rgb(255,65,54)\"}, \"mode\": \"lines\", \"xaxis\": \"x\", \"y\": [0.0, 107924.8091977348, 107924.8091977348, 67498.3644649989], \"x\": [482.5, 482.5, 578.4375, 578.4375], \"type\": \"scatter\"}, {\"yaxis\": \"y\", \"marker\": {\"color\": \"rgb(255,65,54)\"}, \"mode\": \"lines\", \"xaxis\": \"x\", \"y\": [0.0, 14769.379386833776, 14769.379386833776, 0.0], \"x\": [755.0, 755.0, 765.0, 765.0], \"type\": \"scatter\"}, {\"yaxis\": \"y\", \"marker\": {\"color\": \"rgb(255,65,54)\"}, \"mode\": \"lines\", \"xaxis\": \"x\", \"y\": [0.0, 4367.491680212536, 4367.491680212536, 0.0], \"x\": [805.0, 805.0, 815.0, 815.0], \"type\": \"scatter\"}, {\"yaxis\": \"y\", \"marker\": {\"color\": \"rgb(255,65,54)\"}, \"mode\": \"lines\", \"xaxis\": \"x\", \"y\": [0.0, 7402.674376044773, 7402.674376044773, 4367.491680212536], \"x\": [795.0, 795.0, 810.0, 810.0], \"type\": \"scatter\"}, {\"yaxis\": \"y\", \"marker\": {\"color\": \"rgb(255,65,54)\"}, \"mode\": \"lines\", \"xaxis\": \"x\", \"y\": [0.0, 12240.557498597764, 12240.557498597764, 7402.674376044773], \"x\": [785.0, 785.0, 802.5, 802.5], \"type\": \"scatter\"}, {\"yaxis\": \"y\", \"marker\": {\"color\": \"rgb(255,65,54)\"}, \"mode\": \"lines\", \"xaxis\": \"x\", \"y\": [0.0, 6648.333572869467, 6648.333572869467, 0.0], \"x\": [835.0, 835.0, 845.0, 845.0], \"type\": \"scatter\"}, {\"yaxis\": \"y\", \"marker\": {\"color\": \"rgb(255,65,54)\"}, \"mode\": \"lines\", \"xaxis\": \"x\", \"y\": [0.0, 13085.05587720802, 13085.05587720802, 6648.333572869467], \"x\": [825.0, 825.0, 840.0, 840.0], \"type\": \"scatter\"}, {\"yaxis\": \"y\", \"marker\": {\"color\": \"rgb(255,65,54)\"}, \"mode\": \"lines\", \"xaxis\": \"x\", \"y\": [12240.557498597764, 19697.614853403964, 19697.614853403964, 13085.05587720802], \"x\": [793.75, 793.75, 832.5, 832.5], \"type\": \"scatter\"}, {\"yaxis\": \"y\", \"marker\": {\"color\": \"rgb(255,65,54)\"}, \"mode\": \"lines\", \"xaxis\": \"x\", \"y\": [0.0, 31535.436566671717, 31535.436566671717, 19697.614853403964], \"x\": [775.0, 775.0, 813.125, 813.125], \"type\": \"scatter\"}, {\"yaxis\": \"y\", \"marker\": {\"color\": \"rgb(255,65,54)\"}, \"mode\": \"lines\", \"xaxis\": \"x\", \"y\": [14769.379386833776, 36352.370265527396, 36352.370265527396, 31535.436566671717], \"x\": [760.0, 760.0, 794.0625, 794.0625], \"type\": \"scatter\"}, {\"yaxis\": \"y\", \"marker\": {\"color\": \"rgb(255,65,54)\"}, \"mode\": \"lines\", \"xaxis\": \"x\", \"y\": [0.0, 4511.761125398773, 4511.761125398773, 0.0], \"x\": [865.0, 865.0, 875.0, 875.0], \"type\": \"scatter\"}, {\"yaxis\": \"y\", \"marker\": {\"color\": \"rgb(255,65,54)\"}, \"mode\": \"lines\", \"xaxis\": \"x\", \"y\": [0.0, 5928.267033054242, 5928.267033054242, 4511.761125398773], \"x\": [855.0, 855.0, 870.0, 870.0], \"type\": \"scatter\"}, {\"yaxis\": \"y\", \"marker\": {\"color\": \"rgb(255,65,54)\"}, \"mode\": \"lines\", \"xaxis\": \"x\", \"y\": [0.0, 5981.858036218643, 5981.858036218643, 0.0], \"x\": [885.0, 885.0, 895.0, 895.0], \"type\": \"scatter\"}, {\"yaxis\": \"y\", \"marker\": {\"color\": \"rgb(255,65,54)\"}, \"mode\": \"lines\", \"xaxis\": \"x\", \"y\": [5928.267033054242, 11815.30237514142, 11815.30237514142, 5981.858036218643], \"x\": [862.5, 862.5, 890.0, 890.0], \"type\": \"scatter\"}, {\"yaxis\": \"y\", \"marker\": {\"color\": \"rgb(255,65,54)\"}, \"mode\": \"lines\", \"xaxis\": \"x\", \"y\": [0.0, 1184.4412184654839, 1184.4412184654839, 0.0], \"x\": [915.0, 915.0, 925.0, 925.0], \"type\": \"scatter\"}, {\"yaxis\": \"y\", \"marker\": {\"color\": \"rgb(255,65,54)\"}, \"mode\": \"lines\", \"xaxis\": \"x\", \"y\": [0.0, 1973.7829288439227, 1973.7829288439227, 0.0], \"x\": [945.0, 945.0, 955.0, 955.0], \"type\": \"scatter\"}, {\"yaxis\": \"y\", \"marker\": {\"color\": \"rgb(255,65,54)\"}, \"mode\": \"lines\", \"xaxis\": \"x\", \"y\": [0.0, 4181.445557417776, 4181.445557417776, 1973.7829288439227], \"x\": [935.0, 935.0, 950.0, 950.0], \"type\": \"scatter\"}, {\"yaxis\": \"y\", \"marker\": {\"color\": \"rgb(255,65,54)\"}, \"mode\": \"lines\", \"xaxis\": \"x\", \"y\": [1184.4412184654839, 5680.240422051256, 5680.240422051256, 4181.445557417776], \"x\": [920.0, 920.0, 942.5, 942.5], \"type\": \"scatter\"}, {\"yaxis\": \"y\", \"marker\": {\"color\": \"rgb(255,65,54)\"}, \"mode\": \"lines\", \"xaxis\": \"x\", \"y\": [0.0, 13458.137205928448, 13458.137205928448, 5680.240422051256], \"x\": [905.0, 905.0, 931.25, 931.25], \"type\": \"scatter\"}, {\"yaxis\": \"y\", \"marker\": {\"color\": \"rgb(255,65,54)\"}, \"mode\": \"lines\", \"xaxis\": \"x\", \"y\": [11815.30237514142, 16784.09315076625, 16784.09315076625, 13458.137205928448], \"x\": [876.25, 876.25, 918.125, 918.125], \"type\": \"scatter\"}, {\"yaxis\": \"y\", \"marker\": {\"color\": \"rgb(255,65,54)\"}, \"mode\": \"lines\", \"xaxis\": \"x\", \"y\": [0.0, 1571.5041098558372, 1571.5041098558372, 0.0], \"x\": [965.0, 965.0, 975.0, 975.0], \"type\": \"scatter\"}, {\"yaxis\": \"y\", \"marker\": {\"color\": \"rgb(255,65,54)\"}, \"mode\": \"lines\", \"xaxis\": \"x\", \"y\": [0.0, 4382.1328402589, 4382.1328402589, 0.0], \"x\": [985.0, 985.0, 995.0, 995.0], \"type\": \"scatter\"}, {\"yaxis\": \"y\", \"marker\": {\"color\": \"rgb(255,65,54)\"}, \"mode\": \"lines\", \"xaxis\": \"x\", \"y\": [1571.5041098558372, 7920.585040415161, 7920.585040415161, 4382.1328402589], \"x\": [970.0, 970.0, 990.0, 990.0], \"type\": \"scatter\"}, {\"yaxis\": \"y\", \"marker\": {\"color\": \"rgb(255,65,54)\"}, \"mode\": \"lines\", \"xaxis\": \"x\", \"y\": [0.0, 1152.5948643453141, 1152.5948643453141, 0.0], \"x\": [1005.0, 1005.0, 1015.0, 1015.0], \"type\": \"scatter\"}, {\"yaxis\": \"y\", \"marker\": {\"color\": \"rgb(255,65,54)\"}, \"mode\": \"lines\", \"xaxis\": \"x\", \"y\": [0.0, 2138.908431371696, 2138.908431371696, 0.0], \"x\": [1025.0, 1025.0, 1035.0, 1035.0], \"type\": \"scatter\"}, {\"yaxis\": \"y\", \"marker\": {\"color\": \"rgb(255,65,54)\"}, \"mode\": \"lines\", \"xaxis\": \"x\", \"y\": [1152.5948643453141, 5169.71761174804, 5169.71761174804, 2138.908431371696], \"x\": [1010.0, 1010.0, 1030.0, 1030.0], \"type\": \"scatter\"}, {\"yaxis\": \"y\", \"marker\": {\"color\": \"rgb(255,65,54)\"}, \"mode\": \"lines\", \"xaxis\": \"x\", \"y\": [0.0, 2010.9996286851397, 2010.9996286851397, 0.0], \"x\": [1045.0, 1045.0, 1055.0, 1055.0], \"type\": \"scatter\"}, {\"yaxis\": \"y\", \"marker\": {\"color\": \"rgb(255,65,54)\"}, \"mode\": \"lines\", \"xaxis\": \"x\", \"y\": [0.0, 2358.404336840771, 2358.404336840771, 0.0], \"x\": [1075.0, 1075.0, 1085.0, 1085.0], \"type\": \"scatter\"}, {\"yaxis\": \"y\", \"marker\": {\"color\": \"rgb(255,65,54)\"}, \"mode\": \"lines\", \"xaxis\": \"x\", \"y\": [0.0, 2545.34888995868, 2545.34888995868, 2358.404336840771], \"x\": [1065.0, 1065.0, 1080.0, 1080.0], \"type\": \"scatter\"}, {\"yaxis\": \"y\", \"marker\": {\"color\": \"rgb(255,65,54)\"}, \"mode\": \"lines\", \"xaxis\": \"x\", \"y\": [2010.9996286851397, 5282.843082635831, 5282.843082635831, 2545.34888995868], \"x\": [1050.0, 1050.0, 1072.5, 1072.5], \"type\": \"scatter\"}, {\"yaxis\": \"y\", \"marker\": {\"color\": \"rgb(255,65,54)\"}, \"mode\": \"lines\", \"xaxis\": \"x\", \"y\": [5169.71761174804, 11490.438579089367, 11490.438579089367, 5282.843082635831], \"x\": [1020.0, 1020.0, 1061.25, 1061.25], \"type\": \"scatter\"}, {\"yaxis\": \"y\", \"marker\": {\"color\": \"rgb(255,65,54)\"}, \"mode\": \"lines\", \"xaxis\": \"x\", \"y\": [7920.585040415161, 23036.52386436028, 23036.52386436028, 11490.438579089367], \"x\": [980.0, 980.0, 1040.625, 1040.625], \"type\": \"scatter\"}, {\"yaxis\": \"y\", \"marker\": {\"color\": \"rgb(255,65,54)\"}, \"mode\": \"lines\", \"xaxis\": \"x\", \"y\": [16784.09315076625, 39476.580234847, 39476.580234847, 23036.52386436028], \"x\": [897.1875, 897.1875, 1010.3125, 1010.3125], \"type\": \"scatter\"}, {\"yaxis\": \"y\", \"marker\": {\"color\": \"rgb(255,65,54)\"}, \"mode\": \"lines\", \"xaxis\": \"x\", \"y\": [36352.370265527396, 50161.46215925847, 50161.46215925847, 39476.580234847], \"x\": [777.03125, 777.03125, 953.75, 953.75], \"type\": \"scatter\"}, {\"yaxis\": \"y\", \"marker\": {\"color\": \"rgb(255,65,54)\"}, \"mode\": \"lines\", \"xaxis\": \"x\", \"y\": [0.0, 3833.6464364883727, 3833.6464364883727, 0.0], \"x\": [1115.0, 1115.0, 1125.0, 1125.0], \"type\": \"scatter\"}, {\"yaxis\": \"y\", \"marker\": {\"color\": \"rgb(255,65,54)\"}, \"mode\": \"lines\", \"xaxis\": \"x\", \"y\": [0.0, 2539.3369213241476, 2539.3369213241476, 0.0], \"x\": [1155.0, 1155.0, 1165.0, 1165.0], \"type\": \"scatter\"}, {\"yaxis\": \"y\", \"marker\": {\"color\": \"rgb(255,65,54)\"}, \"mode\": \"lines\", \"xaxis\": \"x\", \"y\": [0.0, 3223.3730780038477, 3223.3730780038477, 2539.3369213241476], \"x\": [1145.0, 1145.0, 1160.0, 1160.0], \"type\": \"scatter\"}, {\"yaxis\": \"y\", \"marker\": {\"color\": \"rgb(255,65,54)\"}, \"mode\": \"lines\", \"xaxis\": \"x\", \"y\": [0.0, 7703.92159877033, 7703.92159877033, 3223.3730780038477], \"x\": [1135.0, 1135.0, 1152.5, 1152.5], \"type\": \"scatter\"}, {\"yaxis\": \"y\", \"marker\": {\"color\": \"rgb(255,65,54)\"}, \"mode\": \"lines\", \"xaxis\": \"x\", \"y\": [3833.6464364883727, 13191.995148574002, 13191.995148574002, 7703.92159877033], \"x\": [1120.0, 1120.0, 1143.75, 1143.75], \"type\": \"scatter\"}, {\"yaxis\": \"y\", \"marker\": {\"color\": \"rgb(255,65,54)\"}, \"mode\": \"lines\", \"xaxis\": \"x\", \"y\": [0.0, 18613.04451184706, 18613.04451184706, 13191.995148574002], \"x\": [1105.0, 1105.0, 1131.875, 1131.875], \"type\": \"scatter\"}, {\"yaxis\": \"y\", \"marker\": {\"color\": \"rgb(255,65,54)\"}, \"mode\": \"lines\", \"xaxis\": \"x\", \"y\": [0.0, 28642.102314599742, 28642.102314599742, 18613.04451184706], \"x\": [1095.0, 1095.0, 1118.4375, 1118.4375], \"type\": \"scatter\"}, {\"yaxis\": \"y\", \"marker\": {\"color\": \"rgb(255,65,54)\"}, \"mode\": \"lines\", \"xaxis\": \"x\", \"y\": [0.0, 22577.62432143825, 22577.62432143825, 0.0], \"x\": [1175.0, 1175.0, 1185.0, 1185.0], \"type\": \"scatter\"}, {\"yaxis\": \"y\", \"marker\": {\"color\": \"rgb(255,65,54)\"}, \"mode\": \"lines\", \"xaxis\": \"x\", \"y\": [0.0, 7942.085242554376, 7942.085242554376, 0.0], \"x\": [1215.0, 1215.0, 1225.0, 1225.0], \"type\": \"scatter\"}, {\"yaxis\": \"y\", \"marker\": {\"color\": \"rgb(255,65,54)\"}, \"mode\": \"lines\", \"xaxis\": \"x\", \"y\": [0.0, 12630.737310228567, 12630.737310228567, 7942.085242554376], \"x\": [1205.0, 1205.0, 1220.0, 1220.0], \"type\": \"scatter\"}, {\"yaxis\": \"y\", \"marker\": {\"color\": \"rgb(255,65,54)\"}, \"mode\": \"lines\", \"xaxis\": \"x\", \"y\": [0.0, 21525.710717290913, 21525.710717290913, 12630.737310228567], \"x\": [1195.0, 1195.0, 1212.5, 1212.5], \"type\": \"scatter\"}, {\"yaxis\": \"y\", \"marker\": {\"color\": \"rgb(255,65,54)\"}, \"mode\": \"lines\", \"xaxis\": \"x\", \"y\": [0.0, 3304.6825868757805, 3304.6825868757805, 0.0], \"x\": [1265.0, 1265.0, 1275.0, 1275.0], \"type\": \"scatter\"}, {\"yaxis\": \"y\", \"marker\": {\"color\": \"rgb(255,65,54)\"}, \"mode\": \"lines\", \"xaxis\": \"x\", \"y\": [0.0, 5921.976697015955, 5921.976697015955, 3304.6825868757805], \"x\": [1255.0, 1255.0, 1270.0, 1270.0], \"type\": \"scatter\"}, {\"yaxis\": \"y\", \"marker\": {\"color\": \"rgb(255,65,54)\"}, \"mode\": \"lines\", \"xaxis\": \"x\", \"y\": [0.0, 17880.00321588338, 17880.00321588338, 5921.976697015955], \"x\": [1245.0, 1245.0, 1262.5, 1262.5], \"type\": \"scatter\"}, {\"yaxis\": \"y\", \"marker\": {\"color\": \"rgb(255,65,54)\"}, \"mode\": \"lines\", \"xaxis\": \"x\", \"y\": [0.0, 28859.978257095067, 28859.978257095067, 17880.00321588338], \"x\": [1235.0, 1235.0, 1253.75, 1253.75], \"type\": \"scatter\"}, {\"yaxis\": \"y\", \"marker\": {\"color\": \"rgb(255,65,54)\"}, \"mode\": \"lines\", \"xaxis\": \"x\", \"y\": [21525.710717290913, 36799.49029386683, 36799.49029386683, 28859.978257095067], \"x\": [1203.75, 1203.75, 1244.375, 1244.375], \"type\": \"scatter\"}, {\"yaxis\": \"y\", \"marker\": {\"color\": \"rgb(255,65,54)\"}, \"mode\": \"lines\", \"xaxis\": \"x\", \"y\": [22577.62432143825, 59574.119576197045, 59574.119576197045, 36799.49029386683], \"x\": [1180.0, 1180.0, 1224.0625, 1224.0625], \"type\": \"scatter\"}, {\"yaxis\": \"y\", \"marker\": {\"color\": \"rgb(255,65,54)\"}, \"mode\": \"lines\", \"xaxis\": \"x\", \"y\": [28642.102314599742, 63761.51648918021, 63761.51648918021, 59574.119576197045], \"x\": [1106.71875, 1106.71875, 1202.03125, 1202.03125], \"type\": \"scatter\"}, {\"yaxis\": \"y\", \"marker\": {\"color\": \"rgb(255,65,54)\"}, \"mode\": \"lines\", \"xaxis\": \"x\", \"y\": [50161.46215925847, 115149.37842404249, 115149.37842404249, 63761.51648918021], \"x\": [865.390625, 865.390625, 1154.375, 1154.375], \"type\": \"scatter\"}, {\"yaxis\": \"y\", \"marker\": {\"color\": \"rgb(255,65,54)\"}, \"mode\": \"lines\", \"xaxis\": \"x\", \"y\": [107924.8091977348, 220661.27140257304, 220661.27140257304, 115149.37842404249], \"x\": [530.46875, 530.46875, 1009.8828125, 1009.8828125], \"type\": \"scatter\"}, {\"yaxis\": \"y\", \"marker\": {\"color\": \"rgb(255,65,54)\"}, \"mode\": \"lines\", \"xaxis\": \"x\", \"y\": [168256.16799986857, 391043.24615571613, 391043.24615571613, 220661.27140257304], \"x\": [306.40625, 306.40625, 770.17578125, 770.17578125], \"type\": \"scatter\"}, {\"yaxis\": \"y\", \"marker\": {\"color\": \"rgb(0,116,217)\"}, \"mode\": \"lines\", \"xaxis\": \"x\", \"y\": [299805.48210297956, 753984.6000768185, 753984.6000768185, 391043.24615571613], \"x\": [87.734375, 87.734375, 538.291015625, 538.291015625], \"type\": \"scatter\"}], {\"autosize\": false, \"yaxis\": {\"showticklabels\": false}, \"showlegend\": false, \"height\": 500, \"width\": 800, \"xaxis\": {\"showticklabels\": true, \"tickmode\": \"array\", \"ticks\": \"outside\", \"showgrid\": false, \"mirror\": \"allticks\", \"zeroline\": false, \"showline\": true, \"ticktext\": [\"95\", \"86\", \"92\", \"87\", \"36\", \"119\", \"25\", \"88\", \"98\", \"41\", \"7\", \"22\", \"117\", \"100\", \"113\", \"118\", \"71\", \"111\", \"20\", \"24\", \"1\", \"46\", \"3\", \"121\", \"30\", \"13\", \"21\", \"15\", \"123\", \"31\", \"37\", \"9\", \"48\", \"72\", \"126\", \"79\", \"0\", \"125\", \"10\", \"23\", \"78\", \"108\", \"19\", \"122\", \"28\", \"6\", \"12\", \"127\", \"44\", \"45\", \"29\", \"94\", \"70\", \"58\", \"85\", \"91\", \"34\", \"50\", \"17\", \"33\", \"42\", \"104\", \"77\", \"96\", \"53\", \"76\", \"68\", \"75\", \"90\", \"57\", \"83\", \"59\", \"60\", \"65\", \"80\", \"56\", \"116\", \"115\", \"105\", \"4\", \"47\", \"110\", \"107\", \"2\", \"109\", \"18\", \"38\", \"101\", \"39\", \"49\", \"114\", \"43\", \"99\", \"27\", \"26\", \"106\", \"5\", \"69\", \"84\", \"102\", \"81\", \"89\", \"74\", \"82\", \"40\", \"51\", \"35\", \"52\", \"63\", \"93\", \"55\", \"64\", \"73\", \"61\", \"32\", \"11\", \"103\", \"67\", \"124\", \"8\", \"112\", \"14\", \"120\", \"16\", \"66\", \"54\", \"62\", \"97\"], \"rangemode\": \"tozero\", \"type\": \"linear\", \"tickvals\": [5.0, 15.0, 25.0, 35.0, 45.0, 55.0, 65.0, 75.0, 85.0, 95.0, 105.0, 115.0, 125.0, 135.0, 145.0, 155.0, 165.0, 175.0, 185.0, 195.0, 205.0, 215.0, 225.0, 235.0, 245.0, 255.0, 265.0, 275.0, 285.0, 295.0, 305.0, 315.0, 325.0, 335.0, 345.0, 355.0, 365.0, 375.0, 385.0, 395.0, 405.0, 415.0, 425.0, 435.0, 445.0, 455.0, 465.0, 475.0, 482.5, 485.0, 490.0, 495.0, 505.0, 515.0, 525.0, 535.0, 545.0, 555.0, 565.0, 575.0, 585.0, 595.0, 605.0, 615.0, 625.0, 635.0, 645.0, 655.0, 665.0, 675.0, 685.0, 695.0, 705.0, 715.0, 725.0, 735.0, 745.0, 755.0, 765.0, 775.0, 785.0, 795.0, 805.0, 815.0, 825.0, 835.0, 845.0, 855.0, 865.0, 875.0, 885.0, 895.0, 905.0, 915.0, 925.0, 935.0, 945.0, 955.0, 965.0, 975.0, 985.0, 995.0, 1005.0, 1015.0, 1025.0, 1035.0, 1045.0, 1055.0, 1065.0, 1075.0, 1085.0, 1095.0, 1105.0, 1115.0, 1125.0, 1135.0, 1145.0, 1155.0, 1165.0, 1175.0, 1185.0, 1195.0, 1205.0, 1215.0, 1225.0, 1235.0, 1245.0, 1255.0, 1265.0, 1275.0]}, \"hovermode\": \"closest\"}, {\"linkText\": \"Export to plot.ly\", \"showLink\": true})});</script>"
      ],
      "text/vnd.plotly.v1+html": [
       "<div id=\"cbd8e4bc-d973-458d-bd28-3661db85214f\" style=\"height: 500px; width: 800px;\" class=\"plotly-graph-div\"></div><script type=\"text/javascript\">require([\"plotly\"], function(Plotly) { window.PLOTLYENV=window.PLOTLYENV || {};window.PLOTLYENV.BASE_URL=\"https://plot.ly\";Plotly.newPlot(\"cbd8e4bc-d973-458d-bd28-3661db85214f\", [{\"yaxis\": \"y\", \"marker\": {\"color\": \"rgb(61,153,112)\"}, \"mode\": \"lines\", \"xaxis\": \"x\", \"y\": [0.0, 34598.8606748835, 34598.8606748835, 0.0], \"x\": [15.0, 15.0, 25.0, 25.0], \"type\": \"scatter\"}, {\"yaxis\": \"y\", \"marker\": {\"color\": \"rgb(61,153,112)\"}, \"mode\": \"lines\", \"xaxis\": \"x\", \"y\": [0.0, 70690.46722861577, 70690.46722861577, 34598.8606748835], \"x\": [5.0, 5.0, 20.0, 20.0], \"type\": \"scatter\"}, {\"yaxis\": \"y\", \"marker\": {\"color\": \"rgb(61,153,112)\"}, \"mode\": \"lines\", \"xaxis\": \"x\", \"y\": [0.0, 20865.286865988688, 20865.286865988688, 0.0], \"x\": [45.0, 45.0, 55.0, 55.0], \"type\": \"scatter\"}, {\"yaxis\": \"y\", \"marker\": {\"color\": \"rgb(61,153,112)\"}, \"mode\": \"lines\", \"xaxis\": \"x\", \"y\": [0.0, 48313.12504899678, 48313.12504899678, 20865.286865988688], \"x\": [35.0, 35.0, 50.0, 50.0], \"type\": \"scatter\"}, {\"yaxis\": \"y\", \"marker\": {\"color\": \"rgb(61,153,112)\"}, \"mode\": \"lines\", \"xaxis\": \"x\", \"y\": [0.0, 13314.620122256587, 13314.620122256587, 0.0], \"x\": [65.0, 65.0, 75.0, 75.0], \"type\": \"scatter\"}, {\"yaxis\": \"y\", \"marker\": {\"color\": \"rgb(61,153,112)\"}, \"mode\": \"lines\", \"xaxis\": \"x\", \"y\": [0.0, 9163.827257210822, 9163.827257210822, 0.0], \"x\": [105.0, 105.0, 115.0, 115.0], \"type\": \"scatter\"}, {\"yaxis\": \"y\", \"marker\": {\"color\": \"rgb(61,153,112)\"}, \"mode\": \"lines\", \"xaxis\": \"x\", \"y\": [0.0, 21899.01486368736, 21899.01486368736, 9163.827257210822], \"x\": [95.0, 95.0, 110.0, 110.0], \"type\": \"scatter\"}, {\"yaxis\": \"y\", \"marker\": {\"color\": \"rgb(61,153,112)\"}, \"mode\": \"lines\", \"xaxis\": \"x\", \"y\": [0.0, 25502.182573262235, 25502.182573262235, 21899.01486368736], \"x\": [85.0, 85.0, 102.5, 102.5], \"type\": \"scatter\"}, {\"yaxis\": \"y\", \"marker\": {\"color\": \"rgb(61,153,112)\"}, \"mode\": \"lines\", \"xaxis\": \"x\", \"y\": [13314.620122256587, 50153.201931681295, 50153.201931681295, 25502.182573262235], \"x\": [70.0, 70.0, 93.75, 93.75], \"type\": \"scatter\"}, {\"yaxis\": \"y\", \"marker\": {\"color\": \"rgb(61,153,112)\"}, \"mode\": \"lines\", \"xaxis\": \"x\", \"y\": [48313.12504899678, 82470.7887860908, 82470.7887860908, 50153.201931681295], \"x\": [42.5, 42.5, 81.875, 81.875], \"type\": \"scatter\"}, {\"yaxis\": \"y\", \"marker\": {\"color\": \"rgb(61,153,112)\"}, \"mode\": \"lines\", \"xaxis\": \"x\", \"y\": [70690.46722861577, 140346.89222779393, 140346.89222779393, 82470.7887860908], \"x\": [12.5, 12.5, 62.1875, 62.1875], \"type\": \"scatter\"}, {\"yaxis\": \"y\", \"marker\": {\"color\": \"rgb(61,153,112)\"}, \"mode\": \"lines\", \"xaxis\": \"x\", \"y\": [0.0, 20144.73573914535, 20144.73573914535, 0.0], \"x\": [135.0, 135.0, 145.0, 145.0], \"type\": \"scatter\"}, {\"yaxis\": \"y\", \"marker\": {\"color\": \"rgb(61,153,112)\"}, \"mode\": \"lines\", \"xaxis\": \"x\", \"y\": [0.0, 9780.003425357274, 9780.003425357274, 0.0], \"x\": [165.0, 165.0, 175.0, 175.0], \"type\": \"scatter\"}, {\"yaxis\": \"y\", \"marker\": {\"color\": \"rgb(61,153,112)\"}, \"mode\": \"lines\", \"xaxis\": \"x\", \"y\": [0.0, 46323.00919629466, 46323.00919629466, 9780.003425357274], \"x\": [155.0, 155.0, 170.0, 170.0], \"type\": \"scatter\"}, {\"yaxis\": \"y\", \"marker\": {\"color\": \"rgb(61,153,112)\"}, \"mode\": \"lines\", \"xaxis\": \"x\", \"y\": [20144.73573914535, 77662.45965072185, 77662.45965072185, 46323.00919629466], \"x\": [140.0, 140.0, 162.5, 162.5], \"type\": \"scatter\"}, {\"yaxis\": \"y\", \"marker\": {\"color\": \"rgb(61,153,112)\"}, \"mode\": \"lines\", \"xaxis\": \"x\", \"y\": [0.0, 165691.1855048421, 165691.1855048421, 77662.45965072185], \"x\": [125.0, 125.0, 151.25, 151.25], \"type\": \"scatter\"}, {\"yaxis\": \"y\", \"marker\": {\"color\": \"rgb(61,153,112)\"}, \"mode\": \"lines\", \"xaxis\": \"x\", \"y\": [140346.89222779393, 299805.48210297956, 299805.48210297956, 165691.1855048421], \"x\": [37.34375, 37.34375, 138.125, 138.125], \"type\": \"scatter\"}, {\"yaxis\": \"y\", \"marker\": {\"color\": \"rgb(255,65,54)\"}, \"mode\": \"lines\", \"xaxis\": \"x\", \"y\": [0.0, 5050.993763607316, 5050.993763607316, 0.0], \"x\": [185.0, 185.0, 195.0, 195.0], \"type\": \"scatter\"}, {\"yaxis\": \"y\", \"marker\": {\"color\": \"rgb(255,65,54)\"}, \"mode\": \"lines\", \"xaxis\": \"x\", \"y\": [0.0, 6001.56312971879, 6001.56312971879, 0.0], \"x\": [205.0, 205.0, 215.0, 215.0], \"type\": \"scatter\"}, {\"yaxis\": \"y\", \"marker\": {\"color\": \"rgb(255,65,54)\"}, \"mode\": \"lines\", \"xaxis\": \"x\", \"y\": [5050.993763607316, 29073.30029425624, 29073.30029425624, 6001.56312971879], \"x\": [190.0, 190.0, 210.0, 210.0], \"type\": \"scatter\"}, {\"yaxis\": \"y\", \"marker\": {\"color\": \"rgb(255,65,54)\"}, \"mode\": \"lines\", \"xaxis\": \"x\", \"y\": [0.0, 2003.2892951343797, 2003.2892951343797, 0.0], \"x\": [225.0, 225.0, 235.0, 235.0], \"type\": \"scatter\"}, {\"yaxis\": \"y\", \"marker\": {\"color\": \"rgb(255,65,54)\"}, \"mode\": \"lines\", \"xaxis\": \"x\", \"y\": [0.0, 1668.4768503038931, 1668.4768503038931, 0.0], \"x\": [255.0, 255.0, 265.0, 265.0], \"type\": \"scatter\"}, {\"yaxis\": \"y\", \"marker\": {\"color\": \"rgb(255,65,54)\"}, \"mode\": \"lines\", \"xaxis\": \"x\", \"y\": [0.0, 11962.050702116256, 11962.050702116256, 1668.4768503038931], \"x\": [245.0, 245.0, 260.0, 260.0], \"type\": \"scatter\"}, {\"yaxis\": \"y\", \"marker\": {\"color\": \"rgb(255,65,54)\"}, \"mode\": \"lines\", \"xaxis\": \"x\", \"y\": [2003.2892951343797, 14115.421566499528, 14115.421566499528, 11962.050702116256], \"x\": [230.0, 230.0, 252.5, 252.5], \"type\": \"scatter\"}, {\"yaxis\": \"y\", \"marker\": {\"color\": \"rgb(255,65,54)\"}, \"mode\": \"lines\", \"xaxis\": \"x\", \"y\": [0.0, 13140.093264509198, 13140.093264509198, 0.0], \"x\": [275.0, 275.0, 285.0, 285.0], \"type\": \"scatter\"}, {\"yaxis\": \"y\", \"marker\": {\"color\": \"rgb(255,65,54)\"}, \"mode\": \"lines\", \"xaxis\": \"x\", \"y\": [0.0, 4510.07815896798, 4510.07815896798, 0.0], \"x\": [295.0, 295.0, 305.0, 305.0], \"type\": \"scatter\"}, {\"yaxis\": \"y\", \"marker\": {\"color\": \"rgb(255,65,54)\"}, \"mode\": \"lines\", \"xaxis\": \"x\", \"y\": [0.0, 7668.3303919432165, 7668.3303919432165, 0.0], \"x\": [315.0, 315.0, 325.0, 325.0], \"type\": \"scatter\"}, {\"yaxis\": \"y\", \"marker\": {\"color\": \"rgb(255,65,54)\"}, \"mode\": \"lines\", \"xaxis\": \"x\", \"y\": [4510.07815896798, 20536.353644208604, 20536.353644208604, 7668.3303919432165], \"x\": [300.0, 300.0, 320.0, 320.0], \"type\": \"scatter\"}, {\"yaxis\": \"y\", \"marker\": {\"color\": \"rgb(255,65,54)\"}, \"mode\": \"lines\", \"xaxis\": \"x\", \"y\": [13140.093264509198, 25993.608021973403, 25993.608021973403, 20536.353644208604], \"x\": [280.0, 280.0, 310.0, 310.0], \"type\": \"scatter\"}, {\"yaxis\": \"y\", \"marker\": {\"color\": \"rgb(255,65,54)\"}, \"mode\": \"lines\", \"xaxis\": \"x\", \"y\": [14115.421566499528, 44787.99735420194, 44787.99735420194, 25993.608021973403], \"x\": [241.25, 241.25, 295.0, 295.0], \"type\": \"scatter\"}, {\"yaxis\": \"y\", \"marker\": {\"color\": \"rgb(255,65,54)\"}, \"mode\": \"lines\", \"xaxis\": \"x\", \"y\": [29073.30029425624, 70840.41956397491, 70840.41956397491, 44787.99735420194], \"x\": [200.0, 200.0, 268.125, 268.125], \"type\": \"scatter\"}, {\"yaxis\": \"y\", \"marker\": {\"color\": \"rgb(255,65,54)\"}, \"mode\": \"lines\", \"xaxis\": \"x\", \"y\": [0.0, 14669.883912287785, 14669.883912287785, 0.0], \"x\": [365.0, 365.0, 375.0, 375.0], \"type\": \"scatter\"}, {\"yaxis\": \"y\", \"marker\": {\"color\": \"rgb(255,65,54)\"}, \"mode\": \"lines\", \"xaxis\": \"x\", \"y\": [0.0, 27457.417850191232, 27457.417850191232, 14669.883912287785], \"x\": [355.0, 355.0, 370.0, 370.0], \"type\": \"scatter\"}, {\"yaxis\": \"y\", \"marker\": {\"color\": \"rgb(255,65,54)\"}, \"mode\": \"lines\", \"xaxis\": \"x\", \"y\": [0.0, 29154.169547424946, 29154.169547424946, 27457.417850191232], \"x\": [345.0, 345.0, 362.5, 362.5], \"type\": \"scatter\"}, {\"yaxis\": \"y\", \"marker\": {\"color\": \"rgb(255,65,54)\"}, \"mode\": \"lines\", \"xaxis\": \"x\", \"y\": [0.0, 59250.38385529667, 59250.38385529667, 29154.169547424946], \"x\": [335.0, 335.0, 353.75, 353.75], \"type\": \"scatter\"}, {\"yaxis\": \"y\", \"marker\": {\"color\": \"rgb(255,65,54)\"}, \"mode\": \"lines\", \"xaxis\": \"x\", \"y\": [0.0, 40853.82703003477, 40853.82703003477, 0.0], \"x\": [385.0, 385.0, 395.0, 395.0], \"type\": \"scatter\"}, {\"yaxis\": \"y\", \"marker\": {\"color\": \"rgb(255,65,54)\"}, \"mode\": \"lines\", \"xaxis\": \"x\", \"y\": [0.0, 7386.535453106551, 7386.535453106551, 0.0], \"x\": [405.0, 405.0, 415.0, 415.0], \"type\": \"scatter\"}, {\"yaxis\": \"y\", \"marker\": {\"color\": \"rgb(255,65,54)\"}, \"mode\": \"lines\", \"xaxis\": \"x\", \"y\": [0.0, 11467.78326443258, 11467.78326443258, 0.0], \"x\": [425.0, 425.0, 435.0, 435.0], \"type\": \"scatter\"}, {\"yaxis\": \"y\", \"marker\": {\"color\": \"rgb(255,65,54)\"}, \"mode\": \"lines\", \"xaxis\": \"x\", \"y\": [7386.535453106551, 26821.112709952955, 26821.112709952955, 11467.78326443258], \"x\": [410.0, 410.0, 430.0, 430.0], \"type\": \"scatter\"}, {\"yaxis\": \"y\", \"marker\": {\"color\": \"rgb(255,65,54)\"}, \"mode\": \"lines\", \"xaxis\": \"x\", \"y\": [0.0, 14074.289999854343, 14074.289999854343, 0.0], \"x\": [455.0, 455.0, 465.0, 465.0], \"type\": \"scatter\"}, {\"yaxis\": \"y\", \"marker\": {\"color\": \"rgb(255,65,54)\"}, \"mode\": \"lines\", \"xaxis\": \"x\", \"y\": [0.0, 28266.975925981187, 28266.975925981187, 14074.289999854343], \"x\": [445.0, 445.0, 460.0, 460.0], \"type\": \"scatter\"}, {\"yaxis\": \"y\", \"marker\": {\"color\": \"rgb(255,65,54)\"}, \"mode\": \"lines\", \"xaxis\": \"x\", \"y\": [26821.112709952955, 44590.01398295363, 44590.01398295363, 28266.975925981187], \"x\": [420.0, 420.0, 452.5, 452.5], \"type\": \"scatter\"}, {\"yaxis\": \"y\", \"marker\": {\"color\": \"rgb(255,65,54)\"}, \"mode\": \"lines\", \"xaxis\": \"x\", \"y\": [40853.82703003477, 65537.6655748433, 65537.6655748433, 44590.01398295363], \"x\": [390.0, 390.0, 436.25, 436.25], \"type\": \"scatter\"}, {\"yaxis\": \"y\", \"marker\": {\"color\": \"rgb(255,65,54)\"}, \"mode\": \"lines\", \"xaxis\": \"x\", \"y\": [59250.38385529667, 111577.30940473515, 111577.30940473515, 65537.6655748433], \"x\": [344.375, 344.375, 413.125, 413.125], \"type\": \"scatter\"}, {\"yaxis\": \"y\", \"marker\": {\"color\": \"rgb(255,65,54)\"}, \"mode\": \"lines\", \"xaxis\": \"x\", \"y\": [70840.41956397491, 168256.16799986857, 168256.16799986857, 111577.30940473515], \"x\": [234.0625, 234.0625, 378.75, 378.75], \"type\": \"scatter\"}, {\"yaxis\": \"y\", \"marker\": {\"color\": \"rgb(255,65,54)\"}, \"mode\": \"lines\", \"xaxis\": \"x\", \"y\": [0.0, 0.0, 0.0, 0.0], \"x\": [485.0, 485.0, 495.0, 495.0], \"type\": \"scatter\"}, {\"yaxis\": \"y\", \"marker\": {\"color\": \"rgb(255,65,54)\"}, \"mode\": \"lines\", \"xaxis\": \"x\", \"y\": [0.0, 0.0, 0.0, 0.0], \"x\": [475.0, 475.0, 490.0, 490.0], \"type\": \"scatter\"}, {\"yaxis\": \"y\", \"marker\": {\"color\": \"rgb(255,65,54)\"}, \"mode\": \"lines\", \"xaxis\": \"x\", \"y\": [0.0, 14044.33844827519, 14044.33844827519, 0.0], \"x\": [505.0, 505.0, 515.0, 515.0], \"type\": \"scatter\"}, {\"yaxis\": \"y\", \"marker\": {\"color\": \"rgb(255,65,54)\"}, \"mode\": \"lines\", \"xaxis\": \"x\", \"y\": [0.0, 12521.339196542778, 12521.339196542778, 0.0], \"x\": [535.0, 535.0, 545.0, 545.0], \"type\": \"scatter\"}, {\"yaxis\": \"y\", \"marker\": {\"color\": \"rgb(255,65,54)\"}, \"mode\": \"lines\", \"xaxis\": \"x\", \"y\": [0.0, 25783.29856069269, 25783.29856069269, 12521.339196542778], \"x\": [525.0, 525.0, 540.0, 540.0], \"type\": \"scatter\"}, {\"yaxis\": \"y\", \"marker\": {\"color\": \"rgb(255,65,54)\"}, \"mode\": \"lines\", \"xaxis\": \"x\", \"y\": [14044.33844827519, 34926.195956113865, 34926.195956113865, 25783.29856069269], \"x\": [510.0, 510.0, 532.5, 532.5], \"type\": \"scatter\"}, {\"yaxis\": \"y\", \"marker\": {\"color\": \"rgb(255,65,54)\"}, \"mode\": \"lines\", \"xaxis\": \"x\", \"y\": [0.0, 2153.2709191771164, 2153.2709191771164, 0.0], \"x\": [565.0, 565.0, 575.0, 575.0], \"type\": \"scatter\"}, {\"yaxis\": \"y\", \"marker\": {\"color\": \"rgb(255,65,54)\"}, \"mode\": \"lines\", \"xaxis\": \"x\", \"y\": [0.0, 9396.717201597894, 9396.717201597894, 2153.2709191771164], \"x\": [555.0, 555.0, 570.0, 570.0], \"type\": \"scatter\"}, {\"yaxis\": \"y\", \"marker\": {\"color\": \"rgb(255,65,54)\"}, \"mode\": \"lines\", \"xaxis\": \"x\", \"y\": [0.0, 12401.218778224966, 12401.218778224966, 0.0], \"x\": [585.0, 585.0, 595.0, 595.0], \"type\": \"scatter\"}, {\"yaxis\": \"y\", \"marker\": {\"color\": \"rgb(255,65,54)\"}, \"mode\": \"lines\", \"xaxis\": \"x\", \"y\": [9396.717201597894, 17166.029733111096, 17166.029733111096, 12401.218778224966], \"x\": [562.5, 562.5, 590.0, 590.0], \"type\": \"scatter\"}, {\"yaxis\": \"y\", \"marker\": {\"color\": \"rgb(255,65,54)\"}, \"mode\": \"lines\", \"xaxis\": \"x\", \"y\": [0.0, 9489.428632215146, 9489.428632215146, 0.0], \"x\": [625.0, 625.0, 635.0, 635.0], \"type\": \"scatter\"}, {\"yaxis\": \"y\", \"marker\": {\"color\": \"rgb(255,65,54)\"}, \"mode\": \"lines\", \"xaxis\": \"x\", \"y\": [0.0, 11490.684149408207, 11490.684149408207, 9489.428632215146], \"x\": [615.0, 615.0, 630.0, 630.0], \"type\": \"scatter\"}, {\"yaxis\": \"y\", \"marker\": {\"color\": \"rgb(255,65,54)\"}, \"mode\": \"lines\", \"xaxis\": \"x\", \"y\": [0.0, 19045.219100004724, 19045.219100004724, 11490.684149408207], \"x\": [605.0, 605.0, 622.5, 622.5], \"type\": \"scatter\"}, {\"yaxis\": \"y\", \"marker\": {\"color\": \"rgb(255,65,54)\"}, \"mode\": \"lines\", \"xaxis\": \"x\", \"y\": [17166.029733111096, 29523.785126998726, 29523.785126998726, 19045.219100004724], \"x\": [576.25, 576.25, 613.75, 613.75], \"type\": \"scatter\"}, {\"yaxis\": \"y\", \"marker\": {\"color\": \"rgb(255,65,54)\"}, \"mode\": \"lines\", \"xaxis\": \"x\", \"y\": [0.0, 13063.370388972715, 13063.370388972715, 0.0], \"x\": [645.0, 645.0, 655.0, 655.0], \"type\": \"scatter\"}, {\"yaxis\": \"y\", \"marker\": {\"color\": \"rgb(255,65,54)\"}, \"mode\": \"lines\", \"xaxis\": \"x\", \"y\": [0.0, 4770.522577071339, 4770.522577071339, 0.0], \"x\": [665.0, 665.0, 675.0, 675.0], \"type\": \"scatter\"}, {\"yaxis\": \"y\", \"marker\": {\"color\": \"rgb(255,65,54)\"}, \"mode\": \"lines\", \"xaxis\": \"x\", \"y\": [0.0, 1478.6749407219852, 1478.6749407219852, 0.0], \"x\": [695.0, 695.0, 705.0, 705.0], \"type\": \"scatter\"}, {\"yaxis\": \"y\", \"marker\": {\"color\": \"rgb(255,65,54)\"}, \"mode\": \"lines\", \"xaxis\": \"x\", \"y\": [0.0, 5266.48356222241, 5266.48356222241, 1478.6749407219852], \"x\": [685.0, 685.0, 700.0, 700.0], \"type\": \"scatter\"}, {\"yaxis\": \"y\", \"marker\": {\"color\": \"rgb(255,65,54)\"}, \"mode\": \"lines\", \"xaxis\": \"x\", \"y\": [4770.522577071339, 11001.407729872297, 11001.407729872297, 5266.48356222241], \"x\": [670.0, 670.0, 692.5, 692.5], \"type\": \"scatter\"}, {\"yaxis\": \"y\", \"marker\": {\"color\": \"rgb(255,65,54)\"}, \"mode\": \"lines\", \"xaxis\": \"x\", \"y\": [0.0, 3718.165132998744, 3718.165132998744, 0.0], \"x\": [735.0, 735.0, 745.0, 745.0], \"type\": \"scatter\"}, {\"yaxis\": \"y\", \"marker\": {\"color\": \"rgb(255,65,54)\"}, \"mode\": \"lines\", \"xaxis\": \"x\", \"y\": [0.0, 7073.084822483935, 7073.084822483935, 3718.165132998744], \"x\": [725.0, 725.0, 740.0, 740.0], \"type\": \"scatter\"}, {\"yaxis\": \"y\", \"marker\": {\"color\": \"rgb(255,65,54)\"}, \"mode\": \"lines\", \"xaxis\": \"x\", \"y\": [0.0, 15252.545276943545, 15252.545276943545, 7073.084822483935], \"x\": [715.0, 715.0, 732.5, 732.5], \"type\": \"scatter\"}, {\"yaxis\": \"y\", \"marker\": {\"color\": \"rgb(255,65,54)\"}, \"mode\": \"lines\", \"xaxis\": \"x\", \"y\": [11001.407729872297, 19129.281138506172, 19129.281138506172, 15252.545276943545], \"x\": [681.25, 681.25, 723.75, 723.75], \"type\": \"scatter\"}, {\"yaxis\": \"y\", \"marker\": {\"color\": \"rgb(255,65,54)\"}, \"mode\": \"lines\", \"xaxis\": \"x\", \"y\": [13063.370388972715, 32733.84127257279, 32733.84127257279, 19129.281138506172], \"x\": [650.0, 650.0, 702.5, 702.5], \"type\": \"scatter\"}, {\"yaxis\": \"y\", \"marker\": {\"color\": \"rgb(255,65,54)\"}, \"mode\": \"lines\", \"xaxis\": \"x\", \"y\": [29523.785126998726, 42506.62939282625, 42506.62939282625, 32733.84127257279], \"x\": [595.0, 595.0, 676.25, 676.25], \"type\": \"scatter\"}, {\"yaxis\": \"y\", \"marker\": {\"color\": \"rgb(255,65,54)\"}, \"mode\": \"lines\", \"xaxis\": \"x\", \"y\": [34926.195956113865, 67498.3644649989, 67498.3644649989, 42506.62939282625], \"x\": [521.25, 521.25, 635.625, 635.625], \"type\": \"scatter\"}, {\"yaxis\": \"y\", \"marker\": {\"color\": \"rgb(255,65,54)\"}, \"mode\": \"lines\", \"xaxis\": \"x\", \"y\": [0.0, 107924.8091977348, 107924.8091977348, 67498.3644649989], \"x\": [482.5, 482.5, 578.4375, 578.4375], \"type\": \"scatter\"}, {\"yaxis\": \"y\", \"marker\": {\"color\": \"rgb(255,65,54)\"}, \"mode\": \"lines\", \"xaxis\": \"x\", \"y\": [0.0, 14769.379386833776, 14769.379386833776, 0.0], \"x\": [755.0, 755.0, 765.0, 765.0], \"type\": \"scatter\"}, {\"yaxis\": \"y\", \"marker\": {\"color\": \"rgb(255,65,54)\"}, \"mode\": \"lines\", \"xaxis\": \"x\", \"y\": [0.0, 4367.491680212536, 4367.491680212536, 0.0], \"x\": [805.0, 805.0, 815.0, 815.0], \"type\": \"scatter\"}, {\"yaxis\": \"y\", \"marker\": {\"color\": \"rgb(255,65,54)\"}, \"mode\": \"lines\", \"xaxis\": \"x\", \"y\": [0.0, 7402.674376044773, 7402.674376044773, 4367.491680212536], \"x\": [795.0, 795.0, 810.0, 810.0], \"type\": \"scatter\"}, {\"yaxis\": \"y\", \"marker\": {\"color\": \"rgb(255,65,54)\"}, \"mode\": \"lines\", \"xaxis\": \"x\", \"y\": [0.0, 12240.557498597764, 12240.557498597764, 7402.674376044773], \"x\": [785.0, 785.0, 802.5, 802.5], \"type\": \"scatter\"}, {\"yaxis\": \"y\", \"marker\": {\"color\": \"rgb(255,65,54)\"}, \"mode\": \"lines\", \"xaxis\": \"x\", \"y\": [0.0, 6648.333572869467, 6648.333572869467, 0.0], \"x\": [835.0, 835.0, 845.0, 845.0], \"type\": \"scatter\"}, {\"yaxis\": \"y\", \"marker\": {\"color\": \"rgb(255,65,54)\"}, \"mode\": \"lines\", \"xaxis\": \"x\", \"y\": [0.0, 13085.05587720802, 13085.05587720802, 6648.333572869467], \"x\": [825.0, 825.0, 840.0, 840.0], \"type\": \"scatter\"}, {\"yaxis\": \"y\", \"marker\": {\"color\": \"rgb(255,65,54)\"}, \"mode\": \"lines\", \"xaxis\": \"x\", \"y\": [12240.557498597764, 19697.614853403964, 19697.614853403964, 13085.05587720802], \"x\": [793.75, 793.75, 832.5, 832.5], \"type\": \"scatter\"}, {\"yaxis\": \"y\", \"marker\": {\"color\": \"rgb(255,65,54)\"}, \"mode\": \"lines\", \"xaxis\": \"x\", \"y\": [0.0, 31535.436566671717, 31535.436566671717, 19697.614853403964], \"x\": [775.0, 775.0, 813.125, 813.125], \"type\": \"scatter\"}, {\"yaxis\": \"y\", \"marker\": {\"color\": \"rgb(255,65,54)\"}, \"mode\": \"lines\", \"xaxis\": \"x\", \"y\": [14769.379386833776, 36352.370265527396, 36352.370265527396, 31535.436566671717], \"x\": [760.0, 760.0, 794.0625, 794.0625], \"type\": \"scatter\"}, {\"yaxis\": \"y\", \"marker\": {\"color\": \"rgb(255,65,54)\"}, \"mode\": \"lines\", \"xaxis\": \"x\", \"y\": [0.0, 4511.761125398773, 4511.761125398773, 0.0], \"x\": [865.0, 865.0, 875.0, 875.0], \"type\": \"scatter\"}, {\"yaxis\": \"y\", \"marker\": {\"color\": \"rgb(255,65,54)\"}, \"mode\": \"lines\", \"xaxis\": \"x\", \"y\": [0.0, 5928.267033054242, 5928.267033054242, 4511.761125398773], \"x\": [855.0, 855.0, 870.0, 870.0], \"type\": \"scatter\"}, {\"yaxis\": \"y\", \"marker\": {\"color\": \"rgb(255,65,54)\"}, \"mode\": \"lines\", \"xaxis\": \"x\", \"y\": [0.0, 5981.858036218643, 5981.858036218643, 0.0], \"x\": [885.0, 885.0, 895.0, 895.0], \"type\": \"scatter\"}, {\"yaxis\": \"y\", \"marker\": {\"color\": \"rgb(255,65,54)\"}, \"mode\": \"lines\", \"xaxis\": \"x\", \"y\": [5928.267033054242, 11815.30237514142, 11815.30237514142, 5981.858036218643], \"x\": [862.5, 862.5, 890.0, 890.0], \"type\": \"scatter\"}, {\"yaxis\": \"y\", \"marker\": {\"color\": \"rgb(255,65,54)\"}, \"mode\": \"lines\", \"xaxis\": \"x\", \"y\": [0.0, 1184.4412184654839, 1184.4412184654839, 0.0], \"x\": [915.0, 915.0, 925.0, 925.0], \"type\": \"scatter\"}, {\"yaxis\": \"y\", \"marker\": {\"color\": \"rgb(255,65,54)\"}, \"mode\": \"lines\", \"xaxis\": \"x\", \"y\": [0.0, 1973.7829288439227, 1973.7829288439227, 0.0], \"x\": [945.0, 945.0, 955.0, 955.0], \"type\": \"scatter\"}, {\"yaxis\": \"y\", \"marker\": {\"color\": \"rgb(255,65,54)\"}, \"mode\": \"lines\", \"xaxis\": \"x\", \"y\": [0.0, 4181.445557417776, 4181.445557417776, 1973.7829288439227], \"x\": [935.0, 935.0, 950.0, 950.0], \"type\": \"scatter\"}, {\"yaxis\": \"y\", \"marker\": {\"color\": \"rgb(255,65,54)\"}, \"mode\": \"lines\", \"xaxis\": \"x\", \"y\": [1184.4412184654839, 5680.240422051256, 5680.240422051256, 4181.445557417776], \"x\": [920.0, 920.0, 942.5, 942.5], \"type\": \"scatter\"}, {\"yaxis\": \"y\", \"marker\": {\"color\": \"rgb(255,65,54)\"}, \"mode\": \"lines\", \"xaxis\": \"x\", \"y\": [0.0, 13458.137205928448, 13458.137205928448, 5680.240422051256], \"x\": [905.0, 905.0, 931.25, 931.25], \"type\": \"scatter\"}, {\"yaxis\": \"y\", \"marker\": {\"color\": \"rgb(255,65,54)\"}, \"mode\": \"lines\", \"xaxis\": \"x\", \"y\": [11815.30237514142, 16784.09315076625, 16784.09315076625, 13458.137205928448], \"x\": [876.25, 876.25, 918.125, 918.125], \"type\": \"scatter\"}, {\"yaxis\": \"y\", \"marker\": {\"color\": \"rgb(255,65,54)\"}, \"mode\": \"lines\", \"xaxis\": \"x\", \"y\": [0.0, 1571.5041098558372, 1571.5041098558372, 0.0], \"x\": [965.0, 965.0, 975.0, 975.0], \"type\": \"scatter\"}, {\"yaxis\": \"y\", \"marker\": {\"color\": \"rgb(255,65,54)\"}, \"mode\": \"lines\", \"xaxis\": \"x\", \"y\": [0.0, 4382.1328402589, 4382.1328402589, 0.0], \"x\": [985.0, 985.0, 995.0, 995.0], \"type\": \"scatter\"}, {\"yaxis\": \"y\", \"marker\": {\"color\": \"rgb(255,65,54)\"}, \"mode\": \"lines\", \"xaxis\": \"x\", \"y\": [1571.5041098558372, 7920.585040415161, 7920.585040415161, 4382.1328402589], \"x\": [970.0, 970.0, 990.0, 990.0], \"type\": \"scatter\"}, {\"yaxis\": \"y\", \"marker\": {\"color\": \"rgb(255,65,54)\"}, \"mode\": \"lines\", \"xaxis\": \"x\", \"y\": [0.0, 1152.5948643453141, 1152.5948643453141, 0.0], \"x\": [1005.0, 1005.0, 1015.0, 1015.0], \"type\": \"scatter\"}, {\"yaxis\": \"y\", \"marker\": {\"color\": \"rgb(255,65,54)\"}, \"mode\": \"lines\", \"xaxis\": \"x\", \"y\": [0.0, 2138.908431371696, 2138.908431371696, 0.0], \"x\": [1025.0, 1025.0, 1035.0, 1035.0], \"type\": \"scatter\"}, {\"yaxis\": \"y\", \"marker\": {\"color\": \"rgb(255,65,54)\"}, \"mode\": \"lines\", \"xaxis\": \"x\", \"y\": [1152.5948643453141, 5169.71761174804, 5169.71761174804, 2138.908431371696], \"x\": [1010.0, 1010.0, 1030.0, 1030.0], \"type\": \"scatter\"}, {\"yaxis\": \"y\", \"marker\": {\"color\": \"rgb(255,65,54)\"}, \"mode\": \"lines\", \"xaxis\": \"x\", \"y\": [0.0, 2010.9996286851397, 2010.9996286851397, 0.0], \"x\": [1045.0, 1045.0, 1055.0, 1055.0], \"type\": \"scatter\"}, {\"yaxis\": \"y\", \"marker\": {\"color\": \"rgb(255,65,54)\"}, \"mode\": \"lines\", \"xaxis\": \"x\", \"y\": [0.0, 2358.404336840771, 2358.404336840771, 0.0], \"x\": [1075.0, 1075.0, 1085.0, 1085.0], \"type\": \"scatter\"}, {\"yaxis\": \"y\", \"marker\": {\"color\": \"rgb(255,65,54)\"}, \"mode\": \"lines\", \"xaxis\": \"x\", \"y\": [0.0, 2545.34888995868, 2545.34888995868, 2358.404336840771], \"x\": [1065.0, 1065.0, 1080.0, 1080.0], \"type\": \"scatter\"}, {\"yaxis\": \"y\", \"marker\": {\"color\": \"rgb(255,65,54)\"}, \"mode\": \"lines\", \"xaxis\": \"x\", \"y\": [2010.9996286851397, 5282.843082635831, 5282.843082635831, 2545.34888995868], \"x\": [1050.0, 1050.0, 1072.5, 1072.5], \"type\": \"scatter\"}, {\"yaxis\": \"y\", \"marker\": {\"color\": \"rgb(255,65,54)\"}, \"mode\": \"lines\", \"xaxis\": \"x\", \"y\": [5169.71761174804, 11490.438579089367, 11490.438579089367, 5282.843082635831], \"x\": [1020.0, 1020.0, 1061.25, 1061.25], \"type\": \"scatter\"}, {\"yaxis\": \"y\", \"marker\": {\"color\": \"rgb(255,65,54)\"}, \"mode\": \"lines\", \"xaxis\": \"x\", \"y\": [7920.585040415161, 23036.52386436028, 23036.52386436028, 11490.438579089367], \"x\": [980.0, 980.0, 1040.625, 1040.625], \"type\": \"scatter\"}, {\"yaxis\": \"y\", \"marker\": {\"color\": \"rgb(255,65,54)\"}, \"mode\": \"lines\", \"xaxis\": \"x\", \"y\": [16784.09315076625, 39476.580234847, 39476.580234847, 23036.52386436028], \"x\": [897.1875, 897.1875, 1010.3125, 1010.3125], \"type\": \"scatter\"}, {\"yaxis\": \"y\", \"marker\": {\"color\": \"rgb(255,65,54)\"}, \"mode\": \"lines\", \"xaxis\": \"x\", \"y\": [36352.370265527396, 50161.46215925847, 50161.46215925847, 39476.580234847], \"x\": [777.03125, 777.03125, 953.75, 953.75], \"type\": \"scatter\"}, {\"yaxis\": \"y\", \"marker\": {\"color\": \"rgb(255,65,54)\"}, \"mode\": \"lines\", \"xaxis\": \"x\", \"y\": [0.0, 3833.6464364883727, 3833.6464364883727, 0.0], \"x\": [1115.0, 1115.0, 1125.0, 1125.0], \"type\": \"scatter\"}, {\"yaxis\": \"y\", \"marker\": {\"color\": \"rgb(255,65,54)\"}, \"mode\": \"lines\", \"xaxis\": \"x\", \"y\": [0.0, 2539.3369213241476, 2539.3369213241476, 0.0], \"x\": [1155.0, 1155.0, 1165.0, 1165.0], \"type\": \"scatter\"}, {\"yaxis\": \"y\", \"marker\": {\"color\": \"rgb(255,65,54)\"}, \"mode\": \"lines\", \"xaxis\": \"x\", \"y\": [0.0, 3223.3730780038477, 3223.3730780038477, 2539.3369213241476], \"x\": [1145.0, 1145.0, 1160.0, 1160.0], \"type\": \"scatter\"}, {\"yaxis\": \"y\", \"marker\": {\"color\": \"rgb(255,65,54)\"}, \"mode\": \"lines\", \"xaxis\": \"x\", \"y\": [0.0, 7703.92159877033, 7703.92159877033, 3223.3730780038477], \"x\": [1135.0, 1135.0, 1152.5, 1152.5], \"type\": \"scatter\"}, {\"yaxis\": \"y\", \"marker\": {\"color\": \"rgb(255,65,54)\"}, \"mode\": \"lines\", \"xaxis\": \"x\", \"y\": [3833.6464364883727, 13191.995148574002, 13191.995148574002, 7703.92159877033], \"x\": [1120.0, 1120.0, 1143.75, 1143.75], \"type\": \"scatter\"}, {\"yaxis\": \"y\", \"marker\": {\"color\": \"rgb(255,65,54)\"}, \"mode\": \"lines\", \"xaxis\": \"x\", \"y\": [0.0, 18613.04451184706, 18613.04451184706, 13191.995148574002], \"x\": [1105.0, 1105.0, 1131.875, 1131.875], \"type\": \"scatter\"}, {\"yaxis\": \"y\", \"marker\": {\"color\": \"rgb(255,65,54)\"}, \"mode\": \"lines\", \"xaxis\": \"x\", \"y\": [0.0, 28642.102314599742, 28642.102314599742, 18613.04451184706], \"x\": [1095.0, 1095.0, 1118.4375, 1118.4375], \"type\": \"scatter\"}, {\"yaxis\": \"y\", \"marker\": {\"color\": \"rgb(255,65,54)\"}, \"mode\": \"lines\", \"xaxis\": \"x\", \"y\": [0.0, 22577.62432143825, 22577.62432143825, 0.0], \"x\": [1175.0, 1175.0, 1185.0, 1185.0], \"type\": \"scatter\"}, {\"yaxis\": \"y\", \"marker\": {\"color\": \"rgb(255,65,54)\"}, \"mode\": \"lines\", \"xaxis\": \"x\", \"y\": [0.0, 7942.085242554376, 7942.085242554376, 0.0], \"x\": [1215.0, 1215.0, 1225.0, 1225.0], \"type\": \"scatter\"}, {\"yaxis\": \"y\", \"marker\": {\"color\": \"rgb(255,65,54)\"}, \"mode\": \"lines\", \"xaxis\": \"x\", \"y\": [0.0, 12630.737310228567, 12630.737310228567, 7942.085242554376], \"x\": [1205.0, 1205.0, 1220.0, 1220.0], \"type\": \"scatter\"}, {\"yaxis\": \"y\", \"marker\": {\"color\": \"rgb(255,65,54)\"}, \"mode\": \"lines\", \"xaxis\": \"x\", \"y\": [0.0, 21525.710717290913, 21525.710717290913, 12630.737310228567], \"x\": [1195.0, 1195.0, 1212.5, 1212.5], \"type\": \"scatter\"}, {\"yaxis\": \"y\", \"marker\": {\"color\": \"rgb(255,65,54)\"}, \"mode\": \"lines\", \"xaxis\": \"x\", \"y\": [0.0, 3304.6825868757805, 3304.6825868757805, 0.0], \"x\": [1265.0, 1265.0, 1275.0, 1275.0], \"type\": \"scatter\"}, {\"yaxis\": \"y\", \"marker\": {\"color\": \"rgb(255,65,54)\"}, \"mode\": \"lines\", \"xaxis\": \"x\", \"y\": [0.0, 5921.976697015955, 5921.976697015955, 3304.6825868757805], \"x\": [1255.0, 1255.0, 1270.0, 1270.0], \"type\": \"scatter\"}, {\"yaxis\": \"y\", \"marker\": {\"color\": \"rgb(255,65,54)\"}, \"mode\": \"lines\", \"xaxis\": \"x\", \"y\": [0.0, 17880.00321588338, 17880.00321588338, 5921.976697015955], \"x\": [1245.0, 1245.0, 1262.5, 1262.5], \"type\": \"scatter\"}, {\"yaxis\": \"y\", \"marker\": {\"color\": \"rgb(255,65,54)\"}, \"mode\": \"lines\", \"xaxis\": \"x\", \"y\": [0.0, 28859.978257095067, 28859.978257095067, 17880.00321588338], \"x\": [1235.0, 1235.0, 1253.75, 1253.75], \"type\": \"scatter\"}, {\"yaxis\": \"y\", \"marker\": {\"color\": \"rgb(255,65,54)\"}, \"mode\": \"lines\", \"xaxis\": \"x\", \"y\": [21525.710717290913, 36799.49029386683, 36799.49029386683, 28859.978257095067], \"x\": [1203.75, 1203.75, 1244.375, 1244.375], \"type\": \"scatter\"}, {\"yaxis\": \"y\", \"marker\": {\"color\": \"rgb(255,65,54)\"}, \"mode\": \"lines\", \"xaxis\": \"x\", \"y\": [22577.62432143825, 59574.119576197045, 59574.119576197045, 36799.49029386683], \"x\": [1180.0, 1180.0, 1224.0625, 1224.0625], \"type\": \"scatter\"}, {\"yaxis\": \"y\", \"marker\": {\"color\": \"rgb(255,65,54)\"}, \"mode\": \"lines\", \"xaxis\": \"x\", \"y\": [28642.102314599742, 63761.51648918021, 63761.51648918021, 59574.119576197045], \"x\": [1106.71875, 1106.71875, 1202.03125, 1202.03125], \"type\": \"scatter\"}, {\"yaxis\": \"y\", \"marker\": {\"color\": \"rgb(255,65,54)\"}, \"mode\": \"lines\", \"xaxis\": \"x\", \"y\": [50161.46215925847, 115149.37842404249, 115149.37842404249, 63761.51648918021], \"x\": [865.390625, 865.390625, 1154.375, 1154.375], \"type\": \"scatter\"}, {\"yaxis\": \"y\", \"marker\": {\"color\": \"rgb(255,65,54)\"}, \"mode\": \"lines\", \"xaxis\": \"x\", \"y\": [107924.8091977348, 220661.27140257304, 220661.27140257304, 115149.37842404249], \"x\": [530.46875, 530.46875, 1009.8828125, 1009.8828125], \"type\": \"scatter\"}, {\"yaxis\": \"y\", \"marker\": {\"color\": \"rgb(255,65,54)\"}, \"mode\": \"lines\", \"xaxis\": \"x\", \"y\": [168256.16799986857, 391043.24615571613, 391043.24615571613, 220661.27140257304], \"x\": [306.40625, 306.40625, 770.17578125, 770.17578125], \"type\": \"scatter\"}, {\"yaxis\": \"y\", \"marker\": {\"color\": \"rgb(0,116,217)\"}, \"mode\": \"lines\", \"xaxis\": \"x\", \"y\": [299805.48210297956, 753984.6000768185, 753984.6000768185, 391043.24615571613], \"x\": [87.734375, 87.734375, 538.291015625, 538.291015625], \"type\": \"scatter\"}], {\"autosize\": false, \"yaxis\": {\"showticklabels\": false}, \"showlegend\": false, \"height\": 500, \"width\": 800, \"xaxis\": {\"showticklabels\": true, \"tickmode\": \"array\", \"ticks\": \"outside\", \"showgrid\": false, \"mirror\": \"allticks\", \"zeroline\": false, \"showline\": true, \"ticktext\": [\"95\", \"86\", \"92\", \"87\", \"36\", \"119\", \"25\", \"88\", \"98\", \"41\", \"7\", \"22\", \"117\", \"100\", \"113\", \"118\", \"71\", \"111\", \"20\", \"24\", \"1\", \"46\", \"3\", \"121\", \"30\", \"13\", \"21\", \"15\", \"123\", \"31\", \"37\", \"9\", \"48\", \"72\", \"126\", \"79\", \"0\", \"125\", \"10\", \"23\", \"78\", \"108\", \"19\", \"122\", \"28\", \"6\", \"12\", \"127\", \"44\", \"45\", \"29\", \"94\", \"70\", \"58\", \"85\", \"91\", \"34\", \"50\", \"17\", \"33\", \"42\", \"104\", \"77\", \"96\", \"53\", \"76\", \"68\", \"75\", \"90\", \"57\", \"83\", \"59\", \"60\", \"65\", \"80\", \"56\", \"116\", \"115\", \"105\", \"4\", \"47\", \"110\", \"107\", \"2\", \"109\", \"18\", \"38\", \"101\", \"39\", \"49\", \"114\", \"43\", \"99\", \"27\", \"26\", \"106\", \"5\", \"69\", \"84\", \"102\", \"81\", \"89\", \"74\", \"82\", \"40\", \"51\", \"35\", \"52\", \"63\", \"93\", \"55\", \"64\", \"73\", \"61\", \"32\", \"11\", \"103\", \"67\", \"124\", \"8\", \"112\", \"14\", \"120\", \"16\", \"66\", \"54\", \"62\", \"97\"], \"rangemode\": \"tozero\", \"type\": \"linear\", \"tickvals\": [5.0, 15.0, 25.0, 35.0, 45.0, 55.0, 65.0, 75.0, 85.0, 95.0, 105.0, 115.0, 125.0, 135.0, 145.0, 155.0, 165.0, 175.0, 185.0, 195.0, 205.0, 215.0, 225.0, 235.0, 245.0, 255.0, 265.0, 275.0, 285.0, 295.0, 305.0, 315.0, 325.0, 335.0, 345.0, 355.0, 365.0, 375.0, 385.0, 395.0, 405.0, 415.0, 425.0, 435.0, 445.0, 455.0, 465.0, 475.0, 482.5, 485.0, 490.0, 495.0, 505.0, 515.0, 525.0, 535.0, 545.0, 555.0, 565.0, 575.0, 585.0, 595.0, 605.0, 615.0, 625.0, 635.0, 645.0, 655.0, 665.0, 675.0, 685.0, 695.0, 705.0, 715.0, 725.0, 735.0, 745.0, 755.0, 765.0, 775.0, 785.0, 795.0, 805.0, 815.0, 825.0, 835.0, 845.0, 855.0, 865.0, 875.0, 885.0, 895.0, 905.0, 915.0, 925.0, 935.0, 945.0, 955.0, 965.0, 975.0, 985.0, 995.0, 1005.0, 1015.0, 1025.0, 1035.0, 1045.0, 1055.0, 1065.0, 1075.0, 1085.0, 1095.0, 1105.0, 1115.0, 1125.0, 1135.0, 1145.0, 1155.0, 1165.0, 1175.0, 1185.0, 1195.0, 1205.0, 1215.0, 1225.0, 1235.0, 1245.0, 1255.0, 1265.0, 1275.0]}, \"hovermode\": \"closest\"}, {\"linkText\": \"Export to plot.ly\", \"showLink\": true})});</script>"
      ]
     },
     "metadata": {},
     "output_type": "display_data"
    }
   ],
   "source": [
    "dp.plot()"
   ]
  },
  {
   "cell_type": "code",
   "execution_count": null,
   "metadata": {
    "collapsed": true
   },
   "outputs": [],
   "source": []
  }
 ],
 "metadata": {
  "kernelspec": {
   "display_name": "Python 2",
   "language": "python",
   "name": "python2"
  },
  "language_info": {
   "codemirror_mode": {
    "name": "ipython",
    "version": 2
   },
   "file_extension": ".py",
   "mimetype": "text/x-python",
   "name": "python",
   "nbconvert_exporter": "python",
   "pygments_lexer": "ipython2",
   "version": "2.7.14"
  }
 },
 "nbformat": 4,
 "nbformat_minor": 2
}
