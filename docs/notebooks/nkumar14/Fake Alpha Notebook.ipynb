{
 "cells": [
  {
   "cell_type": "code",
   "execution_count": 1,
   "metadata": {
    "collapsed": true
   },
   "outputs": [],
   "source": [
    "%matplotlib inline\n",
    "\n",
    "import numpy as np\n",
    "import scipy.signal as signal\n",
    "import matplotlib.pyplot as plt\n",
    "import time\n",
    "\n",
    "import pickle"
   ]
  },
  {
   "cell_type": "code",
   "execution_count": 2,
   "metadata": {
    "collapsed": true
   },
   "outputs": [],
   "source": [
    "import os, glob, re\n",
    "import pandas as pd\n",
    "BASE = \"../../../data\"\n",
    "DATASET = \"bids\"\n",
    "root = os.path.join(BASE, DATASET)\n",
    "regex = \"^%s/(?P<subject>[a-zA-Z0-9.]*)/(?P=subject)_(?P<task>[a-zA-Z0-9_]*).pkl$\"%(root)\n",
    "subjects = []\n",
    "tasks = []\n",
    "filenames = []\n",
    "dimcolumns = []\n",
    "for filename in glob.iglob(root + \"/**/*.pkl\", recursive=True):\n",
    "    filenames.append(filename)\n",
    "    subjects.append(re.search(regex, filename).group('subject'))\n",
    "    tasks.append(re.search(regex, filename).group('task'))\n",
    "    dimcolumns.append(True)\n",
    "d = {\n",
    "    'resource_path': filenames,\n",
    "    'dim_column': dimcolumns,\n",
    "    'subject': subjects,\n",
    "    'task': tasks,\n",
    "}\n",
    "D = pd.DataFrame(d).iloc[:4]\n",
    "df_path = \"%s/%s_meta.csv\" % (root, DATASET)\n",
    "D.to_csv(df_path)"
   ]
  },
  {
   "cell_type": "code",
   "execution_count": 3,
   "metadata": {},
   "outputs": [
    {
     "name": "stderr",
     "output_type": "stream",
     "text": [
      "IOPub data rate exceeded.\n",
      "The notebook server will temporarily stop sending output\n",
      "to the client in order to avoid crashing it.\n",
      "To change this limit, set the config variable\n",
      "`--NotebookApp.iopub_data_rate_limit`.\n"
     ]
    }
   ],
   "source": [
    "import sys\n",
    "sys.path.append(\"../../..\")\n",
    "import lemur.datasets as lds\n",
    "import lemur.metrics as lms\n",
    "import lemur.plotters as lpl\n",
    "import lemur.embedders as leb\n",
    "\n",
    "from plotly.offline import (download_plotlyjs,\n",
    "                            init_notebook_mode)\n",
    "init_notebook_mode()\n",
    "\n",
    "DDS = lds.DiskDataSet(df_path)\n",
    "d = DDS.getResource(0)\n",
    "rn = DDS.D[\"subject\"].iloc[0] + \"/\" + DDS.D[\"task\"].iloc[0]\n",
    "lpl.SparkLinePlotter(d, rn).plot(sample_freq=500)"
   ]
  },
  {
   "cell_type": "code",
   "execution_count": 4,
   "metadata": {},
   "outputs": [],
   "source": [
    "DM = lds.DistanceMatrix(DDS, lms.Coh)"
   ]
  },
  {
   "cell_type": "code",
   "execution_count": 9,
   "metadata": {
    "scrolled": false
   },
   "outputs": [
    {
     "data": {
      "application/vnd.plotly.v1+json": {
       "data": [
        {
         "type": "heatmap",
         "z": [
          [
           0,
           4.399152992892351,
           5.1932645012512095,
           5.50912766651086
          ],
          [
           4.399152992892351,
           0,
           1.2468061105934565,
           1.7134162875604328
          ],
          [
           5.1932645012512095,
           1.2468061105934565,
           0,
           0.887982139081649
          ],
          [
           5.50912766651086,
           1.7134162875604328,
           0.887982139081649,
           0
          ]
         ]
        }
       ],
       "layout": {
        "height": 600,
        "title": "bids Distance Matrix Heatmap under Coh metric",
        "width": 600,
        "xaxis": {
         "mirror": true,
         "showticklabels": false,
         "ticks": "",
         "ticktext": [
          "../../../data/bids/NDARAC904DMU/NDARAC904DMU_Video3_data.pkl",
          "../../../data/bids/NDARAC904DMU/NDARAC904DMU_SAIIT_2AFC_Block1_data.pkl",
          "../../../data/bids/NDARAC904DMU/NDARAC904DMU_vis_learn_data.pkl",
          "../../../data/bids/NDARAC904DMU/NDARAC904DMU_WISC_ProcSpeed_data.pkl"
         ],
         "tickvals": [
          0,
          1,
          2,
          3
         ],
         "title": "data points"
        },
        "yaxis": {
         "mirror": true,
         "showticklabels": false,
         "ticks": "",
         "ticktext": [
          "../../../data/bids/NDARAC904DMU/NDARAC904DMU_Video3_data.pkl",
          "../../../data/bids/NDARAC904DMU/NDARAC904DMU_SAIIT_2AFC_Block1_data.pkl",
          "../../../data/bids/NDARAC904DMU/NDARAC904DMU_vis_learn_data.pkl",
          "../../../data/bids/NDARAC904DMU/NDARAC904DMU_WISC_ProcSpeed_data.pkl"
         ],
         "tickvals": [
          0,
          1,
          2,
          3
         ],
         "title": "data points"
        }
       }
      },
      "text/html": [
       "<div id=\"2f47c8ee-3006-4865-8a48-1ea6b9c1f2cb\" style=\"height: 600px; width: 600px;\" class=\"plotly-graph-div\"></div><script type=\"text/javascript\">require([\"plotly\"], function(Plotly) { window.PLOTLYENV=window.PLOTLYENV || {};window.PLOTLYENV.BASE_URL=\"https://plot.ly\";Plotly.newPlot(\"2f47c8ee-3006-4865-8a48-1ea6b9c1f2cb\", [{\"type\": \"heatmap\", \"z\": [[0.0, 4.399152992892351, 5.1932645012512095, 5.50912766651086], [4.399152992892351, 0.0, 1.2468061105934565, 1.7134162875604328], [5.1932645012512095, 1.2468061105934565, 0.0, 0.887982139081649], [5.50912766651086, 1.7134162875604328, 0.887982139081649, 0.0]]}], {\"height\": 600, \"width\": 600, \"yaxis\": {\"ticktext\": [\"../../../data/bids/NDARAC904DMU/NDARAC904DMU_Video3_data.pkl\", \"../../../data/bids/NDARAC904DMU/NDARAC904DMU_SAIIT_2AFC_Block1_data.pkl\", \"../../../data/bids/NDARAC904DMU/NDARAC904DMU_vis_learn_data.pkl\", \"../../../data/bids/NDARAC904DMU/NDARAC904DMU_WISC_ProcSpeed_data.pkl\"], \"ticks\": \"\", \"tickvals\": [0, 1, 2, 3], \"showticklabels\": false, \"title\": \"data points\", \"mirror\": true}, \"xaxis\": {\"ticktext\": [\"../../../data/bids/NDARAC904DMU/NDARAC904DMU_Video3_data.pkl\", \"../../../data/bids/NDARAC904DMU/NDARAC904DMU_SAIIT_2AFC_Block1_data.pkl\", \"../../../data/bids/NDARAC904DMU/NDARAC904DMU_vis_learn_data.pkl\", \"../../../data/bids/NDARAC904DMU/NDARAC904DMU_WISC_ProcSpeed_data.pkl\"], \"ticks\": \"\", \"tickvals\": [0, 1, 2, 3], \"showticklabels\": false, \"title\": \"data points\", \"mirror\": true}, \"title\": \"bids Distance Matrix Heatmap under Coh metric\"}, {\"linkText\": \"Export to plot.ly\", \"showLink\": true})});</script>"
      ],
      "text/vnd.plotly.v1+html": [
       "<div id=\"2f47c8ee-3006-4865-8a48-1ea6b9c1f2cb\" style=\"height: 600px; width: 600px;\" class=\"plotly-graph-div\"></div><script type=\"text/javascript\">require([\"plotly\"], function(Plotly) { window.PLOTLYENV=window.PLOTLYENV || {};window.PLOTLYENV.BASE_URL=\"https://plot.ly\";Plotly.newPlot(\"2f47c8ee-3006-4865-8a48-1ea6b9c1f2cb\", [{\"type\": \"heatmap\", \"z\": [[0.0, 4.399152992892351, 5.1932645012512095, 5.50912766651086], [4.399152992892351, 0.0, 1.2468061105934565, 1.7134162875604328], [5.1932645012512095, 1.2468061105934565, 0.0, 0.887982139081649], [5.50912766651086, 1.7134162875604328, 0.887982139081649, 0.0]]}], {\"height\": 600, \"width\": 600, \"yaxis\": {\"ticktext\": [\"../../../data/bids/NDARAC904DMU/NDARAC904DMU_Video3_data.pkl\", \"../../../data/bids/NDARAC904DMU/NDARAC904DMU_SAIIT_2AFC_Block1_data.pkl\", \"../../../data/bids/NDARAC904DMU/NDARAC904DMU_vis_learn_data.pkl\", \"../../../data/bids/NDARAC904DMU/NDARAC904DMU_WISC_ProcSpeed_data.pkl\"], \"ticks\": \"\", \"tickvals\": [0, 1, 2, 3], \"showticklabels\": false, \"title\": \"data points\", \"mirror\": true}, \"xaxis\": {\"ticktext\": [\"../../../data/bids/NDARAC904DMU/NDARAC904DMU_Video3_data.pkl\", \"../../../data/bids/NDARAC904DMU/NDARAC904DMU_SAIIT_2AFC_Block1_data.pkl\", \"../../../data/bids/NDARAC904DMU/NDARAC904DMU_vis_learn_data.pkl\", \"../../../data/bids/NDARAC904DMU/NDARAC904DMU_WISC_ProcSpeed_data.pkl\"], \"ticks\": \"\", \"tickvals\": [0, 1, 2, 3], \"showticklabels\": false, \"title\": \"data points\", \"mirror\": true}, \"title\": \"bids Distance Matrix Heatmap under Coh metric\"}, {\"linkText\": \"Export to plot.ly\", \"showLink\": true})});</script>"
      ]
     },
     "metadata": {},
     "output_type": "display_data"
    }
   ],
   "source": [
    "lpl.DistanceMatrixHeatmap(DM).plot()"
   ]
  },
  {
   "cell_type": "code",
   "execution_count": 12,
   "metadata": {},
   "outputs": [
    {
     "data": {
      "text/plain": [
       "array([[ 0.        ,  4.39915299,  5.1932645 ,  5.50912767],\n",
       "       [ 4.39915299,  0.        ,  1.24680611,  1.71341629],\n",
       "       [ 5.1932645 ,  1.24680611,  0.        ,  0.88798214],\n",
       "       [ 5.50912767,  1.71341629,  0.88798214,  0.        ]])"
      ]
     },
     "execution_count": 12,
     "metadata": {},
     "output_type": "execute_result"
    }
   ],
   "source": [
    "DM.getMatrix()"
   ]
  },
  {
   "cell_type": "code",
   "execution_count": null,
   "metadata": {
    "collapsed": true
   },
   "outputs": [],
   "source": []
  }
 ],
 "metadata": {
  "kernelspec": {
   "display_name": "Python 3",
   "language": "python",
   "name": "python3"
  },
  "language_info": {
   "codemirror_mode": {
    "name": "ipython",
    "version": 3
   },
   "file_extension": ".py",
   "mimetype": "text/x-python",
   "name": "python",
   "nbconvert_exporter": "python",
   "pygments_lexer": "ipython3",
   "version": "3.5.2"
  }
 },
 "nbformat": 4,
 "nbformat_minor": 2
}
