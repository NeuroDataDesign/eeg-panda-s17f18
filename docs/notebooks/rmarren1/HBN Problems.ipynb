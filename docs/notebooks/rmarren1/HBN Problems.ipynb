{
 "cells": [
  {
   "cell_type": "code",
   "execution_count": 1,
   "metadata": {},
   "outputs": [],
   "source": [
    "import os\n",
    "import pandas as pd\n",
    "hbn_path = \"/home/ryan/Code/DMZ/hbn.csv\""
   ]
  },
  {
   "cell_type": "markdown",
   "metadata": {},
   "source": [
    "### 1. The HBN column names are malformed, making csv parsing software fail or return nonsensical results\n",
    "\n",
    "Whenever a malformed column name exists, e.g. \"BIA,\"\"Days_Baseline\"\", this column has all nan values and there exists another column which is correctly formed, e.g. \"BIA,Days_Baseline\" which has the true values."
   ]
  },
  {
   "cell_type": "code",
   "execution_count": 2,
   "metadata": {},
   "outputs": [
    {
     "name": "stdout",
     "output_type": "stream",
     "text": [
      "Correctly formed, \"Instrument,Variable\"\n",
      "\"Identifiers\",\"ACE,ACE_01\",\"ACE,ACE_02\", \n",
      "\n",
      "Incorrectly formed, \"Instrument,\"\"Variable\"\"\n",
      "\"BIA,\"\"Age\"\",\"BIA,\"\"BMC\"\",\"BIA,\"\"BMI\"\",\"BIA,\"\"BMR\"\",\"BIA,\"\"DEE\"\",\"BIA,\"\"Days_Baseline\"\",\"BIA,\"\"ECW\"\",\"BIA,\"\"EID\"\",\"BIA,\"\"FFM\"\",\"BIA,\"\"FFMI\"\",\"BIA,\"\"FMI\"\",\"BIA,\"\"Fat\"\",\"BIA,\"\"Frame\"\",\"BIA,\"\"Height\"\",\"BIA,\"\"ICW\"\",\"BIA,\"\"LDM\"\",\"BIA,\"\"LST\"\",\"BIA,\"\"SMM\"\",\"BIA,\"\"START_DATE\"\",\"BIA,\"\"Season\"\",\"BIA,\"\"Sex\"\",\"BIA,\"\"Study\"\",\"BIA,\"\"Study_Site\"\",\"BIA,\"\"TBW\"\",\"BIA,\"\"Weight\"\",\"BIA,\"\"Year\"\",\"BIA,Administration\",\"BIA,Comment_ID\",\"BIA,Data_entry\",\"BIA,Days_Baseline\",\"BIA,EID\",\"BIA,PSCID\",\"BIA,START_DATE\",\"BIA,Season\",\"BIA,Site\",\"BIA,Study\",\"BIA,Visit_label\",\"BIA,Year\",\"Barratt,Administration\",\"Barratt,Barratt_P1_Edu\",\"Barratt,Barratt_P1_Occ\",\"Barratt,Barratt_P2_Edu\",\"Barratt,Barratt_P2_Occ\",\"Barratt,Barratt_Total\",\"Barratt,Barratt_Total_Edu\",\"Barratt,Barratt_Total_Occ\",\"Barratt,Comment_ID\",\"Barratt,Data_entry\",\"Barratt,Days_Baseline\",\"Barratt,EID\",\"Barratt,PSCID\",\"Barratt,START_DATE\",\"Barratt,Season\",\"Barratt,Site\",\"Barratt,Study\",\"Barratt,Visit_label\",\"Barratt,Year\",\"Barratt,financialsupport\",\"Barratt,﻿EID\",\"Basic_Demos,Administration\",\"Basic_Demos,Age\",\"Basic_Demos,Comment_ID\",\"Basic_Demos,Commercial_Use\",\"Basic_Demos,Data_entry\",\"Basic_Demos,Days_Baseline\",\"Basic_Demos,EID\",\"Basic_Demos,Enroll_Season\",\"Basic_Demos,Enroll_Year\n"
     ]
    }
   ],
   "source": [
    "with open(hbn_path, \"r\") as f:\n",
    "    columns = f.readline()\n",
    "    print('Correctly formed, \"Instrument,Variable\"')\n",
    "    print(columns[:40], '\\n')\n",
    "    print('Incorrectly formed, \"Instrument,\"\"Variable\"\"')\n",
    "    print(columns[6871:8100])"
   ]
  },
  {
   "cell_type": "markdown",
   "metadata": {},
   "source": [
    "To fix:\n",
    "1. Parse .csv, but with \",\" used as a delimeter rather than just ,\n",
    "2. Remove the first character from the first column name, and the last character from the last column name\n",
    "2. Remove all columns which have a \" character in the column name"
   ]
  },
  {
   "cell_type": "code",
   "execution_count": 3,
   "metadata": {},
   "outputs": [],
   "source": [
    "hbn = pd.read_csv(hbn_path, engine='python',\n",
    "                  dtype=\"unicode\", sep = '\",\"')\n",
    "columns = list(hbn.columns)\n",
    "columns[0] = columns[0][1:]\n",
    "columns[-1] = columns[-1][:-1]\n",
    "hbn.columns = columns\n",
    "keep_columns = list(filter(lambda x: '\"' not in x, hbn.columns))\n",
    "hbn = hbn[keep_columns]"
   ]
  },
  {
   "cell_type": "markdown",
   "metadata": {},
   "source": [
    "### 2. More than one unique delimter for a NA value. e.g. here, '.' and 'nan' are used. In other instances, 'n/a' is also used"
   ]
  },
  {
   "cell_type": "code",
   "execution_count": 4,
   "metadata": {},
   "outputs": [
    {
     "name": "stdout",
     "output_type": "stream",
     "text": [
      "['.' '0' '0.67' '1' '1.2' '1.33' '1.4' '1.5' '1.6' '1.67' '1.71' '1.75' '2'\n",
      " '2.07' '2.11' '2.17' '2.2' '2.22' '2.25' '2.27' '2.29' '2.33' '2.37E+11'\n",
      " '2.4' '2.43' '2.5' '2.57' '2.6' '2.62' '2.64' '2.67' '2.7' '2.71' '2.75'\n",
      " '2.78' '2.8' '2.83' '2.87' '2.88' '2.89' '2.9' '3' '3.1' '3.13' '3.17'\n",
      " '3.2' '3.22' '3.25' '3.33' '3.38' '3.4' '3.45' '3.5' '3.55' '3.56' '3.57'\n",
      " '3.6' '3.63' '3.67' '3.7' '3.71' '3.75' '3.77' '3.8' '3.86' '4' '4.08'\n",
      " '4.11' '4.17' '4.18' '4.2' '4.25' '4.33' '4.38' '4.43' '4.45' '4.5' '4.6'\n",
      " '4.7' '5' '5.75' '6.14E+13' 'nan']\n"
     ]
    }
   ],
   "source": [
    "import numpy as np\n",
    "print(np.unique(hbn[\"NLES_SR,NLES_SR_Upset_Avg\"].as_matrix()))"
   ]
  },
  {
   "cell_type": "markdown",
   "metadata": {},
   "source": [
    "To fix:\n",
    "1. Replace all instances of '.', 'nan', 'NaN', 'NA', 'n/a' in the data frame with one value (here, we use a special value in numpy called np.nan)"
   ]
  },
  {
   "cell_type": "code",
   "execution_count": 5,
   "metadata": {},
   "outputs": [
    {
     "name": "stdout",
     "output_type": "stream",
     "text": [
      "Before replacement number of nans: 0\n"
     ]
    }
   ],
   "source": [
    "print(\"Before replacement number of nans:\", hbn.isnull().sum().sum())"
   ]
  },
  {
   "cell_type": "code",
   "execution_count": 6,
   "metadata": {},
   "outputs": [],
   "source": [
    "hbn.replace(\".\", \"nan\", inplace=True)\n",
    "hbn.replace(\"n/a\", \"nan\", inplace=True)\n",
    "hbn.replace(\"NaN\", \"nan\", inplace=True)\n",
    "hbn.replace(\"NA\", \"nan\", inplace=True)"
   ]
  },
  {
   "cell_type": "code",
   "execution_count": 7,
   "metadata": {},
   "outputs": [
    {
     "name": "stdout",
     "output_type": "stream",
     "text": [
      "After replacement number of nans: 0\n"
     ]
    }
   ],
   "source": [
    "print(\"After replacement number of nans:\", hbn.isnull().sum().sum())"
   ]
  },
  {
   "cell_type": "markdown",
   "metadata": {},
   "source": [
    "### The NLES_SR,NLES_SR_Upset_Avg column has a few extreme outliers which may just be bad entries"
   ]
  },
  {
   "cell_type": "code",
   "execution_count": 8,
   "metadata": {},
   "outputs": [
    {
     "data": {
      "image/png": "[encoded data removed]",
      "text/plain": [
       "<matplotlib.figure.Figure at 0x7fa3e2df3f28>"
      ]
     },
     "metadata": {},
     "output_type": "display_data"
    }
   ],
   "source": [
    "import seaborn as sns\n",
    "import matplotlib.pyplot as plt\n",
    "array1 = hbn[\"NLES_SR,NLES_SR_Upset_Avg\"].as_matrix().astype(float)\n",
    "array1 = array1[~np.isnan(array1)]\n",
    "sns.distplot(array1, rug=True)\n",
    "plt.show()"
   ]
  },
  {
   "cell_type": "markdown",
   "metadata": {},
   "source": [
    "To fix: We just remove the column entirely"
   ]
  },
  {
   "cell_type": "code",
   "execution_count": 9,
   "metadata": {},
   "outputs": [],
   "source": [
    "del hbn[\"NLES_SR,NLES_SR_Upset_Avg\"]"
   ]
  },
  {
   "cell_type": "markdown",
   "metadata": {},
   "source": [
    "### The DailyMeds,hours_sleep column has a few extreme outliers which may just be bad entries"
   ]
  },
  {
   "cell_type": "code",
   "execution_count": 10,
   "metadata": {},
   "outputs": [
    {
     "data": {
      "image/png": "[encoded data removed]",
      "text/plain": [
       "<matplotlib.figure.Figure at 0x7fa3e2df33c8>"
      ]
     },
     "metadata": {},
     "output_type": "display_data"
    }
   ],
   "source": [
    "array1 = hbn[\"DailyMeds,hours_sleep\"].as_matrix().astype(float)\n",
    "array1 = array1[~np.isnan(array1)]\n",
    "sns.distplot(array1, rug=True)\n",
    "plt.show()"
   ]
  },
  {
   "cell_type": "markdown",
   "metadata": {},
   "source": [
    "To fix: We just remove the column entirely"
   ]
  },
  {
   "cell_type": "code",
   "execution_count": 11,
   "metadata": {},
   "outputs": [],
   "source": [
    "del hbn[\"DailyMeds,hours_sleep\"]"
   ]
  },
  {
   "cell_type": "markdown",
   "metadata": {},
   "source": [
    "### Many categorical variables are redundant with minor changes, e.g. \n",
    "* upper case vs. lower case\n",
    "  * ADHD Inattentive Type vs. ADHD Inattentive type\n",
    "* presence of hyphens\n",
    "  * Attention Deficit Hyperactivity Disorder vs. Attention-Deficit Hyperactivity Disorder vs. Attention-Deficit/Hyperactivity Disorder vs. Attention-Deficit/Hyperactivity Disorder *with a space at the end*\n",
    "* Including other special characters\n",
    "  * Tourette's Disorder vs. Tourettes Disorder"
   ]
  },
  {
   "cell_type": "code",
   "execution_count": 12,
   "metadata": {},
   "outputs": [
    {
     "data": {
      "text/plain": [
       "array(['ADHD Inattentive Type', 'ADHD Inattentive type',\n",
       "       'ADHD-Combined Type', 'ADHD-Hyperactive/Impulsive Type',\n",
       "       'ADHD-Inattentive Type', 'Acute Stress Disorder',\n",
       "       'Adjustment Disorder, with Mixed Emotions and Conduct',\n",
       "       'Adjustment Disorders', 'Agoraphobia',\n",
       "       'Attention Deficit Hyperactivity Disorder',\n",
       "       'Attention Deficit Hyperactivity Disorder Combined Presentation',\n",
       "       'Attention-Deficit Hyperactivity Disorder',\n",
       "       'Attention-Deficit/Hyperactivity Disorder',\n",
       "       'Attention-Deficit/Hyperactivity Disorder ',\n",
       "       'Autism Spectrum Disorder', 'Bipolar I Disorder',\n",
       "       'Bipolar II Disorder', 'Borderline Intellectual Functioning',\n",
       "       'Cannabis Use Disorder', 'Conduct Disorder-Childhood-onset type',\n",
       "       'Disruptive Mood Dysregulation Disorder', 'Enuresis',\n",
       "       'Gender Dysphoria in Children', 'Generalized Anxiety Disorder',\n",
       "       'Intellectual DIsability (moderate)',\n",
       "       'Intellectual Disability-Mild', 'Intellectual Disability-Moderate',\n",
       "       'Intellectual Disability-Severe', 'Intermittent Explosive Disorder',\n",
       "       'Language Disorder',\n",
       "       'Learning Disorder with Impairment in Reading ',\n",
       "       'Major Depressive Disorder', 'No Diagnosis Given',\n",
       "       'No Diagnosis given', 'No diagnosis given',\n",
       "       'Obsessive-Compulsive Disorder', 'Oppositional Defiant Disorder',\n",
       "       'Other Specified Anxiety Disorder',\n",
       "       'Other Specified Attention-Deficit/Hyperactivity Disorder',\n",
       "       'Other Specified Depressive Disorder',\n",
       "       'Other Specified Disruptive, Impulse-Control, and Conduct Disorder',\n",
       "       'Other Specified Neurodevelopmental Disorder',\n",
       "       'Other Specified Schizophrenia Spectrum and Other Psychotic Disorder',\n",
       "       'Other Specified Tic Disorder',\n",
       "       'Other Specified Trauma- and Stressor-Related Disorder',\n",
       "       'Panic Disorder', 'Parent-Child Relational Problem',\n",
       "       'Persistent (Chronic) Motor or Vocal Tic Disorder',\n",
       "       'Persistent Depressive Disorder (Dysthymia)',\n",
       "       'Posttraumatic Stress Disorder',\n",
       "       'Posttraumatic Stress Disorder (includes Posttraumatic Stress Disorder for Children 6 Years and Young',\n",
       "       'Provisional Tic Disorder', 'Reactive Attachment Disorder',\n",
       "       'Schizophrenia', 'Separation Anxiety',\n",
       "       'Social Anxiety (Social Phobia)',\n",
       "       'Specific Learning Disorder with Impairment in Mathematics',\n",
       "       'Specific Learning Disorder with Impairment in Reading',\n",
       "       'Specific Learning Disorder with Impairment in Reading ',\n",
       "       'Specific Learning Disorder with Impairment in Written Expression',\n",
       "       'Specific Learning Disorder, with Impairment in Reading',\n",
       "       'Specific Phobia', \"Tourette's Disorder \", 'Tourettes Disorder',\n",
       "       'Unspecified Anxiety Disorder',\n",
       "       'Unspecified Attention-Deficit/Hyperactivity Disorder', 'nan',\n",
       "       'specific learning disorder with impairment in reading'], dtype=object)"
      ]
     },
     "execution_count": 12,
     "metadata": {},
     "output_type": "execute_result"
    }
   ],
   "source": [
    "array1 = hbn[\"ConsensusDx,DX_01\"]\n",
    "array1 = array1[[False if x is np.nan else True for x in array1]]\n",
    "np.unique(array1)"
   ]
  },
  {
   "cell_type": "markdown",
   "metadata": {},
   "source": [
    "To fix:\n",
    "1. If the categorical array is x = [s1, s2, ..., sn], Hash each string si to si', with the hash function removing all non alpha-numeric characters and making the entire string lower case\n",
    "2. For each string si', replace all sj where sj' = si' with si "
   ]
  },
  {
   "cell_type": "code",
   "execution_count": 13,
   "metadata": {},
   "outputs": [
    {
     "data": {
      "text/plain": [
       "array(['ADHD-Combined Type', 'ADHD-Hyperactive/Impulsive Type',\n",
       "       'ADHD-Inattentive Type', 'Acute Stress Disorder',\n",
       "       'Adjustment Disorder, with Mixed Emotions and Conduct',\n",
       "       'Adjustment Disorders', 'Agoraphobia',\n",
       "       'Attention Deficit Hyperactivity Disorder Combined Presentation',\n",
       "       'Attention-Deficit/Hyperactivity Disorder ',\n",
       "       'Autism Spectrum Disorder', 'Bipolar I Disorder',\n",
       "       'Bipolar II Disorder', 'Borderline Intellectual Functioning',\n",
       "       'Cannabis Use Disorder', 'Conduct Disorder-Childhood-onset type',\n",
       "       'Disruptive Mood Dysregulation Disorder', 'Enuresis',\n",
       "       'Gender Dysphoria in Children', 'Generalized Anxiety Disorder',\n",
       "       'Intellectual Disability-Mild', 'Intellectual Disability-Moderate',\n",
       "       'Intellectual Disability-Severe', 'Intermittent Explosive Disorder',\n",
       "       'Language Disorder',\n",
       "       'Learning Disorder with Impairment in Reading ',\n",
       "       'Major Depressive Disorder', 'No Diagnosis Given',\n",
       "       'Obsessive-Compulsive Disorder', 'Oppositional Defiant Disorder',\n",
       "       'Other Specified Anxiety Disorder',\n",
       "       'Other Specified Attention-Deficit/Hyperactivity Disorder',\n",
       "       'Other Specified Depressive Disorder',\n",
       "       'Other Specified Disruptive, Impulse-Control, and Conduct Disorder',\n",
       "       'Other Specified Neurodevelopmental Disorder',\n",
       "       'Other Specified Schizophrenia Spectrum and Other Psychotic Disorder',\n",
       "       'Other Specified Tic Disorder',\n",
       "       'Other Specified Trauma- and Stressor-Related Disorder',\n",
       "       'Panic Disorder', 'Parent-Child Relational Problem',\n",
       "       'Persistent (Chronic) Motor or Vocal Tic Disorder',\n",
       "       'Persistent Depressive Disorder (Dysthymia)',\n",
       "       'Posttraumatic Stress Disorder',\n",
       "       'Posttraumatic Stress Disorder (includes Posttraumatic Stress Disorder for Children 6 Years and Young',\n",
       "       'Provisional Tic Disorder', 'Reactive Attachment Disorder',\n",
       "       'Schizophrenia', 'Separation Anxiety',\n",
       "       'Social Anxiety (Social Phobia)',\n",
       "       'Specific Learning Disorder with Impairment in Mathematics',\n",
       "       'Specific Learning Disorder with Impairment in Reading',\n",
       "       'Specific Learning Disorder with Impairment in Written Expression',\n",
       "       'Specific Phobia', 'Tourettes Disorder',\n",
       "       'Unspecified Anxiety Disorder',\n",
       "       'Unspecified Attention-Deficit/Hyperactivity Disorder', 'nan'], dtype=object)"
      ]
     },
     "execution_count": 13,
     "metadata": {},
     "output_type": "execute_result"
    }
   ],
   "source": [
    "import re\n",
    "def stringhash(string):\n",
    "    return re.sub(r'\\W+', '', string).lower()\n",
    "columns = np.array(list(map(stringhash, array1)))\n",
    "for a, c in zip(array1, columns):\n",
    "    array1[columns == c] = a\n",
    "np.unique(array1)"
   ]
  },
  {
   "cell_type": "code",
   "execution_count": 14,
   "metadata": {},
   "outputs": [],
   "source": [
    "def convertDtype(l):\n",
    "    try:\n",
    "        return np.array(l, dtype=\"float\")\n",
    "    except:\n",
    "        pass\n",
    "    l = np.array(l, dtype=str)\n",
    "    l[l == 'nan'] = 'NA'\n",
    "    return l\n",
    "\n",
    "# Find out the data type of each column\n",
    "d = []\n",
    "for c in hbn.columns:\n",
    "    d.append(convertDtype(list(hbn[c])))\n",
    "    #print(\"Converting\", c, end=\"\\r\") \n",
    "\n",
    "# Make a new dataframe with the converted types\n",
    "newcolumns = hbn.columns\n",
    "newindex = hbn.index\n",
    "D = list(d)\n",
    "D = pd.DataFrame(dict(zip(newcolumns, D)))\n",
    "\n",
    "# Determine which columns are categorical\n",
    "keep = (D.dtypes == \"float64\").as_matrix()\n",
    "cat = D.columns[~keep]\n",
    "\n",
    "# Apply the string hash transform to each categorical column\n",
    "for c in cat:\n",
    "    array1 = D[c].as_matrix()\n",
    "    columns = np.array(list(map(stringhash, array1)))\n",
    "    for a, c in zip(array1, columns):\n",
    "        array1[columns == c] = a\n",
    "    D[c] = array1"
   ]
  },
  {
   "cell_type": "code",
   "execution_count": 15,
   "metadata": {},
   "outputs": [
    {
     "data": {
      "text/plain": [
       "array(['ADHD-Combined Type', 'ADHD-Hyperactive/Impulsive Type',\n",
       "       'ADHD-Inattentive Type', 'Acute Stress Disorder',\n",
       "       'Adjustment Disorder, with Mixed Emotions and Conduct',\n",
       "       'Adjustment Disorders', 'Agoraphobia',\n",
       "       'Attention Deficit Hyperactivity Disorder Combined Presentation',\n",
       "       'Attention-Deficit/Hyperactivity Disorder ',\n",
       "       'Autism Spectrum Disorder', 'Bipolar I Disorder',\n",
       "       'Bipolar II Disorder', 'Borderline Intellectual Functioning',\n",
       "       'Cannabis Use Disorder', 'Conduct Disorder-Childhood-onset type',\n",
       "       'Disruptive Mood Dysregulation Disorder', 'Enuresis',\n",
       "       'Gender Dysphoria in Children', 'Generalized Anxiety Disorder',\n",
       "       'Intellectual Disability-Mild', 'Intellectual Disability-Moderate',\n",
       "       'Intellectual Disability-Severe', 'Intermittent Explosive Disorder',\n",
       "       'Language Disorder',\n",
       "       'Learning Disorder with Impairment in Reading ',\n",
       "       'Major Depressive Disorder', 'NA', 'No Diagnosis Given',\n",
       "       'Obsessive-Compulsive Disorder', 'Oppositional Defiant Disorder',\n",
       "       'Other Specified Anxiety Disorder',\n",
       "       'Other Specified Attention-Deficit/Hyperactivity Disorder',\n",
       "       'Other Specified Depressive Disorder',\n",
       "       'Other Specified Disruptive, Impulse-Control, and Conduct Disorder',\n",
       "       'Other Specified Neurodevelopmental Disorder',\n",
       "       'Other Specified Schizophrenia Spectrum and Other Psychotic Disorder',\n",
       "       'Other Specified Tic Disorder',\n",
       "       'Other Specified Trauma- and Stressor-Related Disorder',\n",
       "       'Panic Disorder', 'Parent-Child Relational Problem',\n",
       "       'Persistent (Chronic) Motor or Vocal Tic Disorder',\n",
       "       'Persistent Depressive Disorder (Dysthymia)',\n",
       "       'Posttraumatic Stress Disorder',\n",
       "       'Posttraumatic Stress Disorder (includes Posttraumatic Stress Disorder for Children 6 Years and Young',\n",
       "       'Provisional Tic Disorder', 'Reactive Attachment Disorder',\n",
       "       'Schizophrenia', 'Separation Anxiety',\n",
       "       'Social Anxiety (Social Phobia)',\n",
       "       'Specific Learning Disorder with Impairment in Mathematics',\n",
       "       'Specific Learning Disorder with Impairment in Reading',\n",
       "       'Specific Learning Disorder with Impairment in Written Expression',\n",
       "       'Specific Phobia', 'Tourettes Disorder',\n",
       "       'Unspecified Anxiety Disorder',\n",
       "       'Unspecified Attention-Deficit/Hyperactivity Disorder'], dtype=object)"
      ]
     },
     "execution_count": 15,
     "metadata": {},
     "output_type": "execute_result"
    }
   ],
   "source": [
    "np.unique(D[\"ConsensusDx,DX_01\"])"
   ]
  },
  {
   "cell_type": "markdown",
   "metadata": {},
   "source": [
    "Now D contains the tidy dataset"
   ]
  },
  {
   "cell_type": "code",
   "execution_count": null,
   "metadata": {},
   "outputs": [],
   "source": []
  }
 ],
 "metadata": {
  "kernelspec": {
   "display_name": "Python 3",
   "language": "python",
   "name": "python3"
  },
  "language_info": {
   "codemirror_mode": {
    "name": "ipython",
    "version": 3
   },
   "file_extension": ".py",
   "mimetype": "text/x-python",
   "name": "python",
   "nbconvert_exporter": "python",
   "pygments_lexer": "ipython3",
   "version": "3.5.2"
  }
 },
 "nbformat": 4,
 "nbformat_minor": 2
}
