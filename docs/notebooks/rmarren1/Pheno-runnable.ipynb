{
 "cells": [
  {
   "cell_type": "code",
   "execution_count": null,
   "metadata": {},
   "outputs": [],
   "source": [
    "# Outside imports\n",
    "import pandas as pd\n",
    "import numpy as np\n",
    "import os"
   ]
  },
  {
   "cell_type": "code",
   "execution_count": null,
   "metadata": {},
   "outputs": [],
   "source": [
    "# Load the lemur library\n",
    "import sys\n",
    "sys.path.append(\".\")\n",
    "import lemur.datasets as lds\n",
    "import lemur.metrics as lms\n",
    "import lemur.plotters as lpl\n",
    "import lemur.embedders as leb\n",
    "\n",
    "# Create a lemur dataset based on the phenotypic data\n",
    "CDS = lds.CSVDataSet(\"data/pheno/hbn_cleaned.csv\",\n",
    "                     name = \"HBN Phenotypic\")\n",
    "metadata = CDS.saveMetaData(\"data/pheno/metadata.json\")\n",
    "CDS.imputeColumns(\"mean\")\n",
    "DM = lds.DistanceMatrix(CDS, lms.VectorDifferenceNorm)\n",
    "\n",
    "# Create an embedded distance matrix object under MDS\n",
    "MDSEmbedder = leb.MDSEmbedder(num_components=10)\n",
    "HBN_Embedded = MDSEmbedder.embed(DM)"
   ]
  },
  {
   "cell_type": "code",
   "execution_count": null,
   "metadata": {},
   "outputs": [],
   "source": [
    "BASE = \"data\"\n",
    "out_base = os.path.join(BASE, \"pheno_derivatives\")\n",
    "out_emb_base = os.path.join(BASE, \"pheno_embedded_deriatives\")\n",
    "os.makedirs(out_base + \"/agg\", exist_ok=True)\n",
    "os.makedirs(out_emb_base + \"/agg\", exist_ok=True)"
   ]
  },
  {
   "cell_type": "code",
   "execution_count": null,
   "metadata": {},
   "outputs": [],
   "source": [
    "lpl.Heatmap(CDS, mode=\"savediv\", base_path=out_base).plot()\n",
    "lpl.Heatmap(HBN_Embedded, mode=\"savediv\", base_path=out_emb_base).plot()"
   ]
  },
  {
   "cell_type": "code",
   "execution_count": null,
   "metadata": {},
   "outputs": [],
   "source": [
    "lpl.LocationLines(CDS, mode=\"savediv\", base_path = out_base).plot()\n",
    "lpl.LocationLines(HBN_Embedded, mode=\"savediv\", base_path = out_emb_base).plot()"
   ]
  },
  {
   "cell_type": "code",
   "execution_count": null,
   "metadata": {},
   "outputs": [],
   "source": [
    "lpl.LocationHeatmap(CDS, mode=\"savediv\", base_path=out_base).plot()\n",
    "lpl.LocationHeatmap(HBN_Embedded, mode=\"savediv\", base_path=out_emb_base).plot()"
   ]
  },
  {
   "cell_type": "code",
   "execution_count": null,
   "metadata": {
    "scrolled": true
   },
   "outputs": [],
   "source": [
    "lpl.HistogramHeatmap(CDS, mode=\"savediv\", base_path=out_base).plot()\n",
    "lpl.HistogramHeatmap(HBN_Embedded, mode=\"savediv\", base_path=out_emb_base).plot()"
   ]
  },
  {
   "cell_type": "code",
   "execution_count": null,
   "metadata": {
    "scrolled": true
   },
   "outputs": [],
   "source": [
    "#lpl.CorrelationMatrix(CDS).plot()\n",
    "#lpl.CorrelationMatrix(HBN_Embedded).plot()\n",
    "#lpl.CorrelationMatrix(CDS, mode=\"savediv\", base_path=out_base).plot()\n",
    "#lpl.CorrelationMatrix(HBN_Embedded, mode=\"savediv\", base_path=out_base).plot()"
   ]
  },
  {
   "cell_type": "code",
   "execution_count": null,
   "metadata": {},
   "outputs": [],
   "source": [
    "lpl.ScreePlotter(CDS, mode=\"savediv\", base_path=out_base).plot()\n",
    "lpl.ScreePlotter(HBN_Embedded, mode=\"savediv\", base_path=out_emb_base).plot()"
   ]
  },
  {
   "cell_type": "code",
   "execution_count": null,
   "metadata": {},
   "outputs": [],
   "source": [
    "lpl.EigenvectorHeatmap(CDS, mode=\"savediv\", base_path=out_base).plot()\n",
    "lpl.EigenvectorHeatmap(HBN_Embedded, mode=\"savediv\", base_path=out_base).plot()"
   ]
  },
  {
   "cell_type": "code",
   "execution_count": null,
   "metadata": {},
   "outputs": [],
   "source": [
    "lpl.HGMMPairsPlot(HBN_Embedded, mode=\"savediv\", base_path=out_emb_base).plot(level=1)"
   ]
  },
  {
   "cell_type": "code",
   "execution_count": null,
   "metadata": {},
   "outputs": [],
   "source": [
    "lpl.HGMMClusterMeansDendrogram(HBN_Embedded, mode=\"savediv\", base_path=out_emb_base).plot(level=1)"
   ]
  },
  {
   "cell_type": "code",
   "execution_count": null,
   "metadata": {},
   "outputs": [],
   "source": [
    "lpl.HGMMStackedClusterMeansHeatmap(HBN_Embedded, mode=\"savediv\", base_path=out_emb_base).plot(level=4)"
   ]
  },
  {
   "cell_type": "code",
   "execution_count": null,
   "metadata": {},
   "outputs": [],
   "source": [
    "lpl.HGMMClusterMeansLevelHeatmap(HBN_Embedded, mode=\"savediv\", base_path=out_emb_base).plot(level=4)"
   ]
  },
  {
   "cell_type": "code",
   "execution_count": null,
   "metadata": {},
   "outputs": [],
   "source": [
    "lpl.HGMMClusterMeansLevelLines(HBN_Embedded, mode=\"savediv\", base_path=out_emb_base).plot(level=4)"
   ]
  },
  {
   "cell_type": "code",
   "execution_count": null,
   "metadata": {},
   "outputs": [],
   "source": []
  }
 ],
 "metadata": {
  "kernelspec": {
   "display_name": "Python 3",
   "language": "python",
   "name": "python3"
  },
  "language_info": {
   "codemirror_mode": {
    "name": "ipython",
    "version": 3
   },
   "file_extension": ".py",
   "mimetype": "text/x-python",
   "name": "python",
   "nbconvert_exporter": "python",
   "pygments_lexer": "ipython3",
   "version": "3.5.2"
  }
 },
 "nbformat": 4,
 "nbformat_minor": 2
}
