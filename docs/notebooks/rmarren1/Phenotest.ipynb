{
 "cells": [
  {
   "cell_type": "code",
   "execution_count": 2,
   "metadata": {
    "collapsed": true
   },
   "outputs": [],
   "source": [
    "import sys\n",
    "import pandas as pd\n",
    "\n",
    "sys.path.append(\"../../..\")\n",
    "import lemur.datasets as lds\n",
    "import lemur.plotters as lpl"
   ]
  },
  {
   "cell_type": "code",
   "execution_count": 21,
   "metadata": {
    "collapsed": true
   },
   "outputs": [],
   "source": [
    "#hbn = pd.read_csv(\"../../../../DMZ/hbn.csv\", dtype=\"unicode\")\n",
    "#for c in hbn.columns:\n",
    "#    if '\"' in c:\n",
    "#        del hbn[c]\n",
    "#hbn.to_csv(\"../../../../DMZ/hbn_cleaned.csv\")"
   ]
  },
  {
   "cell_type": "code",
   "execution_count": 3,
   "metadata": {
    "collapsed": true
   },
   "outputs": [],
   "source": [
    "CDS = lds.CSVDataSet(\"../../../../kpf/hbn_cleaned.csv\",\n",
    "                     index_column = \"Identifiers\",\n",
    "                     column_level_names = (\"Instrument\", \"Variable\"))"
   ]
  },
  {
   "cell_type": "code",
   "execution_count": 4,
   "metadata": {
    "collapsed": true
   },
   "outputs": [],
   "source": [
    "CDS.D.columns.names = (\"Instrument\", \"Variable\")"
   ]
  },
  {
   "cell_type": "code",
   "execution_count": 5,
   "metadata": {},
   "outputs": [
    {
     "data": {
      "text/plain": [
       "FrozenList(['Instrument', 'Variable'])"
      ]
     },
     "execution_count": 5,
     "metadata": {},
     "output_type": "execute_result"
    }
   ],
   "source": [
    "CDS.D.columns.names"
   ]
  },
  {
   "cell_type": "code",
   "execution_count": 6,
   "metadata": {},
   "outputs": [
    {
     "data": {
      "text/plain": [
       "array([          nan,   91.        ,  126.        ,    1.        ,\n",
       "          5.        ,           nan,    3.        ,           nan,\n",
       "         58.5       ,    6.        ,           nan,           nan,\n",
       "                 nan,   13.        ,   23.        ,           nan,\n",
       "                 nan,           nan,           nan,           nan,\n",
       "                 nan,           nan,           nan,           nan,\n",
       "                 nan,           nan,   14.        ,   44.        ,\n",
       "         65.57      ,           nan,           nan,           nan,\n",
       "                 nan,           nan,   17.        ,           nan,\n",
       "                 nan,   14.        ,           nan,           nan,\n",
       "                 nan,    0.        ,    1.        ,           nan,\n",
       "                 nan,           nan,   82.        ,           nan,\n",
       "                 nan,           nan,    1.        ,    0.        ,\n",
       "          2.        ,    2.        ,    0.        ,    0.        ,\n",
       "          0.        ,    2.        ,    0.        ,   10.        ,\n",
       "          4.        ,           nan,   -2.27777778,           nan,\n",
       "                 nan,           nan,           nan,           nan,\n",
       "                 nan])"
      ]
     },
     "execution_count": 6,
     "metadata": {},
     "output_type": "execute_result"
    }
   ],
   "source": [
    "CDS.getResource(CDS.D.index[0])"
   ]
  },
  {
   "cell_type": "code",
   "execution_count": 26,
   "metadata": {},
   "outputs": [
    {
     "data": {
      "text/plain": [
       "array([], dtype=float64)"
      ]
     },
     "execution_count": 26,
     "metadata": {},
     "output_type": "execute_result"
    }
   ],
   "source": [
    "CDS.getColumnValues(12)"
   ]
  },
  {
   "cell_type": "code",
   "execution_count": 27,
   "metadata": {},
   "outputs": [
    {
     "data": {
      "text/plain": [
       "array([ 0.,  1.])"
      ]
     },
     "execution_count": 27,
     "metadata": {},
     "output_type": "execute_result"
    }
   ],
   "source": [
    "CDS.getColumnValues((\"ACE\", \"ACE_01\"))"
   ]
  },
  {
   "cell_type": "code",
   "execution_count": 28,
   "metadata": {},
   "outputs": [
    {
     "data": {
      "text/plain": [
       "(array([ 0.,  1.]), [19, 8])"
      ]
     },
     "execution_count": 28,
     "metadata": {},
     "output_type": "execute_result"
    }
   ],
   "source": [
    "CDS.getColumnDistribution(3)"
   ]
  },
  {
   "cell_type": "code",
   "execution_count": 8,
   "metadata": {},
   "outputs": [
    {
     "data": {
      "text/html": [
       "<script>requirejs.config({paths: { 'plotly': ['https://cdn.plot.ly/plotly-latest.min']},});if(!window.Plotly) {{require(['plotly'],function(plotly) {window.Plotly=plotly;});}}</script>"
      ],
      "text/vnd.plotly.v1+html": [
       "<script>requirejs.config({paths: { 'plotly': ['https://cdn.plot.ly/plotly-latest.min']},});if(!window.Plotly) {{require(['plotly'],function(plotly) {window.Plotly=plotly;});}}</script>"
      ]
     },
     "metadata": {},
     "output_type": "display_data"
    },
    {
     "data": {
      "application/vnd.plotly.v1+json": {
       "data": [
        {
         "name": "Frequency",
         "type": "bar",
         "x": [
          8,
          10,
          11,
          13,
          14,
          15,
          16,
          17,
          18,
          19,
          20,
          21,
          22
         ],
         "y": [
          31,
          26,
          107,
          98,
          82,
          44,
          50,
          93,
          40,
          33,
          35,
          30,
          42
         ]
        },
        {
         "name": "Proportion",
         "type": "bar",
         "visible": false,
         "x": [
          8,
          10,
          11,
          13,
          14,
          15,
          16,
          17,
          18,
          19,
          20,
          21,
          22
         ],
         "y": [
          0.04360056258790436,
          0.03656821378340366,
          0.15049226441631505,
          0.13783403656821377,
          0.11533052039381153,
          0.06188466947960619,
          0.07032348804500703,
          0.1308016877637131,
          0.05625879043600562,
          0.046413502109704644,
          0.04922644163150492,
          0.04219409282700422,
          0.05907172995780591
         ]
        }
       ],
       "layout": {
        "title": "Column Distribution Plot<br>Instrument: CELF<br>Variable: CELF_CriterionScore",
        "updatemenus": [
         {
          "buttons": [
           {
            "args": [
             {
              "visible": [
               true,
               false
              ]
             },
             {
              "yaxis": {
               "title": "Frequency"
              }
             }
            ],
            "label": "Frequency",
            "method": "update"
           },
           {
            "args": [
             {
              "visible": [
               false,
               true
              ]
             },
             {
              "yaxis": {
               "title": "Proportion"
              }
             }
            ],
            "label": "Proportion",
            "method": "update"
           }
          ],
          "showactive": true,
          "type": "buttons"
         }
        ],
        "xaxis": {
         "title": "Value"
        },
        "yaxis": {
         "title": "Frequency"
        }
       }
      },
      "text/html": [
       "<div id=\"cd0d150d-7d3d-4224-a3d5-eba23954dc8d\" style=\"height: 525px; width: 100%;\" class=\"plotly-graph-div\"></div><script type=\"text/javascript\">require([\"plotly\"], function(Plotly) { window.PLOTLYENV=window.PLOTLYENV || {};window.PLOTLYENV.BASE_URL=\"https://plot.ly\";Plotly.newPlot(\"cd0d150d-7d3d-4224-a3d5-eba23954dc8d\", [{\"x\": [8.0, 10.0, 11.0, 13.0, 14.0, 15.0, 16.0, 17.0, 18.0, 19.0, 20.0, 21.0, 22.0], \"type\": \"bar\", \"name\": \"Frequency\", \"y\": [31, 26, 107, 98, 82, 44, 50, 93, 40, 33, 35, 30, 42]}, {\"visible\": false, \"x\": [8.0, 10.0, 11.0, 13.0, 14.0, 15.0, 16.0, 17.0, 18.0, 19.0, 20.0, 21.0, 22.0], \"type\": \"bar\", \"name\": \"Proportion\", \"y\": [0.04360056258790436, 0.03656821378340366, 0.15049226441631505, 0.13783403656821377, 0.11533052039381153, 0.06188466947960619, 0.07032348804500703, 0.1308016877637131, 0.05625879043600562, 0.046413502109704644, 0.04922644163150492, 0.04219409282700422, 0.05907172995780591]}], {\"updatemenus\": [{\"buttons\": [{\"args\": [{\"visible\": [true, false]}, {\"yaxis\": {\"title\": \"Frequency\"}}], \"method\": \"update\", \"label\": \"Frequency\"}, {\"args\": [{\"visible\": [false, true]}, {\"yaxis\": {\"title\": \"Proportion\"}}], \"method\": \"update\", \"label\": \"Proportion\"}], \"showactive\": true, \"type\": \"buttons\"}], \"title\": \"Column Distribution Plot<br>Instrument: CELF<br>Variable: CELF_CriterionScore\", \"xaxis\": {\"title\": \"Value\"}, \"yaxis\": {\"title\": \"Frequency\"}}, {\"linkText\": \"Export to plot.ly\", \"showLink\": true})});</script>"
      ],
      "text/vnd.plotly.v1+html": [
       "<div id=\"cd0d150d-7d3d-4224-a3d5-eba23954dc8d\" style=\"height: 525px; width: 100%;\" class=\"plotly-graph-div\"></div><script type=\"text/javascript\">require([\"plotly\"], function(Plotly) { window.PLOTLYENV=window.PLOTLYENV || {};window.PLOTLYENV.BASE_URL=\"https://plot.ly\";Plotly.newPlot(\"cd0d150d-7d3d-4224-a3d5-eba23954dc8d\", [{\"x\": [8.0, 10.0, 11.0, 13.0, 14.0, 15.0, 16.0, 17.0, 18.0, 19.0, 20.0, 21.0, 22.0], \"type\": \"bar\", \"name\": \"Frequency\", \"y\": [31, 26, 107, 98, 82, 44, 50, 93, 40, 33, 35, 30, 42]}, {\"visible\": false, \"x\": [8.0, 10.0, 11.0, 13.0, 14.0, 15.0, 16.0, 17.0, 18.0, 19.0, 20.0, 21.0, 22.0], \"type\": \"bar\", \"name\": \"Proportion\", \"y\": [0.04360056258790436, 0.03656821378340366, 0.15049226441631505, 0.13783403656821377, 0.11533052039381153, 0.06188466947960619, 0.07032348804500703, 0.1308016877637131, 0.05625879043600562, 0.046413502109704644, 0.04922644163150492, 0.04219409282700422, 0.05907172995780591]}], {\"updatemenus\": [{\"buttons\": [{\"args\": [{\"visible\": [true, false]}, {\"yaxis\": {\"title\": \"Frequency\"}}], \"method\": \"update\", \"label\": \"Frequency\"}, {\"args\": [{\"visible\": [false, true]}, {\"yaxis\": {\"title\": \"Proportion\"}}], \"method\": \"update\", \"label\": \"Proportion\"}], \"showactive\": true, \"type\": \"buttons\"}], \"title\": \"Column Distribution Plot<br>Instrument: CELF<br>Variable: CELF_CriterionScore\", \"xaxis\": {\"title\": \"Value\"}, \"yaxis\": {\"title\": \"Frequency\"}}, {\"linkText\": \"Export to plot.ly\", \"showLink\": true})});</script>"
      ]
     },
     "metadata": {},
     "output_type": "display_data"
    }
   ],
   "source": [
    "from plotly.offline import init_notebook_mode\n",
    "init_notebook_mode(connected=True)\n",
    "lpl.ColumnDistributionPlotter(CDS).plot(13)"
   ]
  },
  {
   "cell_type": "code",
   "execution_count": 30,
   "metadata": {},
   "outputs": [
    {
     "name": "stdout",
     "output_type": "stream",
     "text": [
      "Instrument: ACE<br>Variable: ACE_Score\n"
     ]
    }
   ],
   "source": [
    "print(CDS.getColumnDescription(10, sep=\"<br>\"))"
   ]
  },
  {
   "cell_type": "code",
   "execution_count": 34,
   "metadata": {
    "collapsed": true
   },
   "outputs": [],
   "source": [
    "def xlsxToHTML(path):\n",
    "    workbook = load_workbook(path + '.xlsx')\n",
    "    worksheet = workbook.get_active_sheet()\n",
    "\n",
    "    html_data = \"\"\"\n",
    "    <html>\n",
    "        <head>\n",
    "            <title>\n",
    "            %s\n",
    "            </title>\n",
    "            <link rel=\"stylesheet\"\n",
    "                  href=\"https://maxcdn.bootstrapcdn.com/bootstrap/3.3.7/css/bootstrap.min.css\"\n",
    "                  integrity=\"sha384-BVYiiSIFeK1dGmJRAkycuHAHRg32OmUcww7on3RYdg4Va+PmSTsz/K68vbdEjh4u\"\n",
    "                  crossorigin=\"anonymous\">\n",
    "        </head>\n",
    "        <body>\n",
    "            <h3>\n",
    "            %s\n",
    "            <h3>\n",
    "        <table class='table'>\n",
    "    \"\"\" % (worksheet['A1'].value, worksheet['A1'].value)\n",
    "    first = False\n",
    "    for row in worksheet:\n",
    "        if first == False:\n",
    "            first = True\n",
    "            continue\n",
    "        html_data += \"      <tr>\\n\"\n",
    "        for cell in row:\n",
    "            if cell.value is None:\n",
    "                html_data += '            <td>' + ' ' + '</td>\\n'\n",
    "            else:\n",
    "                html_data += '            <td>' + str(cell.value) + '</td>\\n'\n",
    "        html_data += '    </tr>\\n'\n",
    "    html_data += \"</table></body></html>\"\n",
    "\n",
    "    with open(path + \".html\", \"w\") as html_fil:\n",
    "        html_fil.write(html_data)"
   ]
  },
  {
   "cell_type": "code",
   "execution_count": 40,
   "metadata": {},
   "outputs": [
    {
     "name": "stderr",
     "output_type": "stream",
     "text": [
      "/usr/local/lib/python3.5/dist-packages/openpyxl/reader/worksheet.py:312: UserWarning:\n",
      "\n",
      "Unknown extension is not supported and will be removed\n",
      "\n"
     ]
    },
    {
     "name": "stdout",
     "output_type": "stream",
     "text": [
      "No info for CELF5_Meta\n",
      "No info for DSM5_Dx\n",
      "No info for MRI_Track\n",
      "No info for Pegboard\n",
      "No info for PreInt_Demos_Fam\n",
      "No info for PreInt_Demos_Home\n",
      "No info for Pregnancy\n",
      "No info for SWAN\n",
      "No info for TRF_Pre\n",
      "No info for Unnamed: 0\n"
     ]
    }
   ],
   "source": [
    "base = '../../../../DMZ/descriptions'\n",
    "import numpy as np\n",
    "tests = np.unique(list(map(lambda x: x[0], CDS.D.columns.values)))\n",
    "for t in tests:\n",
    "    try:\n",
    "        xlsxToHTML(os.path.join(base, t))\n",
    "    except:\n",
    "        print(\"No info for\", t)"
   ]
  },
  {
   "cell_type": "code",
   "execution_count": null,
   "metadata": {
    "collapsed": true
   },
   "outputs": [],
   "source": []
  }
 ],
 "metadata": {
  "kernelspec": {
   "display_name": "Python 3",
   "language": "python",
   "name": "python3"
  },
  "language_info": {
   "codemirror_mode": {
    "name": "ipython",
    "version": 3
   },
   "file_extension": ".py",
   "mimetype": "text/x-python",
   "name": "python",
   "nbconvert_exporter": "python",
   "pygments_lexer": "ipython3",
   "version": "3.5.2"
  }
 },
 "nbformat": 4,
 "nbformat_minor": 2
}
