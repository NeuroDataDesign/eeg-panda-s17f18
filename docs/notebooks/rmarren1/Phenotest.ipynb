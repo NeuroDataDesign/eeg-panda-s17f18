{
 "cells": [
  {
   "cell_type": "code",
   "execution_count": 20,
   "metadata": {},
   "outputs": [],
   "source": [
    "import sys\n",
    "import pandas as pd\n",
    "\n",
    "sys.path.append(\"../../..\")\n",
    "import lemur.datasets as lds\n",
    "import lemur.plotters as lpl"
   ]
  },
  {
   "cell_type": "code",
   "execution_count": 21,
   "metadata": {},
   "outputs": [],
   "source": [
    "#hbn = pd.read_csv(\"../../../../DMZ/hbn.csv\", dtype=\"unicode\")\n",
    "#for c in hbn.columns:\n",
    "#    if '\"' in c:\n",
    "#        del hbn[c]\n",
    "#hbn.to_csv(\"../../../../DMZ/hbn_cleaned.csv\")"
   ]
  },
  {
   "cell_type": "code",
   "execution_count": 22,
   "metadata": {},
   "outputs": [],
   "source": [
    "CDS = lds.CSVDataSet(\"../../../../DMZ/hbn_cleaned.csv\",\n",
    "                     index_column = \"Identifiers\",\n",
    "                     column_level_names = (\"Instrument\", \"Variable\"))"
   ]
  },
  {
   "cell_type": "code",
   "execution_count": 23,
   "metadata": {},
   "outputs": [],
   "source": [
    "CDS.D.columns.names = (\"Instrument\", \"Variable\")"
   ]
  },
  {
   "cell_type": "code",
   "execution_count": 24,
   "metadata": {},
   "outputs": [
    {
     "data": {
      "text/plain": [
       "FrozenList(['Instrument', 'Variable'])"
      ]
     },
     "execution_count": 24,
     "metadata": {},
     "output_type": "execute_result"
    }
   ],
   "source": [
    "CDS.D.columns.names"
   ]
  },
  {
   "cell_type": "code",
   "execution_count": 25,
   "metadata": {},
   "outputs": [
    {
     "data": {
      "text/plain": [
       "array([nan, nan, nan, ..., nan, nan, 'NA'], dtype=object)"
      ]
     },
     "execution_count": 25,
     "metadata": {},
     "output_type": "execute_result"
    }
   ],
   "source": [
    "CDS.getResource(CDS.D.index[0])"
   ]
  },
  {
   "cell_type": "code",
   "execution_count": 26,
   "metadata": {},
   "outputs": [
    {
     "data": {
      "text/plain": [
       "array([], dtype=float64)"
      ]
     },
     "execution_count": 26,
     "metadata": {},
     "output_type": "execute_result"
    }
   ],
   "source": [
    "CDS.getColumnValues(12)"
   ]
  },
  {
   "cell_type": "code",
   "execution_count": 27,
   "metadata": {},
   "outputs": [
    {
     "data": {
      "text/plain": [
       "array([ 0.,  1.])"
      ]
     },
     "execution_count": 27,
     "metadata": {},
     "output_type": "execute_result"
    }
   ],
   "source": [
    "CDS.getColumnValues((\"ACE\", \"ACE_01\"))"
   ]
  },
  {
   "cell_type": "code",
   "execution_count": 28,
   "metadata": {},
   "outputs": [
    {
     "data": {
      "text/plain": [
       "(array([ 0.,  1.]), [19, 8])"
      ]
     },
     "execution_count": 28,
     "metadata": {},
     "output_type": "execute_result"
    }
   ],
   "source": [
    "CDS.getColumnDistribution(3)"
   ]
  },
  {
   "cell_type": "code",
   "execution_count": 29,
   "metadata": {},
   "outputs": [
    {
     "data": {
      "text/html": [
       "<script>requirejs.config({paths: { 'plotly': ['https://cdn.plot.ly/plotly-latest.min']},});if(!window.Plotly) {{require(['plotly'],function(plotly) {window.Plotly=plotly;});}}</script>"
      ],
      "text/vnd.plotly.v1+html": [
       "<script>requirejs.config({paths: { 'plotly': ['https://cdn.plot.ly/plotly-latest.min']},});if(!window.Plotly) {{require(['plotly'],function(plotly) {window.Plotly=plotly;});}}</script>"
      ]
     },
     "metadata": {},
     "output_type": "display_data"
    },
    {
     "data": {
      "application/vnd.plotly.v1+json": {
       "data": [
        {
         "type": "bar",
         "x": [
          "Complete"
         ],
         "y": [
          27
         ]
        }
       ],
       "layout": {
        "title": "Instrument: ACE<br>Variable: Data_entry",
        "xaxis": {
         "title": "Value"
        },
        "yaxis": {
         "title": "Frequency"
        }
       }
      },
      "text/html": [
       "<div id=\"040c82c2-1f33-45db-b3f4-3dd93914e511\" style=\"height: 525px; width: 100%;\" class=\"plotly-graph-div\"></div><script type=\"text/javascript\">require([\"plotly\"], function(Plotly) { window.PLOTLYENV=window.PLOTLYENV || {};window.PLOTLYENV.BASE_URL=\"https://plot.ly\";Plotly.newPlot(\"040c82c2-1f33-45db-b3f4-3dd93914e511\", [{\"x\": [\"Complete\"], \"type\": \"bar\", \"y\": [27]}], {\"yaxis\": {\"title\": \"Frequency\"}, \"title\": \"Instrument: ACE<br>Variable: Data_entry\", \"xaxis\": {\"title\": \"Value\"}}, {\"showLink\": true, \"linkText\": \"Export to plot.ly\"})});</script>"
      ],
      "text/vnd.plotly.v1+html": [
       "<div id=\"040c82c2-1f33-45db-b3f4-3dd93914e511\" style=\"height: 525px; width: 100%;\" class=\"plotly-graph-div\"></div><script type=\"text/javascript\">require([\"plotly\"], function(Plotly) { window.PLOTLYENV=window.PLOTLYENV || {};window.PLOTLYENV.BASE_URL=\"https://plot.ly\";Plotly.newPlot(\"040c82c2-1f33-45db-b3f4-3dd93914e511\", [{\"x\": [\"Complete\"], \"type\": \"bar\", \"y\": [27]}], {\"yaxis\": {\"title\": \"Frequency\"}, \"title\": \"Instrument: ACE<br>Variable: Data_entry\", \"xaxis\": {\"title\": \"Value\"}}, {\"showLink\": true, \"linkText\": \"Export to plot.ly\"})});</script>"
      ]
     },
     "metadata": {},
     "output_type": "display_data"
    }
   ],
   "source": [
    "from plotly.offline import init_notebook_mode\n",
    "init_notebook_mode(connected=True)\n",
    "lpl.ColumnPlotter(CDS).plot(13)"
   ]
  },
  {
   "cell_type": "code",
   "execution_count": 30,
   "metadata": {},
   "outputs": [
    {
     "name": "stdout",
     "output_type": "stream",
     "text": [
      "Instrument: ACE<br>Variable: ACE_Score\n"
     ]
    }
   ],
   "source": [
    "print(CDS.getColumnDescription(10, sep=\"<br>\"))"
   ]
  },
  {
   "cell_type": "code",
   "execution_count": 34,
   "metadata": {},
   "outputs": [],
   "source": [
    "def xlsxToHTML(path):\n",
    "    workbook = load_workbook(path + '.xlsx')\n",
    "    worksheet = workbook.get_active_sheet()\n",
    "\n",
    "    html_data = \"\"\"\n",
    "    <html>\n",
    "        <head>\n",
    "            <title>\n",
    "            %s\n",
    "            </title>\n",
    "            <link rel=\"stylesheet\"\n",
    "                  href=\"https://maxcdn.bootstrapcdn.com/bootstrap/3.3.7/css/bootstrap.min.css\"\n",
    "                  integrity=\"sha384-BVYiiSIFeK1dGmJRAkycuHAHRg32OmUcww7on3RYdg4Va+PmSTsz/K68vbdEjh4u\"\n",
    "                  crossorigin=\"anonymous\">\n",
    "        </head>\n",
    "        <body>\n",
    "            <h3>\n",
    "            %s\n",
    "            <h3>\n",
    "        <table class='table'>\n",
    "    \"\"\" % (worksheet['A1'].value, worksheet['A1'].value)\n",
    "    first = False\n",
    "    for row in worksheet:\n",
    "        if first == False:\n",
    "            first = True\n",
    "            continue\n",
    "        html_data += \"      <tr>\\n\"\n",
    "        for cell in row:\n",
    "            if cell.value is None:\n",
    "                html_data += '            <td>' + ' ' + '</td>\\n'\n",
    "            else:\n",
    "                html_data += '            <td>' + str(cell.value) + '</td>\\n'\n",
    "        html_data += '    </tr>\\n'\n",
    "    html_data += \"</table></body></html>\"\n",
    "\n",
    "    with open(path + \".html\", \"w\") as html_fil:\n",
    "        html_fil.write(html_data)"
   ]
  },
  {
   "cell_type": "code",
   "execution_count": 40,
   "metadata": {},
   "outputs": [
    {
     "name": "stderr",
     "output_type": "stream",
     "text": [
      "/usr/local/lib/python3.5/dist-packages/openpyxl/reader/worksheet.py:312: UserWarning:\n",
      "\n",
      "Unknown extension is not supported and will be removed\n",
      "\n"
     ]
    },
    {
     "name": "stdout",
     "output_type": "stream",
     "text": [
      "No info for CELF5_Meta\n",
      "No info for DSM5_Dx\n",
      "No info for MRI_Track\n",
      "No info for Pegboard\n",
      "No info for PreInt_Demos_Fam\n",
      "No info for PreInt_Demos_Home\n",
      "No info for Pregnancy\n",
      "No info for SWAN\n",
      "No info for TRF_Pre\n",
      "No info for Unnamed: 0\n"
     ]
    }
   ],
   "source": [
    "base = '../../../../DMZ/descriptions'\n",
    "import numpy as np\n",
    "tests = np.unique(list(map(lambda x: x[0], CDS.D.columns.values)))\n",
    "for t in tests:\n",
    "    try:\n",
    "        xlsxToHTML(os.path.join(base, t))\n",
    "    except:\n",
    "        print(\"No info for\", t)"
   ]
  },
  {
   "cell_type": "code",
   "execution_count": null,
   "metadata": {},
   "outputs": [],
   "source": []
  }
 ],
 "metadata": {
  "kernelspec": {
   "display_name": "Python 3",
   "language": "python",
   "name": "python3"
  },
  "language_info": {
   "codemirror_mode": {
    "name": "ipython",
    "version": 3
   },
   "file_extension": ".py",
   "mimetype": "text/x-python",
   "name": "python",
   "nbconvert_exporter": "python",
   "pygments_lexer": "ipython3",
   "version": "3.5.2"
  }
 },
 "nbformat": 4,
 "nbformat_minor": 2
}
