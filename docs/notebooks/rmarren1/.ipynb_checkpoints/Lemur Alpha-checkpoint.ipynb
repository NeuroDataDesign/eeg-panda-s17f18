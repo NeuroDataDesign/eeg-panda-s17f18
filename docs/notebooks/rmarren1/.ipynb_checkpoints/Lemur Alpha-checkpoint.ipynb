{
 "cells": [
  {
   "cell_type": "markdown",
   "metadata": {},
   "source": [
    "### Imports"
   ]
  },
  {
   "cell_type": "code",
   "execution_count": 1,
   "metadata": {},
   "outputs": [
    {
     "data": {
      "text/html": [
       "<script>requirejs.config({paths: { 'plotly': ['https://cdn.plot.ly/plotly-latest.min']},});if(!window.Plotly) {{require(['plotly'],function(plotly) {window.Plotly=plotly;});}}</script>"
      ],
      "text/vnd.plotly.v1+html": [
       "<script>requirejs.config({paths: { 'plotly': ['https://cdn.plot.ly/plotly-latest.min']},});if(!window.Plotly) {{require(['plotly'],function(plotly) {window.Plotly=plotly;});}}</script>"
      ]
     },
     "metadata": {},
     "output_type": "display_data"
    }
   ],
   "source": [
    "# Add lemur to path\n",
    "import sys\n",
    "sys.path.append(\"../../..\")\n",
    "# System stuff\n",
    "import pickle as pkl\n",
    "import os\n",
    "from IPython.display import display\n",
    "# Make plotly work in notebook mode\n",
    "from plotly import __version__\n",
    "from plotly.offline import (download_plotlyjs,\n",
    "                            init_notebook_mode,\n",
    "                            plot,\n",
    "                            iplot)\n",
    "init_notebook_mode(connected=True)\n",
    "\n",
    "import lemur.utils.io as lio\n",
    "import lemur.eda.plotters as lpl"
   ]
  },
  {
   "cell_type": "markdown",
   "metadata": {},
   "source": [
    "### View map between indexes, raw names, and regularized names"
   ]
  },
  {
   "cell_type": "code",
   "execution_count": null,
   "metadata": {},
   "outputs": [
    {
     "data": {
      "text/html": [
       "<div>\n",
       "<style>\n",
       "    .dataframe thead tr:only-child th {\n",
       "        text-align: right;\n",
       "    }\n",
       "\n",
       "    .dataframe thead th {\n",
       "        text-align: left;\n",
       "    }\n",
       "\n",
       "    .dataframe tbody tr th {\n",
       "        vertical-align: top;\n",
       "    }\n",
       "</style>\n",
       "<table border=\"1\" class=\"dataframe\">\n",
       "  <thead>\n",
       "    <tr style=\"text-align: right;\">\n",
       "      <th></th>\n",
       "      <th>mine</th>\n",
       "      <th>raw</th>\n",
       "    </tr>\n",
       "    <tr>\n",
       "      <th>index</th>\n",
       "      <th></th>\n",
       "      <th></th>\n",
       "    </tr>\n",
       "  </thead>\n",
       "  <tbody>\n",
       "    <tr>\n",
       "      <th>0</th>\n",
       "      <td>sub_000</td>\n",
       "      <td>NDARAA117NEJ</td>\n",
       "    </tr>\n",
       "    <tr>\n",
       "      <th>1</th>\n",
       "      <td>sub_001</td>\n",
       "      <td>NDARAC904DMU</td>\n",
       "    </tr>\n",
       "    <tr>\n",
       "      <th>2</th>\n",
       "      <td>sub_002</td>\n",
       "      <td>NDARAD481FXF</td>\n",
       "    </tr>\n",
       "    <tr>\n",
       "      <th>3</th>\n",
       "      <td>sub_003</td>\n",
       "      <td>NDARAJ366ZFA</td>\n",
       "    </tr>\n",
       "    <tr>\n",
       "      <th>4</th>\n",
       "      <td>sub_004</td>\n",
       "      <td>NDARAM277WZT</td>\n",
       "    </tr>\n",
       "    <tr>\n",
       "      <th>5</th>\n",
       "      <td>sub_005</td>\n",
       "      <td>NDARAM704GKZ</td>\n",
       "    </tr>\n",
       "    <tr>\n",
       "      <th>6</th>\n",
       "      <td>sub_006</td>\n",
       "      <td>NDARAN385MDH</td>\n",
       "    </tr>\n",
       "  </tbody>\n",
       "</table>\n",
       "</div>"
      ],
      "text/plain": [
       "          mine           raw\n",
       "index                       \n",
       "0      sub_000  NDARAA117NEJ\n",
       "1      sub_001  NDARAC904DMU\n",
       "2      sub_002  NDARAD481FXF\n",
       "3      sub_003  NDARAJ366ZFA\n",
       "4      sub_004  NDARAM277WZT\n",
       "5      sub_005  NDARAM704GKZ\n",
       "6      sub_006  NDARAN385MDH"
      ]
     },
     "metadata": {},
     "output_type": "display_data"
    },
    {
     "data": {
      "text/html": [
       "<div>\n",
       "<style>\n",
       "    .dataframe thead tr:only-child th {\n",
       "        text-align: right;\n",
       "    }\n",
       "\n",
       "    .dataframe thead th {\n",
       "        text-align: left;\n",
       "    }\n",
       "\n",
       "    .dataframe tbody tr th {\n",
       "        vertical-align: top;\n",
       "    }\n",
       "</style>\n",
       "<table border=\"1\" class=\"dataframe\">\n",
       "  <thead>\n",
       "    <tr style=\"text-align: right;\">\n",
       "      <th></th>\n",
       "      <th>mine</th>\n",
       "      <th>raw</th>\n",
       "    </tr>\n",
       "    <tr>\n",
       "      <th>index</th>\n",
       "      <th></th>\n",
       "      <th></th>\n",
       "    </tr>\n",
       "  </thead>\n",
       "  <tbody>\n",
       "    <tr>\n",
       "      <th>0</th>\n",
       "      <td>task_000</td>\n",
       "      <td>RestingState</td>\n",
       "    </tr>\n",
       "    <tr>\n",
       "      <th>1</th>\n",
       "      <td>task_001</td>\n",
       "      <td>SAIIT_2AFC_Block1</td>\n",
       "    </tr>\n",
       "    <tr>\n",
       "      <th>2</th>\n",
       "      <td>task_002</td>\n",
       "      <td>SAIIT_2AFC_Block2</td>\n",
       "    </tr>\n",
       "    <tr>\n",
       "      <th>3</th>\n",
       "      <td>task_003</td>\n",
       "      <td>SAIIT_2AFC_Block3</td>\n",
       "    </tr>\n",
       "    <tr>\n",
       "      <th>4</th>\n",
       "      <td>task_004</td>\n",
       "      <td>SurroundSupp_Block1</td>\n",
       "    </tr>\n",
       "    <tr>\n",
       "      <th>5</th>\n",
       "      <td>task_005</td>\n",
       "      <td>SurroundSupp_Block2</td>\n",
       "    </tr>\n",
       "    <tr>\n",
       "      <th>6</th>\n",
       "      <td>task_006</td>\n",
       "      <td>Video1</td>\n",
       "    </tr>\n",
       "    <tr>\n",
       "      <th>7</th>\n",
       "      <td>task_007</td>\n",
       "      <td>Video2</td>\n",
       "    </tr>\n",
       "    <tr>\n",
       "      <th>8</th>\n",
       "      <td>task_008</td>\n",
       "      <td>Video3</td>\n",
       "    </tr>\n",
       "    <tr>\n",
       "      <th>9</th>\n",
       "      <td>task_009</td>\n",
       "      <td>Video4</td>\n",
       "    </tr>\n",
       "    <tr>\n",
       "      <th>10</th>\n",
       "      <td>task_010</td>\n",
       "      <td>WISC_ProcSpeed</td>\n",
       "    </tr>\n",
       "    <tr>\n",
       "      <th>11</th>\n",
       "      <td>task_011</td>\n",
       "      <td>vis_learn</td>\n",
       "    </tr>\n",
       "  </tbody>\n",
       "</table>\n",
       "</div>"
      ],
      "text/plain": [
       "           mine                  raw\n",
       "index                               \n",
       "0      task_000         RestingState\n",
       "1      task_001    SAIIT_2AFC_Block1\n",
       "2      task_002    SAIIT_2AFC_Block2\n",
       "3      task_003    SAIIT_2AFC_Block3\n",
       "4      task_004  SurroundSupp_Block1\n",
       "5      task_005  SurroundSupp_Block2\n",
       "6      task_006               Video1\n",
       "7      task_007               Video2\n",
       "8      task_008               Video3\n",
       "9      task_009               Video4\n",
       "10     task_010       WISC_ProcSpeed\n",
       "11     task_011            vis_learn"
      ]
     },
     "metadata": {},
     "output_type": "display_data"
    }
   ],
   "source": [
    "BASE_PATH = \"../../../data\"\n",
    "DATASET = \"bids\"\n",
    "dataset = lio.BIDSDataset(BASE_PATH, DATASET)\n",
    "display(dataset.getSubjectMap())\n",
    "display(dataset.getTaskMap())"
   ]
  },
  {
   "cell_type": "code",
   "execution_count": null,
   "metadata": {
    "scrolled": true
   },
   "outputs": [
    {
     "name": "stderr",
     "output_type": "stream",
     "text": [
      "/usr/local/lib/python3.5/dist-packages/matplotlib/axes/_axes.py:545: UserWarning:\n",
      "\n",
      "No labelled objects found. Use label='...' kwarg on individual plots.\n",
      "\n"
     ]
    }
   ],
   "source": [
    "ev = lpl.EigenvectorPairsPlotter(dataset)\n",
    "ev.plot(0, 0)\n",
    "\n",
    "#ed = lpl.EnergyDistanceMatrixPlotter(dataset)\n",
    "#ed.plot(0, 0)\n",
    "\n",
    "#corr = lpl.CorrelationMatrixPlotter(dataset)\n",
    "#corr.plot(0, 0)\n",
    "\n",
    "#cov = lpl.CovarianceMatrixPlotter(dataset)\n",
    "#cov.plot(0, 0)\n",
    "\n",
    "#scree = lpl.ScreePlotter(dataset)\n",
    "#scree.plot(0, 0)"
   ]
  },
  {
   "cell_type": "markdown",
   "metadata": {},
   "source": [
    "### Load data"
   ]
  },
  {
   "cell_type": "code",
   "execution_count": null,
   "metadata": {},
   "outputs": [],
   "source": [
    "\n",
    "paradigms = [\"RestingState\",\n",
    "             #\"SAIIT_2AFC_Block1\",\n",
    "             #\"SAIIT_2AFC_Block2\",\n",
    "             #\"SAIIT_2AFC_Block3\",\n",
    "             #\"SurroundSupp_Block1\",\n",
    "             #\"SurroundSupp_Block2\",\n",
    "             \"Video1\",\n",
    "             \"Video2\",\n",
    "             \"Video3\",\n",
    "             \"Video4\",\n",
    "             \"vis_learn\",\n",
    "             \"WISC_ProcSpeed\"\n",
    "            ]\n",
    "D = {}\n",
    "used_paradigms = []\n",
    "for p in paradigms:\n",
    "    file_name = \"%s_%s_data.pkl\" % (SUBJECT, p)\n",
    "    file_path = os.path.join(BASE_PATH, DATASET, SUBJECT, file_name)\n",
    "    if os.path.exists(file_path):\n",
    "        used_paradigms.append(p)\n",
    "        with open(file_path, 'rb') as f:\n",
    "            print(\"Loading subject %s paradigm %s\" % (SUBJECT, p))\n",
    "            D[p] = pkl.load(f)\n",
    "            D[p] = D[p].T\n",
    "    else:\n",
    "        print(\"Subject %s did not have paradigm %s\" % (SUBJECT, p))\n",
    "\n",
    "P = {}\n",
    "used_subjects = []\n",
    "for s in subjects:\n",
    "    file_name = \"%s_%s_data.pkl\" % (s, PARADIGM)\n",
    "    file_path = os.path.join(BASE_PATH, DATASET, s, file_name) \n",
    "    if os.path.exists(file_path):\n",
    "        with open(file_path, 'rb') as f:\n",
    "            print(\"Loading subject %s paradigm %s\" % (s, PARADIGM))\n",
    "            P[s] = pkl.load(f)\n",
    "            P[s] = P[s].T\n",
    "            used_subjects.append(s)\n",
    "    else:\n",
    "        print(\"Subject %s did not have paradigm %s\" % (s, PARADIGM))"
   ]
  },
  {
   "cell_type": "markdown",
   "metadata": {},
   "source": [
    "### Set parameters"
   ]
  },
  {
   "cell_type": "code",
   "execution_count": null,
   "metadata": {},
   "outputs": [],
   "source": [
    "p_local = {\n",
    "    'paradigm': \"RestingState\",\n",
    "    'downsample': 500,\n",
    "    'disp_chans': [1, 2, 3]\n",
    "}\n",
    "p_global = {\n",
    "    'patient_id': SUBJECT,\n",
    "    'sample_freq': 500,\n",
    "}"
   ]
  },
  {
   "cell_type": "markdown",
   "metadata": {},
   "source": [
    "### Load lemur library"
   ]
  },
  {
   "cell_type": "code",
   "execution_count": null,
   "metadata": {},
   "outputs": [],
   "source": [
    "from lemur.eeg_viz.spectro_spark import sparklines\n",
    "for p in used_paradigms:\n",
    "    p_local['paradigm'] = p\n",
    "    sparklines(D, p_global, p_local)"
   ]
  },
  {
   "cell_type": "code",
   "execution_count": null,
   "metadata": {},
   "outputs": [],
   "source": [
    "from lemur.eeg_viz.spectro_spark import signal_heatmap\n",
    "for p in used_paradigms:\n",
    "    p_local['paradigm'] = p\n",
    "    signal_heatmap(D, p_global, p_local)\n",
    "    p_local['pc_proj'] = (1, 4)\n",
    "    p_local['pc_collapse'] = True\n",
    "    signal_heatmap(D, p_global, p_local)\n",
    "    p_local['pc_collapse'] = False\n",
    "    signal_heatmap(D, p_global, p_local)"
   ]
  },
  {
   "cell_type": "code",
   "execution_count": null,
   "metadata": {},
   "outputs": [],
   "source": [
    "from lemur.eeg_viz.spectro_spark import correlation_heatmap\n",
    "from lemur.eeg_viz.spectro_spark import covariance_heatmap\n",
    "for p in used_paradigms:\n",
    "    p_local['paradigm'] = p\n",
    "    correlation_heatmap(D, p_global, p_local)\n",
    "    covariance_heatmap(D, p_global, p_local)\n"
   ]
  },
  {
   "cell_type": "code",
   "execution_count": null,
   "metadata": {},
   "outputs": [],
   "source": [
    "from lemur.distance.functions import FroMetric, ErosMetric, getDistMat\n",
    "from lemur.eeg_viz.spectro_spark import distance_matrix_heatmap\n",
    "p_local['metric'] = FroMetric\n",
    "distance_matrix_heatmap(D, p_global, p_local)\n",
    "\n",
    "import numpy as np\n",
    "def ErosMean(x):\n",
    "    return ErosMetric(x, np.mean)\n",
    "\n",
    "p_local['metric'] = ErosMean\n",
    "distance_matrix_heatmap(D, p_global, p_local)"
   ]
  },
  {
   "cell_type": "code",
   "execution_count": null,
   "metadata": {},
   "outputs": [],
   "source": [
    "from lemur.eeg_viz.spectro_spark import scree_plot\n",
    "scree_plot(D, p_global, p_local)"
   ]
  },
  {
   "cell_type": "code",
   "execution_count": null,
   "metadata": {},
   "outputs": [],
   "source": [
    "from lemur.distance.functions import FroMetric, ErosMetric, getDistMat\n",
    "from lemur.eeg_viz.spectro_spark import distance_matrix_heatmap\n",
    "p_local['metric'] = FroMetric\n",
    "p_local['paradigm'] = used_subjects[0]\n",
    "distance_matrix_heatmap(P, p_global, p_local)\n",
    "\n",
    "import numpy as np\n",
    "def ErosMean(x):\n",
    "    return ErosMetric(x, np.mean)\n",
    "\n",
    "p_local['metric'] = ErosMean\n",
    "distance_matrix_heatmap(P, p_global, p_local)"
   ]
  },
  {
   "cell_type": "code",
   "execution_count": null,
   "metadata": {},
   "outputs": [],
   "source": []
  }
 ],
 "metadata": {
  "kernelspec": {
   "display_name": "Python 3",
   "language": "python",
   "name": "python3"
  },
  "language_info": {
   "codemirror_mode": {
    "name": "ipython",
    "version": 3
   },
   "file_extension": ".py",
   "mimetype": "text/x-python",
   "name": "python",
   "nbconvert_exporter": "python",
   "pygments_lexer": "ipython3",
   "version": "3.5.2"
  }
 },
 "nbformat": 4,
 "nbformat_minor": 2
}
