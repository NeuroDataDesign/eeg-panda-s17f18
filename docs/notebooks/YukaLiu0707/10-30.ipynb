{
 "cells": [
  {
   "attachments": {},
   "cell_type": "markdown",
   "metadata": {},
   "source": [
    "# 10-30 Deliverable\n",
    "1. Run neurodata/mrilab docker on fMRI data √\n",
    "    - neurodata/mrilab only has FSL installed, switched to neurodata/m3r-release:0.0.1\n",
    "    - ran neurodata/m3r-release:0.0.1 on 1 subject fMRI data in BIDS format\n",
    "    - Commands:\n",
    "    ~~~~\n",
    "    docker pull neurodata/m3r-release:0.0.1\n",
    "    docker run -ti --entrypoint /bin/bash -v ~/Desktop/participants:/data neurodata/m3r-release:0.0.1\n",
    "    ndmg_bids /data /data/outputs participant func\n",
    "    ~~~~\n",
    "    - Got Error 137: Killed, possibly because my mac does not have sufficient RAM\n",
    "    - Will try to run neurodata/m3r-release:0.0.1 on real data using cortex again\n",
    "    - Instead, we ran the pipeline on a demo:\n",
    "    ~~~~\n",
    "    docker run -ti --entrypoint /bin/bash -v /tmp:/tmp neurodata/m3r-release:0.0.1\n",
    "    root@0c798a8bb049:/# ndmg_demo-func\n",
    "    ~~~~\n",
    "    \n",
    "2. Get connectivity information, see how the format is and how we could process it in the next step √\n",
    "    - The demo outputs several graphs:\n",
    "    \n",
    "    Correlation Matrix\n",
    "    ![sub-0025864_ses-1_bold_space-MNI152NLin6_res-res-4x4x4_label-desikan_measure-correlation.png](https://user-images.githubusercontent.com/31976496/32187910-b6bcb324-bd7c-11e7-9077-a543c0c3a669.png)\n",
    "    \n",
    "    A Time Series Plot\n",
    "    ![Screen%20Shot%202017-10-30%20at%201.53.06%20PM.png](https://user-images.githubusercontent.com/31976496/32187935-c447ec8e-bd7c-11e7-9dda-992b155a0286.png)\n",
    "   \n",
    "    \n",
    "    BOLD with registration overlap\n",
    "![sub-0025864_ses-1_bold_space-MNI152NLin6_res-res-4x4x4_registered.png](https://user-images.githubusercontent.com/31976496/32187919-ba317922-bd7c-11e7-9754-3e6c7b3b8677.png)\n",
    "\n",
    "    T1-weighted Image with registration overlap\n",
    "![sub-0025864_ses-1_T1w_space-MNI152NLin6_res-res-4x4x4_registered.png](https://user-images.githubusercontent.com/31976496/32187924-bee7e96a-bd7c-11e7-9307-e12ad5252bd1.png)\n",
    "\n",
    "    - Connectome graph is missing"
   ]
  },
  {
   "cell_type": "markdown",
   "metadata": {},
   "source": []
  },
  {
   "cell_type": "code",
   "execution_count": null,
   "metadata": {},
   "outputs": [],
   "source": []
  }
 ],
 "metadata": {
  "kernelspec": {
   "display_name": "Python 2",
   "language": "python",
   "name": "python2"
  },
  "language_info": {
   "codemirror_mode": {
    "name": "ipython",
    "version": 2
   },
   "file_extension": ".py",
   "mimetype": "text/x-python",
   "name": "python",
   "nbconvert_exporter": "python",
   "pygments_lexer": "ipython2",
   "version": "2.7.14"
  }
 },
 "nbformat": 4,
 "nbformat_minor": 2
}
