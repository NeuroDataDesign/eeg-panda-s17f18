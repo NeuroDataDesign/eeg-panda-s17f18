{
 "cells": [
  {
   "cell_type": "code",
   "execution_count": 5,
   "metadata": {},
   "outputs": [
    {
     "ename": "ImportError",
     "evalue": "No module named boto3",
     "output_type": "error",
     "traceback": [
      "\u001b[0;31m---------------------------------------------------------------------------\u001b[0m",
      "\u001b[0;31mImportError\u001b[0m                               Traceback (most recent call last)",
      "\u001b[0;32m<ipython-input-5-c10b40257f23>\u001b[0m in \u001b[0;36m<module>\u001b[0;34m()\u001b[0m\n\u001b[1;32m      2\u001b[0m \u001b[0;32mimport\u001b[0m \u001b[0mio\u001b[0m\u001b[0;34m\u001b[0m\u001b[0m\n\u001b[1;32m      3\u001b[0m \u001b[0;32mimport\u001b[0m \u001b[0mrequests\u001b[0m\u001b[0;34m\u001b[0m\u001b[0m\n\u001b[0;32m----> 4\u001b[0;31m \u001b[0;32mimport\u001b[0m \u001b[0mboto3\u001b[0m\u001b[0;34m\u001b[0m\u001b[0m\n\u001b[0m\u001b[1;32m      5\u001b[0m \u001b[0;32mimport\u001b[0m \u001b[0mtarfile\u001b[0m\u001b[0;34m\u001b[0m\u001b[0m\n\u001b[1;32m      6\u001b[0m \u001b[0;34m\u001b[0m\u001b[0m\n",
      "\u001b[0;31mImportError\u001b[0m: No module named boto3"
     ]
    }
   ],
   "source": [
    "import pandas as pd\n",
    "import io\n",
    "import requests\n",
    "import boto3\n",
    "import tarfile\n",
    "\n",
    "MODALITY = \"EEG\" # \"MRI\"\n",
    "RELEASE = \"R1\" # \"R2\"\n",
    "SUB_IDX = 123 # subject index\n",
    "OUT_BASE = \"../../../data/\"\n",
    "sub_url = \"https://raw.githubusercontent.com/NeuroDataDesign/lemur-f17s18/master/data/allowed/%s_%s_Subjects.csv\"\n",
    "sub_url = sub_url % (MODALITY, RELEASE)\n",
    "\n",
    "content = requests.get(sub_url).content\n",
    "string = io.StringIO(content.decode('utf-8'))\n",
    "df = pd.read_csv(string, header=None)\n",
    "df"
   ]
  },
  {
   "cell_type": "code",
   "execution_count": 2,
   "metadata": {},
   "outputs": [
    {
     "name": "stdout",
     "output_type": "stream",
     "text": [
      "Copying from data/Projects/HBN/R1/EEG/NDARFZ296UNG.tar.gz to ../../../data/NDARFZ296UNG.tar.gz\n"
     ]
    }
   ],
   "source": [
    "subject_id = df.as_matrix()[SUB_IDX][0]\n",
    "file_name = \"%s.tar.gz\"%subject_id\n",
    "local_path = OUT_BASE + file_name\n",
    "s3_path = \"data/Projects/HBN/%s/%s/%s\" % (RELEASE, MODALITY, file_name)\n",
    "print(\"Copying from\", s3_path, \"to\", local_path)"
   ]
  },
  {
   "cell_type": "code",
   "execution_count": 3,
   "metadata": {},
   "outputs": [],
   "source": [
    "s3 = boto3.client('s3')\n",
    "s3.download_file('fcp-indi', s3_path, local_path)"
   ]
  },
  {
   "cell_type": "code",
   "execution_count": 4,
   "metadata": {},
   "outputs": [],
   "source": [
    "tar = tarfile.open(local_path, \"r:gz\")\n",
    "tar.extractall(OUT_BASE)\n",
    "tar.close()"
   ]
  }
 ],
 "metadata": {
  "kernelspec": {
   "display_name": "Python 3",
   "language": "python",
   "name": "python3"
  },
  "language_info": {
   "codemirror_mode": {
    "name": "ipython",
    "version": 2
   },
   "file_extension": ".py",
   "mimetype": "text/x-python",
   "name": "python",
   "nbconvert_exporter": "python",
   "pygments_lexer": "ipython2",
   "version": "2.7.12"
  }
 },
 "nbformat": 4,
 "nbformat_minor": 2
}
