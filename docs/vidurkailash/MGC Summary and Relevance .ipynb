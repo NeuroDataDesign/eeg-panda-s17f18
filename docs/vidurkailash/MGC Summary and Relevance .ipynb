{
 "cells": [
  {
   "cell_type": "markdown",
   "metadata": {},
   "source": [
    "# Summary \n",
    "\n",
    " - Most current statictical tests do not work well for data that is high dimensional, highly non-linear, and has a small sample size.\n",
    "\n",
    "- MGC (Multiscale Generalized Correlation) takes a multi-scale resolution approach to solving this problem.\n",
    "\n",
    "- MGC generalizes its global counterparts. E.g., if there exists a global test which will find a dependence, MGC can find that same dependence with the same number or fewer samples.\n",
    "\n",
    "- MGC first computes all distance pairs. Then computes all local generalized correlations between x and y distances and finds the max. Third determines whether it is significantly dependent. \n",
    "\n",
    "- Tests an independence hypothesis\n",
    "    - null: f(x, y) = fxfy\n",
    "    - alt: f(x, y) == fxfy\n",
    "\n",
    "- open source, implemented in R and Matlab\n",
    "\n",
    "- Pseudocode present in the paper\n",
    "    - if absolutely needed\n"
   ]
  },
  {
   "cell_type": "markdown",
   "metadata": {},
   "source": [
    "# Use for Our Project \n",
    "\n",
    "- A very good way to test whether a relationship exists between high dimensional neuroimaging data and some numerical value representing a phenotypic variable, potentially the p-factor.\n",
    "    - Similar to how relationship between rs-fMRI and personality were investigated in the paper. "
   ]
  },
  {
   "cell_type": "code",
   "execution_count": null,
   "metadata": {},
   "outputs": [],
   "source": []
  }
 ],
 "metadata": {
  "kernelspec": {
   "display_name": "Python 3",
   "language": "python",
   "name": "python3"
  },
  "language_info": {
   "codemirror_mode": {
    "name": "ipython",
    "version": 3
   },
   "file_extension": ".py",
   "mimetype": "text/x-python",
   "name": "python",
   "nbconvert_exporter": "python",
   "pygments_lexer": "ipython3",
   "version": "3.6.2"
  }
 },
 "nbformat": 4,
 "nbformat_minor": 2
}
