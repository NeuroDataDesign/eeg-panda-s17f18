{
 "cells": [
  {
   "cell_type": "markdown",
   "metadata": {},
   "source": [
    "# How Many Patients \n",
    "\n",
    "\n",
    "- 965"
   ]
  },
  {
   "cell_type": "markdown",
   "metadata": {},
   "source": [
    "# What Tests Were Run  \n",
    "\n",
    "- Interviewees were asked to answer a series of questions. E.g. \n",
    "\n",
    "    - Question: \"Were your parents ever separated or divorced?\" \n",
    "    - Variable: ACE_06\n",
    "    - Variable Type: Numeric \n",
    "    - Values: 0-1\n",
    "    - Value Labels: 0=No, 1=Yes \n",
    "    \n",
    "- Question are arranged in questionaires based on question topic. There are over 60 different questionnaires. "
   ]
  },
  {
   "cell_type": "markdown",
   "metadata": {},
   "source": [
    "# Format of Data \n",
    "\n",
    "- Numeric \n",
    "- Cleaned version of data consisted of csv file with rows being patient identifiers and columns being total numeric scores of a specific questionnaire. \n",
    "\n",
    " "
   ]
  },
  {
   "cell_type": "markdown",
   "metadata": {},
   "source": [
    "# What Tests We Run on It\n",
    "\n",
    "- Heatmap\n",
    "- Histogram Heat Map\n",
    "- Location Lines \n",
    "- Location Heatmap \n",
    "- Scree Plot \n",
    "- MEDA Options: \n",
    "    - Heatmap\n",
    "    - Histogram Heat Map\n",
    "    - Location Lines \n",
    "    - Location Heatmap \n",
    "    - Scree Plot \n",
    "    - Correlation Matrix \n",
    "    - Eigenvector Heatmap \n",
    "    - HGMM Stacked Cluster Means Heatmap \n",
    "    - HGMM Cluster Means Dendrogram \n",
    "    - HGMM Pairs Plot \n",
    "    - HGMM Cluster Means Level Lines \n",
    "    - HGMM Cluster Means Level Heatmap \n"
   ]
  },
  {
   "cell_type": "markdown",
   "metadata": {},
   "source": [
    "# How Data was Cleaned\n",
    "\n",
    "- Removed '\"' and replaced with '' \n",
    "- Removed all columns with non numeric or null values and replaced with mean score. "
   ]
  }
 ],
 "metadata": {
  "kernelspec": {
   "display_name": "Python 3",
   "language": "python",
   "name": "python3"
  },
  "language_info": {
   "codemirror_mode": {
    "name": "ipython",
    "version": 3
   },
   "file_extension": ".py",
   "mimetype": "text/x-python",
   "name": "python",
   "nbconvert_exporter": "python",
   "pygments_lexer": "ipython3",
   "version": "3.6.2"
  }
 },
 "nbformat": 4,
 "nbformat_minor": 2
}
